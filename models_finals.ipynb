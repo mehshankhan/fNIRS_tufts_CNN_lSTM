{
 "cells": [
  {
   "cell_type": "markdown",
   "id": "0b947adf",
   "metadata": {},
   "source": [
    "# Data pre-processing"
   ]
  },
  {
   "cell_type": "code",
   "execution_count": 1,
   "id": "970bd3a3",
   "metadata": {
    "tags": []
   },
   "outputs": [],
   "source": [
    "from sklearn.model_selection import train_test_split\n",
    "\n",
    "import pandas as pd\n",
    "import glob\n",
    "import os\n",
    "import numpy as np"
   ]
  },
  {
   "cell_type": "code",
   "execution_count": 2,
   "id": "a8ba08a5",
   "metadata": {
    "tags": []
   },
   "outputs": [],
   "source": [
    "import pickle\n",
    "\n",
    "# variable pre-processed in featues_save.py\n",
    "with open('input_features_labels.pkl', 'rb') as f:  # Python 3: open(..., 'rb')\n",
    "    X,y = pickle.load(f)"
   ]
  },
  {
   "cell_type": "code",
   "execution_count": 3,
   "id": "cfb7780d",
   "metadata": {
    "tags": []
   },
   "outputs": [],
   "source": [
    "#Split the data into training set (70%) and test set (20%)\n",
    "X_train, X_test, y_train, y_test = train_test_split(X, y, test_size = 0.20, random_state = 10)\n",
    "del X,y"
   ]
  },
  {
   "cell_type": "code",
   "execution_count": 4,
   "id": "922d0d05-86fe-40ee-9949-247364d4e6b6",
   "metadata": {},
   "outputs": [
    {
     "name": "stdout",
     "output_type": "stream",
     "text": [
      "[[    0 20203]\n",
      " [    1 20239]\n",
      " [    2 20245]\n",
      " [    3 20260]]\n"
     ]
    }
   ],
   "source": [
    "# unique value counts for numpy array\n",
    "\n",
    "unique, counts = np.unique(y_train, return_counts=True)\n",
    "print(np.asarray((unique, counts)).T)"
   ]
  },
  {
   "cell_type": "code",
   "execution_count": 5,
   "id": "d8da60b6-a644-4626-afca-b7c0904badad",
   "metadata": {},
   "outputs": [
    {
     "name": "stdout",
     "output_type": "stream",
     "text": [
      "[[   0 5093]\n",
      " [   1 5057]\n",
      " [   2 5051]\n",
      " [   3 5036]]\n"
     ]
    }
   ],
   "source": [
    "# unique value counts for numpy array\n",
    "\n",
    "unique, counts = np.unique(y_test, return_counts=True)\n",
    "print(np.asarray((unique, counts)).T)"
   ]
  },
  {
   "cell_type": "markdown",
   "id": "3bcf9045",
   "metadata": {
    "tags": []
   },
   "source": [
    "# Pytorch"
   ]
  },
  {
   "cell_type": "markdown",
   "id": "5241c0dc",
   "metadata": {
    "tags": []
   },
   "source": [
    "## Dataset to pytorch"
   ]
  },
  {
   "cell_type": "code",
   "execution_count": 6,
   "id": "cb0df0e7",
   "metadata": {
    "tags": []
   },
   "outputs": [
    {
     "name": "stdout",
     "output_type": "stream",
     "text": [
      "2.1.1\n",
      "Using device: cuda\n",
      "\n",
      "NVIDIA GeForce RTX 3090 Ti\n",
      "Memory Usage:\n",
      "Allocated: 0.0 GB\n",
      "Cached:    0.0 GB\n"
     ]
    }
   ],
   "source": [
    "#pytorch related libraries\n",
    "\n",
    "import torch\n",
    "print(torch.__version__)\n",
    "\n",
    "# setting device on GPU if available, else CPU\n",
    "device = torch.device('cuda' if torch.cuda.is_available() else 'cpu')\n",
    "print('Using device:', device)\n",
    "print()\n",
    "\n",
    "\n",
    "#Additional Info when using cuda\n",
    "if device.type == 'cuda':\n",
    "    print(torch.cuda.get_device_name(0))\n",
    "    print('Memory Usage:')\n",
    "    print('Allocated:', round(torch.cuda.memory_allocated(0)/1024**3,1), 'GB')\n",
    "    print('Cached:   ', round(torch.cuda.memory_reserved(0)/1024**3,1), 'GB')\n",
    "\n",
    "from torch.utils.data import Dataset\n",
    "from torchvision import models\n",
    "import torch.nn as nn\n",
    "import torch.nn.functional as F\n",
    "import torch.optim as optim\n",
    "\n",
    "from tqdm.notebook import tqdm\n"
   ]
  },
  {
   "cell_type": "code",
   "execution_count": 7,
   "id": "780558bd",
   "metadata": {},
   "outputs": [],
   "source": [
    "class brain_dataset(Dataset):\n",
    "\n",
    "    def __init__(self, instance_list, label_list):\n",
    "        self.instance_list = instance_list\n",
    "        self.instance_label = label_list\n",
    "           \n",
    "    def __getitem__(self, index):\n",
    "        return self.instance_list[index], self.instance_label[index]\n",
    "    \n",
    "    def __len__(self):\n",
    "        return len(self.instance_list)\n",
    "    \n",
    "    def __get_instance_label__(self):\n",
    "        return self.instance_label\n",
    "    \n",
    "    def __get_instance_list__(self):\n",
    "        return np.array(self.instance_list).shape"
   ]
  },
  {
   "cell_type": "code",
   "execution_count": 8,
   "id": "53bfd376",
   "metadata": {
    "tags": []
   },
   "outputs": [],
   "source": [
    "train_dataset = brain_dataset(X_train, y_train)\n",
    "test_dataset = brain_dataset(X_test, y_test)"
   ]
  },
  {
   "cell_type": "code",
   "execution_count": 9,
   "id": "0ed9b125",
   "metadata": {},
   "outputs": [
    {
     "name": "stdout",
     "output_type": "stream",
     "text": [
      "Train dataset size: 80947\n",
      "Test dataset size: 20237\n"
     ]
    }
   ],
   "source": [
    "#dataset size\n",
    "print(f\"Train dataset size: {len(train_dataset)}\")\n",
    "print(f\"Test dataset size: {len(test_dataset)}\")\n"
   ]
  },
  {
   "cell_type": "code",
   "execution_count": 10,
   "id": "7e54feae",
   "metadata": {
    "tags": []
   },
   "outputs": [
    {
     "name": "stdout",
     "output_type": "stream",
     "text": [
      "Training samples\n",
      "Feature 0 = [[ 0.20598377  1.2904344  -0.03600855 ... -0.01338417 -0.11349685\n",
      "   0.01357831]\n",
      " [ 0.21302529  1.2086023  -0.03742157 ...  0.15125377 -0.1211915\n",
      "  -0.04122345]\n",
      " [ 0.22142108  1.1195688  -0.04015938 ...  0.30466104 -0.12703091\n",
      "  -0.09670651]\n",
      " ...\n",
      " [ 0.367812   -0.00241334 -0.18788026 ... -0.13658474 -0.11352323\n",
      "  -0.49564606]\n",
      " [ 0.37029374 -0.07281548 -0.18959628 ... -0.0900624  -0.1035921\n",
      "  -0.5209655 ]\n",
      " [ 0.3717544  -0.1331075  -0.18981612 ... -0.02990637 -0.09251638\n",
      "  -0.5428204 ]]\n",
      "Label 0 = 2\n",
      "Feature 1 = [[ 0.6216991  -1.5476356  -0.16026413 ... -0.72566783 -0.15501618\n",
      "   0.47302845]\n",
      " [ 0.62002784 -1.5736979  -0.15217339 ... -0.83375597 -0.15036252\n",
      "   0.42524478]\n",
      " [ 0.6182118  -1.5927321  -0.14538668 ... -0.8979597  -0.14928754\n",
      "   0.36246073]\n",
      " ...\n",
      " [ 1.1388952   1.3861403  -0.15498495 ...  1.7378873  -0.3386734\n",
      "  -0.21853358]\n",
      " [ 1.1468635   1.4925703  -0.16141194 ...  1.8124343  -0.34316745\n",
      "  -0.24651591]\n",
      " [ 1.1483794   1.5681931  -0.16773765 ...  1.8049331  -0.34673515\n",
      "  -0.23102109]]\n",
      "Label 1 = 3\n",
      "Feature 2 = [[ 0.07485627 -0.8508354   0.02926129 ...  0.09908042 -0.25891706\n",
      "  -1.0567498 ]\n",
      " [ 0.10854138 -0.97413     0.0244421  ...  0.14167124 -0.28130123\n",
      "  -1.0970446 ]\n",
      " [ 0.13791157 -1.0823731   0.01924686 ...  0.1941221  -0.30364335\n",
      "  -1.1399084 ]\n",
      " ...\n",
      " [ 0.27922368 -1.2529343  -0.1077161  ...  0.16234113 -0.44298726\n",
      "  -1.2000583 ]\n",
      " [ 0.29631945 -1.0990735  -0.1117227  ...  0.1548415  -0.44660628\n",
      "  -1.1396213 ]\n",
      " [ 0.31121296 -0.94365394 -0.11543331 ...  0.14149676 -0.45051342\n",
      "  -1.068795  ]]\n",
      "Label 2 = 1\n",
      "Feature 3 = [[-0.21325614  0.97890675 -0.05220552 ... -0.29415265 -0.02490028\n",
      "   0.15222043]\n",
      " [-0.20813729  1.0420609  -0.05453261 ... -0.36873633 -0.04112495\n",
      "   0.18864727]\n",
      " [-0.20305344  1.1080831  -0.05608624 ... -0.42526004 -0.05883654\n",
      "   0.21104106]\n",
      " ...\n",
      " [-0.07833582 -0.93383324  0.22518222 ... -0.7310177   0.22693588\n",
      "   0.3090728 ]\n",
      " [-0.05011341 -0.8990201   0.22068776 ... -0.7705862   0.21553667\n",
      "   0.32692668]\n",
      " [-0.02156167 -0.85052377  0.21550955 ... -0.82499063  0.20343913\n",
      "   0.34654933]]\n",
      "Label 3 = 0\n",
      "Feature 4 = [[ 0.62274724 -0.4587649  -0.06427088 ...  0.15011272  0.11039459\n",
      "   0.04716162]\n",
      " [ 0.6134412  -0.4972239  -0.05921532 ...  0.30043456  0.11630152\n",
      "   0.05128087]\n",
      " [ 0.6034963  -0.51866513 -0.05387953 ...  0.4551173   0.12079804\n",
      "   0.05247216]\n",
      " ...\n",
      " [-0.26699507 -0.46813938  0.26459253 ...  0.10357298  0.29296347\n",
      "   0.11230441]\n",
      " [-0.2813022  -0.3568627   0.2754654  ...  0.0582893   0.30161786\n",
      "   0.13665858]\n",
      " [-0.2870144  -0.25105307  0.28308073 ...  0.01351673  0.30667266\n",
      "   0.1581482 ]]\n",
      "Label 4 = 2\n",
      "\n",
      "\n",
      "Test samples\n",
      "Feature 0 = [[ 0.6065932   0.09388543 -0.11177677 ... -0.29555774 -0.29128554\n",
      "  -0.0917088 ]\n",
      " [ 0.6042518   0.10409554 -0.11585636 ... -0.13303919 -0.2904178\n",
      "  -0.08416478]\n",
      " [ 0.6008183   0.12605572 -0.11940657 ...  0.02935511 -0.29140005\n",
      "  -0.08750846]\n",
      " ...\n",
      " [ 0.4550512  -0.22428693 -0.39905548 ...  0.8811637  -0.23370971\n",
      "  -0.63995415]\n",
      " [ 0.46251997 -0.15994225 -0.3976894  ...  0.809074   -0.24919796\n",
      "  -0.54075605]\n",
      " [ 0.46926403 -0.07692415 -0.3961617  ...  0.7077218  -0.2649898\n",
      "  -0.42956176]]\n",
      "Label 0 = 3\n",
      "Feature 1 = [[-0.36401922  0.14520635  0.09824075 ... -1.5005598   0.03580299\n",
      "   0.71188396]\n",
      " [-0.36231983  0.11547612  0.09883233 ... -1.4213727   0.03233701\n",
      "   0.6836706 ]\n",
      " [-0.36026472  0.09033796  0.0988817  ... -1.3189783   0.02727864\n",
      "   0.6406935 ]\n",
      " ...\n",
      " [ 0.32423723  1.399176   -0.08290945 ...  0.06493087 -0.3038705\n",
      "  -0.40742618]\n",
      " [ 0.3349555   1.3570507  -0.09323774 ...  0.13912272 -0.31241858\n",
      "  -0.4113765 ]\n",
      " [ 0.34668878  1.3126116  -0.10381444 ...  0.22833955 -0.32201868\n",
      "  -0.4156185 ]]\n",
      "Label 1 = 1\n",
      "Feature 2 = [[-1.2405176   0.33516034  0.3336227  ...  0.39696312  0.18775266\n",
      "  -0.00518065]\n",
      " [-1.244138    0.31636637  0.33548322 ...  0.35729837  0.18471979\n",
      "   0.00237962]\n",
      " [-1.2437162   0.2907575   0.33593753 ...  0.31926796  0.18103369\n",
      "   0.00996172]\n",
      " ...\n",
      " [-0.45113     0.22116548  0.10173381 ... -0.20366696  0.24269776\n",
      "  -0.00560402]\n",
      " [-0.4531835   0.14018641  0.09907915 ... -0.09680969  0.23820388\n",
      "  -0.03981554]\n",
      " [-0.4588766   0.05941645  0.09723885 ...  0.00473632  0.23330517\n",
      "  -0.06906961]]\n",
      "Label 2 = 0\n",
      "Feature 3 = [[-3.4339331e-02  2.3557472e-01 -2.0842488e-01 ... -3.8432553e-01\n",
      "   2.5835693e-02 -1.6779874e-01]\n",
      " [-4.7461681e-02  2.5310880e-01 -2.1156786e-01 ... -3.4681299e-01\n",
      "   1.2579578e-02 -1.6510861e-01]\n",
      " [-6.3133650e-02  2.6367664e-01 -2.1345659e-01 ... -2.9643053e-01\n",
      "  -7.6879363e-04 -1.6755940e-01]\n",
      " ...\n",
      " [ 7.0519835e-01  9.0499759e-01 -5.7135808e-01 ...  5.8839351e-01\n",
      "  -2.2085512e-01 -7.7763808e-01]\n",
      " [ 7.1851403e-01  9.4270796e-01 -5.7552058e-01 ...  5.8266848e-01\n",
      "  -2.2527309e-01 -8.0288899e-01]\n",
      " [ 7.3322994e-01  9.7486722e-01 -5.7990777e-01 ...  5.7657528e-01\n",
      "  -2.3154135e-01 -8.2637024e-01]]\n",
      "Label 3 = 2\n",
      "Feature 4 = [[ 0.12210837 -0.03622052 -0.07717185 ...  0.30070773 -0.07116798\n",
      "  -0.1122553 ]\n",
      " [ 0.14086507  0.03658428 -0.08211581 ...  0.25221425 -0.07017656\n",
      "  -0.09490085]\n",
      " [ 0.16073166  0.10071727 -0.08769309 ...  0.2128095  -0.06954091\n",
      "  -0.08008757]\n",
      " ...\n",
      " [ 0.31933153 -0.12218058 -0.2865539  ...  0.6572476  -0.10117541\n",
      "  -0.33276662]\n",
      " [ 0.32474482 -0.08432878 -0.28953606 ...  0.681342   -0.09263067\n",
      "  -0.35995284]\n",
      " [ 0.32568434 -0.03825158 -0.291298   ...  0.6965892  -0.08254703\n",
      "  -0.38240126]]\n",
      "Label 4 = 2\n"
     ]
    }
   ],
   "source": [
    "import random\n",
    "\n",
    "print(\"Training samples\")\n",
    "#Get 5 random sample train indexes\n",
    "random_samples_idx = random.sample(range(len(train_dataset)), k=5)\n",
    "\n",
    "# Loop through samples and display random samples \n",
    "for i, targ_sample in enumerate(random_samples_idx):\n",
    "    feature, label = train_dataset[targ_sample][0], train_dataset[targ_sample][1]\n",
    "    \n",
    "    print(f\"Feature {i} = {feature}\")\n",
    "    print(f\"Label {i} = {label}\")\n",
    "\n",
    "print(\"\\n\")\n",
    "print(\"Test samples\")\n",
    "#Get 5 random sample train indexes\n",
    "random_samples_idx = random.sample(range(len(test_dataset)), k=5)\n",
    "\n",
    "# Loop through samples and display random samples \n",
    "for i, targ_sample in enumerate(random_samples_idx):\n",
    "    feature, label = train_dataset[targ_sample][0], train_dataset[targ_sample][1]\n",
    "    \n",
    "    print(f\"Feature {i} = {feature}\")\n",
    "    print(f\"Label {i} = {label}\")"
   ]
  },
  {
   "cell_type": "code",
   "execution_count": 11,
   "id": "90d68c8e",
   "metadata": {
    "tags": []
   },
   "outputs": [],
   "source": [
    "# Data loader\n",
    "train_loader = torch.utils.data.DataLoader(dataset=train_dataset, \n",
    "                                           batch_size=1024, \n",
    "                                           shuffle=True)\n",
    "\n",
    "\n",
    "test_loader = torch.utils.data.DataLoader(dataset=test_dataset, \n",
    "                                           batch_size=1024, \n",
    "                                           shuffle=True)"
   ]
  },
  {
   "cell_type": "code",
   "execution_count": 12,
   "id": "fe2e13ba",
   "metadata": {
    "tags": []
   },
   "outputs": [
    {
     "data": {
      "text/plain": [
       "(torch.Size([1024, 150, 8]), torch.Size([1024]))"
      ]
     },
     "execution_count": 12,
     "metadata": {},
     "output_type": "execute_result"
    }
   ],
   "source": [
    "train_features_batch, train_labels_batch = next(iter(train_loader))\n",
    "train_features_batch.shape, train_labels_batch.shape"
   ]
  },
  {
   "cell_type": "code",
   "execution_count": null,
   "id": "2db62ba0-582b-4b65-8dec-064d4cfcebcf",
   "metadata": {},
   "outputs": [],
   "source": [
    "\n",
    "# folder 1 model\n",
    "'''\n",
    "class SimpleCNNModel(nn.Module):\n",
    "    def __init__(self, input_channels, num_classes):\n",
    "        super(SimpleCNNModel, self).__init__()\n",
    "        self.conv1 = nn.Conv1d(in_channels=input_channels, out_channels=16, kernel_size=3, stride=1, padding=1)\n",
    "        self.relu1 = nn.ReLU()\n",
    "        self.pool1 = nn.MaxPool1d(kernel_size=2, stride=2)\n",
    "\n",
    "        self.conv2 = nn.Conv1d(in_channels=16, out_channels=32, kernel_size=3, stride=1, padding=1)\n",
    "        self.relu2 = nn.ReLU()\n",
    "        self.pool2 = nn.MaxPool1d(kernel_size=2, stride=2)\n",
    "\n",
    "        self.flatten = nn.Flatten()\n",
    "        self.fc1 = nn.Linear(32 * (input_size // 4), 128)\n",
    "        self.relu3 = nn.ReLU()\n",
    "        self.fc2 = nn.Linear(128, num_classes)\n",
    "\n",
    "    def forward(self, x):\n",
    "        x = self.conv1(x.permute(0, 2, 1))  # Adjust the input for Conv1d\n",
    "        x = self.relu1(x)\n",
    "        x = self.pool1(x)\n",
    "\n",
    "        x = self.conv2(x)\n",
    "        x = self.relu2(x)\n",
    "        x = self.pool2(x)\n",
    "\n",
    "        x = self.flatten(x)\n",
    "        x = self.fc1(x)\n",
    "        x = self.relu3(x)\n",
    "        x = self.fc2(x)\n",
    "\n",
    "        return x\n",
    "\n",
    "# Assuming input_size = 150, input_channels = 8, and num_classes = 10\n",
    "input_channels = 8\n",
    "input_size = 150\n",
    "num_classes = 4\n",
    "\n",
    "# Instantiate the ResNet-18 model\n",
    "model = SimpleCNNModel(input_channels=input_channels, num_classes=num_classes).to(device)\n",
    "\n",
    "# Print the modified ResNet-18 architecture\n",
    "print(model)\n",
    "'''"
   ]
  },
  {
   "cell_type": "code",
   "execution_count": 4,
   "id": "e0bffeb3-92f0-4d5e-867b-dd273e88d2f4",
   "metadata": {},
   "outputs": [
    {
     "data": {
      "text/plain": [
       "SimpleCNNLSTMModel(\n",
       "  (conv1): Conv1d(8, 16, kernel_size=(3,), stride=(1,), padding=(1,))\n",
       "  (relu1): ReLU()\n",
       "  (pool1): MaxPool1d(kernel_size=2, stride=2, padding=0, dilation=1, ceil_mode=False)\n",
       "  (conv2): Conv1d(16, 32, kernel_size=(3,), stride=(1,), padding=(1,))\n",
       "  (relu2): ReLU()\n",
       "  (pool2): MaxPool1d(kernel_size=2, stride=2, padding=0, dilation=1, ceil_mode=False)\n",
       "  (flatten): Flatten(start_dim=1, end_dim=-1)\n",
       "  (lstm1): LSTM(1184, 64, num_layers=2, batch_first=True)\n",
       "  (lstm2): LSTM(64, 64, num_layers=2, batch_first=True)\n",
       "  (fc1): Linear(in_features=64, out_features=128, bias=True)\n",
       "  (relu3): ReLU()\n",
       "  (fc2): Linear(in_features=128, out_features=4, bias=True)\n",
       ")"
      ]
     },
     "execution_count": 4,
     "metadata": {},
     "output_type": "execute_result"
    }
   ],
   "source": [
    "# folder 2 model\n",
    "\n",
    "class SimpleCNNLSTMModel(nn.Module):\n",
    "    def __init__(self, input_channels, input_size, num_classes, hidden_size=64, num_layers=2):\n",
    "        super(SimpleCNNLSTMModel, self).__init__()\n",
    "        \n",
    "        # CNN layers\n",
    "        self.conv1 = nn.Conv1d(in_channels=input_channels, out_channels=16, kernel_size=3, stride=1, padding=1)\n",
    "        self.relu1 = nn.ReLU()32\n",
    "        self.pool1 = nn.MaxPool1d(kernel_size=2, stride=2)\n",
    "\n",
    "        self.conv2 = nn.Conv1d(in_channels=16, out_channels=32, kernel_size=3, stride=1, padding=1)\n",
    "        self.relu2 = nn.ReLU()\n",
    "        self.pool2 = nn.MaxPool1d(kernel_size=2, stride=2)\n",
    "\n",
    "        self.flatten = nn.Flatten()\n",
    "        cnn_output_size = 32 * (input_size // 4)\n",
    "\n",
    "        # LSTM layers\n",
    "        self.lstm1 = nn.LSTM(input_size=cnn_output_size, hidden_size=hidden_size, num_layers=num_layers, batch_first=True)\n",
    "        self.lstm2 = nn.LSTM(input_size=hidden_size, hidden_size=hidden_size, num_layers=num_layers, batch_first=True)\n",
    "\n",
    "        # Fully connected layers\n",
    "        self.fc1 = nn.Linear(hidden_size, 128)\n",
    "        self.relu3 = nn.ReLU()\n",
    "        self.fc2 = nn.Linear(128, num_classes)\n",
    "\n",
    "    def forward(self, x):\n",
    "        x = self.conv1(x.permute(0, 2, 1))  # Adjust the input for Conv1d\n",
    "        x = self.relu1(x)\n",
    "        x = self.pool1(x)\n",
    "\n",
    "        x = self.conv2(x)\n",
    "        x = self.relu2(x)\n",
    "        x = self.pool2(x)\n",
    "\n",
    "        x = self.flatten(x)\n",
    "\n",
    "        # Reshape for LSTM input\n",
    "        x = x.view(x.size(0), 1, -1)\n",
    "\n",
    "        # First LSTM layer\n",
    "        x, _ = self.lstm1(x)\n",
    "\n",
    "        # Second LSTM layer\n",
    "        x, _ = self.lstm2(x)\n",
    "\n",
    "        # Only take the output from the final time step\n",
    "        x = x[:, -1, :]\n",
    "\n",
    "        # Fully connected layers\n",
    "        x = self.fc1(x)\n",
    "        x = self.relu3(x)\n",
    "        x = self.fc2(x)\n",
    "\n",
    "        return x\n",
    "\n",
    "# Assuming input_size = 150, input_channels = 8, and num_classes = 4\n",
    "input_channels = 8\n",
    "input_size = 150\n",
    "num_classes = 4\n",
    "\n",
    "# Instantiate the SimpleCNNLSTMModel\n",
    "model = SimpleCNNLSTMModel(input_channels=input_channels, input_size=input_size, num_classes=num_classes).to(device)\n",
    "model\n"
   ]
  },
  {
   "cell_type": "code",
   "execution_count": 16,
   "id": "c0f8e155-15e6-4b40-9108-3cd89d1ee105",
   "metadata": {},
   "outputs": [],
   "source": [
    "#tensorboard import\n",
    "\n",
    "from torch.utils.tensorboard import SummaryWriter\n",
    "writer = SummaryWriter(\"saved_model/runs\")\n",
    "\n",
    "full_path = os.path.join(\"saved_model\", \"best_accuracy_save\")\n",
    "\n",
    "# Check if the folder exists\n",
    "if not os.path.exists(full_path):\n",
    "    # If not, create the folder\n",
    "    os.makedirs(full_path)"
   ]
  },
  {
   "cell_type": "code",
   "execution_count": 17,
   "id": "97f62b0f-ec19-4152-b312-8e0da43ebbba",
   "metadata": {},
   "outputs": [
    {
     "data": {
      "application/vnd.jupyter.widget-view+json": {
       "model_id": "1f1937c1094e4aaf9e86c35f6b49020b",
       "version_major": 2,
       "version_minor": 0
      },
      "text/plain": [
       "  0%|          | 0/80 [00:00<?, ?it/s]"
      ]
     },
     "metadata": {},
     "output_type": "display_data"
    },
    {
     "name": "stderr",
     "output_type": "stream",
     "text": [
      "/home/mehshan/anaconda3/envs/tor/lib/python3.11/site-packages/torch/nn/modules/conv.py:306: UserWarning: Applied workaround for CuDNN issue, install nvrtc.so (Triggered internally at /opt/conda/conda-bld/pytorch_1699449183005/work/aten/src/ATen/native/cudnn/Conv_v8.cpp:80.)\n",
      "  return F.conv1d(input, weight, bias, self.stride,\n"
     ]
    },
    {
     "name": "stdout",
     "output_type": "stream",
     "text": [
      "epoch: 0, train_acc: 0.3330578373927696 , train_loss: 1.3246321514248849 , test_acc: 0.3731232119278169 , test_loss: 1.2706726789474487\n"
     ]
    },
    {
     "data": {
      "application/vnd.jupyter.widget-view+json": {
       "model_id": "62735eb14d03427ca5e8b69e331e4f23",
       "version_major": 2,
       "version_minor": 0
      },
      "text/plain": [
       "  0%|          | 0/80 [00:00<?, ?it/s]"
      ]
     },
     "metadata": {},
     "output_type": "display_data"
    },
    {
     "name": "stdout",
     "output_type": "stream",
     "text": [
      "epoch: 1, train_acc: 0.4013535443474264 , train_loss: 1.2298092916607857 , test_acc: 0.4366063390284891 , test_loss: 1.2180268824100495\n"
     ]
    },
    {
     "data": {
      "application/vnd.jupyter.widget-view+json": {
       "model_id": "37efa969bca44978ab35266f168110a0",
       "version_major": 2,
       "version_minor": 0
      },
      "text/plain": [
       "  0%|          | 0/80 [00:00<?, ?it/s]"
      ]
     },
     "metadata": {},
     "output_type": "display_data"
    },
    {
     "name": "stdout",
     "output_type": "stream",
     "text": [
      "epoch: 2, train_acc: 0.4752362419577206 , train_loss: 1.1238317653536796 , test_acc: 0.4789632057258323 , test_loss: 1.144888836145401\n"
     ]
    },
    {
     "data": {
      "application/vnd.jupyter.widget-view+json": {
       "model_id": "620eb32e357d41808e0afd0bdf730e4d",
       "version_major": 2,
       "version_minor": 0
      },
      "text/plain": [
       "  0%|          | 0/80 [00:00<?, ?it/s]"
      ]
     },
     "metadata": {},
     "output_type": "display_data"
    },
    {
     "name": "stdout",
     "output_type": "stream",
     "text": [
      "epoch: 3, train_acc: 0.5519902248008578 , train_loss: 0.9889898128807545 , test_acc: 0.565913154709507 , test_loss: 0.9750784724950791\n"
     ]
    },
    {
     "data": {
      "application/vnd.jupyter.widget-view+json": {
       "model_id": "cee800e93a6a49d0ade90f423b95b5dd",
       "version_major": 2,
       "version_minor": 0
      },
      "text/plain": [
       "  0%|          | 0/80 [00:00<?, ?it/s]"
      ]
     },
     "metadata": {},
     "output_type": "display_data"
    },
    {
     "name": "stdout",
     "output_type": "stream",
     "text": [
      "epoch: 4, train_acc: 0.6199300130208333 , train_loss: 0.8742158800363541 , test_acc: 0.6020232099271767 , test_loss: 0.9231825113296509\n"
     ]
    },
    {
     "data": {
      "application/vnd.jupyter.widget-view+json": {
       "model_id": "33a067fd7ee647b6b79da9becb572a0a",
       "version_major": 2,
       "version_minor": 0
      },
      "text/plain": [
       "  0%|          | 0/80 [00:00<?, ?it/s]"
      ]
     },
     "metadata": {},
     "output_type": "display_data"
    },
    {
     "name": "stdout",
     "output_type": "stream",
     "text": [
      "epoch: 5, train_acc: 0.7077794692095588 , train_loss: 0.7008047223091125 , test_acc: 0.740744100612196 , test_loss: 0.6402156800031662\n"
     ]
    },
    {
     "data": {
      "application/vnd.jupyter.widget-view+json": {
       "model_id": "3bd7a38bb9fe4853a0f588deff8c3ea3",
       "version_major": 2,
       "version_minor": 0
      },
      "text/plain": [
       "  0%|          | 0/80 [00:00<?, ?it/s]"
      ]
     },
     "metadata": {},
     "output_type": "display_data"
    },
    {
     "name": "stdout",
     "output_type": "stream",
     "text": [
      "epoch: 6, train_acc: 0.811904488357843 , train_loss: 0.4847976803779602 , test_acc: 0.8007311089548657 , test_loss: 0.5347856491804123\n"
     ]
    },
    {
     "data": {
      "application/vnd.jupyter.widget-view+json": {
       "model_id": "1bfcae0ef6c44037bf72562e7866dfec",
       "version_major": 2,
       "version_minor": 0
      },
      "text/plain": [
       "  0%|          | 0/80 [00:00<?, ?it/s]"
      ]
     },
     "metadata": {},
     "output_type": "display_data"
    },
    {
     "name": "stdout",
     "output_type": "stream",
     "text": [
      "epoch: 7, train_acc: 0.8912662281709558 , train_loss: 0.29816307313740253 , test_acc: 0.8065644756322022 , test_loss: 0.5804366409778595\n"
     ]
    },
    {
     "data": {
      "application/vnd.jupyter.widget-view+json": {
       "model_id": "8da171da4fae435cb2c3012fcd38a7f7",
       "version_major": 2,
       "version_minor": 0
      },
      "text/plain": [
       "  0%|          | 0/80 [00:00<?, ?it/s]"
      ]
     },
     "metadata": {},
     "output_type": "display_data"
    },
    {
     "name": "stdout",
     "output_type": "stream",
     "text": [
      "epoch: 8, train_acc: 0.9103486902573529 , train_loss: 0.2565152160823345 , test_acc: 0.9161337878121 , test_loss: 0.23130928725004196\n"
     ]
    },
    {
     "data": {
      "application/vnd.jupyter.widget-view+json": {
       "model_id": "1dea1c8588624ca5b7cc6b4f1b08e655",
       "version_major": 2,
       "version_minor": 0
      },
      "text/plain": [
       "  0%|          | 0/80 [00:00<?, ?it/s]"
      ]
     },
     "metadata": {},
     "output_type": "display_data"
    },
    {
     "name": "stdout",
     "output_type": "stream",
     "text": [
      "epoch: 9, train_acc: 0.9623403511795343 , train_loss: 0.10875675519928336 , test_acc: 0.970052041653329 , test_loss: 0.08944905921816826\n"
     ]
    },
    {
     "data": {
      "application/vnd.jupyter.widget-view+json": {
       "model_id": "daa202ff02a7429e9d4e94357601e2dc",
       "version_major": 2,
       "version_minor": 0
      },
      "text/plain": [
       "  0%|          | 0/80 [00:00<?, ?it/s]"
      ]
     },
     "metadata": {},
     "output_type": "display_data"
    },
    {
     "name": "stdout",
     "output_type": "stream",
     "text": [
      "epoch: 10, train_acc: 0.9813589058670343 , train_loss: 0.055575835332274434 , test_acc: 0.9727007017245519 , test_loss: 0.08358349185436964\n"
     ]
    },
    {
     "data": {
      "application/vnd.jupyter.widget-view+json": {
       "model_id": "37a56fab53cc4bdab393668f54fe5c1a",
       "version_major": 2,
       "version_minor": 0
      },
      "text/plain": [
       "  0%|          | 0/80 [00:00<?, ?it/s]"
      ]
     },
     "metadata": {},
     "output_type": "display_data"
    },
    {
     "name": "stdout",
     "output_type": "stream",
     "text": [
      "epoch: 11, train_acc: 0.97557373046875 , train_loss: 0.07242267764522695 , test_acc: 0.984418388884443 , test_loss: 0.04346510451287031\n"
     ]
    },
    {
     "data": {
      "application/vnd.jupyter.widget-view+json": {
       "model_id": "cd1ce43ad2b44100aff3bc18141a20d3",
       "version_major": 2,
       "version_minor": 0
      },
      "text/plain": [
       "  0%|          | 0/80 [00:00<?, ?it/s]"
      ]
     },
     "metadata": {},
     "output_type": "display_data"
    },
    {
     "name": "stdout",
     "output_type": "stream",
     "text": [
      "epoch: 12, train_acc: 0.99429931640625 , train_loss: 0.018745958698127653 , test_acc: 0.9913823673575545 , test_loss: 0.026335173379629852\n"
     ]
    },
    {
     "data": {
      "application/vnd.jupyter.widget-view+json": {
       "model_id": "6f72f742f8114f97ad9c3ffa0290b1b2",
       "version_major": 2,
       "version_minor": 0
      },
      "text/plain": [
       "  0%|          | 0/80 [00:00<?, ?it/s]"
      ]
     },
     "metadata": {},
     "output_type": "display_data"
    },
    {
     "name": "stdout",
     "output_type": "stream",
     "text": [
      "epoch: 13, train_acc: 0.99305419921875 , train_loss: 0.021502082369988785 , test_acc: 0.9798046624919975 , test_loss: 0.06231642737984657\n"
     ]
    },
    {
     "data": {
      "application/vnd.jupyter.widget-view+json": {
       "model_id": "fb461c8aeaca40418d5a6b9f23fd0232",
       "version_major": 2,
       "version_minor": 0
      },
      "text/plain": [
       "  0%|          | 0/80 [00:00<?, ?it/s]"
      ]
     },
     "metadata": {},
     "output_type": "display_data"
    },
    {
     "name": "stdout",
     "output_type": "stream",
     "text": [
      "epoch: 14, train_acc: 0.98853759765625 , train_loss: 0.035749900835799056 , test_acc: 0.985105233674776 , test_loss: 0.045505336951464415\n"
     ]
    },
    {
     "data": {
      "application/vnd.jupyter.widget-view+json": {
       "model_id": "a166ba792c7e4e329b5ffbe08f9f7634",
       "version_major": 2,
       "version_minor": 0
      },
      "text/plain": [
       "  0%|          | 0/80 [00:00<?, ?it/s]"
      ]
     },
     "metadata": {},
     "output_type": "display_data"
    },
    {
     "name": "stdout",
     "output_type": "stream",
     "text": [
      "epoch: 15, train_acc: 0.99290771484375 , train_loss: 0.021595905606045563 , test_acc: 0.9944097111075545 , test_loss: 0.018279296904802324\n"
     ]
    },
    {
     "data": {
      "application/vnd.jupyter.widget-view+json": {
       "model_id": "60a51476bb2d4cff9524302e8735d74a",
       "version_major": 2,
       "version_minor": 0
      },
      "text/plain": [
       "  0%|          | 0/80 [00:00<?, ?it/s]"
      ]
     },
     "metadata": {},
     "output_type": "display_data"
    },
    {
     "name": "stdout",
     "output_type": "stream",
     "text": [
      "epoch: 16, train_acc: 0.99774169921875 , train_loss: 0.007639413193101063 , test_acc: 0.9938085812459987 , test_loss: 0.020515277795493603\n"
     ]
    },
    {
     "data": {
      "application/vnd.jupyter.widget-view+json": {
       "model_id": "48f04ec5132c4d6eae25a6f7e82983d3",
       "version_major": 2,
       "version_minor": 0
      },
      "text/plain": [
       "  0%|          | 0/80 [00:00<?, ?it/s]"
      ]
     },
     "metadata": {},
     "output_type": "display_data"
    },
    {
     "name": "stdout",
     "output_type": "stream",
     "text": [
      "epoch: 17, train_acc: 0.9850210152420343 , train_loss: 0.04610219113528728 , test_acc: 0.9332865892085467 , test_loss: 0.20270569920539855\n"
     ]
    },
    {
     "data": {
      "application/vnd.jupyter.widget-view+json": {
       "model_id": "2681aa22489347e2b6500f45f28d54f3",
       "version_major": 2,
       "version_minor": 0
      },
      "text/plain": [
       "  0%|          | 0/80 [00:00<?, ?it/s]"
      ]
     },
     "metadata": {},
     "output_type": "display_data"
    },
    {
     "name": "stdout",
     "output_type": "stream",
     "text": [
      "epoch: 18, train_acc: 0.98824462890625 , train_loss: 0.036135735997231674 , test_acc: 0.9958528604153329 , test_loss: 0.012422842008527368\n"
     ]
    },
    {
     "data": {
      "application/vnd.jupyter.widget-view+json": {
       "model_id": "29899949aba1466a88ac77c1987fac8d",
       "version_major": 2,
       "version_minor": 0
      },
      "text/plain": [
       "  0%|          | 0/80 [00:00<?, ?it/s]"
      ]
     },
     "metadata": {},
     "output_type": "display_data"
    },
    {
     "name": "stdout",
     "output_type": "stream",
     "text": [
      "epoch: 19, train_acc: 0.99940185546875 , train_loss: 0.002474241743220773 , test_acc: 0.9975434013884443 , test_loss: 0.007983450242318214\n"
     ]
    },
    {
     "data": {
      "application/vnd.jupyter.widget-view+json": {
       "model_id": "c1a339399b6a4e6eb5056b2d49cd5ba4",
       "version_major": 2,
       "version_minor": 0
      },
      "text/plain": [
       "  0%|          | 0/80 [00:00<?, ?it/s]"
      ]
     },
     "metadata": {},
     "output_type": "display_data"
    },
    {
     "name": "stdout",
     "output_type": "stream",
     "text": [
      "epoch: 20, train_acc: 0.99769287109375 , train_loss: 0.00777186688465008 , test_acc: 0.9960633652768885 , test_loss: 0.011226918059401214\n"
     ]
    },
    {
     "data": {
      "application/vnd.jupyter.widget-view+json": {
       "model_id": "80cc88cc66db4bceac9db658727d7e1e",
       "version_major": 2,
       "version_minor": 0
      },
      "text/plain": [
       "  0%|          | 0/80 [00:00<?, ?it/s]"
      ]
     },
     "metadata": {},
     "output_type": "display_data"
    },
    {
     "name": "stdout",
     "output_type": "stream",
     "text": [
      "epoch: 21, train_acc: 0.999462890625 , train_loss: 0.0019221455680963118 , test_acc: 0.998779296875 , test_loss: 0.004106435584253632\n"
     ]
    },
    {
     "data": {
      "application/vnd.jupyter.widget-view+json": {
       "model_id": "cae2bdf2bdc1468c8a86e9c9a06bdcda",
       "version_major": 2,
       "version_minor": 0
      },
      "text/plain": [
       "  0%|          | 0/80 [00:00<?, ?it/s]"
      ]
     },
     "metadata": {},
     "output_type": "display_data"
    },
    {
     "name": "stdout",
     "output_type": "stream",
     "text": [
      "epoch: 22, train_acc: 0.99989013671875 , train_loss: 0.00042962242418980167 , test_acc: 0.9990082451384443 , test_loss: 0.003344783777720295\n"
     ]
    },
    {
     "data": {
      "application/vnd.jupyter.widget-view+json": {
       "model_id": "6910d32608da4642a0b798a14fbf11fa",
       "version_major": 2,
       "version_minor": 0
      },
      "text/plain": [
       "  0%|          | 0/80 [00:00<?, ?it/s]"
      ]
     },
     "metadata": {},
     "output_type": "display_data"
    },
    {
     "name": "stdout",
     "output_type": "stream",
     "text": [
      "epoch: 23, train_acc: 0.99991455078125 , train_loss: 0.00027338974686017534 , test_acc: 0.9989105888884444 , test_loss: 0.0036365008156280963\n"
     ]
    },
    {
     "data": {
      "application/vnd.jupyter.widget-view+json": {
       "model_id": "7a0c0d4b1d4d4a0592c9d1813dfff147",
       "version_major": 2,
       "version_minor": 0
      },
      "text/plain": [
       "  0%|          | 0/80 [00:00<?, ?it/s]"
      ]
     },
     "metadata": {},
     "output_type": "display_data"
    },
    {
     "name": "stdout",
     "output_type": "stream",
     "text": [
      "epoch: 24, train_acc: 0.99989013671875 , train_loss: 0.00034720499852483047 , test_acc: 0.99912109375 , test_loss: 0.003413562233617995\n"
     ]
    },
    {
     "data": {
      "application/vnd.jupyter.widget-view+json": {
       "model_id": "53c23ad52dea4c5481989f2ff4adc430",
       "version_major": 2,
       "version_minor": 0
      },
      "text/plain": [
       "  0%|          | 0/80 [00:00<?, ?it/s]"
      ]
     },
     "metadata": {},
     "output_type": "display_data"
    },
    {
     "name": "stdout",
     "output_type": "stream",
     "text": [
      "epoch: 25, train_acc: 0.99991455078125 , train_loss: 0.00023194909200583425 , test_acc: 0.9989594170134444 , test_loss: 0.0035182088122382993\n"
     ]
    },
    {
     "data": {
      "application/vnd.jupyter.widget-view+json": {
       "model_id": "f54f232edb144a33a83b40b8f2b743ed",
       "version_major": 2,
       "version_minor": 0
      },
      "text/plain": [
       "  0%|          | 0/80 [00:00<?, ?it/s]"
      ]
     },
     "metadata": {},
     "output_type": "display_data"
    },
    {
     "name": "stdout",
     "output_type": "stream",
     "text": [
      "epoch: 26, train_acc: 0.99923095703125 , train_loss: 0.002290654724538399 , test_acc: 0.9935915743037771 , test_loss: 0.0239582440815866\n"
     ]
    },
    {
     "data": {
      "application/vnd.jupyter.widget-view+json": {
       "model_id": "02255101f15b42e495b1e6d34a64e456",
       "version_major": 2,
       "version_minor": 0
      },
      "text/plain": [
       "  0%|          | 0/80 [00:00<?, ?it/s]"
      ]
     },
     "metadata": {},
     "output_type": "display_data"
    },
    {
     "name": "stdout",
     "output_type": "stream",
     "text": [
      "epoch: 27, train_acc: 0.49237563189338235 , train_loss: 1.5490776047023247 , test_acc: 0.37601601262403966 , test_loss: 1.298337471485138\n"
     ]
    },
    {
     "data": {
      "application/vnd.jupyter.widget-view+json": {
       "model_id": "e9eab8c5db6248d29e6ba66dc7d1f3e0",
       "version_major": 2,
       "version_minor": 0
      },
      "text/plain": [
       "  0%|          | 0/80 [00:00<?, ?it/s]"
      ]
     },
     "metadata": {},
     "output_type": "display_data"
    },
    {
     "name": "stdout",
     "output_type": "stream",
     "text": [
      "epoch: 28, train_acc: 0.3932207892922794 , train_loss: 1.2649349361658095 , test_acc: 0.3800362365957106 , test_loss: 1.2806615829467773\n"
     ]
    },
    {
     "data": {
      "application/vnd.jupyter.widget-view+json": {
       "model_id": "30660b6088664cf8a9d376529bddb4cf",
       "version_major": 2,
       "version_minor": 0
      },
      "text/plain": [
       "  0%|          | 0/80 [00:00<?, ?it/s]"
      ]
     },
     "metadata": {},
     "output_type": "display_data"
    },
    {
     "name": "stdout",
     "output_type": "stream",
     "text": [
      "epoch: 29, train_acc: 0.4235392252604167 , train_loss: 1.2143618896603585 , test_acc: 0.45250373869638283 , test_loss: 1.1734227061271667\n"
     ]
    },
    {
     "data": {
      "application/vnd.jupyter.widget-view+json": {
       "model_id": "5698c1c0e4624b23b8b995f475e0abee",
       "version_major": 2,
       "version_minor": 0
      },
      "text/plain": [
       "  0%|          | 0/80 [00:00<?, ?it/s]"
      ]
     },
     "metadata": {},
     "output_type": "display_data"
    },
    {
     "name": "stdout",
     "output_type": "stream",
     "text": [
      "epoch: 30, train_acc: 0.46823586856617644 , train_loss: 1.1399274751544 , test_acc: 0.4588709637083867 , test_loss: 1.2026479303836823\n"
     ]
    },
    {
     "data": {
      "application/vnd.jupyter.widget-view+json": {
       "model_id": "2a1abf4d572d49ebb8cc0401ebf18407",
       "version_major": 2,
       "version_minor": 0
      },
      "text/plain": [
       "  0%|          | 0/80 [00:00<?, ?it/s]"
      ]
     },
     "metadata": {},
     "output_type": "display_data"
    },
    {
     "name": "stdout",
     "output_type": "stream",
     "text": [
      "epoch: 31, train_acc: 0.5188163009344363 , train_loss: 1.0566436059772968 , test_acc: 0.5370817411571702 , test_loss: 1.0214788407087325\n"
     ]
    },
    {
     "data": {
      "application/vnd.jupyter.widget-view+json": {
       "model_id": "456b12eee41d4cae9a90b92913a4fc68",
       "version_major": 2,
       "version_minor": 0
      },
      "text/plain": [
       "  0%|          | 0/80 [00:00<?, ?it/s]"
      ]
     },
     "metadata": {},
     "output_type": "display_data"
    },
    {
     "name": "stdout",
     "output_type": "stream",
     "text": [
      "epoch: 32, train_acc: 0.5860272575827206 , train_loss: 0.9367250151932239 , test_acc: 0.6048227307738476 , test_loss: 0.8800794243812561\n"
     ]
    },
    {
     "data": {
      "application/vnd.jupyter.widget-view+json": {
       "model_id": "f124ffb7306249bb82f09d97d83fbb8e",
       "version_major": 2,
       "version_minor": 0
      },
      "text/plain": [
       "  0%|          | 0/80 [00:00<?, ?it/s]"
      ]
     },
     "metadata": {},
     "output_type": "display_data"
    },
    {
     "name": "stdout",
     "output_type": "stream",
     "text": [
      "epoch: 33, train_acc: 0.6552741555606618 , train_loss: 0.8084449797868729 , test_acc: 0.6760934123919654 , test_loss: 0.7591781258583069\n"
     ]
    },
    {
     "data": {
      "application/vnd.jupyter.widget-view+json": {
       "model_id": "29c12091b88f40288dc002283d79b3ff",
       "version_major": 2,
       "version_minor": 0
      },
      "text/plain": [
       "  0%|          | 0/80 [00:00<?, ?it/s]"
      ]
     },
     "metadata": {},
     "output_type": "display_data"
    },
    {
     "name": "stdout",
     "output_type": "stream",
     "text": [
      "epoch: 34, train_acc: 0.7278214996936274 , train_loss: 0.6590998034924269 , test_acc: 0.6627871543894046 , test_loss: 0.8595581918954849\n"
     ]
    },
    {
     "data": {
      "application/vnd.jupyter.widget-view+json": {
       "model_id": "c027af7917574807a000b0dcbd42cb53",
       "version_major": 2,
       "version_minor": 0
      },
      "text/plain": [
       "  0%|          | 0/80 [00:00<?, ?it/s]"
      ]
     },
     "metadata": {},
     "output_type": "display_data"
    },
    {
     "name": "stdout",
     "output_type": "stream",
     "text": [
      "epoch: 35, train_acc: 0.7785070082720588 , train_loss: 0.5538390569388867 , test_acc: 0.7879077554817542 , test_loss: 0.5272477686405181\n"
     ]
    },
    {
     "data": {
      "application/vnd.jupyter.widget-view+json": {
       "model_id": "33e8f579ddb94d17a97ed4225992b923",
       "version_major": 2,
       "version_minor": 0
      },
      "text/plain": [
       "  0%|          | 0/80 [00:00<?, ?it/s]"
      ]
     },
     "metadata": {},
     "output_type": "display_data"
    },
    {
     "name": "stdout",
     "output_type": "stream",
     "text": [
      "epoch: 36, train_acc: 0.8503200157015931 , train_loss: 0.39225518740713594 , test_acc: 0.7200669839348592 , test_loss: 0.7944857120513916\n"
     ]
    },
    {
     "data": {
      "application/vnd.jupyter.widget-view+json": {
       "model_id": "1e7cd228bec2437c8810c5d819373fd1",
       "version_major": 2,
       "version_minor": 0
      },
      "text/plain": [
       "  0%|          | 0/80 [00:00<?, ?it/s]"
      ]
     },
     "metadata": {},
     "output_type": "display_data"
    },
    {
     "name": "stdout",
     "output_type": "stream",
     "text": [
      "epoch: 37, train_acc: 0.8812969132965686 , train_loss: 0.32050116788595917 , test_acc: 0.8848544659290972 , test_loss: 0.3023919194936752\n"
     ]
    },
    {
     "data": {
      "application/vnd.jupyter.widget-view+json": {
       "model_id": "b77bb169240e4726ad0199c4687a7413",
       "version_major": 2,
       "version_minor": 0
      },
      "text/plain": [
       "  0%|          | 0/80 [00:00<?, ?it/s]"
      ]
     },
     "metadata": {},
     "output_type": "display_data"
    },
    {
     "name": "stdout",
     "output_type": "stream",
     "text": [
      "epoch: 38, train_acc: 0.94188232421875 , train_loss: 0.16791195711120963 , test_acc: 0.9298187294934379 , test_loss: 0.19010618031024934\n"
     ]
    },
    {
     "data": {
      "application/vnd.jupyter.widget-view+json": {
       "model_id": "6ed35ffb9c654c179457c840116b74b1",
       "version_major": 2,
       "version_minor": 0
      },
      "text/plain": [
       "  0%|          | 0/80 [00:00<?, ?it/s]"
      ]
     },
     "metadata": {},
     "output_type": "display_data"
    },
    {
     "name": "stdout",
     "output_type": "stream",
     "text": [
      "epoch: 39, train_acc: 0.9506036496629902 , train_loss: 0.1447609854862094 , test_acc: 0.8064212422975352 , test_loss: 0.7439400464296341\n"
     ]
    },
    {
     "data": {
      "application/vnd.jupyter.widget-view+json": {
       "model_id": "aae6969373424916bacda9328f1945af",
       "version_major": 2,
       "version_minor": 0
      },
      "text/plain": [
       "  0%|          | 0/80 [00:00<?, ?it/s]"
      ]
     },
     "metadata": {},
     "output_type": "display_data"
    },
    {
     "name": "stdout",
     "output_type": "stream",
     "text": [
      "epoch: 40, train_acc: 0.9035146675857844 , train_loss: 0.293864406272769 , test_acc: 0.952864541653329 , test_loss: 0.12874726466834546\n"
     ]
    },
    {
     "data": {
      "application/vnd.jupyter.widget-view+json": {
       "model_id": "9093f909b17b4a5397c8fdabc06e111d",
       "version_major": 2,
       "version_minor": 0
      },
      "text/plain": [
       "  0%|          | 0/80 [00:00<?, ?it/s]"
      ]
     },
     "metadata": {},
     "output_type": "display_data"
    },
    {
     "name": "stdout",
     "output_type": "stream",
     "text": [
      "epoch: 41, train_acc: 0.9664409562653186 , train_loss: 0.1026423763949424 , test_acc: 0.9723643440901089 , test_loss: 0.07948386184871196\n"
     ]
    },
    {
     "data": {
      "application/vnd.jupyter.widget-view+json": {
       "model_id": "2af03de09a6c4752b9b1f4c8aa44e0fd",
       "version_major": 2,
       "version_minor": 0
      },
      "text/plain": [
       "  0%|          | 0/80 [00:00<?, ?it/s]"
      ]
     },
     "metadata": {},
     "output_type": "display_data"
    },
    {
     "name": "stdout",
     "output_type": "stream",
     "text": [
      "epoch: 42, train_acc: 0.9872774011948529 , train_loss: 0.03757843556813896 , test_acc: 0.9807595305497759 , test_loss: 0.05496016703546047\n"
     ]
    },
    {
     "data": {
      "application/vnd.jupyter.widget-view+json": {
       "model_id": "26ad5979a7594cedb904ede1ff60978c",
       "version_major": 2,
       "version_minor": 0
      },
      "text/plain": [
       "  0%|          | 0/80 [00:00<?, ?it/s]"
      ]
     },
     "metadata": {},
     "output_type": "display_data"
    },
    {
     "name": "stdout",
     "output_type": "stream",
     "text": [
      "epoch: 43, train_acc: 0.9881093941482844 , train_loss: 0.032636722829192874 , test_acc: 0.9753580520766645 , test_loss: 0.06679361276328563\n"
     ]
    },
    {
     "data": {
      "application/vnd.jupyter.widget-view+json": {
       "model_id": "fe578c005c4c40ca982decaf998c31ad",
       "version_major": 2,
       "version_minor": 0
      },
      "text/plain": [
       "  0%|          | 0/80 [00:00<?, ?it/s]"
      ]
     },
     "metadata": {},
     "output_type": "display_data"
    },
    {
     "name": "stdout",
     "output_type": "stream",
     "text": [
      "epoch: 44, train_acc: 0.9857534371170343 , train_loss: 0.03929862342774868 , test_acc: 0.9815103958266646 , test_loss: 0.05107487197965384\n"
     ]
    },
    {
     "data": {
      "application/vnd.jupyter.widget-view+json": {
       "model_id": "ecfefd2528194eb986b0e2502064f412",
       "version_major": 2,
       "version_minor": 0
      },
      "text/plain": [
       "  0%|          | 0/80 [00:00<?, ?it/s]"
      ]
     },
     "metadata": {},
     "output_type": "display_data"
    },
    {
     "name": "stdout",
     "output_type": "stream",
     "text": [
      "epoch: 45, train_acc: 0.9764892578125 , train_loss: 0.06947041708044707 , test_acc: 0.9710524867957746 , test_loss: 0.10488374680280685\n"
     ]
    },
    {
     "data": {
      "application/vnd.jupyter.widget-view+json": {
       "model_id": "6568c17e711e4492b768b72369d59e21",
       "version_major": 2,
       "version_minor": 0
      },
      "text/plain": [
       "  0%|          | 0/80 [00:00<?, ?it/s]"
      ]
     },
     "metadata": {},
     "output_type": "display_data"
    },
    {
     "name": "stdout",
     "output_type": "stream",
     "text": [
      "epoch: 46, train_acc: 0.9851318359375 , train_loss: 0.042826772667467594 , test_acc: 0.9847330520766645 , test_loss: 0.04273745361715555\n"
     ]
    },
    {
     "data": {
      "application/vnd.jupyter.widget-view+json": {
       "model_id": "04cc94844e104c2ea42ead0e7df543fe",
       "version_major": 2,
       "version_minor": 0
      },
      "text/plain": [
       "  0%|          | 0/80 [00:00<?, ?it/s]"
      ]
     },
     "metadata": {},
     "output_type": "display_data"
    },
    {
     "name": "stdout",
     "output_type": "stream",
     "text": [
      "epoch: 47, train_acc: 0.9919189453125 , train_loss: 0.02009499544510618 , test_acc: 0.9892827579825545 , test_loss: 0.026957039907574653\n"
     ]
    },
    {
     "data": {
      "application/vnd.jupyter.widget-view+json": {
       "model_id": "f7e2356f3b5b4684baaf1067ed06e324",
       "version_major": 2,
       "version_minor": 0
      },
      "text/plain": [
       "  0%|          | 0/80 [00:00<?, ?it/s]"
      ]
     },
     "metadata": {},
     "output_type": "display_data"
    },
    {
     "name": "stdout",
     "output_type": "stream",
     "text": [
      "epoch: 48, train_acc: 0.9859599992340685 , train_loss: 0.03645900365663692 , test_acc: 0.9326268781009922 , test_loss: 0.24030417948961258\n"
     ]
    },
    {
     "data": {
      "application/vnd.jupyter.widget-view+json": {
       "model_id": "0fe98d6b010e4ee7b5e2d0dac51fbe2f",
       "version_major": 2,
       "version_minor": 0
      },
      "text/plain": [
       "  0%|          | 0/80 [00:00<?, ?it/s]"
      ]
     },
     "metadata": {},
     "output_type": "display_data"
    },
    {
     "name": "stdout",
     "output_type": "stream",
     "text": [
      "epoch: 49, train_acc: 0.97581787109375 , train_loss: 0.06918664199765771 , test_acc: 0.9852853538132201 , test_loss: 0.03977911351248622\n"
     ]
    },
    {
     "data": {
      "application/vnd.jupyter.widget-view+json": {
       "model_id": "1ff396ea432f4e5d8ee6c11642ab4da9",
       "version_major": 2,
       "version_minor": 0
      },
      "text/plain": [
       "  0%|          | 0/80 [00:00<?, ?it/s]"
      ]
     },
     "metadata": {},
     "output_type": "display_data"
    },
    {
     "name": "stdout",
     "output_type": "stream",
     "text": [
      "epoch: 50, train_acc: 0.9908071480545344 , train_loss: 0.022167039930354803 , test_acc: 0.9891482149287771 , test_loss: 0.028835206059738994\n"
     ]
    },
    {
     "data": {
      "application/vnd.jupyter.widget-view+json": {
       "model_id": "86b80ff4ddd748fc91d818ab39279da0",
       "version_major": 2,
       "version_minor": 0
      },
      "text/plain": [
       "  0%|          | 0/80 [00:00<?, ?it/s]"
      ]
     },
     "metadata": {},
     "output_type": "display_data"
    },
    {
     "name": "stdout",
     "output_type": "stream",
     "text": [
      "epoch: 51, train_acc: 0.99166259765625 , train_loss: 0.01885270521743223 , test_acc: 0.9894596270806659 , test_loss: 0.024807719653472303\n"
     ]
    },
    {
     "data": {
      "application/vnd.jupyter.widget-view+json": {
       "model_id": "1958590240d2463380cc24fa30a8c612",
       "version_major": 2,
       "version_minor": 0
      },
      "text/plain": [
       "  0%|          | 0/80 [00:00<?, ?it/s]"
      ]
     },
     "metadata": {},
     "output_type": "display_data"
    },
    {
     "name": "stdout",
     "output_type": "stream",
     "text": [
      "epoch: 52, train_acc: 0.9833251953125 , train_loss: 0.049319991981610654 , test_acc: 0.9713237611035531 , test_loss: 0.08050075750797987\n"
     ]
    },
    {
     "data": {
      "application/vnd.jupyter.widget-view+json": {
       "model_id": "c9dd773d799146c6b0793c695a062823",
       "version_major": 2,
       "version_minor": 0
      },
      "text/plain": [
       "  0%|          | 0/80 [00:00<?, ?it/s]"
      ]
     },
     "metadata": {},
     "output_type": "display_data"
    },
    {
     "name": "stdout",
     "output_type": "stream",
     "text": [
      "epoch: 53, train_acc: 0.969384765625 , train_loss: 0.09088598452508449 , test_acc: 0.9573816746358835 , test_loss: 0.11804905571043492\n"
     ]
    },
    {
     "data": {
      "application/vnd.jupyter.widget-view+json": {
       "model_id": "3c9cacfce0af4843927337031fa76683",
       "version_major": 2,
       "version_minor": 0
      },
      "text/plain": [
       "  0%|          | 0/80 [00:00<?, ?it/s]"
      ]
     },
     "metadata": {},
     "output_type": "display_data"
    },
    {
     "name": "stdout",
     "output_type": "stream",
     "text": [
      "epoch: 54, train_acc: 0.9891591988357844 , train_loss: 0.02865274394862354 , test_acc: 0.9896549395806659 , test_loss: 0.025511102937161922\n"
     ]
    },
    {
     "data": {
      "application/vnd.jupyter.widget-view+json": {
       "model_id": "88f09e0a63fe45be8a82b167eca2461f",
       "version_major": 2,
       "version_minor": 0
      },
      "text/plain": [
       "  0%|          | 0/80 [00:00<?, ?it/s]"
      ]
     },
     "metadata": {},
     "output_type": "display_data"
    },
    {
     "name": "stdout",
     "output_type": "stream",
     "text": [
      "epoch: 55, train_acc: 0.9923574410232844 , train_loss: 0.0174305634573102 , test_acc: 0.98954209096911 , test_loss: 0.02432597102597356\n"
     ]
    },
    {
     "data": {
      "application/vnd.jupyter.widget-view+json": {
       "model_id": "43c161a441ca4d0c907f08c22a6007e3",
       "version_major": 2,
       "version_minor": 0
      },
      "text/plain": [
       "  0%|          | 0/80 [00:00<?, ?it/s]"
      ]
     },
     "metadata": {},
     "output_type": "display_data"
    },
    {
     "name": "stdout",
     "output_type": "stream",
     "text": [
      "epoch: 56, train_acc: 0.992724609375 , train_loss: 0.016266937274485825 , test_acc: 0.9897981729153329 , test_loss: 0.023076268611475825\n"
     ]
    },
    {
     "data": {
      "application/vnd.jupyter.widget-view+json": {
       "model_id": "a9efc7976d2b4e2bb5bd6367498d8ec6",
       "version_major": 2,
       "version_minor": 0
      },
      "text/plain": [
       "  0%|          | 0/80 [00:00<?, ?it/s]"
      ]
     },
     "metadata": {},
     "output_type": "display_data"
    },
    {
     "name": "stdout",
     "output_type": "stream",
     "text": [
      "epoch: 57, train_acc: 0.9924795113357844 , train_loss: 0.015774084033910184 , test_acc: 0.9910525118037772 , test_loss: 0.020289538986980916\n"
     ]
    },
    {
     "data": {
      "application/vnd.jupyter.widget-view+json": {
       "model_id": "9ddd6c626234444aae081e0e42b1aaf9",
       "version_major": 2,
       "version_minor": 0
      },
      "text/plain": [
       "  0%|          | 0/80 [00:00<?, ?it/s]"
      ]
     },
     "metadata": {},
     "output_type": "display_data"
    },
    {
     "name": "stdout",
     "output_type": "stream",
     "text": [
      "epoch: 58, train_acc: 0.9928335152420343 , train_loss: 0.014741823624353856 , test_acc: 0.9903450354113316 , test_loss: 0.022545107081532477\n"
     ]
    },
    {
     "data": {
      "application/vnd.jupyter.widget-view+json": {
       "model_id": "ec59b2caf4554646a21272a41e57f87e",
       "version_major": 2,
       "version_minor": 0
      },
      "text/plain": [
       "  0%|          | 0/80 [00:00<?, ?it/s]"
      ]
     },
     "metadata": {},
     "output_type": "display_data"
    },
    {
     "name": "stdout",
     "output_type": "stream",
     "text": [
      "epoch: 59, train_acc: 0.99288330078125 , train_loss: 0.014971150774726993 , test_acc: 0.9897927336747759 , test_loss: 0.0252197758294642\n"
     ]
    },
    {
     "data": {
      "application/vnd.jupyter.widget-view+json": {
       "model_id": "60cf75820baa446ea95ee51a5be34ab0",
       "version_major": 2,
       "version_minor": 0
      },
      "text/plain": [
       "  0%|          | 0/80 [00:00<?, ?it/s]"
      ]
     },
     "metadata": {},
     "output_type": "display_data"
    },
    {
     "name": "stdout",
     "output_type": "stream",
     "text": [
      "epoch: 60, train_acc: 0.99014892578125 , train_loss: 0.023726737749530002 , test_acc: 0.979734139924776 , test_loss: 0.05029023326933384\n"
     ]
    },
    {
     "data": {
      "application/vnd.jupyter.widget-view+json": {
       "model_id": "eda19c80834d4332b2462663f10425e7",
       "version_major": 2,
       "version_minor": 0
      },
      "text/plain": [
       "  0%|          | 0/80 [00:00<?, ?it/s]"
      ]
     },
     "metadata": {},
     "output_type": "display_data"
    },
    {
     "name": "stdout",
     "output_type": "stream",
     "text": [
      "epoch: 61, train_acc: 0.9833984375 , train_loss: 0.04393684447277337 , test_acc: 0.9754622104073304 , test_loss: 0.06735709197819233\n"
     ]
    },
    {
     "data": {
      "application/vnd.jupyter.widget-view+json": {
       "model_id": "96cfffc57bc44a1eb3a8bb05f274ac92",
       "version_major": 2,
       "version_minor": 0
      },
      "text/plain": [
       "  0%|          | 0/80 [00:00<?, ?it/s]"
      ]
     },
     "metadata": {},
     "output_type": "display_data"
    },
    {
     "name": "stdout",
     "output_type": "stream",
     "text": [
      "epoch: 62, train_acc: 0.9862905464920344 , train_loss: 0.03677559555508196 , test_acc: 0.9438996728953265 , test_loss: 0.19361601173877716\n"
     ]
    },
    {
     "data": {
      "application/vnd.jupyter.widget-view+json": {
       "model_id": "1ae028c30bec487e893e213db638bdf5",
       "version_major": 2,
       "version_minor": 0
      },
      "text/plain": [
       "  0%|          | 0/80 [00:00<?, ?it/s]"
      ]
     },
     "metadata": {},
     "output_type": "display_data"
    },
    {
     "name": "stdout",
     "output_type": "stream",
     "text": [
      "epoch: 63, train_acc: 0.9775381050857843 , train_loss: 0.06751929695019498 , test_acc: 0.9823404739516646 , test_loss: 0.0632622592151165\n"
     ]
    },
    {
     "data": {
      "application/vnd.jupyter.widget-view+json": {
       "model_id": "f96de298b8314c60b57ddbb68678a4f6",
       "version_major": 2,
       "version_minor": 0
      },
      "text/plain": [
       "  0%|          | 0/80 [00:00<?, ?it/s]"
      ]
     },
     "metadata": {},
     "output_type": "display_data"
    },
    {
     "name": "stdout",
     "output_type": "stream",
     "text": [
      "epoch: 64, train_acc: 0.991455078125 , train_loss: 0.022755047102691606 , test_acc: 0.9905490381922215 , test_loss: 0.02173532322049141\n"
     ]
    },
    {
     "data": {
      "application/vnd.jupyter.widget-view+json": {
       "model_id": "df8b6d892fdb498ea811fed0ae483057",
       "version_major": 2,
       "version_minor": 0
      },
      "text/plain": [
       "  0%|          | 0/80 [00:00<?, ?it/s]"
      ]
     },
     "metadata": {},
     "output_type": "display_data"
    },
    {
     "name": "stdout",
     "output_type": "stream",
     "text": [
      "epoch: 65, train_acc: 0.9932241402420343 , train_loss: 0.014803941978607326 , test_acc: 0.9914615802056659 , test_loss: 0.01862691333517432\n"
     ]
    },
    {
     "data": {
      "application/vnd.jupyter.widget-view+json": {
       "model_id": "1bb5ee3bafb14233a852867559831424",
       "version_major": 2,
       "version_minor": 0
      },
      "text/plain": [
       "  0%|          | 0/80 [00:00<?, ?it/s]"
      ]
     },
     "metadata": {},
     "output_type": "display_data"
    },
    {
     "name": "stdout",
     "output_type": "stream",
     "text": [
      "epoch: 66, train_acc: 0.9929931640625 , train_loss: 0.015231228867196477 , test_acc: 0.9909396631922215 , test_loss: 0.01936768856830895\n"
     ]
    },
    {
     "data": {
      "application/vnd.jupyter.widget-view+json": {
       "model_id": "11fb1c7593e9450bb570d32c8b581b36",
       "version_major": 2,
       "version_minor": 0
      },
      "text/plain": [
       "  0%|          | 0/80 [00:00<?, ?it/s]"
      ]
     },
     "metadata": {},
     "output_type": "display_data"
    },
    {
     "name": "stdout",
     "output_type": "stream",
     "text": [
      "epoch: 67, train_acc: 0.99344482421875 , train_loss: 0.013749750684019091 , test_acc: 0.9916905284691101 , test_loss: 0.019611946307122707\n"
     ]
    },
    {
     "data": {
      "application/vnd.jupyter.widget-view+json": {
       "model_id": "0d72cd879e074dcda17828a882302e6c",
       "version_major": 2,
       "version_minor": 0
      },
      "text/plain": [
       "  0%|          | 0/80 [00:00<?, ?it/s]"
      ]
     },
     "metadata": {},
     "output_type": "display_data"
    },
    {
     "name": "stdout",
     "output_type": "stream",
     "text": [
      "epoch: 68, train_acc: 0.993701171875 , train_loss: 0.013255009511340177 , test_acc: 0.9920995968709987 , test_loss: 0.017915720539167523\n"
     ]
    },
    {
     "data": {
      "application/vnd.jupyter.widget-view+json": {
       "model_id": "c8a2adb94f1b40eebdb6b23e79fde5ba",
       "version_major": 2,
       "version_minor": 0
      },
      "text/plain": [
       "  0%|          | 0/80 [00:00<?, ?it/s]"
      ]
     },
     "metadata": {},
     "output_type": "display_data"
    },
    {
     "name": "stdout",
     "output_type": "stream",
     "text": [
      "epoch: 69, train_acc: 0.99410400390625 , train_loss: 0.012645942324525095 , test_acc: 0.9919802461787771 , test_loss: 0.018114869110286237\n"
     ]
    },
    {
     "data": {
      "application/vnd.jupyter.widget-view+json": {
       "model_id": "0975750c244c4553ad8863c7c706cf5f",
       "version_major": 2,
       "version_minor": 0
      },
      "text/plain": [
       "  0%|          | 0/80 [00:00<?, ?it/s]"
      ]
     },
     "metadata": {},
     "output_type": "display_data"
    },
    {
     "name": "stdout",
     "output_type": "stream",
     "text": [
      "epoch: 70, train_acc: 0.993505859375 , train_loss: 0.016081500781001522 , test_acc: 0.985834404509443 , test_loss: 0.042700123973190784\n"
     ]
    },
    {
     "data": {
      "application/vnd.jupyter.widget-view+json": {
       "model_id": "9276a46c50f646668cd240019057a21f",
       "version_major": 2,
       "version_minor": 0
      },
      "text/plain": [
       "  0%|          | 0/80 [00:00<?, ?it/s]"
      ]
     },
     "metadata": {},
     "output_type": "display_data"
    },
    {
     "name": "stdout",
     "output_type": "stream",
     "text": [
      "epoch: 71, train_acc: 0.9680654488357844 , train_loss: 0.09426972933579236 , test_acc: 0.9417544864356595 , test_loss: 0.16270314976572992\n"
     ]
    },
    {
     "data": {
      "application/vnd.jupyter.widget-view+json": {
       "model_id": "52405712be1448d487e31b02f5e96aa3",
       "version_major": 2,
       "version_minor": 0
      },
      "text/plain": [
       "  0%|          | 0/80 [00:00<?, ?it/s]"
      ]
     },
     "metadata": {},
     "output_type": "display_data"
    },
    {
     "name": "stdout",
     "output_type": "stream",
     "text": [
      "epoch: 72, train_acc: 0.9820302925857843 , train_loss: 0.053287773532792924 , test_acc: 0.9905067121478874 , test_loss: 0.030120041407644748\n"
     ]
    },
    {
     "data": {
      "application/vnd.jupyter.widget-view+json": {
       "model_id": "5af1f9d8f2a4417cb228c0fc5e2c19e7",
       "version_major": 2,
       "version_minor": 0
      },
      "text/plain": [
       "  0%|          | 0/80 [00:00<?, ?it/s]"
      ]
     },
     "metadata": {},
     "output_type": "display_data"
    },
    {
     "name": "stdout",
     "output_type": "stream",
     "text": [
      "epoch: 73, train_acc: 0.99566650390625 , train_loss: 0.010662879541814618 , test_acc: 0.993362626040333 , test_loss: 0.015844810265116395\n"
     ]
    },
    {
     "data": {
      "application/vnd.jupyter.widget-view+json": {
       "model_id": "97069a41037a4f60a8d757f075e50206",
       "version_major": 2,
       "version_minor": 0
      },
      "text/plain": [
       "  0%|          | 0/80 [00:00<?, ?it/s]"
      ]
     },
     "metadata": {},
     "output_type": "display_data"
    },
    {
     "name": "stdout",
     "output_type": "stream",
     "text": [
      "epoch: 74, train_acc: 0.996240234375 , train_loss: 0.009905198073829525 , test_acc: 0.9828135628401089 , test_loss: 0.051650854293257\n"
     ]
    },
    {
     "data": {
      "application/vnd.jupyter.widget-view+json": {
       "model_id": "ff352a3d200e48f5bb70759d4c30aad1",
       "version_major": 2,
       "version_minor": 0
      },
      "text/plain": [
       "  0%|          | 0/80 [00:00<?, ?it/s]"
      ]
     },
     "metadata": {},
     "output_type": "display_data"
    },
    {
     "name": "stdout",
     "output_type": "stream",
     "text": [
      "epoch: 75, train_acc: 0.9947021484375 , train_loss: 0.014665424142003758 , test_acc: 0.9926822833306659 , test_loss: 0.019839520612731577\n"
     ]
    },
    {
     "data": {
      "application/vnd.jupyter.widget-view+json": {
       "model_id": "7a3d99890bf84f1cb8171eb03bf85c48",
       "version_major": 2,
       "version_minor": 0
      },
      "text/plain": [
       "  0%|          | 0/80 [00:00<?, ?it/s]"
      ]
     },
     "metadata": {},
     "output_type": "display_data"
    },
    {
     "name": "stdout",
     "output_type": "stream",
     "text": [
      "epoch: 76, train_acc: 0.9972900390625 , train_loss: 0.007202096594846807 , test_acc: 0.9957552041653329 , test_loss: 0.012163727660663426\n"
     ]
    },
    {
     "data": {
      "application/vnd.jupyter.widget-view+json": {
       "model_id": "6dfdb31f5de1411488bb7bcac9dc49da",
       "version_major": 2,
       "version_minor": 0
      },
      "text/plain": [
       "  0%|          | 0/80 [00:00<?, ?it/s]"
      ]
     },
     "metadata": {},
     "output_type": "display_data"
    },
    {
     "name": "stdout",
     "output_type": "stream",
     "text": [
      "epoch: 77, train_acc: 0.9973876953125 , train_loss: 0.006810553459217772 , test_acc: 0.9953645791653329 , test_loss: 0.012955209845677019\n"
     ]
    },
    {
     "data": {
      "application/vnd.jupyter.widget-view+json": {
       "model_id": "59eacaeff71c4575a7e4163668138d0d",
       "version_major": 2,
       "version_minor": 0
      },
      "text/plain": [
       "  0%|          | 0/80 [00:00<?, ?it/s]"
      ]
     },
     "metadata": {},
     "output_type": "display_data"
    },
    {
     "name": "stdout",
     "output_type": "stream",
     "text": [
      "epoch: 78, train_acc: 0.99710693359375 , train_loss: 0.0071831570741323954 , test_acc: 0.9960297295134444 , test_loss: 0.011466888687573373\n"
     ]
    },
    {
     "data": {
      "application/vnd.jupyter.widget-view+json": {
       "model_id": "6c566544dc5e4c889d3a827b56cd6c4f",
       "version_major": 2,
       "version_minor": 0
      },
      "text/plain": [
       "  0%|          | 0/80 [00:00<?, ?it/s]"
      ]
     },
     "metadata": {},
     "output_type": "display_data"
    },
    {
     "name": "stdout",
     "output_type": "stream",
     "text": [
      "epoch: 79, train_acc: 0.99833984375 , train_loss: 0.0048493696995137725 , test_acc: 0.9955750840268885 , test_loss: 0.011337568413000553\n"
     ]
    },
    {
     "data": {
      "application/vnd.jupyter.widget-view+json": {
       "model_id": "d9335862cf974892ba44fc6c5d74d242",
       "version_major": 2,
       "version_minor": 0
      },
      "text/plain": [
       "  0%|          | 0/80 [00:00<?, ?it/s]"
      ]
     },
     "metadata": {},
     "output_type": "display_data"
    },
    {
     "name": "stdout",
     "output_type": "stream",
     "text": [
      "epoch: 80, train_acc: 0.99844970703125 , train_loss: 0.004220228192571085 , test_acc: 0.9956087197903329 , test_loss: 0.01136289497371763\n"
     ]
    },
    {
     "data": {
      "application/vnd.jupyter.widget-view+json": {
       "model_id": "69d46b6b7ed64cf9a4a97f3ba4ac58fe",
       "version_major": 2,
       "version_minor": 0
      },
      "text/plain": [
       "  0%|          | 0/80 [00:00<?, ?it/s]"
      ]
     },
     "metadata": {},
     "output_type": "display_data"
    },
    {
     "name": "stdout",
     "output_type": "stream",
     "text": [
      "epoch: 81, train_acc: 0.8100557215073529 , train_loss: 0.5401433274731972 , test_acc: 0.9376008447703266 , test_loss: 0.17259373068809508\n"
     ]
    },
    {
     "data": {
      "application/vnd.jupyter.widget-view+json": {
       "model_id": "540ee611128445c990553f7ceec59669",
       "version_major": 2,
       "version_minor": 0
      },
      "text/plain": [
       "  0%|          | 0/80 [00:00<?, ?it/s]"
      ]
     },
     "metadata": {},
     "output_type": "display_data"
    },
    {
     "name": "stdout",
     "output_type": "stream",
     "text": [
      "epoch: 82, train_acc: 0.9836181640625 , train_loss: 0.04635735433548689 , test_acc: 0.9881933468709987 , test_loss: 0.03539349092170596\n"
     ]
    },
    {
     "data": {
      "application/vnd.jupyter.widget-view+json": {
       "model_id": "141f34584ad64424b08b297185d465da",
       "version_major": 2,
       "version_minor": 0
      },
      "text/plain": [
       "  0%|          | 0/80 [00:00<?, ?it/s]"
      ]
     },
     "metadata": {},
     "output_type": "display_data"
    },
    {
     "name": "stdout",
     "output_type": "stream",
     "text": [
      "epoch: 83, train_acc: 0.9938720703125 , train_loss: 0.018670129965175874 , test_acc: 0.9942599756922215 , test_loss: 0.019824316212907433\n"
     ]
    },
    {
     "data": {
      "application/vnd.jupyter.widget-view+json": {
       "model_id": "94ac630af94048869fc14992b3d967da",
       "version_major": 2,
       "version_minor": 0
      },
      "text/plain": [
       "  0%|          | 0/80 [00:00<?, ?it/s]"
      ]
     },
     "metadata": {},
     "output_type": "display_data"
    },
    {
     "name": "stdout",
     "output_type": "stream",
     "text": [
      "epoch: 84, train_acc: 0.9981689453125 , train_loss: 0.006861139236025338 , test_acc: 0.9953461357634443 , test_loss: 0.013554563547950238\n"
     ]
    },
    {
     "data": {
      "application/vnd.jupyter.widget-view+json": {
       "model_id": "e251b184f1cb4c789cd68cea741a1e4c",
       "version_major": 2,
       "version_minor": 0
      },
      "text/plain": [
       "  0%|          | 0/80 [00:00<?, ?it/s]"
      ]
     },
     "metadata": {},
     "output_type": "display_data"
    },
    {
     "name": "stdout",
     "output_type": "stream",
     "text": [
      "epoch: 85, train_acc: 0.99681396484375 , train_loss: 0.010723436667467468 , test_acc: 0.9763042298535531 , test_loss: 0.0776601143181324\n"
     ]
    },
    {
     "data": {
      "application/vnd.jupyter.widget-view+json": {
       "model_id": "ac91e257692446a7b53f35c7c0242ef8",
       "version_major": 2,
       "version_minor": 0
      },
      "text/plain": [
       "  0%|          | 0/80 [00:00<?, ?it/s]"
      ]
     },
     "metadata": {},
     "output_type": "display_data"
    },
    {
     "name": "stdout",
     "output_type": "stream",
     "text": [
      "epoch: 86, train_acc: 0.995703125 , train_loss: 0.014286196575267241 , test_acc: 0.9919650538172216 , test_loss: 0.023116934578865767\n"
     ]
    },
    {
     "data": {
      "application/vnd.jupyter.widget-view+json": {
       "model_id": "6e8b3c569b7349888f3b3c9f237a4e23",
       "version_major": 2,
       "version_minor": 0
      },
      "text/plain": [
       "  0%|          | 0/80 [00:00<?, ?it/s]"
      ]
     },
     "metadata": {},
     "output_type": "display_data"
    },
    {
     "name": "stdout",
     "output_type": "stream",
     "text": [
      "epoch: 87, train_acc: 0.99517822265625 , train_loss: 0.015296493434289005 , test_acc: 0.9898686954825544 , test_loss: 0.03246572175994515\n"
     ]
    },
    {
     "data": {
      "application/vnd.jupyter.widget-view+json": {
       "model_id": "2417b4cd854145d3bd757e3741d98962",
       "version_major": 2,
       "version_minor": 0
      },
      "text/plain": [
       "  0%|          | 0/80 [00:00<?, ?it/s]"
      ]
     },
     "metadata": {},
     "output_type": "display_data"
    },
    {
     "name": "stdout",
     "output_type": "stream",
     "text": [
      "epoch: 88, train_acc: 0.99736328125 , train_loss: 0.0089800200323225 , test_acc: 0.9887792843709986 , test_loss: 0.03923424892127514\n"
     ]
    },
    {
     "data": {
      "application/vnd.jupyter.widget-view+json": {
       "model_id": "5b52cd19d4d340438e5a7adefb875be3",
       "version_major": 2,
       "version_minor": 0
      },
      "text/plain": [
       "  0%|          | 0/80 [00:00<?, ?it/s]"
      ]
     },
     "metadata": {},
     "output_type": "display_data"
    },
    {
     "name": "stdout",
     "output_type": "stream",
     "text": [
      "epoch: 89, train_acc: 0.99481201171875 , train_loss: 0.01807800760725513 , test_acc: 0.9946169649287772 , test_loss: 0.0166166580747813\n"
     ]
    },
    {
     "data": {
      "application/vnd.jupyter.widget-view+json": {
       "model_id": "eb117a57fbb84952b273c77f2851e9f0",
       "version_major": 2,
       "version_minor": 0
      },
      "text/plain": [
       "  0%|          | 0/80 [00:00<?, ?it/s]"
      ]
     },
     "metadata": {},
     "output_type": "display_data"
    },
    {
     "name": "stdout",
     "output_type": "stream",
     "text": [
      "epoch: 90, train_acc: 0.99735107421875 , train_loss: 0.009650872345082462 , test_acc: 0.9829567961747759 , test_loss: 0.053439713828265664\n"
     ]
    },
    {
     "data": {
      "application/vnd.jupyter.widget-view+json": {
       "model_id": "96f79313f4fe4863813378d9956864e7",
       "version_major": 2,
       "version_minor": 0
      },
      "text/plain": [
       "  0%|          | 0/80 [00:00<?, ?it/s]"
      ]
     },
     "metadata": {},
     "output_type": "display_data"
    },
    {
     "name": "stdout",
     "output_type": "stream",
     "text": [
      "epoch: 91, train_acc: 0.99161376953125 , train_loss: 0.02768562282435596 , test_acc: 0.99017685659411 , test_loss: 0.030023687053471804\n"
     ]
    },
    {
     "data": {
      "application/vnd.jupyter.widget-view+json": {
       "model_id": "b00858cc98b248da9d3f66d1746689df",
       "version_major": 2,
       "version_minor": 0
      },
      "text/plain": [
       "  0%|          | 0/80 [00:00<?, ?it/s]"
      ]
     },
     "metadata": {},
     "output_type": "display_data"
    },
    {
     "name": "stdout",
     "output_type": "stream",
     "text": [
      "epoch: 92, train_acc: 0.99888916015625 , train_loss: 0.004230050028854748 , test_acc: 0.9954134072903329 , test_loss: 0.014610042935237289\n"
     ]
    },
    {
     "data": {
      "application/vnd.jupyter.widget-view+json": {
       "model_id": "b8820a489de14cbc9933bc9932b11cee",
       "version_major": 2,
       "version_minor": 0
      },
      "text/plain": [
       "  0%|          | 0/80 [00:00<?, ?it/s]"
      ]
     },
     "metadata": {},
     "output_type": "display_data"
    },
    {
     "name": "stdout",
     "output_type": "stream",
     "text": [
      "epoch: 93, train_acc: 0.9960683785232843 , train_loss: 0.01385679772865842 , test_acc: 0.9779155579785531 , test_loss: 0.07855739463120699\n"
     ]
    },
    {
     "data": {
      "application/vnd.jupyter.widget-view+json": {
       "model_id": "143c6d86a73748c983e6852e8e754893",
       "version_major": 2,
       "version_minor": 0
      },
      "text/plain": [
       "  0%|          | 0/80 [00:00<?, ?it/s]"
      ]
     },
     "metadata": {},
     "output_type": "display_data"
    },
    {
     "name": "stdout",
     "output_type": "stream",
     "text": [
      "epoch: 94, train_acc: 0.9885000191482843 , train_loss: 0.04025496103568003 , test_acc: 0.9940006427056659 , test_loss: 0.020034480933099987\n"
     ]
    },
    {
     "data": {
      "application/vnd.jupyter.widget-view+json": {
       "model_id": "b0f1547058cf40569d2b2887a15144e6",
       "version_major": 2,
       "version_minor": 0
      },
      "text/plain": [
       "  0%|          | 0/80 [00:00<?, ?it/s]"
      ]
     },
     "metadata": {},
     "output_type": "display_data"
    },
    {
     "name": "stdout",
     "output_type": "stream",
     "text": [
      "epoch: 95, train_acc: 0.9982177734375 , train_loss: 0.005922332322370494 , test_acc: 0.9967654024287771 , test_loss: 0.010316721338313073\n"
     ]
    },
    {
     "data": {
      "application/vnd.jupyter.widget-view+json": {
       "model_id": "6fa6050894894e2395fbf445de112a33",
       "version_major": 2,
       "version_minor": 0
      },
      "text/plain": [
       "  0%|          | 0/80 [00:00<?, ?it/s]"
      ]
     },
     "metadata": {},
     "output_type": "display_data"
    },
    {
     "name": "stdout",
     "output_type": "stream",
     "text": [
      "epoch: 96, train_acc: 0.9990966796875 , train_loss: 0.0037574979211058234 , test_acc: 0.9959841524287771 , test_loss: 0.012253104435512797\n"
     ]
    },
    {
     "data": {
      "application/vnd.jupyter.widget-view+json": {
       "model_id": "a097e4bda065457cbf5ae6b7cb29a520",
       "version_major": 2,
       "version_minor": 0
      },
      "text/plain": [
       "  0%|          | 0/80 [00:00<?, ?it/s]"
      ]
     },
     "metadata": {},
     "output_type": "display_data"
    },
    {
     "name": "stdout",
     "output_type": "stream",
     "text": [
      "epoch: 97, train_acc: 0.99986572265625 , train_loss: 0.0009416552616130502 , test_acc: 0.9958344170134443 , test_loss: 0.020886062085628508\n"
     ]
    },
    {
     "data": {
      "application/vnd.jupyter.widget-view+json": {
       "model_id": "5a0740c695374c22b0a0a4562423fa20",
       "version_major": 2,
       "version_minor": 0
      },
      "text/plain": [
       "  0%|          | 0/80 [00:00<?, ?it/s]"
      ]
     },
     "metadata": {},
     "output_type": "display_data"
    },
    {
     "name": "stdout",
     "output_type": "stream",
     "text": [
      "epoch: 98, train_acc: 0.99886474609375 , train_loss: 0.005336165809058002 , test_acc: 0.997415360415333 , test_loss: 0.008808433293597772\n"
     ]
    },
    {
     "data": {
      "application/vnd.jupyter.widget-view+json": {
       "model_id": "90bfe14d5e914d7e85f30c204b1d03bf",
       "version_major": 2,
       "version_minor": 0
      },
      "text/plain": [
       "  0%|          | 0/80 [00:00<?, ?it/s]"
      ]
     },
     "metadata": {},
     "output_type": "display_data"
    },
    {
     "name": "stdout",
     "output_type": "stream",
     "text": [
      "epoch: 99, train_acc: 0.999755859375 , train_loss: 0.0008593452283093938 , test_acc: 0.9977387138884444 , test_loss: 0.00795098083326593\n"
     ]
    },
    {
     "data": {
      "application/vnd.jupyter.widget-view+json": {
       "model_id": "30d4b7c265964bb2b3b875618ee18559",
       "version_major": 2,
       "version_minor": 0
      },
      "text/plain": [
       "  0%|          | 0/80 [00:00<?, ?it/s]"
      ]
     },
     "metadata": {},
     "output_type": "display_data"
    },
    {
     "name": "stdout",
     "output_type": "stream",
     "text": [
      "epoch: 100, train_acc: 0.99989013671875 , train_loss: 0.0007643622381692694 , test_acc: 0.9982269951384444 , test_loss: 0.005688345374073834\n"
     ]
    },
    {
     "data": {
      "application/vnd.jupyter.widget-view+json": {
       "model_id": "fa41322a637045109fbbf8e410c14346",
       "version_major": 2,
       "version_minor": 0
      },
      "text/plain": [
       "  0%|          | 0/80 [00:00<?, ?it/s]"
      ]
     },
     "metadata": {},
     "output_type": "display_data"
    },
    {
     "name": "stdout",
     "output_type": "stream",
     "text": [
      "epoch: 101, train_acc: 0.9993642769607843 , train_loss: 0.009918126607635714 , test_acc: 0.99365234375 , test_loss: 0.0261110947933048\n"
     ]
    },
    {
     "data": {
      "application/vnd.jupyter.widget-view+json": {
       "model_id": "8f1be4bbf452471caf86cb830827e83f",
       "version_major": 2,
       "version_minor": 0
      },
      "text/plain": [
       "  0%|          | 0/80 [00:00<?, ?it/s]"
      ]
     },
     "metadata": {},
     "output_type": "display_data"
    },
    {
     "name": "stdout",
     "output_type": "stream",
     "text": [
      "epoch: 102, train_acc: 0.9435546875 , train_loss: 0.18879178374772893 , test_acc: 0.9600824138724391 , test_loss: 0.1419328823685646\n"
     ]
    },
    {
     "data": {
      "application/vnd.jupyter.widget-view+json": {
       "model_id": "97f8302b97cc4406a8d08c5399b1c063",
       "version_major": 2,
       "version_minor": 0
      },
      "text/plain": [
       "  0%|          | 0/80 [00:00<?, ?it/s]"
      ]
     },
     "metadata": {},
     "output_type": "display_data"
    },
    {
     "name": "stdout",
     "output_type": "stream",
     "text": [
      "epoch: 103, train_acc: 0.9904165230545343 , train_loss: 0.0290829747042153 , test_acc: 0.9887912256922216 , test_loss: 0.03398106377571821\n"
     ]
    },
    {
     "data": {
      "application/vnd.jupyter.widget-view+json": {
       "model_id": "eff0ba1b2121456aa19f7ef532b206e8",
       "version_major": 2,
       "version_minor": 0
      },
      "text/plain": [
       "  0%|          | 0/80 [00:00<?, ?it/s]"
      ]
     },
     "metadata": {},
     "output_type": "display_data"
    },
    {
     "name": "stdout",
     "output_type": "stream",
     "text": [
      "epoch: 104, train_acc: 0.99398193359375 , train_loss: 0.02076883738482138 , test_acc: 0.9920323253441101 , test_loss: 0.023543890612199903\n"
     ]
    },
    {
     "data": {
      "application/vnd.jupyter.widget-view+json": {
       "model_id": "e578442f61f34f928036c0cad5d066b1",
       "version_major": 2,
       "version_minor": 0
      },
      "text/plain": [
       "  0%|          | 0/80 [00:00<?, ?it/s]"
      ]
     },
     "metadata": {},
     "output_type": "display_data"
    },
    {
     "name": "stdout",
     "output_type": "stream",
     "text": [
      "epoch: 105, train_acc: 0.9910888671875 , train_loss: 0.029490593394439202 , test_acc: 0.9931825059018886 , test_loss: 0.022663909010589123\n"
     ]
    },
    {
     "data": {
      "application/vnd.jupyter.widget-view+json": {
       "model_id": "85195303e0234aa1a9aa3e870cb5de60",
       "version_major": 2,
       "version_minor": 0
      },
      "text/plain": [
       "  0%|          | 0/80 [00:00<?, ?it/s]"
      ]
     },
     "metadata": {},
     "output_type": "display_data"
    },
    {
     "name": "stdout",
     "output_type": "stream",
     "text": [
      "epoch: 106, train_acc: 0.9983144722732844 , train_loss: 0.006434194349276367 , test_acc: 0.9968934434018886 , test_loss: 0.00989047553157434\n"
     ]
    },
    {
     "data": {
      "application/vnd.jupyter.widget-view+json": {
       "model_id": "58c34914ec7d440c9876d30ece5110e7",
       "version_major": 2,
       "version_minor": 0
      },
      "text/plain": [
       "  0%|          | 0/80 [00:00<?, ?it/s]"
      ]
     },
     "metadata": {},
     "output_type": "display_data"
    },
    {
     "name": "stdout",
     "output_type": "stream",
     "text": [
      "epoch: 107, train_acc: 0.99537353515625 , train_loss: 0.0158730672323145 , test_acc: 0.9938053302056659 , test_loss: 0.019220667704939843\n"
     ]
    },
    {
     "data": {
      "application/vnd.jupyter.widget-view+json": {
       "model_id": "ecb07813ebf84bf8a27ff8197c8738dc",
       "version_major": 2,
       "version_minor": 0
      },
      "text/plain": [
       "  0%|          | 0/80 [00:00<?, ?it/s]"
      ]
     },
     "metadata": {},
     "output_type": "display_data"
    },
    {
     "name": "stdout",
     "output_type": "stream",
     "text": [
      "epoch: 108, train_acc: 0.99879150390625 , train_loss: 0.00433295227248891 , test_acc: 0.9968966944422215 , test_loss: 0.010294368769973517\n"
     ]
    },
    {
     "data": {
      "application/vnd.jupyter.widget-view+json": {
       "model_id": "3da48db6df5a44788ea7b790a9eccace",
       "version_major": 2,
       "version_minor": 0
      },
      "text/plain": [
       "  0%|          | 0/80 [00:00<?, ?it/s]"
      ]
     },
     "metadata": {},
     "output_type": "display_data"
    },
    {
     "name": "stdout",
     "output_type": "stream",
     "text": [
      "epoch: 109, train_acc: 0.99949951171875 , train_loss: 0.002077725390699925 , test_acc: 0.998388671875 , test_loss: 0.00559184315497987\n"
     ]
    },
    {
     "data": {
      "application/vnd.jupyter.widget-view+json": {
       "model_id": "0b1b533f839d420f87d5c320a123c1fd",
       "version_major": 2,
       "version_minor": 0
      },
      "text/plain": [
       "  0%|          | 0/80 [00:00<?, ?it/s]"
      ]
     },
     "metadata": {},
     "output_type": "display_data"
    },
    {
     "name": "stdout",
     "output_type": "stream",
     "text": [
      "epoch: 110, train_acc: 0.99986572265625 , train_loss: 0.0006918577676515269 , test_acc: 0.9988617607634444 , test_loss: 0.00419015311927069\n"
     ]
    },
    {
     "data": {
      "application/vnd.jupyter.widget-view+json": {
       "model_id": "62452ae1b8854b1dbb51370aa558861c",
       "version_major": 2,
       "version_minor": 0
      },
      "text/plain": [
       "  0%|          | 0/80 [00:00<?, ?it/s]"
      ]
     },
     "metadata": {},
     "output_type": "display_data"
    },
    {
     "name": "stdout",
     "output_type": "stream",
     "text": [
      "epoch: 111, train_acc: 1.0 , train_loss: 0.0002474138663274061 , test_acc: 0.998876953125 , test_loss: 0.003977099941403139\n"
     ]
    },
    {
     "data": {
      "application/vnd.jupyter.widget-view+json": {
       "model_id": "c5fdc249ebe0414fb9eda648f026eed9",
       "version_major": 2,
       "version_minor": 0
      },
      "text/plain": [
       "  0%|          | 0/80 [00:00<?, ?it/s]"
      ]
     },
     "metadata": {},
     "output_type": "display_data"
    },
    {
     "name": "stdout",
     "output_type": "stream",
     "text": [
      "epoch: 112, train_acc: 1.0 , train_loss: 0.00014205374636730995 , test_acc: 0.998828125 , test_loss: 0.004262235565693118\n"
     ]
    },
    {
     "data": {
      "application/vnd.jupyter.widget-view+json": {
       "model_id": "58603ab35f6d41dc975cc27f006f1c27",
       "version_major": 2,
       "version_minor": 0
      },
      "text/plain": [
       "  0%|          | 0/80 [00:00<?, ?it/s]"
      ]
     },
     "metadata": {},
     "output_type": "display_data"
    },
    {
     "name": "stdout",
     "output_type": "stream",
     "text": [
      "epoch: 113, train_acc: 0.99989013671875 , train_loss: 0.0003463032755007589 , test_acc: 0.999072265625 , test_loss: 0.003845832927618176\n"
     ]
    },
    {
     "data": {
      "application/vnd.jupyter.widget-view+json": {
       "model_id": "93d9d5e4c0654d6bbe2c494443f2b0a7",
       "version_major": 2,
       "version_minor": 0
      },
      "text/plain": [
       "  0%|          | 0/80 [00:00<?, ?it/s]"
      ]
     },
     "metadata": {},
     "output_type": "display_data"
    },
    {
     "name": "stdout",
     "output_type": "stream",
     "text": [
      "epoch: 114, train_acc: 0.9999755859375 , train_loss: 0.00013127158136683192 , test_acc: 0.9990234375 , test_loss: 0.0040116267147823235\n"
     ]
    },
    {
     "data": {
      "application/vnd.jupyter.widget-view+json": {
       "model_id": "a48549d587ea43218615d66f54a71d62",
       "version_major": 2,
       "version_minor": 0
      },
      "text/plain": [
       "  0%|          | 0/80 [00:00<?, ?it/s]"
      ]
     },
     "metadata": {},
     "output_type": "display_data"
    },
    {
     "name": "stdout",
     "output_type": "stream",
     "text": [
      "epoch: 115, train_acc: 0.99993896484375 , train_loss: 0.00015927794515846472 , test_acc: 0.9990570732634444 , test_loss: 0.0038079845791799015\n"
     ]
    },
    {
     "data": {
      "application/vnd.jupyter.widget-view+json": {
       "model_id": "30ce524e4aa84f41a37e96e7e87951fd",
       "version_major": 2,
       "version_minor": 0
      },
      "text/plain": [
       "  0%|          | 0/80 [00:00<?, ?it/s]"
      ]
     },
     "metadata": {},
     "output_type": "display_data"
    },
    {
     "name": "stdout",
     "output_type": "stream",
     "text": [
      "epoch: 116, train_acc: 1.0 , train_loss: 4.061091891287561e-05 , test_acc: 0.9989105888884444 , test_loss: 0.00396324601242668\n"
     ]
    },
    {
     "data": {
      "application/vnd.jupyter.widget-view+json": {
       "model_id": "20d9f9c256f74867a085d884c713bee4",
       "version_major": 2,
       "version_minor": 0
      },
      "text/plain": [
       "  0%|          | 0/80 [00:00<?, ?it/s]"
      ]
     },
     "metadata": {},
     "output_type": "display_data"
    },
    {
     "name": "stdout",
     "output_type": "stream",
     "text": [
      "epoch: 117, train_acc: 1.0 , train_loss: 2.70577584046805e-05 , test_acc: 0.998880204165333 , test_loss: 0.004245350813653204\n"
     ]
    },
    {
     "data": {
      "application/vnd.jupyter.widget-view+json": {
       "model_id": "6440ef9dde5241cb924009b964f097a4",
       "version_major": 2,
       "version_minor": 0
      },
      "text/plain": [
       "  0%|          | 0/80 [00:00<?, ?it/s]"
      ]
     },
     "metadata": {},
     "output_type": "display_data"
    },
    {
     "name": "stdout",
     "output_type": "stream",
     "text": [
      "epoch: 118, train_acc: 1.0 , train_loss: 2.0709942810981373e-05 , test_acc: 0.998974609375 , test_loss: 0.00396723615413066\n"
     ]
    },
    {
     "data": {
      "application/vnd.jupyter.widget-view+json": {
       "model_id": "f766604e313043d5872ebf7b8aec2ef0",
       "version_major": 2,
       "version_minor": 0
      },
      "text/plain": [
       "  0%|          | 0/80 [00:00<?, ?it/s]"
      ]
     },
     "metadata": {},
     "output_type": "display_data"
    },
    {
     "name": "stdout",
     "output_type": "stream",
     "text": [
      "epoch: 119, train_acc: 1.0 , train_loss: 1.6939907834512268e-05 , test_acc: 0.998977860415333 , test_loss: 0.004247575667068304\n"
     ]
    },
    {
     "data": {
      "application/vnd.jupyter.widget-view+json": {
       "model_id": "db8971e3bb3e427db175b1539c176f35",
       "version_major": 2,
       "version_minor": 0
      },
      "text/plain": [
       "  0%|          | 0/80 [00:00<?, ?it/s]"
      ]
     },
     "metadata": {},
     "output_type": "display_data"
    },
    {
     "name": "stdout",
     "output_type": "stream",
     "text": [
      "epoch: 120, train_acc: 1.0 , train_loss: 1.4059635338981024e-05 , test_acc: 0.9989105888884444 , test_loss: 0.004082832014319138\n"
     ]
    },
    {
     "data": {
      "application/vnd.jupyter.widget-view+json": {
       "model_id": "652410be54bd4e55bcc504625a9d1800",
       "version_major": 2,
       "version_minor": 0
      },
      "text/plain": [
       "  0%|          | 0/80 [00:00<?, ?it/s]"
      ]
     },
     "metadata": {},
     "output_type": "display_data"
    },
    {
     "name": "stdout",
     "output_type": "stream",
     "text": [
      "epoch: 121, train_acc: 1.0 , train_loss: 1.1954389040624847e-05 , test_acc: 0.998828125 , test_loss: 0.004057456751252175\n"
     ]
    },
    {
     "data": {
      "application/vnd.jupyter.widget-view+json": {
       "model_id": "c605ea1e9a9845d58829636302889334",
       "version_major": 2,
       "version_minor": 0
      },
      "text/plain": [
       "  0%|          | 0/80 [00:00<?, ?it/s]"
      ]
     },
     "metadata": {},
     "output_type": "display_data"
    },
    {
     "name": "stdout",
     "output_type": "stream",
     "text": [
      "epoch: 122, train_acc: 1.0 , train_loss: 1.0176849394660792e-05 , test_acc: 0.998876953125 , test_loss: 0.0040696374424442185\n"
     ]
    },
    {
     "data": {
      "application/vnd.jupyter.widget-view+json": {
       "model_id": "c2dc37644fdd4398b8f9ee46950d4d6d",
       "version_major": 2,
       "version_minor": 0
      },
      "text/plain": [
       "  0%|          | 0/80 [00:00<?, ?it/s]"
      ]
     },
     "metadata": {},
     "output_type": "display_data"
    },
    {
     "name": "stdout",
     "output_type": "stream",
     "text": [
      "epoch: 123, train_acc: 1.0 , train_loss: 8.646751822993792e-06 , test_acc: 0.998876953125 , test_loss: 0.004224269895166799\n"
     ]
    },
    {
     "data": {
      "application/vnd.jupyter.widget-view+json": {
       "model_id": "287e5e0f6f764a04ab2bbb15ad292d9a",
       "version_major": 2,
       "version_minor": 0
      },
      "text/plain": [
       "  0%|          | 0/80 [00:00<?, ?it/s]"
      ]
     },
     "metadata": {},
     "output_type": "display_data"
    },
    {
     "name": "stdout",
     "output_type": "stream",
     "text": [
      "epoch: 124, train_acc: 1.0 , train_loss: 7.5251545041510324e-06 , test_acc: 0.998828125 , test_loss: 0.004178727430553408\n"
     ]
    },
    {
     "data": {
      "application/vnd.jupyter.widget-view+json": {
       "model_id": "7a460482397d4fc193a16b0895c01351",
       "version_major": 2,
       "version_minor": 0
      },
      "text/plain": [
       "  0%|          | 0/80 [00:00<?, ?it/s]"
      ]
     },
     "metadata": {},
     "output_type": "display_data"
    },
    {
     "name": "stdout",
     "output_type": "stream",
     "text": [
      "epoch: 125, train_acc: 1.0 , train_loss: 6.611797935818231e-06 , test_acc: 0.9989105888884444 , test_loss: 0.004219039679173875\n"
     ]
    },
    {
     "data": {
      "application/vnd.jupyter.widget-view+json": {
       "model_id": "ac5580084f9043b9afbabe522c67230d",
       "version_major": 2,
       "version_minor": 0
      },
      "text/plain": [
       "  0%|          | 0/80 [00:00<?, ?it/s]"
      ]
     },
     "metadata": {},
     "output_type": "display_data"
    },
    {
     "name": "stdout",
     "output_type": "stream",
     "text": [
      "epoch: 126, train_acc: 1.0 , train_loss: 5.654993735326741e-06 , test_acc: 0.9988617607634444 , test_loss: 0.004248205735711963\n"
     ]
    },
    {
     "data": {
      "application/vnd.jupyter.widget-view+json": {
       "model_id": "4c079595ef614ff09fac64d1e23c07c1",
       "version_major": 2,
       "version_minor": 0
      },
      "text/plain": [
       "  0%|          | 0/80 [00:00<?, ?it/s]"
      ]
     },
     "metadata": {},
     "output_type": "display_data"
    },
    {
     "name": "stdout",
     "output_type": "stream",
     "text": [
      "epoch: 127, train_acc: 1.0 , train_loss: 5.0414268555343256e-06 , test_acc: 0.998876953125 , test_loss: 0.004246256692204043\n"
     ]
    },
    {
     "data": {
      "application/vnd.jupyter.widget-view+json": {
       "model_id": "dd7ef3bfdda84e42b2fd325c479d3e19",
       "version_major": 2,
       "version_minor": 0
      },
      "text/plain": [
       "  0%|          | 0/80 [00:00<?, ?it/s]"
      ]
     },
     "metadata": {},
     "output_type": "display_data"
    },
    {
     "name": "stdout",
     "output_type": "stream",
     "text": [
      "epoch: 128, train_acc: 1.0 , train_loss: 4.5905173976734656e-06 , test_acc: 0.9988465684018886 , test_loss: 0.004414255295068869\n"
     ]
    },
    {
     "data": {
      "application/vnd.jupyter.widget-view+json": {
       "model_id": "c9810e9791224f1d89dc91fa51172d99",
       "version_major": 2,
       "version_minor": 0
      },
      "text/plain": [
       "  0%|          | 0/80 [00:00<?, ?it/s]"
      ]
     },
     "metadata": {},
     "output_type": "display_data"
    },
    {
     "name": "stdout",
     "output_type": "stream",
     "text": [
      "epoch: 129, train_acc: 1.0 , train_loss: 4.145857943882447e-06 , test_acc: 0.9988617607634444 , test_loss: 0.004368696275014372\n"
     ]
    },
    {
     "data": {
      "application/vnd.jupyter.widget-view+json": {
       "model_id": "8b68a9f0db1a4d8b9d9c479c9421a82b",
       "version_major": 2,
       "version_minor": 0
      },
      "text/plain": [
       "  0%|          | 0/80 [00:00<?, ?it/s]"
      ]
     },
     "metadata": {},
     "output_type": "display_data"
    },
    {
     "name": "stdout",
     "output_type": "stream",
     "text": [
      "epoch: 130, train_acc: 1.0 , train_loss: 3.684588853047899e-06 , test_acc: 0.998876953125 , test_loss: 0.004463849535386544\n"
     ]
    },
    {
     "data": {
      "application/vnd.jupyter.widget-view+json": {
       "model_id": "2d9d41aea7f5469888507d0a7d9545bb",
       "version_major": 2,
       "version_minor": 0
      },
      "text/plain": [
       "  0%|          | 0/80 [00:00<?, ?it/s]"
      ]
     },
     "metadata": {},
     "output_type": "display_data"
    },
    {
     "name": "stdout",
     "output_type": "stream",
     "text": [
      "epoch: 131, train_acc: 1.0 , train_loss: 3.3556730166139916e-06 , test_acc: 0.9988617607634444 , test_loss: 0.0046040739478485195\n"
     ]
    },
    {
     "data": {
      "application/vnd.jupyter.widget-view+json": {
       "model_id": "13ad030574bf4c9cbb4acd9ba3e6b3cb",
       "version_major": 2,
       "version_minor": 0
      },
      "text/plain": [
       "  0%|          | 0/80 [00:00<?, ?it/s]"
      ]
     },
     "metadata": {},
     "output_type": "display_data"
    },
    {
     "name": "stdout",
     "output_type": "stream",
     "text": [
      "epoch: 132, train_acc: 1.0 , train_loss: 3.0414329348360525e-06 , test_acc: 0.998876953125 , test_loss: 0.004441714964559651\n"
     ]
    },
    {
     "data": {
      "application/vnd.jupyter.widget-view+json": {
       "model_id": "65e998b684ed49eca3f265afb4a98c0a",
       "version_major": 2,
       "version_minor": 0
      },
      "text/plain": [
       "  0%|          | 0/80 [00:00<?, ?it/s]"
      ]
     },
     "metadata": {},
     "output_type": "display_data"
    },
    {
     "name": "stdout",
     "output_type": "stream",
     "text": [
      "epoch: 133, train_acc: 1.0 , train_loss: 2.8306552607659797e-06 , test_acc: 0.9988465684018886 , test_loss: 0.0046619742158327425\n"
     ]
    },
    {
     "data": {
      "application/vnd.jupyter.widget-view+json": {
       "model_id": "fb4cde9a45084882a2686d95ae968057",
       "version_major": 2,
       "version_minor": 0
      },
      "text/plain": [
       "  0%|          | 0/80 [00:00<?, ?it/s]"
      ]
     },
     "metadata": {},
     "output_type": "display_data"
    },
    {
     "name": "stdout",
     "output_type": "stream",
     "text": [
      "epoch: 134, train_acc: 1.0 , train_loss: 2.5864750206494593e-06 , test_acc: 0.9988617607634444 , test_loss: 0.004512606506614248\n"
     ]
    },
    {
     "data": {
      "application/vnd.jupyter.widget-view+json": {
       "model_id": "fdc9f82ea43d48e5965a176a2e7cbbfa",
       "version_major": 2,
       "version_minor": 0
      },
      "text/plain": [
       "  0%|          | 0/80 [00:00<?, ?it/s]"
      ]
     },
     "metadata": {},
     "output_type": "display_data"
    },
    {
     "name": "stdout",
     "output_type": "stream",
     "text": [
      "epoch: 135, train_acc: 1.0 , train_loss: 2.3885270515222603e-06 , test_acc: 0.99892578125 , test_loss: 0.0044779054986065605\n"
     ]
    },
    {
     "data": {
      "application/vnd.jupyter.widget-view+json": {
       "model_id": "c5a4808dcaec4717a431395a5770cbf5",
       "version_major": 2,
       "version_minor": 0
      },
      "text/plain": [
       "  0%|          | 0/80 [00:00<?, ?it/s]"
      ]
     },
     "metadata": {},
     "output_type": "display_data"
    },
    {
     "name": "stdout",
     "output_type": "stream",
     "text": [
      "epoch: 136, train_acc: 1.0 , train_loss: 2.2718541753619093e-06 , test_acc: 0.9989105888884444 , test_loss: 0.004587235928465816\n"
     ]
    },
    {
     "data": {
      "application/vnd.jupyter.widget-view+json": {
       "model_id": "272a828137df457ba3d5e4aa1d10ff31",
       "version_major": 2,
       "version_minor": 0
      },
      "text/plain": [
       "  0%|          | 0/80 [00:00<?, ?it/s]"
      ]
     },
     "metadata": {},
     "output_type": "display_data"
    },
    {
     "name": "stdout",
     "output_type": "stream",
     "text": [
      "epoch: 137, train_acc: 1.0 , train_loss: 2.030565473276624e-06 , test_acc: 0.9988465684018886 , test_loss: 0.0047771466977792445\n"
     ]
    },
    {
     "data": {
      "application/vnd.jupyter.widget-view+json": {
       "model_id": "9a95ac410387454d8f028f5e629ab741",
       "version_major": 2,
       "version_minor": 0
      },
      "text/plain": [
       "  0%|          | 0/80 [00:00<?, ?it/s]"
      ]
     },
     "metadata": {},
     "output_type": "display_data"
    },
    {
     "name": "stdout",
     "output_type": "stream",
     "text": [
      "epoch: 138, train_acc: 1.0 , train_loss: 1.8585548595240198e-06 , test_acc: 0.9989105888884444 , test_loss: 0.004660981003689812\n"
     ]
    },
    {
     "data": {
      "application/vnd.jupyter.widget-view+json": {
       "model_id": "068866f4549e40eab4756829a6fd5848",
       "version_major": 2,
       "version_minor": 0
      },
      "text/plain": [
       "  0%|          | 0/80 [00:00<?, ?it/s]"
      ]
     },
     "metadata": {},
     "output_type": "display_data"
    },
    {
     "name": "stdout",
     "output_type": "stream",
     "text": [
      "epoch: 139, train_acc: 1.0 , train_loss: 1.7326782202786716e-06 , test_acc: 0.998876953125 , test_loss: 0.004609711591183441\n"
     ]
    },
    {
     "data": {
      "application/vnd.jupyter.widget-view+json": {
       "model_id": "99c98cc926f2407bbc52eef3dc554ffc",
       "version_major": 2,
       "version_minor": 0
      },
      "text/plain": [
       "  0%|          | 0/80 [00:00<?, ?it/s]"
      ]
     },
     "metadata": {},
     "output_type": "display_data"
    },
    {
     "name": "stdout",
     "output_type": "stream",
     "text": [
      "epoch: 140, train_acc: 1.0 , train_loss: 1.597867715830148e-06 , test_acc: 0.998876953125 , test_loss: 0.004626200376014822\n"
     ]
    },
    {
     "data": {
      "application/vnd.jupyter.widget-view+json": {
       "model_id": "1e32413b963d41a3b65ed846e9ab66aa",
       "version_major": 2,
       "version_minor": 0
      },
      "text/plain": [
       "  0%|          | 0/80 [00:00<?, ?it/s]"
      ]
     },
     "metadata": {},
     "output_type": "display_data"
    },
    {
     "name": "stdout",
     "output_type": "stream",
     "text": [
      "epoch: 141, train_acc: 1.0 , train_loss: 1.485748228446937e-06 , test_acc: 0.9988953965268885 , test_loss: 0.004731009151646504\n"
     ]
    },
    {
     "data": {
      "application/vnd.jupyter.widget-view+json": {
       "model_id": "17a446fbeed54eae94354d09a0b46b8b",
       "version_major": 2,
       "version_minor": 0
      },
      "text/plain": [
       "  0%|          | 0/80 [00:00<?, ?it/s]"
      ]
     },
     "metadata": {},
     "output_type": "display_data"
    },
    {
     "name": "stdout",
     "output_type": "stream",
     "text": [
      "epoch: 142, train_acc: 1.0 , train_loss: 1.3434074316087673e-06 , test_acc: 0.9988313760403329 , test_loss: 0.0047580705345353635\n"
     ]
    },
    {
     "data": {
      "application/vnd.jupyter.widget-view+json": {
       "model_id": "edf7b812a2514be99d1bb94237252303",
       "version_major": 2,
       "version_minor": 0
      },
      "text/plain": [
       "  0%|          | 0/80 [00:00<?, ?it/s]"
      ]
     },
     "metadata": {},
     "output_type": "display_data"
    },
    {
     "name": "stdout",
     "output_type": "stream",
     "text": [
      "epoch: 143, train_acc: 1.0 , train_loss: 1.2480315790597273e-06 , test_acc: 0.99892578125 , test_loss: 0.004635191429770202\n"
     ]
    },
    {
     "data": {
      "application/vnd.jupyter.widget-view+json": {
       "model_id": "f47456a3a43d4eb4b294d398ef73121b",
       "version_major": 2,
       "version_minor": 0
      },
      "text/plain": [
       "  0%|          | 0/80 [00:00<?, ?it/s]"
      ]
     },
     "metadata": {},
     "output_type": "display_data"
    },
    {
     "name": "stdout",
     "output_type": "stream",
     "text": [
      "epoch: 144, train_acc: 1.0 , train_loss: 1.1685945256800777e-06 , test_acc: 0.998876953125 , test_loss: 0.0046628983396658445\n"
     ]
    },
    {
     "data": {
      "application/vnd.jupyter.widget-view+json": {
       "model_id": "a0e69c88f8534f779691d52f8afeab57",
       "version_major": 2,
       "version_minor": 0
      },
      "text/plain": [
       "  0%|          | 0/80 [00:00<?, ?it/s]"
      ]
     },
     "metadata": {},
     "output_type": "display_data"
    },
    {
     "name": "stdout",
     "output_type": "stream",
     "text": [
      "epoch: 145, train_acc: 1.0 , train_loss: 1.0726828334917115e-06 , test_acc: 0.9988465684018886 , test_loss: 0.004755059614399215\n"
     ]
    },
    {
     "data": {
      "application/vnd.jupyter.widget-view+json": {
       "model_id": "2e353b26c4d84b0caa6d78fca09242f3",
       "version_major": 2,
       "version_minor": 0
      },
      "text/plain": [
       "  0%|          | 0/80 [00:00<?, ?it/s]"
      ]
     },
     "metadata": {},
     "output_type": "display_data"
    },
    {
     "name": "stdout",
     "output_type": "stream",
     "text": [
      "epoch: 146, train_acc: 1.0 , train_loss: 1.0066481424431117e-06 , test_acc: 0.998876953125 , test_loss: 0.004714493261235475\n"
     ]
    },
    {
     "data": {
      "application/vnd.jupyter.widget-view+json": {
       "model_id": "c3c1b67aeed64d9192377f6442ea9912",
       "version_major": 2,
       "version_minor": 0
      },
      "text/plain": [
       "  0%|          | 0/80 [00:00<?, ?it/s]"
      ]
     },
     "metadata": {},
     "output_type": "display_data"
    },
    {
     "name": "stdout",
     "output_type": "stream",
     "text": [
      "epoch: 147, train_acc: 1.0 , train_loss: 9.437276975887698e-07 , test_acc: 0.9988617607634444 , test_loss: 0.004715852677691146\n"
     ]
    },
    {
     "data": {
      "application/vnd.jupyter.widget-view+json": {
       "model_id": "2196a8057f33466db411779a77a6a840",
       "version_major": 2,
       "version_minor": 0
      },
      "text/plain": [
       "  0%|          | 0/80 [00:00<?, ?it/s]"
      ]
     },
     "metadata": {},
     "output_type": "display_data"
    },
    {
     "name": "stdout",
     "output_type": "stream",
     "text": [
      "epoch: 148, train_acc: 1.0 , train_loss: 8.943083614099123e-07 , test_acc: 0.9988498194422215 , test_loss: 0.004991016742496868\n"
     ]
    },
    {
     "data": {
      "application/vnd.jupyter.widget-view+json": {
       "model_id": "c1a45378eb624348b77534954338bb2b",
       "version_major": 2,
       "version_minor": 0
      },
      "text/plain": [
       "  0%|          | 0/80 [00:00<?, ?it/s]"
      ]
     },
     "metadata": {},
     "output_type": "display_data"
    },
    {
     "name": "stdout",
     "output_type": "stream",
     "text": [
      "epoch: 149, train_acc: 1.0 , train_loss: 8.1749687605992e-07 , test_acc: 0.99892578125 , test_loss: 0.004693136030391542\n"
     ]
    },
    {
     "data": {
      "application/vnd.jupyter.widget-view+json": {
       "model_id": "d34302c72ad04ff7854f8eab8fcf4555",
       "version_major": 2,
       "version_minor": 0
      },
      "text/plain": [
       "  0%|          | 0/80 [00:00<?, ?it/s]"
      ]
     },
     "metadata": {},
     "output_type": "display_data"
    },
    {
     "name": "stdout",
     "output_type": "stream",
     "text": [
      "epoch: 150, train_acc: 1.0 , train_loss: 7.776140980908508e-07 , test_acc: 0.9988465684018886 , test_loss: 0.004818934359809646\n"
     ]
    },
    {
     "data": {
      "application/vnd.jupyter.widget-view+json": {
       "model_id": "c92d7980dfb948f887b07e6af9a63cfa",
       "version_major": 2,
       "version_minor": 0
      },
      "text/plain": [
       "  0%|          | 0/80 [00:00<?, ?it/s]"
      ]
     },
     "metadata": {},
     "output_type": "display_data"
    },
    {
     "name": "stdout",
     "output_type": "stream",
     "text": [
      "epoch: 151, train_acc: 1.0 , train_loss: 7.069932706826876e-07 , test_acc: 0.998974609375 , test_loss: 0.00468128695483756\n"
     ]
    },
    {
     "data": {
      "application/vnd.jupyter.widget-view+json": {
       "model_id": "bc6231f1ed1241979f7b7dd39bfb8271",
       "version_major": 2,
       "version_minor": 0
      },
      "text/plain": [
       "  0%|          | 0/80 [00:00<?, ?it/s]"
      ]
     },
     "metadata": {},
     "output_type": "display_data"
    },
    {
     "name": "stdout",
     "output_type": "stream",
     "text": [
      "epoch: 152, train_acc: 1.0 , train_loss: 6.589913777332867e-07 , test_acc: 0.9989930527768885 , test_loss: 0.0047606945976440326\n"
     ]
    },
    {
     "data": {
      "application/vnd.jupyter.widget-view+json": {
       "model_id": "40ededc2b9424741b1a79e7845297ad7",
       "version_major": 2,
       "version_minor": 0
      },
      "text/plain": [
       "  0%|          | 0/80 [00:00<?, ?it/s]"
      ]
     },
     "metadata": {},
     "output_type": "display_data"
    },
    {
     "name": "stdout",
     "output_type": "stream",
     "text": [
      "epoch: 153, train_acc: 1.0 , train_loss: 6.183566838124932e-07 , test_acc: 0.998876953125 , test_loss: 0.004846636390857384\n"
     ]
    },
    {
     "data": {
      "application/vnd.jupyter.widget-view+json": {
       "model_id": "65f40ec9e5ab48e8904bde6fd3cf33ec",
       "version_major": 2,
       "version_minor": 0
      },
      "text/plain": [
       "  0%|          | 0/80 [00:00<?, ?it/s]"
      ]
     },
     "metadata": {},
     "output_type": "display_data"
    },
    {
     "name": "stdout",
     "output_type": "stream",
     "text": [
      "epoch: 154, train_acc: 1.0 , train_loss: 5.761543731441776e-07 , test_acc: 0.998876953125 , test_loss: 0.004877691132060135\n"
     ]
    },
    {
     "data": {
      "application/vnd.jupyter.widget-view+json": {
       "model_id": "71406b47abd94669a6b103bdf3aae6b9",
       "version_major": 2,
       "version_minor": 0
      },
      "text/plain": [
       "  0%|          | 0/80 [00:00<?, ?it/s]"
      ]
     },
     "metadata": {},
     "output_type": "display_data"
    },
    {
     "name": "stdout",
     "output_type": "stream",
     "text": [
      "epoch: 155, train_acc: 1.0 , train_loss: 5.403693887906513e-07 , test_acc: 0.9989594170134444 , test_loss: 0.004752210709921201\n"
     ]
    },
    {
     "data": {
      "application/vnd.jupyter.widget-view+json": {
       "model_id": "db28f08715544b258f5fcf1653a8c7d8",
       "version_major": 2,
       "version_minor": 0
      },
      "text/plain": [
       "  0%|          | 0/80 [00:00<?, ?it/s]"
      ]
     },
     "metadata": {},
     "output_type": "display_data"
    },
    {
     "name": "stdout",
     "output_type": "stream",
     "text": [
      "epoch: 156, train_acc: 1.0 , train_loss: 5.101943031160516e-07 , test_acc: 0.9989594170134444 , test_loss: 0.00502342333852539\n"
     ]
    },
    {
     "data": {
      "application/vnd.jupyter.widget-view+json": {
       "model_id": "86c90c97ffdc414abbb6da670616ff22",
       "version_major": 2,
       "version_minor": 0
      },
      "text/plain": [
       "  0%|          | 0/80 [00:00<?, ?it/s]"
      ]
     },
     "metadata": {},
     "output_type": "display_data"
    },
    {
     "name": "stdout",
     "output_type": "stream",
     "text": [
      "epoch: 157, train_acc: 1.0 , train_loss: 4.937086828249448e-07 , test_acc: 0.9988617607634444 , test_loss: 0.00487440201723075\n"
     ]
    },
    {
     "data": {
      "application/vnd.jupyter.widget-view+json": {
       "model_id": "09de0d9f61d34bcca0e2e509a5769e7e",
       "version_major": 2,
       "version_minor": 0
      },
      "text/plain": [
       "  0%|          | 0/80 [00:00<?, ?it/s]"
      ]
     },
     "metadata": {},
     "output_type": "display_data"
    },
    {
     "name": "stdout",
     "output_type": "stream",
     "text": [
      "epoch: 158, train_acc: 1.0 , train_loss: 4.578404692701099e-07 , test_acc: 0.9988617607634444 , test_loss: 0.004889033583094715\n"
     ]
    },
    {
     "data": {
      "application/vnd.jupyter.widget-view+json": {
       "model_id": "ffed798fc6cd4292a341b0d646b4b78b",
       "version_major": 2,
       "version_minor": 0
      },
      "text/plain": [
       "  0%|          | 0/80 [00:00<?, ?it/s]"
      ]
     },
     "metadata": {},
     "output_type": "display_data"
    },
    {
     "name": "stdout",
     "output_type": "stream",
     "text": [
      "epoch: 159, train_acc: 1.0 , train_loss: 4.4103047622812144e-07 , test_acc: 0.9988465684018886 , test_loss: 0.004915076876704916\n"
     ]
    },
    {
     "data": {
      "application/vnd.jupyter.widget-view+json": {
       "model_id": "aac4a221fbce4bd085543806242d2bdc",
       "version_major": 2,
       "version_minor": 0
      },
      "text/plain": [
       "  0%|          | 0/80 [00:00<?, ?it/s]"
      ]
     },
     "metadata": {},
     "output_type": "display_data"
    },
    {
     "name": "stdout",
     "output_type": "stream",
     "text": [
      "epoch: 160, train_acc: 1.0 , train_loss: 4.0784970156693134e-07 , test_acc: 0.998876953125 , test_loss: 0.004861827867125612\n"
     ]
    },
    {
     "data": {
      "application/vnd.jupyter.widget-view+json": {
       "model_id": "337ecf80cfef47579f4344a505b53017",
       "version_major": 2,
       "version_minor": 0
      },
      "text/plain": [
       "  0%|          | 0/80 [00:00<?, ?it/s]"
      ]
     },
     "metadata": {},
     "output_type": "display_data"
    },
    {
     "name": "stdout",
     "output_type": "stream",
     "text": [
      "epoch: 161, train_acc: 1.0 , train_loss: 3.8311336902907556e-07 , test_acc: 0.9988465684018886 , test_loss: 0.004895584607220371\n"
     ]
    },
    {
     "data": {
      "application/vnd.jupyter.widget-view+json": {
       "model_id": "0896ed5a6d164eeba0c944830f1825a8",
       "version_major": 2,
       "version_minor": 0
      },
      "text/plain": [
       "  0%|          | 0/80 [00:00<?, ?it/s]"
      ]
     },
     "metadata": {},
     "output_type": "display_data"
    },
    {
     "name": "stdout",
     "output_type": "stream",
     "text": [
      "epoch: 162, train_acc: 1.0 , train_loss: 3.5840999164094e-07 , test_acc: 0.9988617607634444 , test_loss: 0.004853697095131793\n"
     ]
    },
    {
     "data": {
      "application/vnd.jupyter.widget-view+json": {
       "model_id": "a1e785d98edc4840aa1493b4fa3c076b",
       "version_major": 2,
       "version_minor": 0
      },
      "text/plain": [
       "  0%|          | 0/80 [00:00<?, ?it/s]"
      ]
     },
     "metadata": {},
     "output_type": "display_data"
    },
    {
     "name": "stdout",
     "output_type": "stream",
     "text": [
      "epoch: 163, train_acc: 1.0 , train_loss: 3.403277018421136e-07 , test_acc: 0.9988617607634444 , test_loss: 0.004863759360796393\n"
     ]
    },
    {
     "data": {
      "application/vnd.jupyter.widget-view+json": {
       "model_id": "8124f1d477684abbab6dd3b17766d58a",
       "version_major": 2,
       "version_minor": 0
      },
      "text/plain": [
       "  0%|          | 0/80 [00:00<?, ?it/s]"
      ]
     },
     "metadata": {},
     "output_type": "display_data"
    },
    {
     "name": "stdout",
     "output_type": "stream",
     "text": [
      "epoch: 164, train_acc: 1.0 , train_loss: 3.2085509700241487e-07 , test_acc: 0.9988617607634444 , test_loss: 0.004881539299663018\n"
     ]
    },
    {
     "data": {
      "application/vnd.jupyter.widget-view+json": {
       "model_id": "43a3ca65c2314289a1ef4bee80dc69f7",
       "version_major": 2,
       "version_minor": 0
      },
      "text/plain": [
       "  0%|          | 0/80 [00:00<?, ?it/s]"
      ]
     },
     "metadata": {},
     "output_type": "display_data"
    },
    {
     "name": "stdout",
     "output_type": "stream",
     "text": [
      "epoch: 165, train_acc: 1.0 , train_loss: 3.0615803838784925e-07 , test_acc: 0.9988465684018886 , test_loss: 0.004956129692254762\n"
     ]
    },
    {
     "data": {
      "application/vnd.jupyter.widget-view+json": {
       "model_id": "08d391373b20429abc6cbd9ff3b5efd0",
       "version_major": 2,
       "version_minor": 0
      },
      "text/plain": [
       "  0%|          | 0/80 [00:00<?, ?it/s]"
      ]
     },
     "metadata": {},
     "output_type": "display_data"
    },
    {
     "name": "stdout",
     "output_type": "stream",
     "text": [
      "epoch: 166, train_acc: 1.0 , train_loss: 2.8831728973166546e-07 , test_acc: 0.998828125 , test_loss: 0.004813095852023252\n"
     ]
    },
    {
     "data": {
      "application/vnd.jupyter.widget-view+json": {
       "model_id": "7cb205ff898745d9b262c8e380663a34",
       "version_major": 2,
       "version_minor": 0
      },
      "text/plain": [
       "  0%|          | 0/80 [00:00<?, ?it/s]"
      ]
     },
     "metadata": {},
     "output_type": "display_data"
    },
    {
     "name": "stdout",
     "output_type": "stream",
     "text": [
      "epoch: 167, train_acc: 1.0 , train_loss: 2.7425454764973265e-07 , test_acc: 0.998876953125 , test_loss: 0.00485313461063015\n"
     ]
    },
    {
     "data": {
      "application/vnd.jupyter.widget-view+json": {
       "model_id": "5c3e4f594f454a8997ef29f954b0c9e1",
       "version_major": 2,
       "version_minor": 0
      },
      "text/plain": [
       "  0%|          | 0/80 [00:00<?, ?it/s]"
      ]
     },
     "metadata": {},
     "output_type": "display_data"
    },
    {
     "name": "stdout",
     "output_type": "stream",
     "text": [
      "epoch: 168, train_acc: 1.0 , train_loss: 2.6043357621574613e-07 , test_acc: 0.998876953125 , test_loss: 0.004895195918106765\n"
     ]
    },
    {
     "data": {
      "application/vnd.jupyter.widget-view+json": {
       "model_id": "7ecbd90974004150817acd9103200283",
       "version_major": 2,
       "version_minor": 0
      },
      "text/plain": [
       "  0%|          | 0/80 [00:00<?, ?it/s]"
      ]
     },
     "metadata": {},
     "output_type": "display_data"
    },
    {
     "name": "stdout",
     "output_type": "stream",
     "text": [
      "epoch: 169, train_acc: 1.0 , train_loss: 2.4584903579594197e-07 , test_acc: 0.9989105888884444 , test_loss: 0.004914816951350076\n"
     ]
    },
    {
     "data": {
      "application/vnd.jupyter.widget-view+json": {
       "model_id": "fb46fd962c864cb58d48835453321659",
       "version_major": 2,
       "version_minor": 0
      },
      "text/plain": [
       "  0%|          | 0/80 [00:00<?, ?it/s]"
      ]
     },
     "metadata": {},
     "output_type": "display_data"
    },
    {
     "name": "stdout",
     "output_type": "stream",
     "text": [
      "epoch: 170, train_acc: 1.0 , train_loss: 2.3750620288254253e-07 , test_acc: 0.99892578125 , test_loss: 0.004866382424756921\n"
     ]
    },
    {
     "data": {
      "application/vnd.jupyter.widget-view+json": {
       "model_id": "3971a70425b84ff2b7775f183e73cc66",
       "version_major": 2,
       "version_minor": 0
      },
      "text/plain": [
       "  0%|          | 0/80 [00:00<?, ?it/s]"
      ]
     },
     "metadata": {},
     "output_type": "display_data"
    },
    {
     "name": "stdout",
     "output_type": "stream",
     "text": [
      "epoch: 171, train_acc: 1.0 , train_loss: 2.1944311909827263e-07 , test_acc: 0.99892578125 , test_loss: 0.004988440591841936\n"
     ]
    },
    {
     "data": {
      "application/vnd.jupyter.widget-view+json": {
       "model_id": "6fb4a795a4b8479f9fbc77ab52eb11d5",
       "version_major": 2,
       "version_minor": 0
      },
      "text/plain": [
       "  0%|          | 0/80 [00:00<?, ?it/s]"
      ]
     },
     "metadata": {},
     "output_type": "display_data"
    },
    {
     "name": "stdout",
     "output_type": "stream",
     "text": [
      "epoch: 172, train_acc: 1.0 , train_loss: 2.0885923421865015e-07 , test_acc: 0.99892578125 , test_loss: 0.0049936368189491985\n"
     ]
    },
    {
     "data": {
      "application/vnd.jupyter.widget-view+json": {
       "model_id": "7a11fadd9319489c9b3939c9f760712a",
       "version_major": 2,
       "version_minor": 0
      },
      "text/plain": [
       "  0%|          | 0/80 [00:00<?, ?it/s]"
      ]
     },
     "metadata": {},
     "output_type": "display_data"
    },
    {
     "name": "stdout",
     "output_type": "stream",
     "text": [
      "epoch: 173, train_acc: 1.0 , train_loss: 1.9805215978330182e-07 , test_acc: 0.998974609375 , test_loss: 0.0049748127903512795\n"
     ]
    },
    {
     "data": {
      "application/vnd.jupyter.widget-view+json": {
       "model_id": "8224fc6c0ad44fb2a614e6b7c6f1ac9f",
       "version_major": 2,
       "version_minor": 0
      },
      "text/plain": [
       "  0%|          | 0/80 [00:00<?, ?it/s]"
      ]
     },
     "metadata": {},
     "output_type": "display_data"
    },
    {
     "name": "stdout",
     "output_type": "stream",
     "text": [
      "epoch: 174, train_acc: 1.0 , train_loss: 1.9241649078516333e-07 , test_acc: 0.998974609375 , test_loss: 0.0049901513834697655\n"
     ]
    },
    {
     "data": {
      "application/vnd.jupyter.widget-view+json": {
       "model_id": "2d3ffde19de349b9ae5442681c9413c8",
       "version_major": 2,
       "version_minor": 0
      },
      "text/plain": [
       "  0%|          | 0/80 [00:00<?, ?it/s]"
      ]
     },
     "metadata": {},
     "output_type": "display_data"
    },
    {
     "name": "stdout",
     "output_type": "stream",
     "text": [
      "epoch: 175, train_acc: 1.0 , train_loss: 1.7928553819324122e-07 , test_acc: 0.9989105888884444 , test_loss: 0.005044420613376133\n"
     ]
    },
    {
     "data": {
      "application/vnd.jupyter.widget-view+json": {
       "model_id": "1e0576d6f8074779a46bd1c2726fd818",
       "version_major": 2,
       "version_minor": 0
      },
      "text/plain": [
       "  0%|          | 0/80 [00:00<?, ?it/s]"
      ]
     },
     "metadata": {},
     "output_type": "display_data"
    },
    {
     "name": "stdout",
     "output_type": "stream",
     "text": [
      "epoch: 176, train_acc: 1.0 , train_loss: 1.7191241368230693e-07 , test_acc: 0.99892578125 , test_loss: 0.004976492985929326\n"
     ]
    },
    {
     "data": {
      "application/vnd.jupyter.widget-view+json": {
       "model_id": "cd6d0211b05540e98b0381724463f15a",
       "version_major": 2,
       "version_minor": 0
      },
      "text/plain": [
       "  0%|          | 0/80 [00:00<?, ?it/s]"
      ]
     },
     "metadata": {},
     "output_type": "display_data"
    },
    {
     "name": "stdout",
     "output_type": "stream",
     "text": [
      "epoch: 177, train_acc: 1.0 , train_loss: 1.606422704192312e-07 , test_acc: 0.9989290322903329 , test_loss: 0.005205013667546154\n"
     ]
    },
    {
     "data": {
      "application/vnd.jupyter.widget-view+json": {
       "model_id": "c16014ea4c0d4ff083a035bdf9cfc151",
       "version_major": 2,
       "version_minor": 0
      },
      "text/plain": [
       "  0%|          | 0/80 [00:00<?, ?it/s]"
      ]
     },
     "metadata": {},
     "output_type": "display_data"
    },
    {
     "name": "stdout",
     "output_type": "stream",
     "text": [
      "epoch: 178, train_acc: 1.0 , train_loss: 1.5471842336189922e-07 , test_acc: 0.9988617607634444 , test_loss: 0.005071148418028315\n"
     ]
    },
    {
     "data": {
      "application/vnd.jupyter.widget-view+json": {
       "model_id": "cbd5777fe3b54a188d827edf45801e8d",
       "version_major": 2,
       "version_minor": 0
      },
      "text/plain": [
       "  0%|          | 0/80 [00:00<?, ?it/s]"
      ]
     },
     "metadata": {},
     "output_type": "display_data"
    },
    {
     "name": "stdout",
     "output_type": "stream",
     "text": [
      "epoch: 179, train_acc: 1.0 , train_loss: 1.4873515516988788e-07 , test_acc: 0.99892578125 , test_loss: 0.005054385914445447\n"
     ]
    },
    {
     "data": {
      "application/vnd.jupyter.widget-view+json": {
       "model_id": "dff825fba860481187a9cb7983febeff",
       "version_major": 2,
       "version_minor": 0
      },
      "text/plain": [
       "  0%|          | 0/80 [00:00<?, ?it/s]"
      ]
     },
     "metadata": {},
     "output_type": "display_data"
    },
    {
     "name": "stdout",
     "output_type": "stream",
     "text": [
      "epoch: 180, train_acc: 1.0 , train_loss: 1.512142900672586e-07 , test_acc: 0.99892578125 , test_loss: 0.005031514404697646\n"
     ]
    },
    {
     "data": {
      "application/vnd.jupyter.widget-view+json": {
       "model_id": "0987ab94ae1a4baf938abefc5e5a72c1",
       "version_major": 2,
       "version_minor": 0
      },
      "text/plain": [
       "  0%|          | 0/80 [00:00<?, ?it/s]"
      ]
     },
     "metadata": {},
     "output_type": "display_data"
    },
    {
     "name": "stdout",
     "output_type": "stream",
     "text": [
      "epoch: 181, train_acc: 1.0 , train_loss: 1.327329065325955e-07 , test_acc: 0.9989930527768885 , test_loss: 0.005125258691987255\n"
     ]
    },
    {
     "data": {
      "application/vnd.jupyter.widget-view+json": {
       "model_id": "8f5cf9f1d76545df854268e2762ca5d4",
       "version_major": 2,
       "version_minor": 0
      },
      "text/plain": [
       "  0%|          | 0/80 [00:00<?, ?it/s]"
      ]
     },
     "metadata": {},
     "output_type": "display_data"
    },
    {
     "name": "stdout",
     "output_type": "stream",
     "text": [
      "epoch: 182, train_acc: 1.0 , train_loss: 1.2495176124893703e-07 , test_acc: 0.99892578125 , test_loss: 0.005075943946576444\n"
     ]
    },
    {
     "data": {
      "application/vnd.jupyter.widget-view+json": {
       "model_id": "f5687f74342d4d68995eda6ae3fd2297",
       "version_major": 2,
       "version_minor": 0
      },
      "text/plain": [
       "  0%|          | 0/80 [00:00<?, ?it/s]"
      ]
     },
     "metadata": {},
     "output_type": "display_data"
    },
    {
     "name": "stdout",
     "output_type": "stream",
     "text": [
      "epoch: 183, train_acc: 1.0 , train_loss: 1.1820471481627238e-07 , test_acc: 0.9990082451384443 , test_loss: 0.005203159965577697\n"
     ]
    },
    {
     "data": {
      "application/vnd.jupyter.widget-view+json": {
       "model_id": "2f8763cfa9444440b4de7a949a68984f",
       "version_major": 2,
       "version_minor": 0
      },
      "text/plain": [
       "  0%|          | 0/80 [00:00<?, ?it/s]"
      ]
     },
     "metadata": {},
     "output_type": "display_data"
    },
    {
     "name": "stdout",
     "output_type": "stream",
     "text": [
      "epoch: 184, train_acc: 1.0 , train_loss: 1.1278578024853658e-07 , test_acc: 0.9989594170134444 , test_loss: 0.005186843535557273\n"
     ]
    },
    {
     "data": {
      "application/vnd.jupyter.widget-view+json": {
       "model_id": "3b6612d8a45b42ed883a5ed08dcab108",
       "version_major": 2,
       "version_minor": 0
      },
      "text/plain": [
       "  0%|          | 0/80 [00:00<?, ?it/s]"
      ]
     },
     "metadata": {},
     "output_type": "display_data"
    },
    {
     "name": "stdout",
     "output_type": "stream",
     "text": [
      "epoch: 185, train_acc: 1.0 , train_loss: 1.0571770077127951e-07 , test_acc: 0.9990234375 , test_loss: 0.00511903058900316\n"
     ]
    },
    {
     "data": {
      "application/vnd.jupyter.widget-view+json": {
       "model_id": "06d66cb00fab48c8a20266beec992161",
       "version_major": 2,
       "version_minor": 0
      },
      "text/plain": [
       "  0%|          | 0/80 [00:00<?, ?it/s]"
      ]
     },
     "metadata": {},
     "output_type": "display_data"
    },
    {
     "name": "stdout",
     "output_type": "stream",
     "text": [
      "epoch: 186, train_acc: 1.0 , train_loss: 1.0081974326503484e-07 , test_acc: 0.9990234375 , test_loss: 0.005151713892519183\n"
     ]
    },
    {
     "data": {
      "application/vnd.jupyter.widget-view+json": {
       "model_id": "a98d8821c1504a448295c9cea46ad711",
       "version_major": 2,
       "version_minor": 0
      },
      "text/plain": [
       "  0%|          | 0/80 [00:00<?, ?it/s]"
      ]
     },
     "metadata": {},
     "output_type": "display_data"
    },
    {
     "name": "stdout",
     "output_type": "stream",
     "text": [
      "epoch: 187, train_acc: 1.0 , train_loss: 9.686660871199848e-08 , test_acc: 0.9989105888884444 , test_loss: 0.005230518342148116\n"
     ]
    },
    {
     "data": {
      "application/vnd.jupyter.widget-view+json": {
       "model_id": "532d6ef2dd1c49178851909e32610644",
       "version_major": 2,
       "version_minor": 0
      },
      "text/plain": [
       "  0%|          | 0/80 [00:00<?, ?it/s]"
      ]
     },
     "metadata": {},
     "output_type": "display_data"
    },
    {
     "name": "stdout",
     "output_type": "stream",
     "text": [
      "epoch: 188, train_acc: 1.0 , train_loss: 9.228971002972486e-08 , test_acc: 0.9990234375 , test_loss: 0.005114206940743315\n"
     ]
    },
    {
     "data": {
      "application/vnd.jupyter.widget-view+json": {
       "model_id": "b8e6daa111a847a8bf5ccaaedfd725e3",
       "version_major": 2,
       "version_minor": 0
      },
      "text/plain": [
       "  0%|          | 0/80 [00:00<?, ?it/s]"
      ]
     },
     "metadata": {},
     "output_type": "display_data"
    },
    {
     "name": "stdout",
     "output_type": "stream",
     "text": [
      "epoch: 189, train_acc: 1.0 , train_loss: 8.750783551114693e-08 , test_acc: 0.9989594170134444 , test_loss: 0.005218713641033901\n"
     ]
    },
    {
     "data": {
      "application/vnd.jupyter.widget-view+json": {
       "model_id": "1fd39020672245f5922a1a46b2ae933a",
       "version_major": 2,
       "version_minor": 0
      },
      "text/plain": [
       "  0%|          | 0/80 [00:00<?, ?it/s]"
      ]
     },
     "metadata": {},
     "output_type": "display_data"
    },
    {
     "name": "stdout",
     "output_type": "stream",
     "text": [
      "epoch: 190, train_acc: 1.0 , train_loss: 8.280122931747513e-08 , test_acc: 0.998974609375 , test_loss: 0.0051686715210848885\n"
     ]
    },
    {
     "data": {
      "application/vnd.jupyter.widget-view+json": {
       "model_id": "3eae810d0770488190a1203fc2dc241b",
       "version_major": 2,
       "version_minor": 0
      },
      "text/plain": [
       "  0%|          | 0/80 [00:00<?, ?it/s]"
      ]
     },
     "metadata": {},
     "output_type": "display_data"
    },
    {
     "name": "stdout",
     "output_type": "stream",
     "text": [
      "epoch: 191, train_acc: 1.0 , train_loss: 8.167141096748765e-08 , test_acc: 0.9989290322903329 , test_loss: 0.005388125991703419\n"
     ]
    },
    {
     "data": {
      "application/vnd.jupyter.widget-view+json": {
       "model_id": "db7cdfbbeafb4936b69a422524a884a5",
       "version_major": 2,
       "version_minor": 0
      },
      "text/plain": [
       "  0%|          | 0/80 [00:00<?, ?it/s]"
      ]
     },
     "metadata": {},
     "output_type": "display_data"
    },
    {
     "name": "stdout",
     "output_type": "stream",
     "text": [
      "epoch: 192, train_acc: 1.0 , train_loss: 7.525330860680413e-08 , test_acc: 0.9990234375 , test_loss: 0.005190389774668347\n"
     ]
    },
    {
     "data": {
      "application/vnd.jupyter.widget-view+json": {
       "model_id": "ad0dd72744564f84b6397dd0dca53bd9",
       "version_major": 2,
       "version_minor": 0
      },
      "text/plain": [
       "  0%|          | 0/80 [00:00<?, ?it/s]"
      ]
     },
     "metadata": {},
     "output_type": "display_data"
    },
    {
     "name": "stdout",
     "output_type": "stream",
     "text": [
      "epoch: 193, train_acc: 1.0 , train_loss: 7.279551559324914e-08 , test_acc: 0.9989105888884444 , test_loss: 0.005293025582068367\n"
     ]
    },
    {
     "data": {
      "application/vnd.jupyter.widget-view+json": {
       "model_id": "705019d36c4a483cba9e9b38de25d412",
       "version_major": 2,
       "version_minor": 0
      },
      "text/plain": [
       "  0%|          | 0/80 [00:00<?, ?it/s]"
      ]
     },
     "metadata": {},
     "output_type": "display_data"
    },
    {
     "name": "stdout",
     "output_type": "stream",
     "text": [
      "epoch: 194, train_acc: 1.0 , train_loss: 6.701097853833993e-08 , test_acc: 0.99892578125 , test_loss: 0.005229282105665334\n"
     ]
    },
    {
     "data": {
      "application/vnd.jupyter.widget-view+json": {
       "model_id": "3580c32da23c40a09197511fc66995a6",
       "version_major": 2,
       "version_minor": 0
      },
      "text/plain": [
       "  0%|          | 0/80 [00:00<?, ?it/s]"
      ]
     },
     "metadata": {},
     "output_type": "display_data"
    },
    {
     "name": "stdout",
     "output_type": "stream",
     "text": [
      "epoch: 195, train_acc: 1.0 , train_loss: 6.492966053706084e-08 , test_acc: 0.9990082451384443 , test_loss: 0.005363881144967308\n"
     ]
    },
    {
     "data": {
      "application/vnd.jupyter.widget-view+json": {
       "model_id": "326239afb1cd4ecfa6fd9b9924a6ff4f",
       "version_major": 2,
       "version_minor": 0
      },
      "text/plain": [
       "  0%|          | 0/80 [00:00<?, ?it/s]"
      ]
     },
     "metadata": {},
     "output_type": "display_data"
    },
    {
     "name": "stdout",
     "output_type": "stream",
     "text": [
      "epoch: 196, train_acc: 1.0 , train_loss: 6.249676414160632e-08 , test_acc: 0.9989442246518886 , test_loss: 0.005486111620280098\n"
     ]
    },
    {
     "data": {
      "application/vnd.jupyter.widget-view+json": {
       "model_id": "a771938278f54877862ecacbdd1965ef",
       "version_major": 2,
       "version_minor": 0
      },
      "text/plain": [
       "  0%|          | 0/80 [00:00<?, ?it/s]"
      ]
     },
     "metadata": {},
     "output_type": "display_data"
    },
    {
     "name": "stdout",
     "output_type": "stream",
     "text": [
      "epoch: 197, train_acc: 1.0 , train_loss: 5.729043475177775e-08 , test_acc: 0.99912109375 , test_loss: 0.005219783464406191\n"
     ]
    },
    {
     "data": {
      "application/vnd.jupyter.widget-view+json": {
       "model_id": "39dc369b759846fd8e85c03d2a7d7fe9",
       "version_major": 2,
       "version_minor": 0
      },
      "text/plain": [
       "  0%|          | 0/80 [00:00<?, ?it/s]"
      ]
     },
     "metadata": {},
     "output_type": "display_data"
    },
    {
     "name": "stdout",
     "output_type": "stream",
     "text": [
      "epoch: 198, train_acc: 1.0 , train_loss: 5.4454555509231285e-08 , test_acc: 0.9990234375 , test_loss: 0.005237603391901757\n"
     ]
    },
    {
     "data": {
      "application/vnd.jupyter.widget-view+json": {
       "model_id": "fb78a0a78ff64d738feb6c6cdf457519",
       "version_major": 2,
       "version_minor": 0
      },
      "text/plain": [
       "  0%|          | 0/80 [00:00<?, ?it/s]"
      ]
     },
     "metadata": {},
     "output_type": "display_data"
    },
    {
     "name": "stdout",
     "output_type": "stream",
     "text": [
      "epoch: 199, train_acc: 1.0 , train_loss: 5.2351099522063296e-08 , test_acc: 0.9990570732634444 , test_loss: 0.005212028104233468\n"
     ]
    },
    {
     "data": {
      "application/vnd.jupyter.widget-view+json": {
       "model_id": "da73b46a6e194f698608ad2288a00de7",
       "version_major": 2,
       "version_minor": 0
      },
      "text/plain": [
       "  0%|          | 0/80 [00:00<?, ?it/s]"
      ]
     },
     "metadata": {},
     "output_type": "display_data"
    },
    {
     "name": "stdout",
     "output_type": "stream",
     "text": [
      "epoch: 200, train_acc: 1.0 , train_loss: 4.9426058179591334e-08 , test_acc: 0.9990418809018886 , test_loss: 0.005364217605574595\n"
     ]
    },
    {
     "data": {
      "application/vnd.jupyter.widget-view+json": {
       "model_id": "c2bd5755afb2438588ae63b26ead863d",
       "version_major": 2,
       "version_minor": 0
      },
      "text/plain": [
       "  0%|          | 0/80 [00:00<?, ?it/s]"
      ]
     },
     "metadata": {},
     "output_type": "display_data"
    },
    {
     "name": "stdout",
     "output_type": "stream",
     "text": [
      "epoch: 201, train_acc: 1.0 , train_loss: 4.703442906262012e-08 , test_acc: 0.9990082451384443 , test_loss: 0.005322543326280993\n"
     ]
    },
    {
     "data": {
      "application/vnd.jupyter.widget-view+json": {
       "model_id": "749b79de272744d3873d196321d401d2",
       "version_major": 2,
       "version_minor": 0
      },
      "text/plain": [
       "  0%|          | 0/80 [00:00<?, ?it/s]"
      ]
     },
     "metadata": {},
     "output_type": "display_data"
    },
    {
     "name": "stdout",
     "output_type": "stream",
     "text": [
      "epoch: 202, train_acc: 1.0 , train_loss: 4.4901131646124526e-08 , test_acc: 0.9989594170134444 , test_loss: 0.005342431777808088\n"
     ]
    },
    {
     "data": {
      "application/vnd.jupyter.widget-view+json": {
       "model_id": "234bf8c25f764053aaec6bdac5a32fd5",
       "version_major": 2,
       "version_minor": 0
      },
      "text/plain": [
       "  0%|          | 0/80 [00:00<?, ?it/s]"
      ]
     },
     "metadata": {},
     "output_type": "display_data"
    },
    {
     "name": "stdout",
     "output_type": "stream",
     "text": [
      "epoch: 203, train_acc: 1.0 , train_loss: 4.3087513390549503e-08 , test_acc: 0.9991059013884444 , test_loss: 0.005292476953718506\n"
     ]
    },
    {
     "data": {
      "application/vnd.jupyter.widget-view+json": {
       "model_id": "e5ef81c036f04011aa29a1a78d035c02",
       "version_major": 2,
       "version_minor": 0
      },
      "text/plain": [
       "  0%|          | 0/80 [00:00<?, ?it/s]"
      ]
     },
     "metadata": {},
     "output_type": "display_data"
    },
    {
     "name": "stdout",
     "output_type": "stream",
     "text": [
      "epoch: 204, train_acc: 1.0 , train_loss: 4.061121207099561e-08 , test_acc: 0.9990082451384443 , test_loss: 0.005463430740746844\n"
     ]
    },
    {
     "data": {
      "application/vnd.jupyter.widget-view+json": {
       "model_id": "d46377827c1e44ccb2e7cf2ae81a6ca6",
       "version_major": 2,
       "version_minor": 0
      },
      "text/plain": [
       "  0%|          | 0/80 [00:00<?, ?it/s]"
      ]
     },
     "metadata": {},
     "output_type": "display_data"
    },
    {
     "name": "stdout",
     "output_type": "stream",
     "text": [
      "epoch: 205, train_acc: 1.0 , train_loss: 3.875363999705783e-08 , test_acc: 0.9990266885403329 , test_loss: 0.005800375696162518\n"
     ]
    },
    {
     "data": {
      "application/vnd.jupyter.widget-view+json": {
       "model_id": "306baa266237455a9ef92a5b81b5c4dc",
       "version_major": 2,
       "version_minor": 0
      },
      "text/plain": [
       "  0%|          | 0/80 [00:00<?, ?it/s]"
      ]
     },
     "metadata": {},
     "output_type": "display_data"
    },
    {
     "name": "stdout",
     "output_type": "stream",
     "text": [
      "epoch: 206, train_acc: 1.0 , train_loss: 3.7050495682589005e-08 , test_acc: 0.9990570732634444 , test_loss: 0.005495319873966764\n"
     ]
    },
    {
     "data": {
      "application/vnd.jupyter.widget-view+json": {
       "model_id": "23f011882dc0478ebfe8cead9b691725",
       "version_major": 2,
       "version_minor": 0
      },
      "text/plain": [
       "  0%|          | 0/80 [00:00<?, ?it/s]"
      ]
     },
     "metadata": {},
     "output_type": "display_data"
    },
    {
     "name": "stdout",
     "output_type": "stream",
     "text": [
      "epoch: 207, train_acc: 1.0 , train_loss: 3.511390466726105e-08 , test_acc: 0.9990234375 , test_loss: 0.005335685005684354\n"
     ]
    },
    {
     "data": {
      "application/vnd.jupyter.widget-view+json": {
       "model_id": "f2df5c5f15bf43a1a8719aaf5399f98d",
       "version_major": 2,
       "version_minor": 0
      },
      "text/plain": [
       "  0%|          | 0/80 [00:00<?, ?it/s]"
      ]
     },
     "metadata": {},
     "output_type": "display_data"
    },
    {
     "name": "stdout",
     "output_type": "stream",
     "text": [
      "epoch: 208, train_acc: 1.0 , train_loss: 3.319722642336487e-08 , test_acc: 0.999072265625 , test_loss: 0.005330745226291356\n"
     ]
    },
    {
     "data": {
      "application/vnd.jupyter.widget-view+json": {
       "model_id": "b5259c7dafc1422f9c1934eede6ca7ab",
       "version_major": 2,
       "version_minor": 0
      },
      "text/plain": [
       "  0%|          | 0/80 [00:00<?, ?it/s]"
      ]
     },
     "metadata": {},
     "output_type": "display_data"
    },
    {
     "name": "stdout",
     "output_type": "stream",
     "text": [
      "epoch: 209, train_acc: 1.0 , train_loss: 3.177393964604036e-08 , test_acc: 0.9990234375 , test_loss: 0.005361216184525119\n"
     ]
    },
    {
     "data": {
      "application/vnd.jupyter.widget-view+json": {
       "model_id": "8f169644a89147cb992f9b3417d3009c",
       "version_major": 2,
       "version_minor": 0
      },
      "text/plain": [
       "  0%|          | 0/80 [00:00<?, ?it/s]"
      ]
     },
     "metadata": {},
     "output_type": "display_data"
    },
    {
     "name": "stdout",
     "output_type": "stream",
     "text": [
      "epoch: 210, train_acc: 1.0 , train_loss: 3.066386451422432e-08 , test_acc: 0.9990082451384443 , test_loss: 0.005448016024729441\n"
     ]
    },
    {
     "data": {
      "application/vnd.jupyter.widget-view+json": {
       "model_id": "2b4394d64a774c9b8b9a157e4c08c9c7",
       "version_major": 2,
       "version_minor": 0
      },
      "text/plain": [
       "  0%|          | 0/80 [00:00<?, ?it/s]"
      ]
     },
     "metadata": {},
     "output_type": "display_data"
    },
    {
     "name": "stdout",
     "output_type": "stream",
     "text": [
      "epoch: 211, train_acc: 1.0 , train_loss: 2.9643812060609066e-08 , test_acc: 0.99912109375 , test_loss: 0.005369842032814631\n"
     ]
    },
    {
     "data": {
      "application/vnd.jupyter.widget-view+json": {
       "model_id": "c8f80cc5a32f4b26923d0ae576133f52",
       "version_major": 2,
       "version_minor": 0
      },
      "text/plain": [
       "  0%|          | 0/80 [00:00<?, ?it/s]"
      ]
     },
     "metadata": {},
     "output_type": "display_data"
    },
    {
     "name": "stdout",
     "output_type": "stream",
     "text": [
      "epoch: 212, train_acc: 1.0 , train_loss: 2.8821982078763853e-08 , test_acc: 0.999072265625 , test_loss: 0.005384970761770092\n"
     ]
    },
    {
     "data": {
      "application/vnd.jupyter.widget-view+json": {
       "model_id": "43e112a596fc48bfb8466c4036236fa1",
       "version_major": 2,
       "version_minor": 0
      },
      "text/plain": [
       "  0%|          | 0/80 [00:00<?, ?it/s]"
      ]
     },
     "metadata": {},
     "output_type": "display_data"
    },
    {
     "name": "stdout",
     "output_type": "stream",
     "text": [
      "epoch: 213, train_acc: 1.0 , train_loss: 2.6907973937895237e-08 , test_acc: 0.9990907090268886 , test_loss: 0.005546522350346095\n"
     ]
    },
    {
     "data": {
      "application/vnd.jupyter.widget-view+json": {
       "model_id": "3edbeca2a84b487d93281e348f6f102a",
       "version_major": 2,
       "version_minor": 0
      },
      "text/plain": [
       "  0%|          | 0/80 [00:00<?, ?it/s]"
      ]
     },
     "metadata": {},
     "output_type": "display_data"
    },
    {
     "name": "stdout",
     "output_type": "stream",
     "text": [
      "epoch: 214, train_acc: 1.0 , train_loss: 2.538134948881776e-08 , test_acc: 0.9990082451384443 , test_loss: 0.005430016861825493\n"
     ]
    },
    {
     "data": {
      "application/vnd.jupyter.widget-view+json": {
       "model_id": "d6f4400572434752924ac5c2bddab93f",
       "version_major": 2,
       "version_minor": 0
      },
      "text/plain": [
       "  0%|          | 0/80 [00:00<?, ?it/s]"
      ]
     },
     "metadata": {},
     "output_type": "display_data"
    },
    {
     "name": "stdout",
     "output_type": "stream",
     "text": [
      "epoch: 215, train_acc: 1.0 , train_loss: 2.429734827225083e-08 , test_acc: 0.999072265625 , test_loss: 0.0054220590619024735\n"
     ]
    },
    {
     "data": {
      "application/vnd.jupyter.widget-view+json": {
       "model_id": "923fed9689e94c5f851ec81ad399fdd4",
       "version_major": 2,
       "version_minor": 0
      },
      "text/plain": [
       "  0%|          | 0/80 [00:00<?, ?it/s]"
      ]
     },
     "metadata": {},
     "output_type": "display_data"
    },
    {
     "name": "stdout",
     "output_type": "stream",
     "text": [
      "epoch: 216, train_acc: 1.0 , train_loss: 2.6522470397694064e-08 , test_acc: 0.9990234375 , test_loss: 0.005438863354129353\n"
     ]
    },
    {
     "data": {
      "application/vnd.jupyter.widget-view+json": {
       "model_id": "6ab3c980d6ae499db381fc5b90d0d49c",
       "version_major": 2,
       "version_minor": 0
      },
      "text/plain": [
       "  0%|          | 0/80 [00:00<?, ?it/s]"
      ]
     },
     "metadata": {},
     "output_type": "display_data"
    },
    {
     "name": "stdout",
     "output_type": "stream",
     "text": [
      "epoch: 217, train_acc: 1.0 , train_loss: 2.3699138396171547e-08 , test_acc: 0.9990234375 , test_loss: 0.0054537604486540655\n"
     ]
    },
    {
     "data": {
      "application/vnd.jupyter.widget-view+json": {
       "model_id": "ce64b8055e8b4f858ee7395dacb2a4c4",
       "version_major": 2,
       "version_minor": 0
      },
      "text/plain": [
       "  0%|          | 0/80 [00:00<?, ?it/s]"
      ]
     },
     "metadata": {},
     "output_type": "display_data"
    },
    {
     "name": "stdout",
     "output_type": "stream",
     "text": [
      "epoch: 218, train_acc: 1.0 , train_loss: 2.1983492615174073e-08 , test_acc: 0.9990234375 , test_loss: 0.00543502741793418\n"
     ]
    },
    {
     "data": {
      "application/vnd.jupyter.widget-view+json": {
       "model_id": "c44d3616401841c5a92d923c931700c9",
       "version_major": 2,
       "version_minor": 0
      },
      "text/plain": [
       "  0%|          | 0/80 [00:00<?, ?it/s]"
      ]
     },
     "metadata": {},
     "output_type": "display_data"
    },
    {
     "name": "stdout",
     "output_type": "stream",
     "text": [
      "epoch: 219, train_acc: 1.0 , train_loss: 2.0911829790026813e-08 , test_acc: 0.9989930527768885 , test_loss: 0.005554107781102857\n"
     ]
    },
    {
     "data": {
      "application/vnd.jupyter.widget-view+json": {
       "model_id": "f6696c16115e4894bf934fbcd3a46ac7",
       "version_major": 2,
       "version_minor": 0
      },
      "text/plain": [
       "  0%|          | 0/80 [00:00<?, ?it/s]"
      ]
     },
     "metadata": {},
     "output_type": "display_data"
    },
    {
     "name": "stdout",
     "output_type": "stream",
     "text": [
      "epoch: 220, train_acc: 1.0 , train_loss: 2.1229975988301675e-08 , test_acc: 0.9990570732634444 , test_loss: 0.005475165049369934\n"
     ]
    },
    {
     "data": {
      "application/vnd.jupyter.widget-view+json": {
       "model_id": "a87bcdaf01d64008874271be453c3dc4",
       "version_major": 2,
       "version_minor": 0
      },
      "text/plain": [
       "  0%|          | 0/80 [00:00<?, ?it/s]"
      ]
     },
     "metadata": {},
     "output_type": "display_data"
    },
    {
     "name": "stdout",
     "output_type": "stream",
     "text": [
      "epoch: 221, train_acc: 1.0 , train_loss: 1.9290055108811544e-08 , test_acc: 0.999072265625 , test_loss: 0.005492252756550897\n"
     ]
    },
    {
     "data": {
      "application/vnd.jupyter.widget-view+json": {
       "model_id": "f5aaba82e49c4714b89baf4c2143d2a6",
       "version_major": 2,
       "version_minor": 0
      },
      "text/plain": [
       "  0%|          | 0/80 [00:00<?, ?it/s]"
      ]
     },
     "metadata": {},
     "output_type": "display_data"
    },
    {
     "name": "stdout",
     "output_type": "stream",
     "text": [
      "epoch: 222, train_acc: 1.0 , train_loss: 1.762243081460113e-08 , test_acc: 0.99912109375 , test_loss: 0.0055114531586127665\n"
     ]
    },
    {
     "data": {
      "application/vnd.jupyter.widget-view+json": {
       "model_id": "d77f70affbe948889b65f7a5ffb2ea20",
       "version_major": 2,
       "version_minor": 0
      },
      "text/plain": [
       "  0%|          | 0/80 [00:00<?, ?it/s]"
      ]
     },
     "metadata": {},
     "output_type": "display_data"
    },
    {
     "name": "stdout",
     "output_type": "stream",
     "text": [
      "epoch: 223, train_acc: 1.0 , train_loss: 1.706287250380356e-08 , test_acc: 0.9990082451384443 , test_loss: 0.005505648969665345\n"
     ]
    },
    {
     "data": {
      "application/vnd.jupyter.widget-view+json": {
       "model_id": "ae107e4bc00945b2aabf90974f2ed6c4",
       "version_major": 2,
       "version_minor": 0
      },
      "text/plain": [
       "  0%|          | 0/80 [00:00<?, ?it/s]"
      ]
     },
     "metadata": {},
     "output_type": "display_data"
    },
    {
     "name": "stdout",
     "output_type": "stream",
     "text": [
      "epoch: 224, train_acc: 1.0 , train_loss: 2.257465553934246e-08 , test_acc: 0.9990082451384443 , test_loss: 0.005614827657723254\n"
     ]
    },
    {
     "data": {
      "application/vnd.jupyter.widget-view+json": {
       "model_id": "dc56599f2385497283c612b403033e51",
       "version_major": 2,
       "version_minor": 0
      },
      "text/plain": [
       "  0%|          | 0/80 [00:00<?, ?it/s]"
      ]
     },
     "metadata": {},
     "output_type": "display_data"
    },
    {
     "name": "stdout",
     "output_type": "stream",
     "text": [
      "epoch: 225, train_acc: 1.0 , train_loss: 1.7129693791195778e-08 , test_acc: 0.9990234375 , test_loss: 0.0055654576615495445\n"
     ]
    },
    {
     "data": {
      "application/vnd.jupyter.widget-view+json": {
       "model_id": "fd7f108d1c6d4553ac8414f20b41d4c1",
       "version_major": 2,
       "version_minor": 0
      },
      "text/plain": [
       "  0%|          | 0/80 [00:00<?, ?it/s]"
      ]
     },
     "metadata": {},
     "output_type": "display_data"
    },
    {
     "name": "stdout",
     "output_type": "stream",
     "text": [
      "epoch: 226, train_acc: 1.0 , train_loss: 1.4764569872260935e-08 , test_acc: 0.9990234375 , test_loss: 0.005538866532123166\n"
     ]
    },
    {
     "data": {
      "application/vnd.jupyter.widget-view+json": {
       "model_id": "c19fd8c506d54789bd83e13317fb615b",
       "version_major": 2,
       "version_minor": 0
      },
      "text/plain": [
       "  0%|          | 0/80 [00:00<?, ?it/s]"
      ]
     },
     "metadata": {},
     "output_type": "display_data"
    },
    {
     "name": "stdout",
     "output_type": "stream",
     "text": [
      "epoch: 227, train_acc: 1.0 , train_loss: 1.409721150369414e-08 , test_acc: 0.9990082451384443 , test_loss: 0.00562362871824007\n"
     ]
    },
    {
     "data": {
      "application/vnd.jupyter.widget-view+json": {
       "model_id": "6efa04ef8ffc4bfe804cef08289c3a87",
       "version_major": 2,
       "version_minor": 0
      },
      "text/plain": [
       "  0%|          | 0/80 [00:00<?, ?it/s]"
      ]
     },
     "metadata": {},
     "output_type": "display_data"
    },
    {
     "name": "stdout",
     "output_type": "stream",
     "text": [
      "epoch: 228, train_acc: 1.0 , train_loss: 1.3351353653212605e-08 , test_acc: 0.9990234375 , test_loss: 0.0056127877573374\n"
     ]
    },
    {
     "data": {
      "application/vnd.jupyter.widget-view+json": {
       "model_id": "9e7be8b630924b4dade49e5ea2c1ccea",
       "version_major": 2,
       "version_minor": 0
      },
      "text/plain": [
       "  0%|          | 0/80 [00:00<?, ?it/s]"
      ]
     },
     "metadata": {},
     "output_type": "display_data"
    },
    {
     "name": "stdout",
     "output_type": "stream",
     "text": [
      "epoch: 229, train_acc: 1.0 , train_loss: 1.2686334749378859e-08 , test_acc: 0.9990082451384443 , test_loss: 0.005654473264166881\n"
     ]
    },
    {
     "data": {
      "application/vnd.jupyter.widget-view+json": {
       "model_id": "c1831e22517b412ba802a326896687a1",
       "version_major": 2,
       "version_minor": 0
      },
      "text/plain": [
       "  0%|          | 0/80 [00:00<?, ?it/s]"
      ]
     },
     "metadata": {},
     "output_type": "display_data"
    },
    {
     "name": "stdout",
     "output_type": "stream",
     "text": [
      "epoch: 230, train_acc: 1.0 , train_loss: 1.2174109806362133e-08 , test_acc: 0.9989594170134444 , test_loss: 0.005859513086397783\n"
     ]
    },
    {
     "data": {
      "application/vnd.jupyter.widget-view+json": {
       "model_id": "df27887a99b24787b8811634c6a078e6",
       "version_major": 2,
       "version_minor": 0
      },
      "text/plain": [
       "  0%|          | 0/80 [00:00<?, ?it/s]"
      ]
     },
     "metadata": {},
     "output_type": "display_data"
    },
    {
     "name": "stdout",
     "output_type": "stream",
     "text": [
      "epoch: 231, train_acc: 1.0 , train_loss: 1.1935683633113036e-08 , test_acc: 0.9990234375 , test_loss: 0.00563381025134504\n"
     ]
    },
    {
     "data": {
      "application/vnd.jupyter.widget-view+json": {
       "model_id": "b90f80399dfb45cc9092929ae40158b9",
       "version_major": 2,
       "version_minor": 0
      },
      "text/plain": [
       "  0%|          | 0/80 [00:00<?, ?it/s]"
      ]
     },
     "metadata": {},
     "output_type": "display_data"
    },
    {
     "name": "stdout",
     "output_type": "stream",
     "text": [
      "epoch: 232, train_acc: 1.0 , train_loss: 1.1155821455499649e-08 , test_acc: 0.9990234375 , test_loss: 0.005647030300985989\n"
     ]
    },
    {
     "data": {
      "application/vnd.jupyter.widget-view+json": {
       "model_id": "4fb8fd5c16a84ba99b39ff6d16af304e",
       "version_major": 2,
       "version_minor": 0
      },
      "text/plain": [
       "  0%|          | 0/80 [00:00<?, ?it/s]"
      ]
     },
     "metadata": {},
     "output_type": "display_data"
    },
    {
     "name": "stdout",
     "output_type": "stream",
     "text": [
      "epoch: 233, train_acc: 1.0 , train_loss: 1.0776246917032495e-08 , test_acc: 0.9990234375 , test_loss: 0.005716490446343414\n"
     ]
    },
    {
     "data": {
      "application/vnd.jupyter.widget-view+json": {
       "model_id": "70da597ec32f4bb0bfbadc8788129f10",
       "version_major": 2,
       "version_minor": 0
      },
      "text/plain": [
       "  0%|          | 0/80 [00:00<?, ?it/s]"
      ]
     },
     "metadata": {},
     "output_type": "display_data"
    },
    {
     "name": "stdout",
     "output_type": "stream",
     "text": [
      "epoch: 234, train_acc: 1.0 , train_loss: 1.0074504813717411e-08 , test_acc: 0.9990234375 , test_loss: 0.005612903574143502\n"
     ]
    },
    {
     "data": {
      "application/vnd.jupyter.widget-view+json": {
       "model_id": "6bd7411ad74f4bda91f1b9d8a686848e",
       "version_major": 2,
       "version_minor": 0
      },
      "text/plain": [
       "  0%|          | 0/80 [00:00<?, ?it/s]"
      ]
     },
     "metadata": {},
     "output_type": "display_data"
    },
    {
     "name": "stdout",
     "output_type": "stream",
     "text": [
      "epoch: 235, train_acc: 1.0 , train_loss: 9.626192529199606e-09 , test_acc: 0.9990418809018886 , test_loss: 0.00596153763840448\n"
     ]
    },
    {
     "data": {
      "application/vnd.jupyter.widget-view+json": {
       "model_id": "cb6089612dcb4920afa277146fd239e3",
       "version_major": 2,
       "version_minor": 0
      },
      "text/plain": [
       "  0%|          | 0/80 [00:00<?, ?it/s]"
      ]
     },
     "metadata": {},
     "output_type": "display_data"
    },
    {
     "name": "stdout",
     "output_type": "stream",
     "text": [
      "epoch: 236, train_acc: 1.0 , train_loss: 9.310759543912361e-09 , test_acc: 0.9989930527768885 , test_loss: 0.005867260531613283\n"
     ]
    },
    {
     "data": {
      "application/vnd.jupyter.widget-view+json": {
       "model_id": "f9cd1835fa864a0ea914a2a1055246bb",
       "version_major": 2,
       "version_minor": 0
      },
      "text/plain": [
       "  0%|          | 0/80 [00:00<?, ?it/s]"
      ]
     },
     "metadata": {},
     "output_type": "display_data"
    },
    {
     "name": "stdout",
     "output_type": "stream",
     "text": [
      "epoch: 237, train_acc: 1.0 , train_loss: 8.973270089474016e-09 , test_acc: 0.9990234375 , test_loss: 0.0056981759581162805\n"
     ]
    },
    {
     "data": {
      "application/vnd.jupyter.widget-view+json": {
       "model_id": "978328b5c3754db786b4562d759b8061",
       "version_major": 2,
       "version_minor": 0
      },
      "text/plain": [
       "  0%|          | 0/80 [00:00<?, ?it/s]"
      ]
     },
     "metadata": {},
     "output_type": "display_data"
    },
    {
     "name": "stdout",
     "output_type": "stream",
     "text": [
      "epoch: 238, train_acc: 1.0 , train_loss: 8.683801216990971e-09 , test_acc: 0.9990234375 , test_loss: 0.005751997084979621\n"
     ]
    },
    {
     "data": {
      "application/vnd.jupyter.widget-view+json": {
       "model_id": "544df59a79fc4a25b123890eebdd5325",
       "version_major": 2,
       "version_minor": 0
      },
      "text/plain": [
       "  0%|          | 0/80 [00:00<?, ?it/s]"
      ]
     },
     "metadata": {},
     "output_type": "display_data"
    },
    {
     "name": "stdout",
     "output_type": "stream",
     "text": [
      "epoch: 239, train_acc: 1.0 , train_loss: 8.013730801170737e-09 , test_acc: 0.998974609375 , test_loss: 0.005741851069433324\n"
     ]
    },
    {
     "data": {
      "application/vnd.jupyter.widget-view+json": {
       "model_id": "d1742808da344ac29ac1e9aac48bca81",
       "version_major": 2,
       "version_minor": 0
      },
      "text/plain": [
       "  0%|          | 0/80 [00:00<?, ?it/s]"
      ]
     },
     "metadata": {},
     "output_type": "display_data"
    },
    {
     "name": "stdout",
     "output_type": "stream",
     "text": [
      "epoch: 240, train_acc: 1.0 , train_loss: 8.01698256946981e-09 , test_acc: 0.9989442246518886 , test_loss: 0.005994117806824306\n"
     ]
    },
    {
     "data": {
      "application/vnd.jupyter.widget-view+json": {
       "model_id": "bc5c5a7969104635ae54b3af8dbc94f7",
       "version_major": 2,
       "version_minor": 0
      },
      "text/plain": [
       "  0%|          | 0/80 [00:00<?, ?it/s]"
      ]
     },
     "metadata": {},
     "output_type": "display_data"
    },
    {
     "name": "stdout",
     "output_type": "stream",
     "text": [
      "epoch: 241, train_acc: 1.0 , train_loss: 7.481474095794028e-09 , test_acc: 0.9990082451384443 , test_loss: 0.005810667023229144\n"
     ]
    },
    {
     "data": {
      "application/vnd.jupyter.widget-view+json": {
       "model_id": "1e91ec66620e4bbdaeeb575f65b5712d",
       "version_major": 2,
       "version_minor": 0
      },
      "text/plain": [
       "  0%|          | 0/80 [00:00<?, ?it/s]"
      ]
     },
     "metadata": {},
     "output_type": "display_data"
    },
    {
     "name": "stdout",
     "output_type": "stream",
     "text": [
      "epoch: 242, train_acc: 1.0 , train_loss: 7.160989085042146e-09 , test_acc: 0.9989105888884444 , test_loss: 0.0058227618078490195\n"
     ]
    },
    {
     "data": {
      "application/vnd.jupyter.widget-view+json": {
       "model_id": "f6b4d068e8364f9aad42407d5c549a9f",
       "version_major": 2,
       "version_minor": 0
      },
      "text/plain": [
       "  0%|          | 0/80 [00:00<?, ?it/s]"
      ]
     },
     "metadata": {},
     "output_type": "display_data"
    },
    {
     "name": "stdout",
     "output_type": "stream",
     "text": [
      "epoch: 243, train_acc: 1.0 , train_loss: 6.795737914067068e-09 , test_acc: 0.9989594170134444 , test_loss: 0.005857661446498241\n"
     ]
    },
    {
     "data": {
      "application/vnd.jupyter.widget-view+json": {
       "model_id": "eac97701df184e34b2aaa5ce09e23549",
       "version_major": 2,
       "version_minor": 0
      },
      "text/plain": [
       "  0%|          | 0/80 [00:00<?, ?it/s]"
      ]
     },
     "metadata": {},
     "output_type": "display_data"
    },
    {
     "name": "stdout",
     "output_type": "stream",
     "text": [
      "epoch: 244, train_acc: 1.0 , train_loss: 6.739670078970139e-09 , test_acc: 0.998974609375 , test_loss: 0.005842628211939882\n"
     ]
    },
    {
     "data": {
      "application/vnd.jupyter.widget-view+json": {
       "model_id": "9a3e9ca757934cf8b4a0543e20559acc",
       "version_major": 2,
       "version_minor": 0
      },
      "text/plain": [
       "  0%|          | 0/80 [00:00<?, ?it/s]"
      ]
     },
     "metadata": {},
     "output_type": "display_data"
    },
    {
     "name": "stdout",
     "output_type": "stream",
     "text": [
      "epoch: 245, train_acc: 1.0 , train_loss: 6.28362538807048e-09 , test_acc: 0.9989594170134444 , test_loss: 0.005921996347024105\n"
     ]
    },
    {
     "data": {
      "application/vnd.jupyter.widget-view+json": {
       "model_id": "b23dfe8073844bb4907822f622b492e3",
       "version_major": 2,
       "version_minor": 0
      },
      "text/plain": [
       "  0%|          | 0/80 [00:00<?, ?it/s]"
      ]
     },
     "metadata": {},
     "output_type": "display_data"
    },
    {
     "name": "stdout",
     "output_type": "stream",
     "text": [
      "epoch: 246, train_acc: 1.0 , train_loss: 6.09579091925827e-09 , test_acc: 0.9989594170134444 , test_loss: 0.005907679305869351\n"
     ]
    },
    {
     "data": {
      "application/vnd.jupyter.widget-view+json": {
       "model_id": "fa22ba90da18411799b9c92ed1778c56",
       "version_major": 2,
       "version_minor": 0
      },
      "text/plain": [
       "  0%|          | 0/80 [00:00<?, ?it/s]"
      ]
     },
     "metadata": {},
     "output_type": "display_data"
    },
    {
     "name": "stdout",
     "output_type": "stream",
     "text": [
      "epoch: 247, train_acc: 1.0 , train_loss: 5.778789137489415e-09 , test_acc: 0.9989930527768885 , test_loss: 0.005927045221267235\n"
     ]
    },
    {
     "data": {
      "application/vnd.jupyter.widget-view+json": {
       "model_id": "0a32b70e995e4e13bfb7c5a06f65a9e1",
       "version_major": 2,
       "version_minor": 0
      },
      "text/plain": [
       "  0%|          | 0/80 [00:00<?, ?it/s]"
      ]
     },
     "metadata": {},
     "output_type": "display_data"
    },
    {
     "name": "stdout",
     "output_type": "stream",
     "text": [
      "epoch: 248, train_acc: 1.0 , train_loss: 5.477336403880706e-09 , test_acc: 0.9989594170134444 , test_loss: 0.005886952457285588\n"
     ]
    },
    {
     "data": {
      "application/vnd.jupyter.widget-view+json": {
       "model_id": "8871ea2eff8d440690e1ff83cb74f990",
       "version_major": 2,
       "version_minor": 0
      },
      "text/plain": [
       "  0%|          | 0/80 [00:00<?, ?it/s]"
      ]
     },
     "metadata": {},
     "output_type": "display_data"
    },
    {
     "name": "stdout",
     "output_type": "stream",
     "text": [
      "epoch: 249, train_acc: 1.0 , train_loss: 5.435477961474034e-09 , test_acc: 0.9990234375 , test_loss: 0.0059007489483065\n"
     ]
    },
    {
     "data": {
      "application/vnd.jupyter.widget-view+json": {
       "model_id": "321efd0142a14f15876f0fb3b6ac8072",
       "version_major": 2,
       "version_minor": 0
      },
      "text/plain": [
       "  0%|          | 0/80 [00:00<?, ?it/s]"
      ]
     },
     "metadata": {},
     "output_type": "display_data"
    },
    {
     "name": "stdout",
     "output_type": "stream",
     "text": [
      "epoch: 250, train_acc: 1.0 , train_loss: 5.091939260515322e-09 , test_acc: 0.998974609375 , test_loss: 0.005858952403968942\n"
     ]
    },
    {
     "data": {
      "application/vnd.jupyter.widget-view+json": {
       "model_id": "bcc0a4cd35a04e488fcdad24797c9268",
       "version_major": 2,
       "version_minor": 0
      },
      "text/plain": [
       "  0%|          | 0/80 [00:00<?, ?it/s]"
      ]
     },
     "metadata": {},
     "output_type": "display_data"
    },
    {
     "name": "stdout",
     "output_type": "stream",
     "text": [
      "epoch: 251, train_acc: 1.0 , train_loss: 4.7003798429867684e-09 , test_acc: 0.99892578125 , test_loss: 0.0058802877896596325\n"
     ]
    },
    {
     "data": {
      "application/vnd.jupyter.widget-view+json": {
       "model_id": "730865397e4f4b329f51aa464101309e",
       "version_major": 2,
       "version_minor": 0
      },
      "text/plain": [
       "  0%|          | 0/80 [00:00<?, ?it/s]"
      ]
     },
     "metadata": {},
     "output_type": "display_data"
    },
    {
     "name": "stdout",
     "output_type": "stream",
     "text": [
      "epoch: 252, train_acc: 1.0 , train_loss: 4.75524904418323e-09 , test_acc: 0.998974609375 , test_loss: 0.0059354924186322934\n"
     ]
    },
    {
     "data": {
      "application/vnd.jupyter.widget-view+json": {
       "model_id": "5a707beee3774faab60463ab62b7bced",
       "version_major": 2,
       "version_minor": 0
      },
      "text/plain": [
       "  0%|          | 0/80 [00:00<?, ?it/s]"
      ]
     },
     "metadata": {},
     "output_type": "display_data"
    },
    {
     "name": "stdout",
     "output_type": "stream",
     "text": [
      "epoch: 253, train_acc: 1.0 , train_loss: 4.383034121063778e-09 , test_acc: 0.9990082451384443 , test_loss: 0.0059643435842190225\n"
     ]
    },
    {
     "data": {
      "application/vnd.jupyter.widget-view+json": {
       "model_id": "3f60a0ebabf64e75959d652318a4473e",
       "version_major": 2,
       "version_minor": 0
      },
      "text/plain": [
       "  0%|          | 0/80 [00:00<?, ?it/s]"
      ]
     },
     "metadata": {},
     "output_type": "display_data"
    },
    {
     "name": "stdout",
     "output_type": "stream",
     "text": [
      "epoch: 254, train_acc: 1.0 , train_loss: 4.0832650899380594e-09 , test_acc: 0.99892578125 , test_loss: 0.005893495022723983\n"
     ]
    },
    {
     "data": {
      "application/vnd.jupyter.widget-view+json": {
       "model_id": "c5c26a8a1c704d7c9d0195f15237e61f",
       "version_major": 2,
       "version_minor": 0
      },
      "text/plain": [
       "  0%|          | 0/80 [00:00<?, ?it/s]"
      ]
     },
     "metadata": {},
     "output_type": "display_data"
    },
    {
     "name": "stdout",
     "output_type": "stream",
     "text": [
      "epoch: 255, train_acc: 1.0 , train_loss: 3.862076262267644e-09 , test_acc: 0.9988953965268885 , test_loss: 0.006175322219655754\n"
     ]
    },
    {
     "data": {
      "application/vnd.jupyter.widget-view+json": {
       "model_id": "428c5b6af4674fad8e73f879c79f6e1d",
       "version_major": 2,
       "version_minor": 0
      },
      "text/plain": [
       "  0%|          | 0/80 [00:00<?, ?it/s]"
      ]
     },
     "metadata": {},
     "output_type": "display_data"
    },
    {
     "name": "stdout",
     "output_type": "stream",
     "text": [
      "epoch: 256, train_acc: 1.0 , train_loss: 3.76917217437267e-09 , test_acc: 0.998974609375 , test_loss: 0.005985108769471026\n"
     ]
    },
    {
     "data": {
      "application/vnd.jupyter.widget-view+json": {
       "model_id": "5faa04ddcb5347f2b53d3c38d2d662ef",
       "version_major": 2,
       "version_minor": 0
      },
      "text/plain": [
       "  0%|          | 0/80 [00:00<?, ?it/s]"
      ]
     },
     "metadata": {},
     "output_type": "display_data"
    },
    {
     "name": "stdout",
     "output_type": "stream",
     "text": [
      "epoch: 257, train_acc: 1.0 , train_loss: 3.5624211774942793e-09 , test_acc: 0.9989105888884444 , test_loss: 0.006004435455724888\n"
     ]
    },
    {
     "data": {
      "application/vnd.jupyter.widget-view+json": {
       "model_id": "02fefd820a5d46f487b8970fc8b99cfc",
       "version_major": 2,
       "version_minor": 0
      },
      "text/plain": [
       "  0%|          | 0/80 [00:00<?, ?it/s]"
      ]
     },
     "metadata": {},
     "output_type": "display_data"
    },
    {
     "name": "stdout",
     "output_type": "stream",
     "text": [
      "epoch: 258, train_acc: 1.0 , train_loss: 3.3527597718963077e-09 , test_acc: 0.9989105888884444 , test_loss: 0.006064075181225803\n"
     ]
    },
    {
     "data": {
      "application/vnd.jupyter.widget-view+json": {
       "model_id": "d0faa7a16a60486a8b6cf0f9de301cb4",
       "version_major": 2,
       "version_minor": 0
      },
      "text/plain": [
       "  0%|          | 0/80 [00:00<?, ?it/s]"
      ]
     },
     "metadata": {},
     "output_type": "display_data"
    },
    {
     "name": "stdout",
     "output_type": "stream",
     "text": [
      "epoch: 259, train_acc: 1.0 , train_loss: 3.2217925161059922e-09 , test_acc: 0.9988953965268885 , test_loss: 0.006423167934190133\n"
     ]
    },
    {
     "data": {
      "application/vnd.jupyter.widget-view+json": {
       "model_id": "f8e2884af8534c55a64e9efc1ba0fd03",
       "version_major": 2,
       "version_minor": 0
      },
      "text/plain": [
       "  0%|          | 0/80 [00:00<?, ?it/s]"
      ]
     },
     "metadata": {},
     "output_type": "display_data"
    },
    {
     "name": "stdout",
     "output_type": "stream",
     "text": [
      "epoch: 260, train_acc: 1.0 , train_loss: 3.096646161715455e-09 , test_acc: 0.9988953965268885 , test_loss: 0.0062277892604925\n"
     ]
    },
    {
     "data": {
      "application/vnd.jupyter.widget-view+json": {
       "model_id": "95b9fd6c8f7946d7abdaa29b53db158a",
       "version_major": 2,
       "version_minor": 0
      },
      "text/plain": [
       "  0%|          | 0/80 [00:00<?, ?it/s]"
      ]
     },
     "metadata": {},
     "output_type": "display_data"
    },
    {
     "name": "stdout",
     "output_type": "stream",
     "text": [
      "epoch: 261, train_acc: 1.0 , train_loss: 3.01235926272736e-09 , test_acc: 0.9989594170134444 , test_loss: 0.006108920555908526\n"
     ]
    },
    {
     "data": {
      "application/vnd.jupyter.widget-view+json": {
       "model_id": "816cee3e34e24df0bbb32dad576a19ef",
       "version_major": 2,
       "version_minor": 0
      },
      "text/plain": [
       "  0%|          | 0/80 [00:00<?, ?it/s]"
      ]
     },
     "metadata": {},
     "output_type": "display_data"
    },
    {
     "name": "stdout",
     "output_type": "stream",
     "text": [
      "epoch: 262, train_acc: 1.0 , train_loss: 2.8259807646757727e-09 , test_acc: 0.9990082451384443 , test_loss: 0.006187899984024625\n"
     ]
    },
    {
     "data": {
      "application/vnd.jupyter.widget-view+json": {
       "model_id": "9f1808d65cb342aa88b5b02a2ffc82f9",
       "version_major": 2,
       "version_minor": 0
      },
      "text/plain": [
       "  0%|          | 0/80 [00:00<?, ?it/s]"
      ]
     },
     "metadata": {},
     "output_type": "display_data"
    },
    {
     "name": "stdout",
     "output_type": "stream",
     "text": [
      "epoch: 263, train_acc: 1.0 , train_loss: 2.8714340884195e-09 , test_acc: 0.9989594170134444 , test_loss: 0.00612895914625824\n"
     ]
    },
    {
     "data": {
      "application/vnd.jupyter.widget-view+json": {
       "model_id": "f80bd3f0fff94795a53e9cd4031255db",
       "version_major": 2,
       "version_minor": 0
      },
      "text/plain": [
       "  0%|          | 0/80 [00:00<?, ?it/s]"
      ]
     },
     "metadata": {},
     "output_type": "display_data"
    },
    {
     "name": "stdout",
     "output_type": "stream",
     "text": [
      "epoch: 264, train_acc: 1.0 , train_loss: 2.6106125775027246e-09 , test_acc: 0.998974609375 , test_loss: 0.006124085167522253\n"
     ]
    },
    {
     "data": {
      "application/vnd.jupyter.widget-view+json": {
       "model_id": "329020945d18493d9369cec486e50311",
       "version_major": 2,
       "version_minor": 0
      },
      "text/plain": [
       "  0%|          | 0/80 [00:00<?, ?it/s]"
      ]
     },
     "metadata": {},
     "output_type": "display_data"
    },
    {
     "name": "stdout",
     "output_type": "stream",
     "text": [
      "epoch: 265, train_acc: 1.0 , train_loss: 2.4549072594193254e-09 , test_acc: 0.99892578125 , test_loss: 0.006181605082554142\n"
     ]
    },
    {
     "data": {
      "application/vnd.jupyter.widget-view+json": {
       "model_id": "ff37cbe6ab684da7963c4e90aeac58d1",
       "version_major": 2,
       "version_minor": 0
      },
      "text/plain": [
       "  0%|          | 0/80 [00:00<?, ?it/s]"
      ]
     },
     "metadata": {},
     "output_type": "display_data"
    },
    {
     "name": "stdout",
     "output_type": "stream",
     "text": [
      "epoch: 266, train_acc: 1.0 , train_loss: 2.3894236898108766e-09 , test_acc: 0.9989594170134444 , test_loss: 0.00625742630163586\n"
     ]
    },
    {
     "data": {
      "application/vnd.jupyter.widget-view+json": {
       "model_id": "063bf7e5019e473fb9c2f4f8b88a92cc",
       "version_major": 2,
       "version_minor": 0
      },
      "text/plain": [
       "  0%|          | 0/80 [00:00<?, ?it/s]"
      ]
     },
     "metadata": {},
     "output_type": "display_data"
    },
    {
     "name": "stdout",
     "output_type": "stream",
     "text": [
      "epoch: 267, train_acc: 1.0 , train_loss: 2.3021122348698685e-09 , test_acc: 0.9990082451384443 , test_loss: 0.006246923269191029\n"
     ]
    },
    {
     "data": {
      "application/vnd.jupyter.widget-view+json": {
       "model_id": "bd6e7b2172864a908e1d2c5d88625a2a",
       "version_major": 2,
       "version_minor": 0
      },
      "text/plain": [
       "  0%|          | 0/80 [00:00<?, ?it/s]"
      ]
     },
     "metadata": {},
     "output_type": "display_data"
    },
    {
     "name": "stdout",
     "output_type": "stream",
     "text": [
      "epoch: 268, train_acc: 1.0 , train_loss: 2.1973385132267877e-09 , test_acc: 0.9990082451384443 , test_loss: 0.006295417015064686\n"
     ]
    },
    {
     "data": {
      "application/vnd.jupyter.widget-view+json": {
       "model_id": "320ea4b531b847f6858c8dcafde093a4",
       "version_major": 2,
       "version_minor": 0
      },
      "text/plain": [
       "  0%|          | 0/80 [00:00<?, ?it/s]"
      ]
     },
     "metadata": {},
     "output_type": "display_data"
    },
    {
     "name": "stdout",
     "output_type": "stream",
     "text": [
      "epoch: 269, train_acc: 1.0 , train_loss: 2.1653242893160395e-09 , test_acc: 0.9990570732634444 , test_loss: 0.006500318623284329\n"
     ]
    },
    {
     "data": {
      "application/vnd.jupyter.widget-view+json": {
       "model_id": "cb29c306aa7f4f2a96818f416cebdccc",
       "version_major": 2,
       "version_minor": 0
      },
      "text/plain": [
       "  0%|          | 0/80 [00:00<?, ?it/s]"
      ]
     },
     "metadata": {},
     "output_type": "display_data"
    },
    {
     "name": "stdout",
     "output_type": "stream",
     "text": [
      "epoch: 270, train_acc: 1.0 , train_loss: 2.0664854872426418e-09 , test_acc: 0.998974609375 , test_loss: 0.006264106421258475\n"
     ]
    },
    {
     "data": {
      "application/vnd.jupyter.widget-view+json": {
       "model_id": "49242ca24c204a6a89051c17b784f085",
       "version_major": 2,
       "version_minor": 0
      },
      "text/plain": [
       "  0%|          | 0/80 [00:00<?, ?it/s]"
      ]
     },
     "metadata": {},
     "output_type": "display_data"
    },
    {
     "name": "stdout",
     "output_type": "stream",
     "text": [
      "epoch: 271, train_acc: 1.0 , train_loss: 1.9746943661844153e-09 , test_acc: 0.9990570732634444 , test_loss: 0.006485398230643114\n"
     ]
    },
    {
     "data": {
      "application/vnd.jupyter.widget-view+json": {
       "model_id": "f47e2e9cc6b04cb1b65670267eba9c08",
       "version_major": 2,
       "version_minor": 0
      },
      "text/plain": [
       "  0%|          | 0/80 [00:00<?, ?it/s]"
      ]
     },
     "metadata": {},
     "output_type": "display_data"
    },
    {
     "name": "stdout",
     "output_type": "stream",
     "text": [
      "epoch: 272, train_acc: 1.0 , train_loss: 1.942794213005694e-09 , test_acc: 0.9989594170134444 , test_loss: 0.0065593315451224045\n"
     ]
    },
    {
     "data": {
      "application/vnd.jupyter.widget-view+json": {
       "model_id": "6d5117f294f6422c9cdd6e4cba380afc",
       "version_major": 2,
       "version_minor": 0
      },
      "text/plain": [
       "  0%|          | 0/80 [00:00<?, ?it/s]"
      ]
     },
     "metadata": {},
     "output_type": "display_data"
    },
    {
     "name": "stdout",
     "output_type": "stream",
     "text": [
      "epoch: 273, train_acc: 1.0 , train_loss: 1.858279092062376e-09 , test_acc: 0.998974609375 , test_loss: 0.006489071500192267\n"
     ]
    },
    {
     "data": {
      "application/vnd.jupyter.widget-view+json": {
       "model_id": "26fc0bc3f36f4e6899a8e11392b5707b",
       "version_major": 2,
       "version_minor": 0
      },
      "text/plain": [
       "  0%|          | 0/80 [00:00<?, ?it/s]"
      ]
     },
     "metadata": {},
     "output_type": "display_data"
    },
    {
     "name": "stdout",
     "output_type": "stream",
     "text": [
      "epoch: 274, train_acc: 1.0 , train_loss: 1.7840643653371791e-09 , test_acc: 0.998974609375 , test_loss: 0.006439799747886355\n"
     ]
    },
    {
     "data": {
      "application/vnd.jupyter.widget-view+json": {
       "model_id": "da3490a76cc24b25985b690c59525227",
       "version_major": 2,
       "version_minor": 0
      },
      "text/plain": [
       "  0%|          | 0/80 [00:00<?, ?it/s]"
      ]
     },
     "metadata": {},
     "output_type": "display_data"
    },
    {
     "name": "stdout",
     "output_type": "stream",
     "text": [
      "epoch: 275, train_acc: 1.0 , train_loss: 1.7214911496310493e-09 , test_acc: 0.9989105888884444 , test_loss: 0.006548005486536113\n"
     ]
    },
    {
     "data": {
      "application/vnd.jupyter.widget-view+json": {
       "model_id": "1571f93e5a38474cb5877a00754cf545",
       "version_major": 2,
       "version_minor": 0
      },
      "text/plain": [
       "  0%|          | 0/80 [00:00<?, ?it/s]"
      ]
     },
     "metadata": {},
     "output_type": "display_data"
    },
    {
     "name": "stdout",
     "output_type": "stream",
     "text": [
      "epoch: 276, train_acc: 1.0 , train_loss: 1.6458212282605133e-09 , test_acc: 0.998974609375 , test_loss: 0.006461862160600162\n"
     ]
    },
    {
     "data": {
      "application/vnd.jupyter.widget-view+json": {
       "model_id": "e7793bedc9b04ea492695e6236961516",
       "version_major": 2,
       "version_minor": 0
      },
      "text/plain": [
       "  0%|          | 0/80 [00:00<?, ?it/s]"
      ]
     },
     "metadata": {},
     "output_type": "display_data"
    },
    {
     "name": "stdout",
     "output_type": "stream",
     "text": [
      "epoch: 277, train_acc: 1.0 , train_loss: 1.59634472047393e-09 , test_acc: 0.9989594170134444 , test_loss: 0.006538115611351714\n"
     ]
    },
    {
     "data": {
      "application/vnd.jupyter.widget-view+json": {
       "model_id": "aff1518736a84339b005e3d772283251",
       "version_major": 2,
       "version_minor": 0
      },
      "text/plain": [
       "  0%|          | 0/80 [00:00<?, ?it/s]"
      ]
     },
     "metadata": {},
     "output_type": "display_data"
    },
    {
     "name": "stdout",
     "output_type": "stream",
     "text": [
      "epoch: 278, train_acc: 1.0 , train_loss: 1.5352266801577086e-09 , test_acc: 0.998974609375 , test_loss: 0.0065737333409749965\n"
     ]
    },
    {
     "data": {
      "application/vnd.jupyter.widget-view+json": {
       "model_id": "0d6704357a0548bf90d538353961f52a",
       "version_major": 2,
       "version_minor": 0
      },
      "text/plain": [
       "  0%|          | 0/80 [00:00<?, ?it/s]"
      ]
     },
     "metadata": {},
     "output_type": "display_data"
    },
    {
     "name": "stdout",
     "output_type": "stream",
     "text": [
      "epoch: 279, train_acc: 1.0 , train_loss: 1.4537360149002864e-09 , test_acc: 0.9990082451384443 , test_loss: 0.0066012265834160646\n"
     ]
    },
    {
     "data": {
      "application/vnd.jupyter.widget-view+json": {
       "model_id": "26068557fed74bfa94eb3f5575bf7ab9",
       "version_major": 2,
       "version_minor": 0
      },
      "text/plain": [
       "  0%|          | 0/80 [00:00<?, ?it/s]"
      ]
     },
     "metadata": {},
     "output_type": "display_data"
    },
    {
     "name": "stdout",
     "output_type": "stream",
     "text": [
      "epoch: 280, train_acc: 1.0 , train_loss: 1.4582156954157099e-09 , test_acc: 0.9989594170134444 , test_loss: 0.006708172195067164\n"
     ]
    },
    {
     "data": {
      "application/vnd.jupyter.widget-view+json": {
       "model_id": "c5bf2993f8ab4ad7aba75e9f5dadeedc",
       "version_major": 2,
       "version_minor": 0
      },
      "text/plain": [
       "  0%|          | 0/80 [00:00<?, ?it/s]"
      ]
     },
     "metadata": {},
     "output_type": "display_data"
    },
    {
     "name": "stdout",
     "output_type": "stream",
     "text": [
      "epoch: 281, train_acc: 1.0 , train_loss: 1.3838868096610612e-09 , test_acc: 0.9989105888884444 , test_loss: 0.006767631121041262\n"
     ]
    },
    {
     "data": {
      "application/vnd.jupyter.widget-view+json": {
       "model_id": "7c4e7c7d392f48cdb8e61e7cda0ea850",
       "version_major": 2,
       "version_minor": 0
      },
      "text/plain": [
       "  0%|          | 0/80 [00:00<?, ?it/s]"
      ]
     },
     "metadata": {},
     "output_type": "display_data"
    },
    {
     "name": "stdout",
     "output_type": "stream",
     "text": [
      "epoch: 282, train_acc: 1.0 , train_loss: 1.3184032426546977e-09 , test_acc: 0.9989105888884444 , test_loss: 0.0065666363020227434\n"
     ]
    },
    {
     "data": {
      "application/vnd.jupyter.widget-view+json": {
       "model_id": "9455a3b0baf24fd7a882cee1e4a05eef",
       "version_major": 2,
       "version_minor": 0
      },
      "text/plain": [
       "  0%|          | 0/80 [00:00<?, ?it/s]"
      ]
     },
     "metadata": {},
     "output_type": "display_data"
    },
    {
     "name": "stdout",
     "output_type": "stream",
     "text": [
      "epoch: 283, train_acc: 1.0 , train_loss: 1.2776578961481988e-09 , test_acc: 0.9989105888884444 , test_loss: 0.006636424768339566\n"
     ]
    },
    {
     "data": {
      "application/vnd.jupyter.widget-view+json": {
       "model_id": "bbc9177f469547749c5c8d4adcbd6739",
       "version_major": 2,
       "version_minor": 0
      },
      "text/plain": [
       "  0%|          | 0/80 [00:00<?, ?it/s]"
      ]
     },
     "metadata": {},
     "output_type": "display_data"
    },
    {
     "name": "stdout",
     "output_type": "stream",
     "text": [
      "epoch: 284, train_acc: 1.0 , train_loss: 1.3448249052555595e-09 , test_acc: 0.9990234375 , test_loss: 0.006204440663293553\n"
     ]
    },
    {
     "data": {
      "application/vnd.jupyter.widget-view+json": {
       "model_id": "8e8415c290ea44e291693d6fd789f246",
       "version_major": 2,
       "version_minor": 0
      },
      "text/plain": [
       "  0%|          | 0/80 [00:00<?, ?it/s]"
      ]
     },
     "metadata": {},
     "output_type": "display_data"
    },
    {
     "name": "stdout",
     "output_type": "stream",
     "text": [
      "epoch: 285, train_acc: 1.0 , train_loss: 1.3256791102367328e-09 , test_acc: 0.9989594170134444 , test_loss: 0.006296154304834545\n"
     ]
    },
    {
     "data": {
      "application/vnd.jupyter.widget-view+json": {
       "model_id": "945c29d38bda4050a00d695bb8a1d4cf",
       "version_major": 2,
       "version_minor": 0
      },
      "text/plain": [
       "  0%|          | 0/80 [00:00<?, ?it/s]"
      ]
     },
     "metadata": {},
     "output_type": "display_data"
    },
    {
     "name": "stdout",
     "output_type": "stream",
     "text": [
      "epoch: 286, train_acc: 1.0 , train_loss: 1.2487823304076217e-09 , test_acc: 0.9989105888884444 , test_loss: 0.006406926107101185\n"
     ]
    },
    {
     "data": {
      "application/vnd.jupyter.widget-view+json": {
       "model_id": "0f8840a1eefb41d094d5072ebc2da5d0",
       "version_major": 2,
       "version_minor": 0
      },
      "text/plain": [
       "  0%|          | 0/80 [00:00<?, ?it/s]"
      ]
     },
     "metadata": {},
     "output_type": "display_data"
    },
    {
     "name": "stdout",
     "output_type": "stream",
     "text": [
      "epoch: 287, train_acc: 1.0 , train_loss: 1.1816152725545316e-09 , test_acc: 0.9988617607634444 , test_loss: 0.006627006996197338\n"
     ]
    },
    {
     "data": {
      "application/vnd.jupyter.widget-view+json": {
       "model_id": "27b3d77111484f18a72b69bd35203028",
       "version_major": 2,
       "version_minor": 0
      },
      "text/plain": [
       "  0%|          | 0/80 [00:00<?, ?it/s]"
      ]
     },
     "metadata": {},
     "output_type": "display_data"
    },
    {
     "name": "stdout",
     "output_type": "stream",
     "text": [
      "epoch: 288, train_acc: 1.0 , train_loss: 1.0841174974234035e-09 , test_acc: 0.99892578125 , test_loss: 0.006590401633555132\n"
     ]
    },
    {
     "data": {
      "application/vnd.jupyter.widget-view+json": {
       "model_id": "a29513ce616e4425942e309d7fe8a9a1",
       "version_major": 2,
       "version_minor": 0
      },
      "text/plain": [
       "  0%|          | 0/80 [00:00<?, ?it/s]"
      ]
     },
     "metadata": {},
     "output_type": "display_data"
    },
    {
     "name": "stdout",
     "output_type": "stream",
     "text": [
      "epoch: 289, train_acc: 1.0 , train_loss: 1.0506480911838533e-09 , test_acc: 0.998779296875 , test_loss: 0.006635917549192527\n"
     ]
    },
    {
     "data": {
      "application/vnd.jupyter.widget-view+json": {
       "model_id": "383e344faa784ddda90a27a67f662b26",
       "version_major": 2,
       "version_minor": 0
      },
      "text/plain": [
       "  0%|          | 0/80 [00:00<?, ?it/s]"
      ]
     },
     "metadata": {},
     "output_type": "display_data"
    },
    {
     "name": "stdout",
     "output_type": "stream",
     "text": [
      "epoch: 290, train_acc: 1.0 , train_loss: 1.0229994663012166e-09 , test_acc: 0.998876953125 , test_loss: 0.00666136659519907\n"
     ]
    },
    {
     "data": {
      "application/vnd.jupyter.widget-view+json": {
       "model_id": "5ed9ac1f8cf54e0a87b98a905cc35351",
       "version_major": 2,
       "version_minor": 0
      },
      "text/plain": [
       "  0%|          | 0/80 [00:00<?, ?it/s]"
      ]
     },
     "metadata": {},
     "output_type": "display_data"
    },
    {
     "name": "stdout",
     "output_type": "stream",
     "text": [
      "epoch: 291, train_acc: 1.0 , train_loss: 1.0346409836520242e-09 , test_acc: 0.998876953125 , test_loss: 0.0068532214779224885\n"
     ]
    },
    {
     "data": {
      "application/vnd.jupyter.widget-view+json": {
       "model_id": "b12e231b39e742e392ed6696f28c5c9b",
       "version_major": 2,
       "version_minor": 0
      },
      "text/plain": [
       "  0%|          | 0/80 [00:00<?, ?it/s]"
      ]
     },
     "metadata": {},
     "output_type": "display_data"
    },
    {
     "name": "stdout",
     "output_type": "stream",
     "text": [
      "epoch: 292, train_acc: 1.0 , train_loss: 9.909852637275673e-10 , test_acc: 0.99892578125 , test_loss: 0.006886993466468994\n"
     ]
    },
    {
     "data": {
      "application/vnd.jupyter.widget-view+json": {
       "model_id": "8bb807da992e4addaa8cc27545de79fa",
       "version_major": 2,
       "version_minor": 0
      },
      "text/plain": [
       "  0%|          | 0/80 [00:00<?, ?it/s]"
      ]
     },
     "metadata": {},
     "output_type": "display_data"
    },
    {
     "name": "stdout",
     "output_type": "stream",
     "text": [
      "epoch: 293, train_acc: 1.0 , train_loss: 9.880749005444778e-10 , test_acc: 0.998828125 , test_loss: 0.006902612946066711\n"
     ]
    },
    {
     "data": {
      "application/vnd.jupyter.widget-view+json": {
       "model_id": "d91a7977e89a4bf690214adce84fd8d3",
       "version_major": 2,
       "version_minor": 0
      },
      "text/plain": [
       "  0%|          | 0/80 [00:00<?, ?it/s]"
      ]
     },
     "metadata": {},
     "output_type": "display_data"
    },
    {
     "name": "stdout",
     "output_type": "stream",
     "text": [
      "epoch: 294, train_acc: 1.0 , train_loss: 1.075842918311226e-09 , test_acc: 0.998828125 , test_loss: 0.006911312068518782\n"
     ]
    },
    {
     "data": {
      "application/vnd.jupyter.widget-view+json": {
       "model_id": "ac6b675e41184b7f942a82c5a097c61b",
       "version_major": 2,
       "version_minor": 0
      },
      "text/plain": [
       "  0%|          | 0/80 [00:00<?, ?it/s]"
      ]
     },
     "metadata": {},
     "output_type": "display_data"
    },
    {
     "name": "stdout",
     "output_type": "stream",
     "text": [
      "epoch: 295, train_acc: 1.0 , train_loss: 1.060834450231779e-09 , test_acc: 0.998876953125 , test_loss: 0.007006583689292256\n"
     ]
    },
    {
     "data": {
      "application/vnd.jupyter.widget-view+json": {
       "model_id": "ef663a734ad34e37a92cf19806035984",
       "version_major": 2,
       "version_minor": 0
      },
      "text/plain": [
       "  0%|          | 0/80 [00:00<?, ?it/s]"
      ]
     },
     "metadata": {},
     "output_type": "display_data"
    },
    {
     "name": "stdout",
     "output_type": "stream",
     "text": [
      "epoch: 296, train_acc: 1.0 , train_loss: 9.429639719234217e-10 , test_acc: 0.9988129326384444 , test_loss: 0.006963308037377658\n"
     ]
    },
    {
     "data": {
      "application/vnd.jupyter.widget-view+json": {
       "model_id": "f56273fe9e764bec8bb546020e58751a",
       "version_major": 2,
       "version_minor": 0
      },
      "text/plain": [
       "  0%|          | 0/80 [00:00<?, ?it/s]"
      ]
     },
     "metadata": {},
     "output_type": "display_data"
    },
    {
     "name": "stdout",
     "output_type": "stream",
     "text": [
      "epoch: 297, train_acc: 1.0 , train_loss: 1.0404615593574695e-09 , test_acc: 0.998779296875 , test_loss: 0.006872459510395857\n"
     ]
    },
    {
     "data": {
      "application/vnd.jupyter.widget-view+json": {
       "model_id": "bdf75d46e61d4f1e8893e8f5a7181ef7",
       "version_major": 2,
       "version_minor": 0
      },
      "text/plain": [
       "  0%|          | 0/80 [00:00<?, ?it/s]"
      ]
     },
     "metadata": {},
     "output_type": "display_data"
    },
    {
     "name": "stdout",
     "output_type": "stream",
     "text": [
      "epoch: 298, train_acc: 0.5121950635723039 , train_loss: 1.8519646330080317 , test_acc: 0.24880017855713826 , test_loss: 1.395681494474411\n"
     ]
    },
    {
     "data": {
      "application/vnd.jupyter.widget-view+json": {
       "model_id": "364d4fb331824db494e87f535db1d627",
       "version_major": 2,
       "version_minor": 0
      },
      "text/plain": [
       "  0%|          | 0/80 [00:00<?, ?it/s]"
      ]
     },
     "metadata": {},
     "output_type": "display_data"
    },
    {
     "name": "stdout",
     "output_type": "stream",
     "text": [
      "epoch: 299, train_acc: 0.251040709252451 , train_loss: 1.3900156289339065 , test_acc: 0.24905844870358512 , test_loss: 1.387280571460724\n"
     ]
    },
    {
     "data": {
      "application/vnd.jupyter.widget-view+json": {
       "model_id": "68a7ef560b49422a8f8b5ed5071a8a76",
       "version_major": 2,
       "version_minor": 0
      },
      "text/plain": [
       "  0%|          | 0/80 [00:00<?, ?it/s]"
      ]
     },
     "metadata": {},
     "output_type": "display_data"
    },
    {
     "name": "stdout",
     "output_type": "stream",
     "text": [
      "epoch: 300, train_acc: 0.251040709252451 , train_loss: 1.3866840228438377 , test_acc: 0.2487242167493598 , test_loss: 1.3863985180854796\n"
     ]
    },
    {
     "data": {
      "application/vnd.jupyter.widget-view+json": {
       "model_id": "88a777603d904d23baf1aabf4b9e2ad4",
       "version_major": 2,
       "version_minor": 0
      },
      "text/plain": [
       "  0%|          | 0/80 [00:00<?, ?it/s]"
      ]
     },
     "metadata": {},
     "output_type": "display_data"
    },
    {
     "name": "stdout",
     "output_type": "stream",
     "text": [
      "epoch: 301, train_acc: 0.2503420362285539 , train_loss: 1.3863293826580048 , test_acc: 0.2487242167493598 , test_loss: 1.3863170742988586\n"
     ]
    },
    {
     "data": {
      "application/vnd.jupyter.widget-view+json": {
       "model_id": "737ccc7542d44cd0a56f0cd789f3e77f",
       "version_major": 2,
       "version_minor": 0
      },
      "text/plain": [
       "  0%|          | 0/80 [00:00<?, ?it/s]"
      ]
     },
     "metadata": {},
     "output_type": "display_data"
    },
    {
     "name": "stdout",
     "output_type": "stream",
     "text": [
      "epoch: 302, train_acc: 0.2459295534620098 , train_loss: 1.3863216921687127 , test_acc: 0.24941106153969272 , test_loss: 1.38630051612854\n"
     ]
    },
    {
     "data": {
      "application/vnd.jupyter.widget-view+json": {
       "model_id": "659a5da348a6470683143ff16e194f93",
       "version_major": 2,
       "version_minor": 0
      },
      "text/plain": [
       "  0%|          | 0/80 [00:00<?, ?it/s]"
      ]
     },
     "metadata": {},
     "output_type": "display_data"
    },
    {
     "name": "stdout",
     "output_type": "stream",
     "text": [
      "epoch: 303, train_acc: 0.24948562921262254 , train_loss: 1.3863212779164313 , test_acc: 0.24858748549535853 , test_loss: 1.3862966239452361\n"
     ]
    },
    {
     "data": {
      "application/vnd.jupyter.widget-view+json": {
       "model_id": "4b7e5524a5474d3b9611fdf50c0e4302",
       "version_major": 2,
       "version_minor": 0
      },
      "text/plain": [
       "  0%|          | 0/80 [00:00<?, ?it/s]"
      ]
     },
     "metadata": {},
     "output_type": "display_data"
    },
    {
     "name": "stdout",
     "output_type": "stream",
     "text": [
      "epoch: 304, train_acc: 0.24939922257965685 , train_loss: 1.3863132059574128 , test_acc: 0.2494718309859155 , test_loss: 1.3863032519817353\n"
     ]
    },
    {
     "data": {
      "application/vnd.jupyter.widget-view+json": {
       "model_id": "41fbacbd08e74e40af2e9eac9d70e41e",
       "version_major": 2,
       "version_minor": 0
      },
      "text/plain": [
       "  0%|          | 0/80 [00:00<?, ?it/s]"
      ]
     },
     "metadata": {},
     "output_type": "display_data"
    },
    {
     "name": "stdout",
     "output_type": "stream",
     "text": [
      "epoch: 305, train_acc: 0.24792217179840687 , train_loss: 1.386319997906685 , test_acc: 0.2495022157090269 , test_loss: 1.3862995564937592\n"
     ]
    },
    {
     "data": {
      "application/vnd.jupyter.widget-view+json": {
       "model_id": "7b717f0255d841e0841d2f860be88f95",
       "version_major": 2,
       "version_minor": 0
      },
      "text/plain": [
       "  0%|          | 0/80 [00:00<?, ?it/s]"
      ]
     },
     "metadata": {},
     "output_type": "display_data"
    },
    {
     "name": "stdout",
     "output_type": "stream",
     "text": [
      "epoch: 306, train_acc: 0.2479748295802696 , train_loss: 1.3863078519701957 , test_acc: 0.25000787752080667 , test_loss: 1.3862933278083802\n"
     ]
    },
    {
     "data": {
      "application/vnd.jupyter.widget-view+json": {
       "model_id": "e7e0f0bc5884410ba3c57707aecb84d0",
       "version_major": 2,
       "version_minor": 0
      },
      "text/plain": [
       "  0%|          | 0/80 [00:00<?, ?it/s]"
      ]
     },
     "metadata": {},
     "output_type": "display_data"
    },
    {
     "name": "stdout",
     "output_type": "stream",
     "text": [
      "epoch: 307, train_acc: 0.2476330327052696 , train_loss: 1.3863100007176399 , test_acc: 0.2488913327264725 , test_loss: 1.386300390958786\n"
     ]
    },
    {
     "data": {
      "application/vnd.jupyter.widget-view+json": {
       "model_id": "8af773dbcb8442f0afc4b5917ffa1d94",
       "version_major": 2,
       "version_minor": 0
      },
      "text/plain": [
       "  0%|          | 0/80 [00:00<?, ?it/s]"
      ]
     },
     "metadata": {},
     "output_type": "display_data"
    },
    {
     "name": "stdout",
     "output_type": "stream",
     "text": [
      "epoch: 308, train_acc: 0.25022188074448526 , train_loss: 1.3863096624612807 , test_acc: 0.24908883342669652 , test_loss: 1.3863037884235383\n"
     ]
    },
    {
     "data": {
      "application/vnd.jupyter.widget-view+json": {
       "model_id": "aa5efa9c5c024a4eba6d1ee1c7a3884c",
       "version_major": 2,
       "version_minor": 0
      },
      "text/plain": [
       "  0%|          | 0/80 [00:00<?, ?it/s]"
      ]
     },
     "metadata": {},
     "output_type": "display_data"
    },
    {
     "name": "stdout",
     "output_type": "stream",
     "text": [
      "epoch: 309, train_acc: 0.2469549440870098 , train_loss: 1.3863104000687598 , test_acc: 0.24908883342669652 , test_loss: 1.3863078773021698\n"
     ]
    },
    {
     "data": {
      "application/vnd.jupyter.widget-view+json": {
       "model_id": "5a1e2a2eac8a4382ac7bb586fd3715bf",
       "version_major": 2,
       "version_minor": 0
      },
      "text/plain": [
       "  0%|          | 0/80 [00:00<?, ?it/s]"
      ]
     },
     "metadata": {},
     "output_type": "display_data"
    },
    {
     "name": "stdout",
     "output_type": "stream",
     "text": [
      "epoch: 310, train_acc: 0.2498058842677696 , train_loss: 1.3863143742084503 , test_acc: 0.24994279419414211 , test_loss: 1.386298131942749\n"
     ]
    },
    {
     "data": {
      "application/vnd.jupyter.widget-view+json": {
       "model_id": "31feb68bfa81465ab1836e509151540d",
       "version_major": 2,
       "version_minor": 0
      },
      "text/plain": [
       "  0%|          | 0/80 [00:00<?, ?it/s]"
      ]
     },
     "metadata": {},
     "output_type": "display_data"
    },
    {
     "name": "stdout",
     "output_type": "stream",
     "text": [
      "epoch: 311, train_acc: 0.2487137140012255 , train_loss: 1.386319936811924 , test_acc: 0.249840761543694 , test_loss: 1.3862971544265748\n"
     ]
    },
    {
     "data": {
      "application/vnd.jupyter.widget-view+json": {
       "model_id": "b7a9ffa9a5464dfead21596b5cbea97c",
       "version_major": 2,
       "version_minor": 0
      },
      "text/plain": [
       "  0%|          | 0/80 [00:00<?, ?it/s]"
      ]
     },
     "metadata": {},
     "output_type": "display_data"
    },
    {
     "name": "stdout",
     "output_type": "stream",
     "text": [
      "epoch: 312, train_acc: 0.2509411381740196 , train_loss: 1.3863173499703407 , test_acc: 0.2488609480033611 , test_loss: 1.3862980961799622\n"
     ]
    },
    {
     "data": {
      "application/vnd.jupyter.widget-view+json": {
       "model_id": "8b3b0310d4844b7385140f889ae17b00",
       "version_major": 2,
       "version_minor": 0
      },
      "text/plain": [
       "  0%|          | 0/80 [00:00<?, ?it/s]"
      ]
     },
     "metadata": {},
     "output_type": "display_data"
    },
    {
     "name": "stdout",
     "output_type": "stream",
     "text": [
      "epoch: 313, train_acc: 0.24962373621323528 , train_loss: 1.3863036185503006 , test_acc: 0.24870902438780412 , test_loss: 1.3863080620765686\n"
     ]
    },
    {
     "data": {
      "application/vnd.jupyter.widget-view+json": {
       "model_id": "9ad1e0b3d79d4041941c6f4eaf5ef7fe",
       "version_major": 2,
       "version_minor": 0
      },
      "text/plain": [
       "  0%|          | 0/80 [00:00<?, ?it/s]"
      ]
     },
     "metadata": {},
     "output_type": "display_data"
    },
    {
     "name": "stdout",
     "output_type": "stream",
     "text": [
      "epoch: 314, train_acc: 0.24964336320465685 , train_loss: 1.386313323676586 , test_acc: 0.24919517995758644 , test_loss: 1.386302262544632\n"
     ]
    },
    {
     "data": {
      "application/vnd.jupyter.widget-view+json": {
       "model_id": "7c66ff80b00b484c82c2649365684342",
       "version_major": 2,
       "version_minor": 0
      },
      "text/plain": [
       "  0%|          | 0/80 [00:00<?, ?it/s]"
      ]
     },
     "metadata": {},
     "output_type": "display_data"
    },
    {
     "name": "stdout",
     "output_type": "stream",
     "text": [
      "epoch: 315, train_acc: 0.24772877412683822 , train_loss: 1.3863275900483132 , test_acc: 0.2495933698783611 , test_loss: 1.386292713880539\n"
     ]
    },
    {
     "data": {
      "application/vnd.jupyter.widget-view+json": {
       "model_id": "fb47676e190d487e8e5a982aec51e684",
       "version_major": 2,
       "version_minor": 0
      },
      "text/plain": [
       "  0%|          | 0/80 [00:00<?, ?it/s]"
      ]
     },
     "metadata": {},
     "output_type": "display_data"
    },
    {
     "name": "stdout",
     "output_type": "stream",
     "text": [
      "epoch: 316, train_acc: 0.24867709290747547 , train_loss: 1.3863123327493667 , test_acc: 0.24913441051136362 , test_loss: 1.3862962663173675\n"
     ]
    },
    {
     "data": {
      "application/vnd.jupyter.widget-view+json": {
       "model_id": "842809ab03ac4901833570ed7621fd63",
       "version_major": 2,
       "version_minor": 0
      },
      "text/plain": [
       "  0%|          | 0/80 [00:00<?, ?it/s]"
      ]
     },
     "metadata": {},
     "output_type": "display_data"
    },
    {
     "name": "stdout",
     "output_type": "stream",
     "text": [
      "epoch: 317, train_acc: 0.24932789522058824 , train_loss: 1.386310276389122 , test_acc: 0.250190185859475 , test_loss: 1.3862958669662475\n"
     ]
    },
    {
     "data": {
      "application/vnd.jupyter.widget-view+json": {
       "model_id": "02a9ad0724f34469b24b7045fda78106",
       "version_major": 2,
       "version_minor": 0
      },
      "text/plain": [
       "  0%|          | 0/80 [00:00<?, ?it/s]"
      ]
     },
     "metadata": {},
     "output_type": "display_data"
    },
    {
     "name": "stdout",
     "output_type": "stream",
     "text": [
      "epoch: 318, train_acc: 0.2518135818780637 , train_loss: 1.386310449242592 , test_acc: 0.24983644766325225 , test_loss: 1.3863007605075837\n"
     ]
    },
    {
     "data": {
      "application/vnd.jupyter.widget-view+json": {
       "model_id": "2ac687248e4f4ec9a823719ce49a9a2e",
       "version_major": 2,
       "version_minor": 0
      },
      "text/plain": [
       "  0%|          | 0/80 [00:00<?, ?it/s]"
      ]
     },
     "metadata": {},
     "output_type": "display_data"
    },
    {
     "name": "stdout",
     "output_type": "stream",
     "text": [
      "epoch: 319, train_acc: 0.2506247127757353 , train_loss: 1.3863098978996278 , test_acc: 0.24968452404769526 , test_loss: 1.3863084852695464\n"
     ]
    },
    {
     "data": {
      "application/vnd.jupyter.widget-view+json": {
       "model_id": "46cf83c318ba4483b445826a59bfa569",
       "version_major": 2,
       "version_minor": 0
      },
      "text/plain": [
       "  0%|          | 0/80 [00:00<?, ?it/s]"
      ]
     },
     "metadata": {},
     "output_type": "display_data"
    },
    {
     "name": "stdout",
     "output_type": "stream",
     "text": [
      "epoch: 320, train_acc: 0.250857603783701 , train_loss: 1.3863081350922584 , test_acc: 0.24989721710947502 , test_loss: 1.3863027393817902\n"
     ]
    },
    {
     "data": {
      "application/vnd.jupyter.widget-view+json": {
       "model_id": "958664c7afdc4b7ca2d2364925beff80",
       "version_major": 2,
       "version_minor": 0
      },
      "text/plain": [
       "  0%|          | 0/80 [00:00<?, ?it/s]"
      ]
     },
     "metadata": {},
     "output_type": "display_data"
    },
    {
     "name": "stdout",
     "output_type": "stream",
     "text": [
      "epoch: 321, train_acc: 0.2473577761182598 , train_loss: 1.386311063170433 , test_acc: 0.2487394091109155 , test_loss: 1.3863037407398224\n"
     ]
    },
    {
     "data": {
      "application/vnd.jupyter.widget-view+json": {
       "model_id": "bcb3576b3722494fa6d85d91582f0c53",
       "version_major": 2,
       "version_minor": 0
      },
      "text/plain": [
       "  0%|          | 0/80 [00:00<?, ?it/s]"
      ]
     },
     "metadata": {},
     "output_type": "display_data"
    },
    {
     "name": "stdout",
     "output_type": "stream",
     "text": [
      "epoch: 322, train_acc: 0.24941047219669116 , train_loss: 1.3863173797726631 , test_acc: 0.24913441051136362 , test_loss: 1.3863035440444946\n"
     ]
    },
    {
     "data": {
      "application/vnd.jupyter.widget-view+json": {
       "model_id": "308abc1a031b4c7f900ece497b273365",
       "version_major": 2,
       "version_minor": 0
      },
      "text/plain": [
       "  0%|          | 0/80 [00:00<?, ?it/s]"
      ]
     },
     "metadata": {},
     "output_type": "display_data"
    },
    {
     "name": "stdout",
     "output_type": "stream",
     "text": [
      "epoch: 323, train_acc: 0.24930156632965686 , train_loss: 1.3863273039460182 , test_acc: 0.249840761543694 , test_loss: 1.3863005995750428\n"
     ]
    },
    {
     "data": {
      "application/vnd.jupyter.widget-view+json": {
       "model_id": "bc3912cabe534cc780f1e78df2afd612",
       "version_major": 2,
       "version_minor": 0
      },
      "text/plain": [
       "  0%|          | 0/80 [00:00<?, ?it/s]"
      ]
     },
     "metadata": {},
     "output_type": "display_data"
    },
    {
     "name": "stdout",
     "output_type": "stream",
     "text": [
      "epoch: 324, train_acc: 0.24905096315870096 , train_loss: 1.3863108918070792 , test_acc: 0.2487849861955826 , test_loss: 1.3863025188446045\n"
     ]
    },
    {
     "data": {
      "application/vnd.jupyter.widget-view+json": {
       "model_id": "307b3bfec8b042b69960b258990c5cbb",
       "version_major": 2,
       "version_minor": 0
      },
      "text/plain": [
       "  0%|          | 0/80 [00:00<?, ?it/s]"
      ]
     },
     "metadata": {},
     "output_type": "display_data"
    },
    {
     "name": "stdout",
     "output_type": "stream",
     "text": [
      "epoch: 325, train_acc: 0.2491775811887255 , train_loss: 1.3863306537270546 , test_acc: 0.24845075424135726 , test_loss: 1.3863071143627166\n"
     ]
    },
    {
     "data": {
      "application/vnd.jupyter.widget-view+json": {
       "model_id": "13719a99d1b14739a0b5e81bcd993de0",
       "version_major": 2,
       "version_minor": 0
      },
      "text/plain": [
       "  0%|          | 0/80 [00:00<?, ?it/s]"
      ]
     },
     "metadata": {},
     "output_type": "display_data"
    },
    {
     "name": "stdout",
     "output_type": "stream",
     "text": [
      "epoch: 326, train_acc: 0.2489147709865196 , train_loss: 1.3863086730241776 , test_acc: 0.24994279419414211 , test_loss: 1.386292999982834\n"
     ]
    },
    {
     "data": {
      "application/vnd.jupyter.widget-view+json": {
       "model_id": "f3248000ac00456e89a6399ed620a7b6",
       "version_major": 2,
       "version_minor": 0
      },
      "text/plain": [
       "  0%|          | 0/80 [00:00<?, ?it/s]"
      ]
     },
     "metadata": {},
     "output_type": "display_data"
    },
    {
     "name": "stdout",
     "output_type": "stream",
     "text": [
      "epoch: 327, train_acc: 0.24776156556372547 , train_loss: 1.3863179951906204 , test_acc: 0.25162895876680536 , test_loss: 1.386293923854828\n"
     ]
    },
    {
     "data": {
      "application/vnd.jupyter.widget-view+json": {
       "model_id": "944cea81835841509fd6688e443d50c7",
       "version_major": 2,
       "version_minor": 0
      },
      "text/plain": [
       "  0%|          | 0/80 [00:00<?, ?it/s]"
      ]
     },
     "metadata": {},
     "output_type": "display_data"
    },
    {
     "name": "stdout",
     "output_type": "stream",
     "text": [
      "epoch: 328, train_acc: 0.250213503370098 , train_loss: 1.3863085702061653 , test_acc: 0.24916479523447502 , test_loss: 1.3863083124160767\n"
     ]
    },
    {
     "data": {
      "application/vnd.jupyter.widget-view+json": {
       "model_id": "ca332366be8f4c3c978248ceb0d42752",
       "version_major": 2,
       "version_minor": 0
      },
      "text/plain": [
       "  0%|          | 0/80 [00:00<?, ?it/s]"
      ]
     },
     "metadata": {},
     "output_type": "display_data"
    },
    {
     "name": "stdout",
     "output_type": "stream",
     "text": [
      "epoch: 329, train_acc: 0.2491775811887255 , train_loss: 1.3863275334239007 , test_acc: 0.2488457556418054 , test_loss: 1.3863017201423644\n"
     ]
    },
    {
     "data": {
      "application/vnd.jupyter.widget-view+json": {
       "model_id": "b579e4077204424e88ed7988f22d1cfd",
       "version_major": 2,
       "version_minor": 0
      },
      "text/plain": [
       "  0%|          | 0/80 [00:00<?, ?it/s]"
      ]
     },
     "metadata": {},
     "output_type": "display_data"
    },
    {
     "name": "stdout",
     "output_type": "stream",
     "text": [
      "epoch: 330, train_acc: 0.24703201593137253 , train_loss: 1.3863146305084229 , test_acc: 0.2495174080705826 , test_loss: 1.3862978219985962\n"
     ]
    },
    {
     "data": {
      "application/vnd.jupyter.widget-view+json": {
       "model_id": "700a32c135a44f079f5338d43c09e1e4",
       "version_major": 2,
       "version_minor": 0
      },
      "text/plain": [
       "  0%|          | 0/80 [00:00<?, ?it/s]"
      ]
     },
     "metadata": {},
     "output_type": "display_data"
    },
    {
     "name": "stdout",
     "output_type": "stream",
     "text": [
      "epoch: 331, train_acc: 0.24612965303308823 , train_loss: 1.3863225445151328 , test_acc: 0.25165934348991675 , test_loss: 1.3862909972667694\n"
     ]
    },
    {
     "data": {
      "application/vnd.jupyter.widget-view+json": {
       "model_id": "7341392848e7418aa8210d8fc672d3a6",
       "version_major": 2,
       "version_minor": 0
      },
      "text/plain": [
       "  0%|          | 0/80 [00:00<?, ?it/s]"
      ]
     },
     "metadata": {},
     "output_type": "display_data"
    },
    {
     "name": "stdout",
     "output_type": "stream",
     "text": [
      "epoch: 332, train_acc: 0.24865650850183824 , train_loss: 1.3863110303878785 , test_acc: 0.2515529969590269 , test_loss: 1.3862935960292817\n"
     ]
    },
    {
     "data": {
      "application/vnd.jupyter.widget-view+json": {
       "model_id": "915539bcb8344afba504ac52f115a563",
       "version_major": 2,
       "version_minor": 0
      },
      "text/plain": [
       "  0%|          | 0/80 [00:00<?, ?it/s]"
      ]
     },
     "metadata": {},
     "output_type": "display_data"
    },
    {
     "name": "stdout",
     "output_type": "stream",
     "text": [
      "epoch: 333, train_acc: 0.24721512140012253 , train_loss: 1.3863163262605667 , test_acc: 0.2494566386243598 , test_loss: 1.386295312643051\n"
     ]
    },
    {
     "data": {
      "application/vnd.jupyter.widget-view+json": {
       "model_id": "0aa7bdb9a3e64db88d835901661ce8e2",
       "version_major": 2,
       "version_minor": 0
      },
      "text/plain": [
       "  0%|          | 0/80 [00:00<?, ?it/s]"
      ]
     },
     "metadata": {},
     "output_type": "display_data"
    },
    {
     "name": "stdout",
     "output_type": "stream",
     "text": [
      "epoch: 334, train_acc: 0.24817756204044117 , train_loss: 1.3863135814666747 , test_acc: 0.24986683238636362 , test_loss: 1.3862936198711395\n"
     ]
    },
    {
     "data": {
      "application/vnd.jupyter.widget-view+json": {
       "model_id": "4274107cb69549d7a1bba05624b6cf7f",
       "version_major": 2,
       "version_minor": 0
      },
      "text/plain": [
       "  0%|          | 0/80 [00:00<?, ?it/s]"
      ]
     },
     "metadata": {},
     "output_type": "display_data"
    },
    {
     "name": "stdout",
     "output_type": "stream",
     "text": [
      "epoch: 335, train_acc: 0.2481325635723039 , train_loss: 1.386319415271282 , test_acc: 0.24875460147247117 , test_loss: 1.3863094210624696\n"
     ]
    },
    {
     "data": {
      "application/vnd.jupyter.widget-view+json": {
       "model_id": "5c864080e2c140a4b8946b09757bc704",
       "version_major": 2,
       "version_minor": 0
      },
      "text/plain": [
       "  0%|          | 0/80 [00:00<?, ?it/s]"
      ]
     },
     "metadata": {},
     "output_type": "display_data"
    },
    {
     "name": "stdout",
     "output_type": "stream",
     "text": [
      "epoch: 336, train_acc: 0.24853443818933824 , train_loss: 1.386312361061573 , test_acc: 0.2499623004361396 , test_loss: 1.3863056302070618\n"
     ]
    },
    {
     "data": {
      "application/vnd.jupyter.widget-view+json": {
       "model_id": "5ddd625c8fe04e9fadb1ab9f5f182f51",
       "version_major": 2,
       "version_minor": 0
      },
      "text/plain": [
       "  0%|          | 0/80 [00:00<?, ?it/s]"
      ]
     },
     "metadata": {},
     "output_type": "display_data"
    },
    {
     "name": "stdout",
     "output_type": "stream",
     "text": [
      "epoch: 337, train_acc: 0.24886594286151958 , train_loss: 1.386306244134903 , test_acc: 0.24985595390524967 , test_loss: 1.3862998962402344\n"
     ]
    },
    {
     "data": {
      "application/vnd.jupyter.widget-view+json": {
       "model_id": "cc2df1e939bb4048863e972c83ce04c3",
       "version_major": 2,
       "version_minor": 0
      },
      "text/plain": [
       "  0%|          | 0/80 [00:00<?, ?it/s]"
      ]
     },
     "metadata": {},
     "output_type": "display_data"
    },
    {
     "name": "stdout",
     "output_type": "stream",
     "text": [
      "epoch: 338, train_acc: 0.24961990655637253 , train_loss: 1.3863192677497864 , test_acc: 0.2488457556418054 , test_loss: 1.3862977147102356\n"
     ]
    },
    {
     "data": {
      "application/vnd.jupyter.widget-view+json": {
       "model_id": "9c79fc33adad4b34944bf0d567516834",
       "version_major": 2,
       "version_minor": 0
      },
      "text/plain": [
       "  0%|          | 0/80 [00:00<?, ?it/s]"
      ]
     },
     "metadata": {},
     "output_type": "display_data"
    },
    {
     "name": "stdout",
     "output_type": "stream",
     "text": [
      "epoch: 339, train_acc: 0.24921156939338235 , train_loss: 1.386308154463768 , test_acc: 0.2495781775168054 , test_loss: 1.3863031625747682\n"
     ]
    },
    {
     "data": {
      "application/vnd.jupyter.widget-view+json": {
       "model_id": "518c1ad28f2e4b0d89473d0ac517ce0f",
       "version_major": 2,
       "version_minor": 0
      },
      "text/plain": [
       "  0%|          | 0/80 [00:00<?, ?it/s]"
      ]
     },
     "metadata": {},
     "output_type": "display_data"
    },
    {
     "name": "stdout",
     "output_type": "stream",
     "text": [
      "epoch: 340, train_acc: 0.2506247127757353 , train_loss: 1.3863122925162314 , test_acc: 0.24971490877080665 , test_loss: 1.3863130748271941\n"
     ]
    },
    {
     "data": {
      "application/vnd.jupyter.widget-view+json": {
       "model_id": "7d7f6fca2a664e878a9b2abaa2ebb14e",
       "version_major": 2,
       "version_minor": 0
      },
      "text/plain": [
       "  0%|          | 0/80 [00:00<?, ?it/s]"
      ]
     },
     "metadata": {},
     "output_type": "display_data"
    },
    {
     "name": "stdout",
     "output_type": "stream",
     "text": [
      "epoch: 341, train_acc: 0.25025491153492646 , train_loss: 1.3863028585910797 , test_acc: 0.24944144626280412 , test_loss: 1.3862996041774749\n"
     ]
    },
    {
     "data": {
      "application/vnd.jupyter.widget-view+json": {
       "model_id": "df1de156c73e4d339b77d2221fd50333",
       "version_major": 2,
       "version_minor": 0
      },
      "text/plain": [
       "  0%|          | 0/80 [00:00<?, ?it/s]"
      ]
     },
     "metadata": {},
     "output_type": "display_data"
    },
    {
     "name": "stdout",
     "output_type": "stream",
     "text": [
      "epoch: 342, train_acc: 0.2506247127757353 , train_loss: 1.3863283708691596 , test_acc: 0.24974529349391802 , test_loss: 1.3863034069538116\n"
     ]
    },
    {
     "data": {
      "application/vnd.jupyter.widget-view+json": {
       "model_id": "358fdcb57c15434d85cd42da0cd4c448",
       "version_major": 2,
       "version_minor": 0
      },
      "text/plain": [
       "  0%|          | 0/80 [00:00<?, ?it/s]"
      ]
     },
     "metadata": {},
     "output_type": "display_data"
    },
    {
     "name": "stdout",
     "output_type": "stream",
     "text": [
      "epoch: 343, train_acc: 0.24990545534620096 , train_loss: 1.3863074451684951 , test_acc: 0.24851152368758003 , test_loss: 1.3863070487976075\n"
     ]
    },
    {
     "data": {
      "application/vnd.jupyter.widget-view+json": {
       "model_id": "984d5d23cd8d4ad79d23c02bfbd6018a",
       "version_major": 2,
       "version_minor": 0
      },
      "text/plain": [
       "  0%|          | 0/80 [00:00<?, ?it/s]"
      ]
     },
     "metadata": {},
     "output_type": "display_data"
    },
    {
     "name": "stdout",
     "output_type": "stream",
     "text": [
      "epoch: 344, train_acc: 0.24974867876838233 , train_loss: 1.386303761601448 , test_acc: 0.2487394091109155 , test_loss: 1.386306768655777\n"
     ]
    },
    {
     "data": {
      "application/vnd.jupyter.widget-view+json": {
       "model_id": "e2532e619b864ada9f5968e36456f32b",
       "version_major": 2,
       "version_minor": 0
      },
      "text/plain": [
       "  0%|          | 0/80 [00:00<?, ?it/s]"
      ]
     },
     "metadata": {},
     "output_type": "display_data"
    },
    {
     "name": "stdout",
     "output_type": "stream",
     "text": [
      "epoch: 345, train_acc: 0.2503420362285539 , train_loss: 1.3863104417920113 , test_acc: 0.2487242167493598 , test_loss: 1.386306643486023\n"
     ]
    },
    {
     "data": {
      "application/vnd.jupyter.widget-view+json": {
       "model_id": "51c3e0f276a34584b8d36d35665550eb",
       "version_major": 2,
       "version_minor": 0
      },
      "text/plain": [
       "  0%|          | 0/80 [00:00<?, ?it/s]"
      ]
     },
     "metadata": {},
     "output_type": "display_data"
    },
    {
     "name": "stdout",
     "output_type": "stream",
     "text": [
      "epoch: 346, train_acc: 0.24856268190870096 , train_loss: 1.386311261355877 , test_acc: 0.24905844870358512 , test_loss: 1.3863039135932922\n"
     ]
    },
    {
     "data": {
      "application/vnd.jupyter.widget-view+json": {
       "model_id": "75f1adf93622430089081104c80b29ac",
       "version_major": 2,
       "version_minor": 0
      },
      "text/plain": [
       "  0%|          | 0/80 [00:00<?, ?it/s]"
      ]
     },
     "metadata": {},
     "output_type": "display_data"
    },
    {
     "name": "stdout",
     "output_type": "stream",
     "text": [
      "epoch: 347, train_acc: 0.24822734757965687 , train_loss: 1.3863137811422348 , test_acc: 0.24913441051136362 , test_loss: 1.3862981915473938\n"
     ]
    },
    {
     "data": {
      "application/vnd.jupyter.widget-view+json": {
       "model_id": "3999620efd304ff59f4a5ecd1175f27a",
       "version_major": 2,
       "version_minor": 0
      },
      "text/plain": [
       "  0%|          | 0/80 [00:00<?, ?it/s]"
      ]
     },
     "metadata": {},
     "output_type": "display_data"
    },
    {
     "name": "stdout",
     "output_type": "stream",
     "text": [
      "epoch: 348, train_acc: 0.24748463350183822 , train_loss: 1.3863077715039254 , test_acc: 0.2487394091109155 , test_loss: 1.386301851272583\n"
     ]
    },
    {
     "data": {
      "application/vnd.jupyter.widget-view+json": {
       "model_id": "c66e1ef618c448d9b148706d4d8440b7",
       "version_major": 2,
       "version_minor": 0
      },
      "text/plain": [
       "  0%|          | 0/80 [00:00<?, ?it/s]"
      ]
     },
     "metadata": {},
     "output_type": "display_data"
    },
    {
     "name": "stdout",
     "output_type": "stream",
     "text": [
      "epoch: 349, train_acc: 0.24836066750919117 , train_loss: 1.3863122761249542 , test_acc: 0.24958249139724714 , test_loss: 1.3862969279289246\n"
     ]
    },
    {
     "data": {
      "application/vnd.jupyter.widget-view+json": {
       "model_id": "a2a9e6fe5e3f49b5bfb9da37551a9e59",
       "version_major": 2,
       "version_minor": 0
      },
      "text/plain": [
       "  0%|          | 0/80 [00:00<?, ?it/s]"
      ]
     },
     "metadata": {},
     "output_type": "display_data"
    },
    {
     "name": "stdout",
     "output_type": "stream",
     "text": [
      "epoch: 350, train_acc: 0.24942650888480392 , train_loss: 1.3863175094127655 , test_acc: 0.24904325634202945 , test_loss: 1.3862950801849365\n"
     ]
    },
    {
     "data": {
      "application/vnd.jupyter.widget-view+json": {
       "model_id": "2a0b4f4908404aa08b473ba93585482c",
       "version_major": 2,
       "version_minor": 0
      },
      "text/plain": [
       "  0%|          | 0/80 [00:00<?, ?it/s]"
      ]
     },
     "metadata": {},
     "output_type": "display_data"
    },
    {
     "name": "stdout",
     "output_type": "stream",
     "text": [
      "epoch: 351, train_acc: 0.2470940085018382 , train_loss: 1.386321859061718 , test_acc: 0.24890652508802816 , test_loss: 1.3863030672073364\n"
     ]
    },
    {
     "data": {
      "application/vnd.jupyter.widget-view+json": {
       "model_id": "d52674cf6ccb478599018c6a420c57d3",
       "version_major": 2,
       "version_minor": 0
      },
      "text/plain": [
       "  0%|          | 0/80 [00:00<?, ?it/s]"
      ]
     },
     "metadata": {},
     "output_type": "display_data"
    },
    {
     "name": "stdout",
     "output_type": "stream",
     "text": [
      "epoch: 352, train_acc: 0.2500246534160539 , train_loss: 1.3863057643175125 , test_acc: 0.24979087057858512 , test_loss: 1.386295646429062\n"
     ]
    },
    {
     "data": {
      "application/vnd.jupyter.widget-view+json": {
       "model_id": "58d5047422454d91b7789706a9d5f9c1",
       "version_major": 2,
       "version_minor": 0
      },
      "text/plain": [
       "  0%|          | 0/80 [00:00<?, ?it/s]"
      ]
     },
     "metadata": {},
     "output_type": "display_data"
    },
    {
     "name": "stdout",
     "output_type": "stream",
     "text": [
      "epoch: 353, train_acc: 0.25194690180759804 , train_loss: 1.386314259469509 , test_acc: 0.24890652508802816 , test_loss: 1.3863024532794952\n"
     ]
    },
    {
     "data": {
      "application/vnd.jupyter.widget-view+json": {
       "model_id": "dd3ee054635d4d469297b3a3bd9c236d",
       "version_major": 2,
       "version_minor": 0
      },
      "text/plain": [
       "  0%|          | 0/80 [00:00<?, ?it/s]"
      ]
     },
     "metadata": {},
     "output_type": "display_data"
    },
    {
     "name": "stdout",
     "output_type": "stream",
     "text": [
      "epoch: 354, train_acc: 0.24941047219669116 , train_loss: 1.386312946677208 , test_acc: 0.24893690981113958 , test_loss: 1.3862996220588684\n"
     ]
    },
    {
     "data": {
      "application/vnd.jupyter.widget-view+json": {
       "model_id": "3c7eba319968424899026ee3143a8c8a",
       "version_major": 2,
       "version_minor": 0
      },
      "text/plain": [
       "  0%|          | 0/80 [00:00<?, ?it/s]"
      ]
     },
     "metadata": {},
     "output_type": "display_data"
    },
    {
     "name": "stdout",
     "output_type": "stream",
     "text": [
      "epoch: 355, train_acc: 0.24687045228247548 , train_loss: 1.3863295748829843 , test_acc: 0.251796074743918 , test_loss: 1.3862934589385987\n"
     ]
    },
    {
     "data": {
      "application/vnd.jupyter.widget-view+json": {
       "model_id": "a8f06f7e03e9459ea5f0da86f6d5daa9",
       "version_major": 2,
       "version_minor": 0
      },
      "text/plain": [
       "  0%|          | 0/80 [00:00<?, ?it/s]"
      ]
     },
     "metadata": {},
     "output_type": "display_data"
    },
    {
     "name": "stdout",
     "output_type": "stream",
     "text": [
      "epoch: 356, train_acc: 0.24782547296262253 , train_loss: 1.386310449242592 , test_acc: 0.24968452404769526 , test_loss: 1.386291939020157\n"
     ]
    },
    {
     "data": {
      "application/vnd.jupyter.widget-view+json": {
       "model_id": "5440505f709241dd9f39f4547053e06a",
       "version_major": 2,
       "version_minor": 0
      },
      "text/plain": [
       "  0%|          | 0/80 [00:00<?, ?it/s]"
      ]
     },
     "metadata": {},
     "output_type": "display_data"
    },
    {
     "name": "stdout",
     "output_type": "stream",
     "text": [
      "epoch: 357, train_acc: 0.24881519990808823 , train_loss: 1.386310985684395 , test_acc: 0.24966933168613958 , test_loss: 1.3863030791282653\n"
     ]
    },
    {
     "data": {
      "application/vnd.jupyter.widget-view+json": {
       "model_id": "a7afb162f09d48cc87c38f4a62bfe715",
       "version_major": 2,
       "version_minor": 0
      },
      "text/plain": [
       "  0%|          | 0/80 [00:00<?, ?it/s]"
      ]
     },
     "metadata": {},
     "output_type": "display_data"
    },
    {
     "name": "stdout",
     "output_type": "stream",
     "text": [
      "epoch: 358, train_acc: 0.2478884229473039 , train_loss: 1.3863112851977348 , test_acc: 0.25162895876680536 , test_loss: 1.3862939178943634\n"
     ]
    },
    {
     "data": {
      "application/vnd.jupyter.widget-view+json": {
       "model_id": "21e433dc3c664c2b804c1cd8c9032537",
       "version_major": 2,
       "version_minor": 0
      },
      "text/plain": [
       "  0%|          | 0/80 [00:00<?, ?it/s]"
      ]
     },
     "metadata": {},
     "output_type": "display_data"
    },
    {
     "name": "stdout",
     "output_type": "stream",
     "text": [
      "epoch: 359, train_acc: 0.24872424555759803 , train_loss: 1.386305394768715 , test_acc: 0.24969971640925098 , test_loss: 1.386298453807831\n"
     ]
    },
    {
     "data": {
      "application/vnd.jupyter.widget-view+json": {
       "model_id": "3d85c20ca3cd46a08a58b214953f8cb0",
       "version_major": 2,
       "version_minor": 0
      },
      "text/plain": [
       "  0%|          | 0/80 [00:00<?, ?it/s]"
      ]
     },
     "metadata": {},
     "output_type": "display_data"
    },
    {
     "name": "stdout",
     "output_type": "stream",
     "text": [
      "epoch: 360, train_acc: 0.2503918217677696 , train_loss: 1.386314618587494 , test_acc: 0.2496237546014725 , test_loss: 1.3863068759441375\n"
     ]
    },
    {
     "data": {
      "application/vnd.jupyter.widget-view+json": {
       "model_id": "9870222baff3467790757d3956bd442c",
       "version_major": 2,
       "version_minor": 0
      },
      "text/plain": [
       "  0%|          | 0/80 [00:00<?, ?it/s]"
      ]
     },
     "metadata": {},
     "output_type": "display_data"
    },
    {
     "name": "stdout",
     "output_type": "stream",
     "text": [
      "epoch: 361, train_acc: 0.24907154756433822 , train_loss: 1.3863235220313073 , test_acc: 0.24914960287291935 , test_loss: 1.3862988352775574\n"
     ]
    },
    {
     "data": {
      "application/vnd.jupyter.widget-view+json": {
       "model_id": "a7aa5d19de484635b5581518d5fe4f7e",
       "version_major": 2,
       "version_minor": 0
      },
      "text/plain": [
       "  0%|          | 0/80 [00:00<?, ?it/s]"
      ]
     },
     "metadata": {},
     "output_type": "display_data"
    },
    {
     "name": "stdout",
     "output_type": "stream",
     "text": [
      "epoch: 362, train_acc: 0.24952225030637254 , train_loss: 1.3863157734274865 , test_acc: 0.24990153098991677 , test_loss: 1.3862947404384613\n"
     ]
    },
    {
     "data": {
      "application/vnd.jupyter.widget-view+json": {
       "model_id": "c5ec5b0dd23d442082f4c6a9d5de4e44",
       "version_major": 2,
       "version_minor": 0
      },
      "text/plain": [
       "  0%|          | 0/80 [00:00<?, ?it/s]"
      ]
     },
     "metadata": {},
     "output_type": "display_data"
    },
    {
     "name": "stdout",
     "output_type": "stream",
     "text": [
      "epoch: 363, train_acc: 0.2489391850490196 , train_loss: 1.3863060295581817 , test_acc: 0.24963894696302816 , test_loss: 1.3863019704818726\n"
     ]
    },
    {
     "data": {
      "application/vnd.jupyter.widget-view+json": {
       "model_id": "2bdb4cc2bb2b4db797af040f62144810",
       "version_major": 2,
       "version_minor": 0
      },
      "text/plain": [
       "  0%|          | 0/80 [00:00<?, ?it/s]"
      ]
     },
     "metadata": {},
     "output_type": "display_data"
    },
    {
     "name": "stdout",
     "output_type": "stream",
     "text": [
      "epoch: 364, train_acc: 0.24722828584558823 , train_loss: 1.3863352105021476 , test_acc: 0.24898248689580665 , test_loss: 1.3862980484962464\n"
     ]
    },
    {
     "data": {
      "application/vnd.jupyter.widget-view+json": {
       "model_id": "6144c98744e546caadb4912b87a885fc",
       "version_major": 2,
       "version_minor": 0
      },
      "text/plain": [
       "  0%|          | 0/80 [00:00<?, ?it/s]"
      ]
     },
     "metadata": {},
     "output_type": "display_data"
    },
    {
     "name": "stdout",
     "output_type": "stream",
     "text": [
      "epoch: 365, train_acc: 0.2488893995098039 , train_loss: 1.386317852139473 , test_acc: 0.2487849861955826 , test_loss: 1.3862958788871764\n"
     ]
    },
    {
     "data": {
      "application/vnd.jupyter.widget-view+json": {
       "model_id": "a732b7b825684be192c30ef794e983f9",
       "version_major": 2,
       "version_minor": 0
      },
      "text/plain": [
       "  0%|          | 0/80 [00:00<?, ?it/s]"
      ]
     },
     "metadata": {},
     "output_type": "display_data"
    },
    {
     "name": "stdout",
     "output_type": "stream",
     "text": [
      "epoch: 366, train_acc: 0.24853443818933824 , train_loss: 1.3863146394491195 , test_acc: 0.24892171744958386 , test_loss: 1.3862943291664123\n"
     ]
    },
    {
     "data": {
      "application/vnd.jupyter.widget-view+json": {
       "model_id": "9ab05113e1fe4124abbb1db054024796",
       "version_major": 2,
       "version_minor": 0
      },
      "text/plain": [
       "  0%|          | 0/80 [00:00<?, ?it/s]"
      ]
     },
     "metadata": {},
     "output_type": "display_data"
    },
    {
     "name": "stdout",
     "output_type": "stream",
     "text": [
      "epoch: 367, train_acc: 0.24885182100183822 , train_loss: 1.3863225281238556 , test_acc: 0.24896729453425098 , test_loss: 1.3863067984580995\n"
     ]
    },
    {
     "data": {
      "application/vnd.jupyter.widget-view+json": {
       "model_id": "a3fe801f20b840a391563e85605544dc",
       "version_major": 2,
       "version_minor": 0
      },
      "text/plain": [
       "  0%|          | 0/80 [00:00<?, ?it/s]"
      ]
     },
     "metadata": {},
     "output_type": "display_data"
    },
    {
     "name": "stdout",
     "output_type": "stream",
     "text": [
      "epoch: 368, train_acc: 0.24867900773590684 , train_loss: 1.3863009676337241 , test_acc: 0.2487849861955826 , test_loss: 1.3863121211528777\n"
     ]
    },
    {
     "data": {
      "application/vnd.jupyter.widget-view+json": {
       "model_id": "58a706aa6a7142edb50500e033bad8cf",
       "version_major": 2,
       "version_minor": 0
      },
      "text/plain": [
       "  0%|          | 0/80 [00:00<?, ?it/s]"
      ]
     },
     "metadata": {},
     "output_type": "display_data"
    },
    {
     "name": "stdout",
     "output_type": "stream",
     "text": [
      "epoch: 369, train_acc: 0.24941047219669116 , train_loss: 1.3863157615065576 , test_acc: 0.24887614036491676 , test_loss: 1.386301839351654\n"
     ]
    },
    {
     "data": {
      "application/vnd.jupyter.widget-view+json": {
       "model_id": "c10d46d8efda4a3b9fee0c90a4a6b34a",
       "version_major": 2,
       "version_minor": 0
      },
      "text/plain": [
       "  0%|          | 0/80 [00:00<?, ?it/s]"
      ]
     },
     "metadata": {},
     "output_type": "display_data"
    },
    {
     "name": "stdout",
     "output_type": "stream",
     "text": [
      "epoch: 370, train_acc: 0.2488527784160539 , train_loss: 1.3863173022866249 , test_acc: 0.24991672335147247 , test_loss: 1.3863058269023896\n"
     ]
    },
    {
     "data": {
      "application/vnd.jupyter.widget-view+json": {
       "model_id": "4119a42d03844079b4824ff1393fd979",
       "version_major": 2,
       "version_minor": 0
      },
      "text/plain": [
       "  0%|          | 0/80 [00:00<?, ?it/s]"
      ]
     },
     "metadata": {},
     "output_type": "display_data"
    },
    {
     "name": "stdout",
     "output_type": "stream",
     "text": [
      "epoch: 371, train_acc: 0.24672109566482842 , train_loss: 1.386320161819458 , test_acc: 0.2514922275128041 , test_loss: 1.3862904906272888\n"
     ]
    },
    {
     "data": {
      "application/vnd.jupyter.widget-view+json": {
       "model_id": "9812390f2664444b8341f85973e856c9",
       "version_major": 2,
       "version_minor": 0
      },
      "text/plain": [
       "  0%|          | 0/80 [00:00<?, ?it/s]"
      ]
     },
     "metadata": {},
     "output_type": "display_data"
    },
    {
     "name": "stdout",
     "output_type": "stream",
     "text": [
      "epoch: 372, train_acc: 0.24829029756433824 , train_loss: 1.3863269627094268 , test_acc: 0.25185684419014087 , test_loss: 1.3862932920455933\n"
     ]
    },
    {
     "data": {
      "application/vnd.jupyter.widget-view+json": {
       "model_id": "4f18ba4a9e1049d897065d0d5a2a120f",
       "version_major": 2,
       "version_minor": 0
      },
      "text/plain": [
       "  0%|          | 0/80 [00:00<?, ?it/s]"
      ]
     },
     "metadata": {},
     "output_type": "display_data"
    },
    {
     "name": "stdout",
     "output_type": "stream",
     "text": [
      "epoch: 373, train_acc: 0.24641974954044116 , train_loss: 1.3863141655921936 , test_acc: 0.24993191571302814 , test_loss: 1.3862924218177795\n"
     ]
    },
    {
     "data": {
      "application/vnd.jupyter.widget-view+json": {
       "model_id": "a99a44b695ee456285ff3ddbf58fd9da",
       "version_major": 2,
       "version_minor": 0
      },
      "text/plain": [
       "  0%|          | 0/80 [00:00<?, ?it/s]"
      ]
     },
     "metadata": {},
     "output_type": "display_data"
    },
    {
     "name": "stdout",
     "output_type": "stream",
     "text": [
      "epoch: 374, train_acc: 0.25105483111213234 , train_loss: 1.3863104790449143 , test_acc: 0.24980606294014085 , test_loss: 1.3862957894802093\n"
     ]
    },
    {
     "data": {
      "application/vnd.jupyter.widget-view+json": {
       "model_id": "90451142c2094b0e8199a036c7760e96",
       "version_major": 2,
       "version_minor": 0
      },
      "text/plain": [
       "  0%|          | 0/80 [00:00<?, ?it/s]"
      ]
     },
     "metadata": {},
     "output_type": "display_data"
    },
    {
     "name": "stdout",
     "output_type": "stream",
     "text": [
      "epoch: 375, train_acc: 0.24715121400122547 , train_loss: 1.3863263472914695 , test_acc: 0.2493047150088028 , test_loss: 1.3863085567951203\n"
     ]
    },
    {
     "data": {
      "application/vnd.jupyter.widget-view+json": {
       "model_id": "1e64ad7766d6488187b1a04585299bfe",
       "version_major": 2,
       "version_minor": 0
      },
      "text/plain": [
       "  0%|          | 0/80 [00:00<?, ?it/s]"
      ]
     },
     "metadata": {},
     "output_type": "display_data"
    },
    {
     "name": "stdout",
     "output_type": "stream",
     "text": [
      "epoch: 376, train_acc: 0.25072524126838236 , train_loss: 1.3863005757331848 , test_acc: 0.24895210217269526 , test_loss: 1.386308753490448\n"
     ]
    },
    {
     "data": {
      "application/vnd.jupyter.widget-view+json": {
       "model_id": "51aa454062c841ae9c4f95f4f35a9068",
       "version_major": 2,
       "version_minor": 0
      },
      "text/plain": [
       "  0%|          | 0/80 [00:00<?, ?it/s]"
      ]
     },
     "metadata": {},
     "output_type": "display_data"
    },
    {
     "name": "stdout",
     "output_type": "stream",
     "text": [
      "epoch: 377, train_acc: 0.24934943704044116 , train_loss: 1.3863344714045525 , test_acc: 0.25011422405169653 , test_loss: 1.3863078832626343\n"
     ]
    },
    {
     "data": {
      "application/vnd.jupyter.widget-view+json": {
       "model_id": "3c288592618a4ba48251bc77b4ddfd5f",
       "version_major": 2,
       "version_minor": 0
      },
      "text/plain": [
       "  0%|          | 0/80 [00:00<?, ?it/s]"
      ]
     },
     "metadata": {},
     "output_type": "display_data"
    },
    {
     "name": "stdout",
     "output_type": "stream",
     "text": [
      "epoch: 378, train_acc: 0.2484011182598039 , train_loss: 1.3863055557012558 , test_acc: 0.24960856223991676 , test_loss: 1.3863024771213532\n"
     ]
    },
    {
     "data": {
      "application/vnd.jupyter.widget-view+json": {
       "model_id": "270512e69f4f463b87eee405ef0f0fd1",
       "version_major": 2,
       "version_minor": 0
      },
      "text/plain": [
       "  0%|          | 0/80 [00:00<?, ?it/s]"
      ]
     },
     "metadata": {},
     "output_type": "display_data"
    },
    {
     "name": "stdout",
     "output_type": "stream",
     "text": [
      "epoch: 379, train_acc: 0.24872975068933822 , train_loss: 1.3863098353147507 , test_acc: 0.24985595390524967 , test_loss: 1.386294388771057\n"
     ]
    },
    {
     "data": {
      "application/vnd.jupyter.widget-view+json": {
       "model_id": "3f728e82e8824e25a6a51320a97dd3b4",
       "version_major": 2,
       "version_minor": 0
      },
      "text/plain": [
       "  0%|          | 0/80 [00:00<?, ?it/s]"
      ]
     },
     "metadata": {},
     "output_type": "display_data"
    },
    {
     "name": "stdout",
     "output_type": "stream",
     "text": [
      "epoch: 380, train_acc: 0.24849973192401958 , train_loss: 1.3863059520721435 , test_acc: 0.2495781775168054 , test_loss: 1.3862951517105102\n"
     ]
    },
    {
     "data": {
      "application/vnd.jupyter.widget-view+json": {
       "model_id": "64ca54740bbf450ca48ac09877a62e55",
       "version_major": 2,
       "version_minor": 0
      },
      "text/plain": [
       "  0%|          | 0/80 [00:00<?, ?it/s]"
      ]
     },
     "metadata": {},
     "output_type": "display_data"
    },
    {
     "name": "stdout",
     "output_type": "stream",
     "text": [
      "epoch: 381, train_acc: 0.24922736672794116 , train_loss: 1.3863146886229516 , test_acc: 0.2502357629441421 , test_loss: 1.3862953007221221\n"
     ]
    },
    {
     "data": {
      "application/vnd.jupyter.widget-view+json": {
       "model_id": "516c361c51ac4893901ae5437667985d",
       "version_major": 2,
       "version_minor": 0
      },
      "text/plain": [
       "  0%|          | 0/80 [00:00<?, ?it/s]"
      ]
     },
     "metadata": {},
     "output_type": "display_data"
    },
    {
     "name": "stdout",
     "output_type": "stream",
     "text": [
      "epoch: 382, train_acc: 0.24941525926776958 , train_loss: 1.3863115295767785 , test_acc: 0.2485722931338028 , test_loss: 1.3862992465496062\n"
     ]
    },
    {
     "data": {
      "application/vnd.jupyter.widget-view+json": {
       "model_id": "ca43778d43fd4fc1bb0c07f5b4d2806d",
       "version_major": 2,
       "version_minor": 0
      },
      "text/plain": [
       "  0%|          | 0/80 [00:00<?, ?it/s]"
      ]
     },
     "metadata": {},
     "output_type": "display_data"
    },
    {
     "name": "stdout",
     "output_type": "stream",
     "text": [
      "epoch: 383, train_acc: 0.24920391007965687 , train_loss: 1.3863133743405343 , test_acc: 0.24987114626680537 , test_loss: 1.386298167705536\n"
     ]
    },
    {
     "data": {
      "application/vnd.jupyter.widget-view+json": {
       "model_id": "9a41f189d7e24ca3bd4d0cbcdddc652b",
       "version_major": 2,
       "version_minor": 0
      },
      "text/plain": [
       "  0%|          | 0/80 [00:00<?, ?it/s]"
      ]
     },
     "metadata": {},
     "output_type": "display_data"
    },
    {
     "name": "stdout",
     "output_type": "stream",
     "text": [
      "epoch: 384, train_acc: 0.2522661994485294 , train_loss: 1.3863102704286576 , test_acc: 0.24867863966469272 , test_loss: 1.386302250623703\n"
     ]
    },
    {
     "data": {
      "application/vnd.jupyter.widget-view+json": {
       "model_id": "90b392b5b0da4490bf33e4f934bfe0e5",
       "version_major": 2,
       "version_minor": 0
      },
      "text/plain": [
       "  0%|          | 0/80 [00:00<?, ?it/s]"
      ]
     },
     "metadata": {},
     "output_type": "display_data"
    },
    {
     "name": "stdout",
     "output_type": "stream",
     "text": [
      "epoch: 385, train_acc: 0.2505749272365196 , train_loss: 1.3863236770033835 , test_acc: 0.24883056328024966 , test_loss: 1.3863070845603942\n"
     ]
    },
    {
     "data": {
      "application/vnd.jupyter.widget-view+json": {
       "model_id": "cfcb666c451f47d3bae994d6da8337b0",
       "version_major": 2,
       "version_minor": 0
      },
      "text/plain": [
       "  0%|          | 0/80 [00:00<?, ?it/s]"
      ]
     },
     "metadata": {},
     "output_type": "display_data"
    },
    {
     "name": "stdout",
     "output_type": "stream",
     "text": [
      "epoch: 386, train_acc: 0.2499025831035539 , train_loss: 1.3863226130604744 , test_acc: 0.24892171744958386 , test_loss: 1.3863018035888672\n"
     ]
    },
    {
     "data": {
      "application/vnd.jupyter.widget-view+json": {
       "model_id": "ca89efe26b724b0fa88bbdf827559215",
       "version_major": 2,
       "version_minor": 0
      },
      "text/plain": [
       "  0%|          | 0/80 [00:00<?, ?it/s]"
      ]
     },
     "metadata": {},
     "output_type": "display_data"
    },
    {
     "name": "stdout",
     "output_type": "stream",
     "text": [
      "epoch: 387, train_acc: 0.24922186159620097 , train_loss: 1.3863117441534996 , test_acc: 0.24902806398047375 , test_loss: 1.3862974107265473\n"
     ]
    },
    {
     "data": {
      "application/vnd.jupyter.widget-view+json": {
       "model_id": "ba4326157b1b44eba66e160f97e71291",
       "version_major": 2,
       "version_minor": 0
      },
      "text/plain": [
       "  0%|          | 0/80 [00:00<?, ?it/s]"
      ]
     },
     "metadata": {},
     "output_type": "display_data"
    },
    {
     "name": "stdout",
     "output_type": "stream",
     "text": [
      "epoch: 388, train_acc: 0.24812873391544116 , train_loss: 1.3863134786486626 , test_acc: 0.24893690981113958 , test_loss: 1.3863024234771728\n"
     ]
    },
    {
     "data": {
      "application/vnd.jupyter.widget-view+json": {
       "model_id": "cabb46cb9d364e769bc9a74861ba01fc",
       "version_major": 2,
       "version_minor": 0
      },
      "text/plain": [
       "  0%|          | 0/80 [00:00<?, ?it/s]"
      ]
     },
     "metadata": {},
     "output_type": "display_data"
    },
    {
     "name": "stdout",
     "output_type": "stream",
     "text": [
      "epoch: 389, train_acc: 0.2471258425245098 , train_loss: 1.386314107477665 , test_acc: 0.24941106153969272 , test_loss: 1.3862958371639251\n"
     ]
    },
    {
     "data": {
      "application/vnd.jupyter.widget-view+json": {
       "model_id": "6e029d4c1289410bb3f6350492588689",
       "version_major": 2,
       "version_minor": 0
      },
      "text/plain": [
       "  0%|          | 0/80 [00:00<?, ?it/s]"
      ]
     },
     "metadata": {},
     "output_type": "display_data"
    },
    {
     "name": "stdout",
     "output_type": "stream",
     "text": [
      "epoch: 390, train_acc: 0.2497335994944853 , train_loss: 1.3863079652190209 , test_acc: 0.249840761543694 , test_loss: 1.3862949728965759\n"
     ]
    },
    {
     "data": {
      "application/vnd.jupyter.widget-view+json": {
       "model_id": "2f224903ca3d44bda72d0c3c8c2ffe4d",
       "version_major": 2,
       "version_minor": 0
      },
      "text/plain": [
       "  0%|          | 0/80 [00:00<?, ?it/s]"
      ]
     },
     "metadata": {},
     "output_type": "display_data"
    },
    {
     "name": "stdout",
     "output_type": "stream",
     "text": [
      "epoch: 391, train_acc: 0.24611553117340684 , train_loss: 1.3863181844353676 , test_acc: 0.24977999209747118 , test_loss: 1.386295086145401\n"
     ]
    },
    {
     "data": {
      "application/vnd.jupyter.widget-view+json": {
       "model_id": "59f945ba9a8e4a7fa755c56a7bf097cf",
       "version_major": 2,
       "version_minor": 0
      },
      "text/plain": [
       "  0%|          | 0/80 [00:00<?, ?it/s]"
      ]
     },
     "metadata": {},
     "output_type": "display_data"
    },
    {
     "name": "stdout",
     "output_type": "stream",
     "text": [
      "epoch: 392, train_acc: 0.24867254518995097 , train_loss: 1.3863218426704407 , test_acc: 0.2488913327264725 , test_loss: 1.3862955451011658\n"
     ]
    },
    {
     "data": {
      "application/vnd.jupyter.widget-view+json": {
       "model_id": "f27e0b9354eb4de8bd1291aabf9622ba",
       "version_major": 2,
       "version_minor": 0
      },
      "text/plain": [
       "  0%|          | 0/80 [00:00<?, ?it/s]"
      ]
     },
     "metadata": {},
     "output_type": "display_data"
    },
    {
     "name": "stdout",
     "output_type": "stream",
     "text": [
      "epoch: 393, train_acc: 0.251089537377451 , train_loss: 1.3863122895359994 , test_acc: 0.24968452404769526 , test_loss: 1.386304098367691\n"
     ]
    },
    {
     "data": {
      "application/vnd.jupyter.widget-view+json": {
       "model_id": "7de282b116164c8d825ab0c16ac82931",
       "version_major": 2,
       "version_minor": 0
      },
      "text/plain": [
       "  0%|          | 0/80 [00:00<?, ?it/s]"
      ]
     },
     "metadata": {},
     "output_type": "display_data"
    },
    {
     "name": "stdout",
     "output_type": "stream",
     "text": [
      "epoch: 394, train_acc: 0.2483644971660539 , train_loss: 1.3863123893737792 , test_acc: 0.24941106153969272 , test_loss: 1.3862944006919862\n"
     ]
    },
    {
     "data": {
      "application/vnd.jupyter.widget-view+json": {
       "model_id": "26da0374ac534e57ba92543bb80cfc5f",
       "version_major": 2,
       "version_minor": 0
      },
      "text/plain": [
       "  0%|          | 0/80 [00:00<?, ?it/s]"
      ]
     },
     "metadata": {},
     "output_type": "display_data"
    },
    {
     "name": "stdout",
     "output_type": "stream",
     "text": [
      "epoch: 395, train_acc: 0.24794562844669116 , train_loss: 1.386309638619423 , test_acc: 0.24969971640925098 , test_loss: 1.3863013625144958\n"
     ]
    },
    {
     "data": {
      "application/vnd.jupyter.widget-view+json": {
       "model_id": "c58910cd7dc44e94930b3abfeb9202d4",
       "version_major": 2,
       "version_minor": 0
      },
      "text/plain": [
       "  0%|          | 0/80 [00:00<?, ?it/s]"
      ]
     },
     "metadata": {},
     "output_type": "display_data"
    },
    {
     "name": "stdout",
     "output_type": "stream",
     "text": [
      "epoch: 396, train_acc: 0.2510904947916667 , train_loss: 1.3863073140382767 , test_acc: 0.24963894696302816 , test_loss: 1.386299729347229\n"
     ]
    },
    {
     "data": {
      "application/vnd.jupyter.widget-view+json": {
       "model_id": "5f130a73287c492ba72fe9db93667f27",
       "version_major": 2,
       "version_minor": 0
      },
      "text/plain": [
       "  0%|          | 0/80 [00:00<?, ?it/s]"
      ]
     },
     "metadata": {},
     "output_type": "display_data"
    },
    {
     "name": "stdout",
     "output_type": "stream",
     "text": [
      "epoch: 397, train_acc: 0.24952607996323528 , train_loss: 1.3863205164670944 , test_acc: 0.24924394556258003 , test_loss: 1.3862930297851563\n"
     ]
    },
    {
     "data": {
      "application/vnd.jupyter.widget-view+json": {
       "model_id": "99634f22da7e49169ba8b764084176c3",
       "version_major": 2,
       "version_minor": 0
      },
      "text/plain": [
       "  0%|          | 0/80 [00:00<?, ?it/s]"
      ]
     },
     "metadata": {},
     "output_type": "display_data"
    },
    {
     "name": "stdout",
     "output_type": "stream",
     "text": [
      "epoch: 398, train_acc: 0.2475353764552696 , train_loss: 1.3863307416439057 , test_acc: 0.24976048585547375 , test_loss: 1.3862947583198548\n"
     ]
    },
    {
     "data": {
      "application/vnd.jupyter.widget-view+json": {
       "model_id": "393f1d5c3aac436abd89865cca5ccc8f",
       "version_major": 2,
       "version_minor": 0
      },
      "text/plain": [
       "  0%|          | 0/80 [00:00<?, ?it/s]"
      ]
     },
     "metadata": {},
     "output_type": "display_data"
    },
    {
     "name": "stdout",
     "output_type": "stream",
     "text": [
      "epoch: 399, train_acc: 0.24862180223651958 , train_loss: 1.3863111764192582 , test_acc: 0.2487849861955826 , test_loss: 1.3863174617290497\n"
     ]
    },
    {
     "data": {
      "application/vnd.jupyter.widget-view+json": {
       "model_id": "e1b483d637e74de89e80e0100f324820",
       "version_major": 2,
       "version_minor": 0
      },
      "text/plain": [
       "  0%|          | 0/80 [00:00<?, ?it/s]"
      ]
     },
     "metadata": {},
     "output_type": "display_data"
    },
    {
     "name": "stdout",
     "output_type": "stream",
     "text": [
      "epoch: 400, train_acc: 0.24792312921262255 , train_loss: 1.3863214880228043 , test_acc: 0.2488913327264725 , test_loss: 1.3863123834133149\n"
     ]
    },
    {
     "data": {
      "application/vnd.jupyter.widget-view+json": {
       "model_id": "0550245c091a42ea91a077f0264e5927",
       "version_major": 2,
       "version_minor": 0
      },
      "text/plain": [
       "  0%|          | 0/80 [00:00<?, ?it/s]"
      ]
     },
     "metadata": {},
     "output_type": "display_data"
    },
    {
     "name": "stdout",
     "output_type": "stream",
     "text": [
      "epoch: 401, train_acc: 0.24792408662683824 , train_loss: 1.3863167718052865 , test_acc: 0.2496584532050256 , test_loss: 1.3862998843193055\n"
     ]
    },
    {
     "data": {
      "application/vnd.jupyter.widget-view+json": {
       "model_id": "8aa1dfe38bce4aec9c3de5b0fb2495ac",
       "version_major": 2,
       "version_minor": 0
      },
      "text/plain": [
       "  0%|          | 0/80 [00:00<?, ?it/s]"
      ]
     },
     "metadata": {},
     "output_type": "display_data"
    },
    {
     "name": "stdout",
     "output_type": "stream",
     "text": [
      "epoch: 402, train_acc: 0.2505129346660539 , train_loss: 1.3863115549087524 , test_acc: 0.2485722931338028 , test_loss: 1.3863145291805268\n"
     ]
    },
    {
     "data": {
      "application/vnd.jupyter.widget-view+json": {
       "model_id": "3c3ee1b6d0ff417ca6989c78b37d9f8a",
       "version_major": 2,
       "version_minor": 0
      },
      "text/plain": [
       "  0%|          | 0/80 [00:00<?, ?it/s]"
      ]
     },
     "metadata": {},
     "output_type": "display_data"
    },
    {
     "name": "stdout",
     "output_type": "stream",
     "text": [
      "epoch: 403, train_acc: 0.24861151003370097 , train_loss: 1.3862997472286225 , test_acc: 0.248663447303137 , test_loss: 1.3863025903701782\n"
     ]
    },
    {
     "data": {
      "application/vnd.jupyter.widget-view+json": {
       "model_id": "7db17debc0634f1b94f97eb8983f5e0d",
       "version_major": 2,
       "version_minor": 0
      },
      "text/plain": [
       "  0%|          | 0/80 [00:00<?, ?it/s]"
      ]
     },
     "metadata": {},
     "output_type": "display_data"
    },
    {
     "name": "stdout",
     "output_type": "stream",
     "text": [
      "epoch: 404, train_acc: 0.250701784620098 , train_loss: 1.386312371492386 , test_acc: 0.248815370918694 , test_loss: 1.3863184571266174\n"
     ]
    },
    {
     "data": {
      "application/vnd.jupyter.widget-view+json": {
       "model_id": "2c22141fe86e436f8a78904a71d5c46d",
       "version_major": 2,
       "version_minor": 0
      },
      "text/plain": [
       "  0%|          | 0/80 [00:00<?, ?it/s]"
      ]
     },
     "metadata": {},
     "output_type": "display_data"
    },
    {
     "name": "stdout",
     "output_type": "stream",
     "text": [
      "epoch: 405, train_acc: 0.24987625421262255 , train_loss: 1.38632542937994 , test_acc: 0.24880017855713826 , test_loss: 1.3863028764724732\n"
     ]
    },
    {
     "data": {
      "application/vnd.jupyter.widget-view+json": {
       "model_id": "24621f388d2144ecac21faf32b25d8b9",
       "version_major": 2,
       "version_minor": 0
      },
      "text/plain": [
       "  0%|          | 0/80 [00:00<?, ?it/s]"
      ]
     },
     "metadata": {},
     "output_type": "display_data"
    },
    {
     "name": "stdout",
     "output_type": "stream",
     "text": [
      "epoch: 406, train_acc: 0.24622347962622548 , train_loss: 1.386308988928795 , test_acc: 0.2487242167493598 , test_loss: 1.3862996041774749\n"
     ]
    },
    {
     "data": {
      "application/vnd.jupyter.widget-view+json": {
       "model_id": "54d3bdb6bde64e0d9e1827e6fd0721aa",
       "version_major": 2,
       "version_minor": 0
      },
      "text/plain": [
       "  0%|          | 0/80 [00:00<?, ?it/s]"
      ]
     },
     "metadata": {},
     "output_type": "display_data"
    },
    {
     "name": "stdout",
     "output_type": "stream",
     "text": [
      "epoch: 407, train_acc: 0.24828742532169118 , train_loss: 1.3863235503435134 , test_acc: 0.2487697938340269 , test_loss: 1.3863022029399872\n"
     ]
    },
    {
     "data": {
      "application/vnd.jupyter.widget-view+json": {
       "model_id": "0eab4571493d4afa91806356d593b16c",
       "version_major": 2,
       "version_minor": 0
      },
      "text/plain": [
       "  0%|          | 0/80 [00:00<?, ?it/s]"
      ]
     },
     "metadata": {},
     "output_type": "display_data"
    },
    {
     "name": "stdout",
     "output_type": "stream",
     "text": [
      "epoch: 408, train_acc: 0.24941908892463233 , train_loss: 1.3863111421465875 , test_acc: 0.24887614036491676 , test_loss: 1.3863074421882629\n"
     ]
    },
    {
     "data": {
      "application/vnd.jupyter.widget-view+json": {
       "model_id": "781e76955a8340c496ba38eccf54358a",
       "version_major": 2,
       "version_minor": 0
      },
      "text/plain": [
       "  0%|          | 0/80 [00:00<?, ?it/s]"
      ]
     },
     "metadata": {},
     "output_type": "display_data"
    },
    {
     "name": "stdout",
     "output_type": "stream",
     "text": [
      "epoch: 409, train_acc: 0.25010914522058825 , train_loss: 1.3863159984350204 , test_acc: 0.2487849861955826 , test_loss: 1.3863026022911071\n"
     ]
    },
    {
     "data": {
      "application/vnd.jupyter.widget-view+json": {
       "model_id": "47cd40b1b3e94e52b251ae2f092cb144",
       "version_major": 2,
       "version_minor": 0
      },
      "text/plain": [
       "  0%|          | 0/80 [00:00<?, ?it/s]"
      ]
     },
     "metadata": {},
     "output_type": "display_data"
    },
    {
     "name": "stdout",
     "output_type": "stream",
     "text": [
      "epoch: 410, train_acc: 0.24854568780637254 , train_loss: 1.3863088652491569 , test_acc: 0.2494718309859155 , test_loss: 1.3863017201423644\n"
     ]
    },
    {
     "data": {
      "application/vnd.jupyter.widget-view+json": {
       "model_id": "9a6cd57d99bf431a90575d3b7abfd19a",
       "version_major": 2,
       "version_minor": 0
      },
      "text/plain": [
       "  0%|          | 0/80 [00:00<?, ?it/s]"
      ]
     },
     "metadata": {},
     "output_type": "display_data"
    },
    {
     "name": "stdout",
     "output_type": "stream",
     "text": [
      "epoch: 411, train_acc: 0.24949137369791666 , train_loss: 1.3863198518753053 , test_acc: 0.24970403028969274 , test_loss: 1.3862966895103455\n"
     ]
    },
    {
     "data": {
      "application/vnd.jupyter.widget-view+json": {
       "model_id": "c5fad138725a4908b9b66a307bf62f37",
       "version_major": 2,
       "version_minor": 0
      },
      "text/plain": [
       "  0%|          | 0/80 [00:00<?, ?it/s]"
      ]
     },
     "metadata": {},
     "output_type": "display_data"
    },
    {
     "name": "stdout",
     "output_type": "stream",
     "text": [
      "epoch: 412, train_acc: 0.24778885186887253 , train_loss: 1.3863132640719413 , test_acc: 0.24999268515925097 , test_loss: 1.386299204826355\n"
     ]
    },
    {
     "data": {
      "application/vnd.jupyter.widget-view+json": {
       "model_id": "2b101efa55d64e718dcbc91430382012",
       "version_major": 2,
       "version_minor": 0
      },
      "text/plain": [
       "  0%|          | 0/80 [00:00<?, ?it/s]"
      ]
     },
     "metadata": {},
     "output_type": "display_data"
    },
    {
     "name": "stdout",
     "output_type": "stream",
     "text": [
      "epoch: 413, train_acc: 0.24749779794730392 , train_loss: 1.3863103866577149 , test_acc: 0.24908883342669652 , test_loss: 1.3862985014915465\n"
     ]
    },
    {
     "data": {
      "application/vnd.jupyter.widget-view+json": {
       "model_id": "1821558237ed4393b2db57702acb2e8b",
       "version_major": 2,
       "version_minor": 0
      },
      "text/plain": [
       "  0%|          | 0/80 [00:00<?, ?it/s]"
      ]
     },
     "metadata": {},
     "output_type": "display_data"
    },
    {
     "name": "stdout",
     "output_type": "stream",
     "text": [
      "epoch: 414, train_acc: 0.24704518037683823 , train_loss: 1.386316205561161 , test_acc: 0.2502053782210307 , test_loss: 1.3863099575042725\n"
     ]
    },
    {
     "data": {
      "application/vnd.jupyter.widget-view+json": {
       "model_id": "bcd39fedc143408584e636f2db3a672b",
       "version_major": 2,
       "version_minor": 0
      },
      "text/plain": [
       "  0%|          | 0/80 [00:00<?, ?it/s]"
      ]
     },
     "metadata": {},
     "output_type": "display_data"
    },
    {
     "name": "stdout",
     "output_type": "stream",
     "text": [
      "epoch: 415, train_acc: 0.2493053959865196 , train_loss: 1.3863086953759194 , test_acc: 0.25002306988236234 , test_loss: 1.3862940609455108\n"
     ]
    },
    {
     "data": {
      "application/vnd.jupyter.widget-view+json": {
       "model_id": "290b1ec49deb4afeaf27a94e2491a707",
       "version_major": 2,
       "version_minor": 0
      },
      "text/plain": [
       "  0%|          | 0/80 [00:00<?, ?it/s]"
      ]
     },
     "metadata": {},
     "output_type": "display_data"
    },
    {
     "name": "stdout",
     "output_type": "stream",
     "text": [
      "epoch: 416, train_acc: 0.24878887101715685 , train_loss: 1.3863193094730377 , test_acc: 0.25153780459747116 , test_loss: 1.386295235157013\n"
     ]
    },
    {
     "data": {
      "application/vnd.jupyter.widget-view+json": {
       "model_id": "50a55a67ded542eeb134688227358ff4",
       "version_major": 2,
       "version_minor": 0
      },
      "text/plain": [
       "  0%|          | 0/80 [00:00<?, ?it/s]"
      ]
     },
     "metadata": {},
     "output_type": "display_data"
    },
    {
     "name": "stdout",
     "output_type": "stream",
     "text": [
      "epoch: 417, train_acc: 0.25048110064338236 , train_loss: 1.3862997159361838 , test_acc: 0.24967364556658128 , test_loss: 1.3863083720207214\n"
     ]
    },
    {
     "data": {
      "application/vnd.jupyter.widget-view+json": {
       "model_id": "a2d789b409a2420d861927f291aa257c",
       "version_major": 2,
       "version_minor": 0
      },
      "text/plain": [
       "  0%|          | 0/80 [00:00<?, ?it/s]"
      ]
     },
     "metadata": {},
     "output_type": "display_data"
    },
    {
     "name": "stdout",
     "output_type": "stream",
     "text": [
      "epoch: 418, train_acc: 0.24989324831495097 , train_loss: 1.3863114416599274 , test_acc: 0.25000787752080667 , test_loss: 1.3863002240657807\n"
     ]
    },
    {
     "data": {
      "application/vnd.jupyter.widget-view+json": {
       "model_id": "ffef0a601182490b819c1c646b2137ca",
       "version_major": 2,
       "version_minor": 0
      },
      "text/plain": [
       "  0%|          | 0/80 [00:00<?, ?it/s]"
      ]
     },
     "metadata": {},
     "output_type": "display_data"
    },
    {
     "name": "stdout",
     "output_type": "stream",
     "text": [
      "epoch: 419, train_acc: 0.24798320695465687 , train_loss: 1.3863180115818978 , test_acc: 0.248815370918694 , test_loss: 1.3863041341304778\n"
     ]
    },
    {
     "data": {
      "application/vnd.jupyter.widget-view+json": {
       "model_id": "debadd9e4e1741889f83eb6647974741",
       "version_major": 2,
       "version_minor": 0
      },
      "text/plain": [
       "  0%|          | 0/80 [00:00<?, ?it/s]"
      ]
     },
     "metadata": {},
     "output_type": "display_data"
    },
    {
     "name": "stdout",
     "output_type": "stream",
     "text": [
      "epoch: 420, train_acc: 0.2491775811887255 , train_loss: 1.3863211035728455 , test_acc: 0.248663447303137 , test_loss: 1.3863030314445495\n"
     ]
    },
    {
     "data": {
      "application/vnd.jupyter.widget-view+json": {
       "model_id": "2b514f7cea994cb48b18f47f7b10664a",
       "version_major": 2,
       "version_minor": 0
      },
      "text/plain": [
       "  0%|          | 0/80 [00:00<?, ?it/s]"
      ]
     },
     "metadata": {},
     "output_type": "display_data"
    },
    {
     "name": "stdout",
     "output_type": "stream",
     "text": [
      "epoch: 421, train_acc: 0.24866871553308822 , train_loss: 1.3863199189305306 , test_acc: 0.24985595390524967 , test_loss: 1.3863013327121734\n"
     ]
    },
    {
     "data": {
      "application/vnd.jupyter.widget-view+json": {
       "model_id": "de1713e6a1794364a51b7953b29b328c",
       "version_major": 2,
       "version_minor": 0
      },
      "text/plain": [
       "  0%|          | 0/80 [00:00<?, ?it/s]"
      ]
     },
     "metadata": {},
     "output_type": "display_data"
    },
    {
     "name": "stdout",
     "output_type": "stream",
     "text": [
      "epoch: 422, train_acc: 0.24919361787683822 , train_loss: 1.386309053003788 , test_acc: 0.2486938320262484 , test_loss: 1.386310690641403\n"
     ]
    },
    {
     "data": {
      "application/vnd.jupyter.widget-view+json": {
       "model_id": "1e532e3cd4344becb3edbe6bf6df4c33",
       "version_major": 2,
       "version_minor": 0
      },
      "text/plain": [
       "  0%|          | 0/80 [00:00<?, ?it/s]"
      ]
     },
     "metadata": {},
     "output_type": "display_data"
    },
    {
     "name": "stdout",
     "output_type": "stream",
     "text": [
      "epoch: 423, train_acc: 0.24819455614276958 , train_loss: 1.3863211020827293 , test_acc: 0.24974960737435978 , test_loss: 1.3863049268722534\n"
     ]
    },
    {
     "data": {
      "application/vnd.jupyter.widget-view+json": {
       "model_id": "81b8d2bdc2554297bbc8ae84cde22b58",
       "version_major": 2,
       "version_minor": 0
      },
      "text/plain": [
       "  0%|          | 0/80 [00:00<?, ?it/s]"
      ]
     },
     "metadata": {},
     "output_type": "display_data"
    },
    {
     "name": "stdout",
     "output_type": "stream",
     "text": [
      "epoch: 424, train_acc: 0.24925848268995096 , train_loss: 1.386311936378479 , test_acc: 0.24956298515524966 , test_loss: 1.3862919986248017\n"
     ]
    },
    {
     "data": {
      "application/vnd.jupyter.widget-view+json": {
       "model_id": "b2920bfd0b224a3fb2661b8c860e5474",
       "version_major": 2,
       "version_minor": 0
      },
      "text/plain": [
       "  0%|          | 0/80 [00:00<?, ?it/s]"
      ]
     },
     "metadata": {},
     "output_type": "display_data"
    },
    {
     "name": "stdout",
     "output_type": "stream",
     "text": [
      "epoch: 425, train_acc: 0.24958424287683822 , train_loss: 1.386317279934883 , test_acc: 0.2495933698783611 , test_loss: 1.386302465200424\n"
     ]
    },
    {
     "data": {
      "application/vnd.jupyter.widget-view+json": {
       "model_id": "24d241d8443e467690152ed370ff1121",
       "version_major": 2,
       "version_minor": 0
      },
      "text/plain": [
       "  0%|          | 0/80 [00:00<?, ?it/s]"
      ]
     },
     "metadata": {},
     "output_type": "display_data"
    },
    {
     "name": "stdout",
     "output_type": "stream",
     "text": [
      "epoch: 426, train_acc: 0.2467464671415441 , train_loss: 1.3863189756870269 , test_acc: 0.24963894696302816 , test_loss: 1.3862987458705902\n"
     ]
    },
    {
     "data": {
      "application/vnd.jupyter.widget-view+json": {
       "model_id": "3c4f6fe2edb44bc9976c82ef24c4fcb2",
       "version_major": 2,
       "version_minor": 0
      },
      "text/plain": [
       "  0%|          | 0/80 [00:00<?, ?it/s]"
      ]
     },
     "metadata": {},
     "output_type": "display_data"
    },
    {
     "name": "stdout",
     "output_type": "stream",
     "text": [
      "epoch: 427, train_acc: 0.24643291398590686 , train_loss: 1.3863313123583794 , test_acc: 0.24904325634202945 , test_loss: 1.3862944722175599\n"
     ]
    },
    {
     "data": {
      "application/vnd.jupyter.widget-view+json": {
       "model_id": "92b78b2d6fc944e9a7eeb51fd1c9c140",
       "version_major": 2,
       "version_minor": 0
      },
      "text/plain": [
       "  0%|          | 0/80 [00:00<?, ?it/s]"
      ]
     },
     "metadata": {},
     "output_type": "display_data"
    },
    {
     "name": "stdout",
     "output_type": "stream",
     "text": [
      "epoch: 428, train_acc: 0.2476375804227941 , train_loss: 1.386320224404335 , test_acc: 0.24973010113236235 , test_loss: 1.386296308040619\n"
     ]
    },
    {
     "data": {
      "application/vnd.jupyter.widget-view+json": {
       "model_id": "91074e25bf1e4dc7aa9bd0c885523f92",
       "version_major": 2,
       "version_minor": 0
      },
      "text/plain": [
       "  0%|          | 0/80 [00:00<?, ?it/s]"
      ]
     },
     "metadata": {},
     "output_type": "display_data"
    },
    {
     "name": "stdout",
     "output_type": "stream",
     "text": [
      "epoch: 429, train_acc: 0.2497692631740196 , train_loss: 1.386317177116871 , test_acc: 0.24893690981113958 , test_loss: 1.386308056116104\n"
     ]
    },
    {
     "data": {
      "application/vnd.jupyter.widget-view+json": {
       "model_id": "fa6bbc7b14e2426f9af67e0f0978e5ae",
       "version_major": 2,
       "version_minor": 0
      },
      "text/plain": [
       "  0%|          | 0/80 [00:00<?, ?it/s]"
      ]
     },
     "metadata": {},
     "output_type": "display_data"
    },
    {
     "name": "stdout",
     "output_type": "stream",
     "text": [
      "epoch: 430, train_acc: 0.24871754365808824 , train_loss: 1.3863234728574754 , test_acc: 0.24941106153969272 , test_loss: 1.386310911178589\n"
     ]
    },
    {
     "data": {
      "application/vnd.jupyter.widget-view+json": {
       "model_id": "e429906779974ff985b74458d4ad9a46",
       "version_major": 2,
       "version_minor": 0
      },
      "text/plain": [
       "  0%|          | 0/80 [00:00<?, ?it/s]"
      ]
     },
     "metadata": {},
     "output_type": "display_data"
    },
    {
     "name": "stdout",
     "output_type": "stream",
     "text": [
      "epoch: 431, train_acc: 0.24807344324448527 , train_loss: 1.386301451921463 , test_acc: 0.2513858809819142 , test_loss: 1.3862911343574524\n"
     ]
    },
    {
     "data": {
      "application/vnd.jupyter.widget-view+json": {
       "model_id": "0676523dd5d34ce394447ca84c719235",
       "version_major": 2,
       "version_minor": 0
      },
      "text/plain": [
       "  0%|          | 0/80 [00:00<?, ?it/s]"
      ]
     },
     "metadata": {},
     "output_type": "display_data"
    },
    {
     "name": "stdout",
     "output_type": "stream",
     "text": [
      "epoch: 432, train_acc: 0.2505083869485294 , train_loss: 1.386304672062397 , test_acc: 0.2495022157090269 , test_loss: 1.3863020241260529\n"
     ]
    },
    {
     "data": {
      "application/vnd.jupyter.widget-view+json": {
       "model_id": "e453579403b2455ca6c33e542db724f8",
       "version_major": 2,
       "version_minor": 0
      },
      "text/plain": [
       "  0%|          | 0/80 [00:00<?, ?it/s]"
      ]
     },
     "metadata": {},
     "output_type": "display_data"
    },
    {
     "name": "stdout",
     "output_type": "stream",
     "text": [
      "epoch: 433, train_acc: 0.24992603975183822 , train_loss: 1.3863453656435012 , test_acc: 0.24976048585547375 , test_loss: 1.3863023936748504\n"
     ]
    },
    {
     "data": {
      "application/vnd.jupyter.widget-view+json": {
       "model_id": "f6f4fd45a55245608cad1c1b0d434c12",
       "version_major": 2,
       "version_minor": 0
      },
      "text/plain": [
       "  0%|          | 0/80 [00:00<?, ?it/s]"
      ]
     },
     "metadata": {},
     "output_type": "display_data"
    },
    {
     "name": "stdout",
     "output_type": "stream",
     "text": [
      "epoch: 434, train_acc: 0.25127455767463236 , train_loss: 1.386305882036686 , test_acc: 0.248663447303137 , test_loss: 1.3862958550453186\n"
     ]
    },
    {
     "data": {
      "application/vnd.jupyter.widget-view+json": {
       "model_id": "6ba4aba5e81a4c53bffb1e7ec77910ec",
       "version_major": 2,
       "version_minor": 0
      },
      "text/plain": [
       "  0%|          | 0/80 [00:00<?, ?it/s]"
      ]
     },
     "metadata": {},
     "output_type": "display_data"
    },
    {
     "name": "stdout",
     "output_type": "stream",
     "text": [
      "epoch: 435, train_acc: 0.24960027956495096 , train_loss: 1.386320562660694 , test_acc: 0.2488609480033611 , test_loss: 1.3863063871860504\n"
     ]
    },
    {
     "data": {
      "application/vnd.jupyter.widget-view+json": {
       "model_id": "b8eb6be4d9ff44f8ac0185d4dfdf5843",
       "version_major": 2,
       "version_minor": 0
      },
      "text/plain": [
       "  0%|          | 0/80 [00:00<?, ?it/s]"
      ]
     },
     "metadata": {},
     "output_type": "display_data"
    },
    {
     "name": "stdout",
     "output_type": "stream",
     "text": [
      "epoch: 436, train_acc: 0.24958424287683822 , train_loss: 1.3863239124417306 , test_acc: 0.24902806398047375 , test_loss: 1.3863076150417328\n"
     ]
    },
    {
     "data": {
      "application/vnd.jupyter.widget-view+json": {
       "model_id": "a064244c72204046b70f1945b75eede3",
       "version_major": 2,
       "version_minor": 0
      },
      "text/plain": [
       "  0%|          | 0/80 [00:00<?, ?it/s]"
      ]
     },
     "metadata": {},
     "output_type": "display_data"
    },
    {
     "name": "stdout",
     "output_type": "stream",
     "text": [
      "epoch: 437, train_acc: 0.24803299249387253 , train_loss: 1.386310911178589 , test_acc: 0.2517201129361396 , test_loss: 1.3862916290760041\n"
     ]
    },
    {
     "data": {
      "application/vnd.jupyter.widget-view+json": {
       "model_id": "e9b42de7fbfc4232904a6c22d435be20",
       "version_major": 2,
       "version_minor": 0
      },
      "text/plain": [
       "  0%|          | 0/80 [00:00<?, ?it/s]"
      ]
     },
     "metadata": {},
     "output_type": "display_data"
    },
    {
     "name": "stdout",
     "output_type": "stream",
     "text": [
      "epoch: 438, train_acc: 0.24988199869791666 , train_loss: 1.3863047167658806 , test_acc: 0.251947998359475 , test_loss: 1.3862888932228088\n"
     ]
    },
    {
     "data": {
      "application/vnd.jupyter.widget-view+json": {
       "model_id": "0ab994c433b44017a1fee34bf597d35c",
       "version_major": 2,
       "version_minor": 0
      },
      "text/plain": [
       "  0%|          | 0/80 [00:00<?, ?it/s]"
      ]
     },
     "metadata": {},
     "output_type": "display_data"
    },
    {
     "name": "stdout",
     "output_type": "stream",
     "text": [
      "epoch: 439, train_acc: 0.24694752412683824 , train_loss: 1.3863113850355149 , test_acc: 0.24863306258002563 , test_loss: 1.3862963318824768\n"
     ]
    },
    {
     "data": {
      "application/vnd.jupyter.widget-view+json": {
       "model_id": "4a3f8db577804217a052591cb6759fb2",
       "version_major": 2,
       "version_minor": 0
      },
      "text/plain": [
       "  0%|          | 0/80 [00:00<?, ?it/s]"
      ]
     },
     "metadata": {},
     "output_type": "display_data"
    },
    {
     "name": "stdout",
     "output_type": "stream",
     "text": [
      "epoch: 440, train_acc: 0.2488180721507353 , train_loss: 1.3863115787506104 , test_acc: 0.2513858809819142 , test_loss: 1.3862926602363586\n"
     ]
    },
    {
     "data": {
      "application/vnd.jupyter.widget-view+json": {
       "model_id": "eb5d86f846eb450a902527382fe73c6e",
       "version_major": 2,
       "version_minor": 0
      },
      "text/plain": [
       "  0%|          | 0/80 [00:00<?, ?it/s]"
      ]
     },
     "metadata": {},
     "output_type": "display_data"
    },
    {
     "name": "stdout",
     "output_type": "stream",
     "text": [
      "epoch: 441, train_acc: 0.24784892961090685 , train_loss: 1.3863159462809562 , test_acc: 0.2495976837588028 , test_loss: 1.3862965524196624\n"
     ]
    },
    {
     "data": {
      "application/vnd.jupyter.widget-view+json": {
       "model_id": "eb406e40268c453085f86ec96daf38fe",
       "version_major": 2,
       "version_minor": 0
      },
      "text/plain": [
       "  0%|          | 0/80 [00:00<?, ?it/s]"
      ]
     },
     "metadata": {},
     "output_type": "display_data"
    },
    {
     "name": "stdout",
     "output_type": "stream",
     "text": [
      "epoch: 442, train_acc: 0.24975514131433824 , train_loss: 1.3863100722432136 , test_acc: 0.2487242167493598 , test_loss: 1.3862959504127503\n"
     ]
    },
    {
     "data": {
      "application/vnd.jupyter.widget-view+json": {
       "model_id": "4b3ef3caf0a044d7b4ffb9f7abbb2cd1",
       "version_major": 2,
       "version_minor": 0
      },
      "text/plain": [
       "  0%|          | 0/80 [00:00<?, ?it/s]"
      ]
     },
     "metadata": {},
     "output_type": "display_data"
    },
    {
     "name": "stdout",
     "output_type": "stream",
     "text": [
      "epoch: 443, train_acc: 0.24780010148590687 , train_loss: 1.3863110944628716 , test_acc: 0.24901287161891802 , test_loss: 1.3863036036491394\n"
     ]
    },
    {
     "data": {
      "application/vnd.jupyter.widget-view+json": {
       "model_id": "98f2c7bd0d6243f6b90bca630c551f3f",
       "version_major": 2,
       "version_minor": 0
      },
      "text/plain": [
       "  0%|          | 0/80 [00:00<?, ?it/s]"
      ]
     },
     "metadata": {},
     "output_type": "display_data"
    },
    {
     "name": "stdout",
     "output_type": "stream",
     "text": [
      "epoch: 444, train_acc: 0.24825942095588233 , train_loss: 1.3863125368952751 , test_acc: 0.24999268515925097 , test_loss: 1.386298656463623\n"
     ]
    },
    {
     "data": {
      "application/vnd.jupyter.widget-view+json": {
       "model_id": "667e04702fe74984bc225dd08d250f5c",
       "version_major": 2,
       "version_minor": 0
      },
      "text/plain": [
       "  0%|          | 0/80 [00:00<?, ?it/s]"
      ]
     },
     "metadata": {},
     "output_type": "display_data"
    },
    {
     "name": "stdout",
     "output_type": "stream",
     "text": [
      "epoch: 445, train_acc: 0.2479803347120098 , train_loss: 1.3863299816846848 , test_acc: 0.249840761543694 , test_loss: 1.386298233270645\n"
     ]
    },
    {
     "data": {
      "application/vnd.jupyter.widget-view+json": {
       "model_id": "89103eda314f449fac71b1943257b5e2",
       "version_major": 2,
       "version_minor": 0
      },
      "text/plain": [
       "  0%|          | 0/80 [00:00<?, ?it/s]"
      ]
     },
     "metadata": {},
     "output_type": "display_data"
    },
    {
     "name": "stdout",
     "output_type": "stream",
     "text": [
      "epoch: 446, train_acc: 0.24902176202512255 , train_loss: 1.3863157048821448 , test_acc: 0.24973010113236235 , test_loss: 1.3863081097602845\n"
     ]
    },
    {
     "data": {
      "application/vnd.jupyter.widget-view+json": {
       "model_id": "6ad45fc7fe3349e0ae6628c842e2d1ce",
       "version_major": 2,
       "version_minor": 0
      },
      "text/plain": [
       "  0%|          | 0/80 [00:00<?, ?it/s]"
      ]
     },
     "metadata": {},
     "output_type": "display_data"
    },
    {
     "name": "stdout",
     "output_type": "stream",
     "text": [
      "epoch: 447, train_acc: 0.2502077588848039 , train_loss: 1.3863116085529328 , test_acc: 0.24895210217269526 , test_loss: 1.3863093674182891\n"
     ]
    },
    {
     "data": {
      "application/vnd.jupyter.widget-view+json": {
       "model_id": "7da83141530f4bce97ef50978f630718",
       "version_major": 2,
       "version_minor": 0
      },
      "text/plain": [
       "  0%|          | 0/80 [00:00<?, ?it/s]"
      ]
     },
     "metadata": {},
     "output_type": "display_data"
    },
    {
     "name": "stdout",
     "output_type": "stream",
     "text": [
      "epoch: 448, train_acc: 0.24774672564338235 , train_loss: 1.3863113835453986 , test_acc: 0.24895210217269526 , test_loss: 1.3863001704216003\n"
     ]
    },
    {
     "data": {
      "application/vnd.jupyter.widget-view+json": {
       "model_id": "2e1c9c7c5845465f8cb64aca3f395e1c",
       "version_major": 2,
       "version_minor": 0
      },
      "text/plain": [
       "  0%|          | 0/80 [00:00<?, ?it/s]"
      ]
     },
     "metadata": {},
     "output_type": "display_data"
    },
    {
     "name": "stdout",
     "output_type": "stream",
     "text": [
      "epoch: 449, train_acc: 0.24729482613357842 , train_loss: 1.3863220736384392 , test_acc: 0.24896729453425098 , test_loss: 1.386296570301056\n"
     ]
    },
    {
     "data": {
      "application/vnd.jupyter.widget-view+json": {
       "model_id": "d08c3fd261de4ec482ae38775396dbb5",
       "version_major": 2,
       "version_minor": 0
      },
      "text/plain": [
       "  0%|          | 0/80 [00:00<?, ?it/s]"
      ]
     },
     "metadata": {},
     "output_type": "display_data"
    },
    {
     "name": "stdout",
     "output_type": "stream",
     "text": [
      "epoch: 450, train_acc: 0.24841236787683824 , train_loss: 1.3863235875964164 , test_acc: 0.2494262539012484 , test_loss: 1.386292463541031\n"
     ]
    },
    {
     "data": {
      "application/vnd.jupyter.widget-view+json": {
       "model_id": "53389aeb3bda4ce095d055c7b3fac29b",
       "version_major": 2,
       "version_minor": 0
      },
      "text/plain": [
       "  0%|          | 0/80 [00:00<?, ?it/s]"
      ]
     },
     "metadata": {},
     "output_type": "display_data"
    },
    {
     "name": "stdout",
     "output_type": "stream",
     "text": [
      "epoch: 451, train_acc: 0.24922928155637253 , train_loss: 1.3863078474998474 , test_acc: 0.24977567821702945 , test_loss: 1.3862999856472016\n"
     ]
    },
    {
     "data": {
      "application/vnd.jupyter.widget-view+json": {
       "model_id": "a48eab2f833646d1b967baa80bf5b7c1",
       "version_major": 2,
       "version_minor": 0
      },
      "text/plain": [
       "  0%|          | 0/80 [00:00<?, ?it/s]"
      ]
     },
     "metadata": {},
     "output_type": "display_data"
    },
    {
     "name": "stdout",
     "output_type": "stream",
     "text": [
      "epoch: 452, train_acc: 0.24799445657169117 , train_loss: 1.3863098353147507 , test_acc: 0.24887614036491676 , test_loss: 1.3863072037696837\n"
     ]
    },
    {
     "data": {
      "application/vnd.jupyter.widget-view+json": {
       "model_id": "b280bc7f7e974cc689deae88ca3fb21c",
       "version_major": 2,
       "version_minor": 0
      },
      "text/plain": [
       "  0%|          | 0/80 [00:00<?, ?it/s]"
      ]
     },
     "metadata": {},
     "output_type": "display_data"
    },
    {
     "name": "stdout",
     "output_type": "stream",
     "text": [
      "epoch: 453, train_acc: 0.24792408662683824 , train_loss: 1.3863103151321412 , test_acc: 0.2494566386243598 , test_loss: 1.3862971186637878\n"
     ]
    },
    {
     "data": {
      "application/vnd.jupyter.widget-view+json": {
       "model_id": "8eac0f4aee774d288a8a0143bb123c65",
       "version_major": 2,
       "version_minor": 0
      },
      "text/plain": [
       "  0%|          | 0/80 [00:00<?, ?it/s]"
      ]
     },
     "metadata": {},
     "output_type": "display_data"
    },
    {
     "name": "stdout",
     "output_type": "stream",
     "text": [
      "epoch: 454, train_acc: 0.24992603975183822 , train_loss: 1.3863157719373702 , test_acc: 0.24987114626680537 , test_loss: 1.386296820640564\n"
     ]
    },
    {
     "data": {
      "application/vnd.jupyter.widget-view+json": {
       "model_id": "fc8be243d859483c9693f3f8b6567ce9",
       "version_major": 2,
       "version_minor": 0
      },
      "text/plain": [
       "  0%|          | 0/80 [00:00<?, ?it/s]"
      ]
     },
     "metadata": {},
     "output_type": "display_data"
    },
    {
     "name": "stdout",
     "output_type": "stream",
     "text": [
      "epoch: 455, train_acc: 0.24792217179840687 , train_loss: 1.386317753791809 , test_acc: 0.249547792793694 , test_loss: 1.3863082766532897\n"
     ]
    },
    {
     "data": {
      "application/vnd.jupyter.widget-view+json": {
       "model_id": "6fda4352e5cf4e1096686be2d7226616",
       "version_major": 2,
       "version_minor": 0
      },
      "text/plain": [
       "  0%|          | 0/80 [00:00<?, ?it/s]"
      ]
     },
     "metadata": {},
     "output_type": "display_data"
    },
    {
     "name": "stdout",
     "output_type": "stream",
     "text": [
      "epoch: 456, train_acc: 0.2470583448223039 , train_loss: 1.3863120943307876 , test_acc: 0.24974960737435978 , test_loss: 1.3863029718399047\n"
     ]
    },
    {
     "data": {
      "application/vnd.jupyter.widget-view+json": {
       "model_id": "c7e3de8b52e3478d8b342baf1bcecc62",
       "version_major": 2,
       "version_minor": 0
      },
      "text/plain": [
       "  0%|          | 0/80 [00:00<?, ?it/s]"
      ]
     },
     "metadata": {},
     "output_type": "display_data"
    },
    {
     "name": "stdout",
     "output_type": "stream",
     "text": [
      "epoch: 457, train_acc: 0.24779914407169118 , train_loss: 1.386318439245224 , test_acc: 0.2494718309859155 , test_loss: 1.3863116264343263\n"
     ]
    },
    {
     "data": {
      "application/vnd.jupyter.widget-view+json": {
       "model_id": "127801281d6241e990d6bbd18f2e8071",
       "version_major": 2,
       "version_minor": 0
      },
      "text/plain": [
       "  0%|          | 0/80 [00:00<?, ?it/s]"
      ]
     },
     "metadata": {},
     "output_type": "display_data"
    },
    {
     "name": "stdout",
     "output_type": "stream",
     "text": [
      "epoch: 458, train_acc: 0.2502951229319853 , train_loss: 1.3863065242767334 , test_acc: 0.24899767925736235 , test_loss: 1.3863006353378295\n"
     ]
    },
    {
     "data": {
      "application/vnd.jupyter.widget-view+json": {
       "model_id": "9fd17445102540eb9610d59ee84914e5",
       "version_major": 2,
       "version_minor": 0
      },
      "text/plain": [
       "  0%|          | 0/80 [00:00<?, ?it/s]"
      ]
     },
     "metadata": {},
     "output_type": "display_data"
    },
    {
     "name": "stdout",
     "output_type": "stream",
     "text": [
      "epoch: 459, train_acc: 0.24843486711090684 , train_loss: 1.386313547194004 , test_acc: 0.24892171744958386 , test_loss: 1.386298280954361\n"
     ]
    },
    {
     "data": {
      "application/vnd.jupyter.widget-view+json": {
       "model_id": "787ec37712ad4099af72ba3612dfaa7e",
       "version_major": 2,
       "version_minor": 0
      },
      "text/plain": [
       "  0%|          | 0/80 [00:00<?, ?it/s]"
      ]
     },
     "metadata": {},
     "output_type": "display_data"
    },
    {
     "name": "stdout",
     "output_type": "stream",
     "text": [
      "epoch: 460, train_acc: 0.2486452588848039 , train_loss: 1.3863086253404617 , test_acc: 0.24948702334747117 , test_loss: 1.3862988352775574\n"
     ]
    },
    {
     "data": {
      "application/vnd.jupyter.widget-view+json": {
       "model_id": "fe29e77b63b646808d3c0b108c2d3836",
       "version_major": 2,
       "version_minor": 0
      },
      "text/plain": [
       "  0%|          | 0/80 [00:00<?, ?it/s]"
      ]
     },
     "metadata": {},
     "output_type": "display_data"
    },
    {
     "name": "stdout",
     "output_type": "stream",
     "text": [
      "epoch: 461, train_acc: 0.2493420170802696 , train_loss: 1.3863086342811584 , test_acc: 0.24851152368758003 , test_loss: 1.386305993795395\n"
     ]
    },
    {
     "data": {
      "application/vnd.jupyter.widget-view+json": {
       "model_id": "95fc3eac5c7c435791ad11880a0b29aa",
       "version_major": 2,
       "version_minor": 0
      },
      "text/plain": [
       "  0%|          | 0/80 [00:00<?, ?it/s]"
      ]
     },
     "metadata": {},
     "output_type": "display_data"
    },
    {
     "name": "stdout",
     "output_type": "stream",
     "text": [
      "epoch: 462, train_acc: 0.24978147020526958 , train_loss: 1.3863097548484802 , test_acc: 0.25009903169014086 , test_loss: 1.3863029897212982\n"
     ]
    },
    {
     "data": {
      "application/vnd.jupyter.widget-view+json": {
       "model_id": "44ef53cd5a8e4047931c2ea86735c978",
       "version_major": 2,
       "version_minor": 0
      },
      "text/plain": [
       "  0%|          | 0/80 [00:00<?, ?it/s]"
      ]
     },
     "metadata": {},
     "output_type": "display_data"
    },
    {
     "name": "stdout",
     "output_type": "stream",
     "text": [
      "epoch: 463, train_acc: 0.24600758272058823 , train_loss: 1.3863187596201896 , test_acc: 0.24913441051136362 , test_loss: 1.3863041162490846\n"
     ]
    },
    {
     "data": {
      "application/vnd.jupyter.widget-view+json": {
       "model_id": "5ca4240536434a0b802aef1480fe4b9f",
       "version_major": 2,
       "version_minor": 0
      },
      "text/plain": [
       "  0%|          | 0/80 [00:00<?, ?it/s]"
      ]
     },
     "metadata": {},
     "output_type": "display_data"
    },
    {
     "name": "stdout",
     "output_type": "stream",
     "text": [
      "epoch: 464, train_acc: 0.2503298291973039 , train_loss: 1.3863138437271119 , test_acc: 0.2487394091109155 , test_loss: 1.3862983942031861\n"
     ]
    },
    {
     "data": {
      "application/vnd.jupyter.widget-view+json": {
       "model_id": "75a92b1d039940b18a977359cf545007",
       "version_major": 2,
       "version_minor": 0
      },
      "text/plain": [
       "  0%|          | 0/80 [00:00<?, ?it/s]"
      ]
     },
     "metadata": {},
     "output_type": "display_data"
    },
    {
     "name": "stdout",
     "output_type": "stream",
     "text": [
      "epoch: 465, train_acc: 0.24853826784620098 , train_loss: 1.3863167688250542 , test_acc: 0.24898248689580665 , test_loss: 1.386312586069107\n"
     ]
    },
    {
     "data": {
      "application/vnd.jupyter.widget-view+json": {
       "model_id": "0dfddc5bc0774eddb91fb27c125bb9f9",
       "version_major": 2,
       "version_minor": 0
      },
      "text/plain": [
       "  0%|          | 0/80 [00:00<?, ?it/s]"
      ]
     },
     "metadata": {},
     "output_type": "display_data"
    },
    {
     "name": "stdout",
     "output_type": "stream",
     "text": [
      "epoch: 466, train_acc: 0.251040709252451 , train_loss: 1.386312173306942 , test_acc: 0.248815370918694 , test_loss: 1.3863052546977996\n"
     ]
    },
    {
     "data": {
      "application/vnd.jupyter.widget-view+json": {
       "model_id": "d64375d48f4f480e82d5e8d640b09a51",
       "version_major": 2,
       "version_minor": 0
      },
      "text/plain": [
       "  0%|          | 0/80 [00:00<?, ?it/s]"
      ]
     },
     "metadata": {},
     "output_type": "display_data"
    },
    {
     "name": "stdout",
     "output_type": "stream",
     "text": [
      "epoch: 467, train_acc: 0.24701980890012254 , train_loss: 1.3863314494490624 , test_acc: 0.24990153098991677 , test_loss: 1.386298143863678\n"
     ]
    },
    {
     "data": {
      "application/vnd.jupyter.widget-view+json": {
       "model_id": "caa2597f4a184209a56530d821997f4c",
       "version_major": 2,
       "version_minor": 0
      },
      "text/plain": [
       "  0%|          | 0/80 [00:00<?, ?it/s]"
      ]
     },
     "metadata": {},
     "output_type": "display_data"
    },
    {
     "name": "stdout",
     "output_type": "stream",
     "text": [
      "epoch: 468, train_acc: 0.24889490464154412 , train_loss: 1.3863146230578423 , test_acc: 0.248815370918694 , test_loss: 1.3862980663776399\n"
     ]
    },
    {
     "data": {
      "application/vnd.jupyter.widget-view+json": {
       "model_id": "ccbe3c319ff64f4b8e8d7d13f161e97a",
       "version_major": 2,
       "version_minor": 0
      },
      "text/plain": [
       "  0%|          | 0/80 [00:00<?, ?it/s]"
      ]
     },
     "metadata": {},
     "output_type": "display_data"
    },
    {
     "name": "stdout",
     "output_type": "stream",
     "text": [
      "epoch: 469, train_acc: 0.24906412760416666 , train_loss: 1.3863117307424546 , test_acc: 0.24941106153969272 , test_loss: 1.3862977564334868\n"
     ]
    },
    {
     "data": {
      "application/vnd.jupyter.widget-view+json": {
       "model_id": "d3a53e20fae9492a98d6c3736973d252",
       "version_major": 2,
       "version_minor": 0
      },
      "text/plain": [
       "  0%|          | 0/80 [00:00<?, ?it/s]"
      ]
     },
     "metadata": {},
     "output_type": "display_data"
    },
    {
     "name": "stdout",
     "output_type": "stream",
     "text": [
      "epoch: 470, train_acc: 0.24941717409620096 , train_loss: 1.3863063901662827 , test_acc: 0.25010991017125483 , test_loss: 1.386298543214798\n"
     ]
    },
    {
     "data": {
      "application/vnd.jupyter.widget-view+json": {
       "model_id": "59bbf942172b4f9eaae3830a7a5477ef",
       "version_major": 2,
       "version_minor": 0
      },
      "text/plain": [
       "  0%|          | 0/80 [00:00<?, ?it/s]"
      ]
     },
     "metadata": {},
     "output_type": "display_data"
    },
    {
     "name": "stdout",
     "output_type": "stream",
     "text": [
      "epoch: 471, train_acc: 0.251162779564951 , train_loss: 1.386306717991829 , test_acc: 0.2487394091109155 , test_loss: 1.3863087475299836\n"
     ]
    },
    {
     "data": {
      "application/vnd.jupyter.widget-view+json": {
       "model_id": "82e721662c8e420bb3a05c2297d5f32b",
       "version_major": 2,
       "version_minor": 0
      },
      "text/plain": [
       "  0%|          | 0/80 [00:00<?, ?it/s]"
      ]
     },
     "metadata": {},
     "output_type": "display_data"
    },
    {
     "name": "stdout",
     "output_type": "stream",
     "text": [
      "epoch: 472, train_acc: 0.2505129346660539 , train_loss: 1.386316865682602 , test_acc: 0.2498103768205826 , test_loss: 1.3862983345985413\n"
     ]
    },
    {
     "data": {
      "application/vnd.jupyter.widget-view+json": {
       "model_id": "639df1a956644db181435c8b36fbc92f",
       "version_major": 2,
       "version_minor": 0
      },
      "text/plain": [
       "  0%|          | 0/80 [00:00<?, ?it/s]"
      ]
     },
     "metadata": {},
     "output_type": "display_data"
    },
    {
     "name": "stdout",
     "output_type": "stream",
     "text": [
      "epoch: 473, train_acc: 0.24904330384497547 , train_loss: 1.3863099008798598 , test_acc: 0.24960856223991676 , test_loss: 1.3862979471683503\n"
     ]
    },
    {
     "data": {
      "application/vnd.jupyter.widget-view+json": {
       "model_id": "e27b12d9668f4e578117ab472263c5cb",
       "version_major": 2,
       "version_minor": 0
      },
      "text/plain": [
       "  0%|          | 0/80 [00:00<?, ?it/s]"
      ]
     },
     "metadata": {},
     "output_type": "display_data"
    },
    {
     "name": "stdout",
     "output_type": "stream",
     "text": [
      "epoch: 474, train_acc: 0.24832691865808823 , train_loss: 1.386314906179905 , test_acc: 0.24880017855713826 , test_loss: 1.3862982153892518\n"
     ]
    },
    {
     "data": {
      "application/vnd.jupyter.widget-view+json": {
       "model_id": "5359e145acd646e19c0f200dfe6416fd",
       "version_major": 2,
       "version_minor": 0
      },
      "text/plain": [
       "  0%|          | 0/80 [00:00<?, ?it/s]"
      ]
     },
     "metadata": {},
     "output_type": "display_data"
    },
    {
     "name": "stdout",
     "output_type": "stream",
     "text": [
      "epoch: 475, train_acc: 0.24700664445465687 , train_loss: 1.386311900615692 , test_acc: 0.2493047150088028 , test_loss: 1.3863046705722808\n"
     ]
    },
    {
     "data": {
      "application/vnd.jupyter.widget-view+json": {
       "model_id": "04820e26a2124afd8de09b9181d8bf1f",
       "version_major": 2,
       "version_minor": 0
      },
      "text/plain": [
       "  0%|          | 0/80 [00:00<?, ?it/s]"
      ]
     },
     "metadata": {},
     "output_type": "display_data"
    },
    {
     "name": "stdout",
     "output_type": "stream",
     "text": [
      "epoch: 476, train_acc: 0.24776443780637253 , train_loss: 1.3863170072436333 , test_acc: 0.2488457556418054 , test_loss: 1.3863045811653136\n"
     ]
    },
    {
     "data": {
      "application/vnd.jupyter.widget-view+json": {
       "model_id": "44ca457ebe02477ea53c6e9abf375eb3",
       "version_major": 2,
       "version_minor": 0
      },
      "text/plain": [
       "  0%|          | 0/80 [00:00<?, ?it/s]"
      ]
     },
     "metadata": {},
     "output_type": "display_data"
    },
    {
     "name": "stdout",
     "output_type": "stream",
     "text": [
      "epoch: 477, train_acc: 0.24839824601715685 , train_loss: 1.3863167837262154 , test_acc: 0.24993191571302814 , test_loss: 1.3862952530384063\n"
     ]
    },
    {
     "data": {
      "application/vnd.jupyter.widget-view+json": {
       "model_id": "8ed05a511e4b4816be57270687f43b00",
       "version_major": 2,
       "version_minor": 0
      },
      "text/plain": [
       "  0%|          | 0/80 [00:00<?, ?it/s]"
      ]
     },
     "metadata": {},
     "output_type": "display_data"
    },
    {
     "name": "stdout",
     "output_type": "stream",
     "text": [
      "epoch: 478, train_acc: 0.24917207605698527 , train_loss: 1.3863102480769158 , test_acc: 0.2488457556418054 , test_loss: 1.3862971901893615\n"
     ]
    },
    {
     "data": {
      "application/vnd.jupyter.widget-view+json": {
       "model_id": "8bc413a46dc048afb59248967d32bd24",
       "version_major": 2,
       "version_minor": 0
      },
      "text/plain": [
       "  0%|          | 0/80 [00:00<?, ?it/s]"
      ]
     },
     "metadata": {},
     "output_type": "display_data"
    },
    {
     "name": "stdout",
     "output_type": "stream",
     "text": [
      "epoch: 479, train_acc: 0.25020967371323527 , train_loss: 1.3863149523735045 , test_acc: 0.2488913327264725 , test_loss: 1.3862978756427764\n"
     ]
    },
    {
     "data": {
      "application/vnd.jupyter.widget-view+json": {
       "model_id": "dc33891d16074ff7a3950f35005f98ea",
       "version_major": 2,
       "version_minor": 0
      },
      "text/plain": [
       "  0%|          | 0/80 [00:00<?, ?it/s]"
      ]
     },
     "metadata": {},
     "output_type": "display_data"
    },
    {
     "name": "stdout",
     "output_type": "stream",
     "text": [
      "epoch: 480, train_acc: 0.24823021982230392 , train_loss: 1.38630850315094 , test_acc: 0.24899767925736235 , test_loss: 1.3863094866275787\n"
     ]
    },
    {
     "data": {
      "application/vnd.jupyter.widget-view+json": {
       "model_id": "e580628046a345ca9f9b27b6be660905",
       "version_major": 2,
       "version_minor": 0
      },
      "text/plain": [
       "  0%|          | 0/80 [00:00<?, ?it/s]"
      ]
     },
     "metadata": {},
     "output_type": "display_data"
    },
    {
     "name": "stdout",
     "output_type": "stream",
     "text": [
      "epoch: 481, train_acc: 0.24861892999387253 , train_loss: 1.386313298344612 , test_acc: 0.24919836847791293 , test_loss: 1.3862999737262727\n"
     ]
    },
    {
     "data": {
      "application/vnd.jupyter.widget-view+json": {
       "model_id": "a743792b565944d981a756ed128f8182",
       "version_major": 2,
       "version_minor": 0
      },
      "text/plain": [
       "  0%|          | 0/80 [00:00<?, ?it/s]"
      ]
     },
     "metadata": {},
     "output_type": "display_data"
    },
    {
     "name": "stdout",
     "output_type": "stream",
     "text": [
      "epoch: 482, train_acc: 0.2486696729473039 , train_loss: 1.3863083988428115 , test_acc: 0.25017499349791933 , test_loss: 1.3862977981567384\n"
     ]
    },
    {
     "data": {
      "application/vnd.jupyter.widget-view+json": {
       "model_id": "febe9e6a79f544f298df4ca378f7ab5f",
       "version_major": 2,
       "version_minor": 0
      },
      "text/plain": [
       "  0%|          | 0/80 [00:00<?, ?it/s]"
      ]
     },
     "metadata": {},
     "output_type": "display_data"
    },
    {
     "name": "stdout",
     "output_type": "stream",
     "text": [
      "epoch: 483, train_acc: 0.24847053079044118 , train_loss: 1.386323593556881 , test_acc: 0.24994710807458387 , test_loss: 1.3862993359565734\n"
     ]
    },
    {
     "data": {
      "application/vnd.jupyter.widget-view+json": {
       "model_id": "daa05ede0f4e47828a39d42fa64c046d",
       "version_major": 2,
       "version_minor": 0
      },
      "text/plain": [
       "  0%|          | 0/80 [00:00<?, ?it/s]"
      ]
     },
     "metadata": {},
     "output_type": "display_data"
    },
    {
     "name": "stdout",
     "output_type": "stream",
     "text": [
      "epoch: 484, train_acc: 0.250784361596201 , train_loss: 1.386316566169262 , test_acc: 0.2499623004361396 , test_loss: 1.3862971544265748\n"
     ]
    },
    {
     "data": {
      "application/vnd.jupyter.widget-view+json": {
       "model_id": "e919d2c79e6e49689c94370ef0bf22e3",
       "version_major": 2,
       "version_minor": 0
      },
      "text/plain": [
       "  0%|          | 0/80 [00:00<?, ?it/s]"
      ]
     },
     "metadata": {},
     "output_type": "display_data"
    },
    {
     "name": "stdout",
     "output_type": "stream",
     "text": [
      "epoch: 485, train_acc: 0.24867996515012253 , train_loss: 1.386314009130001 , test_acc: 0.25012941641325226 , test_loss: 1.3862933456897735\n"
     ]
    },
    {
     "data": {
      "application/vnd.jupyter.widget-view+json": {
       "model_id": "961fe97a7a3040c49fd031ff91dcb4b0",
       "version_major": 2,
       "version_minor": 0
      },
      "text/plain": [
       "  0%|          | 0/80 [00:00<?, ?it/s]"
      ]
     },
     "metadata": {},
     "output_type": "display_data"
    },
    {
     "name": "stdout",
     "output_type": "stream",
     "text": [
      "epoch: 486, train_acc: 0.2478884229473039 , train_loss: 1.3863227099180222 , test_acc: 0.24893690981113958 , test_loss: 1.386302649974823\n"
     ]
    },
    {
     "data": {
      "application/vnd.jupyter.widget-view+json": {
       "model_id": "ca060681fc2e4c1ea00864e9b4c127e8",
       "version_major": 2,
       "version_minor": 0
      },
      "text/plain": [
       "  0%|          | 0/80 [00:00<?, ?it/s]"
      ]
     },
     "metadata": {},
     "output_type": "display_data"
    },
    {
     "name": "stdout",
     "output_type": "stream",
     "text": [
      "epoch: 487, train_acc: 0.24978984757965686 , train_loss: 1.3863070890307427 , test_acc: 0.24963894696302816 , test_loss: 1.3863025069236756\n"
     ]
    },
    {
     "data": {
      "application/vnd.jupyter.widget-view+json": {
       "model_id": "d380b4af366f4a929ce2c2d8d320b676",
       "version_major": 2,
       "version_minor": 0
      },
      "text/plain": [
       "  0%|          | 0/80 [00:00<?, ?it/s]"
      ]
     },
     "metadata": {},
     "output_type": "display_data"
    },
    {
     "name": "stdout",
     "output_type": "stream",
     "text": [
      "epoch: 488, train_acc: 0.2498547123927696 , train_loss: 1.386312982439995 , test_acc: 0.25006864696702946 , test_loss: 1.3862946271896361\n"
     ]
    },
    {
     "data": {
      "application/vnd.jupyter.widget-view+json": {
       "model_id": "b072ac001ac4406bb8f93a9e007afaf3",
       "version_major": 2,
       "version_minor": 0
      },
      "text/plain": [
       "  0%|          | 0/80 [00:00<?, ?it/s]"
      ]
     },
     "metadata": {},
     "output_type": "display_data"
    },
    {
     "name": "stdout",
     "output_type": "stream",
     "text": [
      "epoch: 489, train_acc: 0.25012039483762255 , train_loss: 1.3863108724355697 , test_acc: 0.24968452404769526 , test_loss: 1.386298942565918\n"
     ]
    },
    {
     "data": {
      "application/vnd.jupyter.widget-view+json": {
       "model_id": "e68f8b364b654d1382c68c047a10d542",
       "version_major": 2,
       "version_minor": 0
      },
      "text/plain": [
       "  0%|          | 0/80 [00:00<?, ?it/s]"
      ]
     },
     "metadata": {},
     "output_type": "display_data"
    },
    {
     "name": "stdout",
     "output_type": "stream",
     "text": [
      "epoch: 490, train_acc: 0.2495495366115196 , train_loss: 1.3863084122538567 , test_acc: 0.25022057058258645 , test_loss: 1.3862936735153197\n"
     ]
    },
    {
     "data": {
      "application/vnd.jupyter.widget-view+json": {
       "model_id": "408c8e167e924f7db1f3e783b73a2ded",
       "version_major": 2,
       "version_minor": 0
      },
      "text/plain": [
       "  0%|          | 0/80 [00:00<?, ?it/s]"
      ]
     },
     "metadata": {},
     "output_type": "display_data"
    },
    {
     "name": "stdout",
     "output_type": "stream",
     "text": [
      "epoch: 491, train_acc: 0.24366191789215685 , train_loss: 1.3863210499286651 , test_acc: 0.25126434208946863 , test_loss: 1.3862938404083252\n"
     ]
    },
    {
     "data": {
      "application/vnd.jupyter.widget-view+json": {
       "model_id": "bc78eea8ed034c19a8d41250ca3ce61b",
       "version_major": 2,
       "version_minor": 0
      },
      "text/plain": [
       "  0%|          | 0/80 [00:00<?, ?it/s]"
      ]
     },
     "metadata": {},
     "output_type": "display_data"
    },
    {
     "name": "stdout",
     "output_type": "stream",
     "text": [
      "epoch: 492, train_acc: 0.24841332529105392 , train_loss: 1.386310188472271 , test_acc: 0.24985164002480795 , test_loss: 1.3862987518310548\n"
     ]
    },
    {
     "data": {
      "application/vnd.jupyter.widget-view+json": {
       "model_id": "383e3ea23725493d938b34601001b30c",
       "version_major": 2,
       "version_minor": 0
      },
      "text/plain": [
       "  0%|          | 0/80 [00:00<?, ?it/s]"
      ]
     },
     "metadata": {},
     "output_type": "display_data"
    },
    {
     "name": "stdout",
     "output_type": "stream",
     "text": [
      "epoch: 493, train_acc: 0.2503664502910539 , train_loss: 1.3863163769245148 , test_acc: 0.24902806398047375 , test_loss: 1.3863052368164062\n"
     ]
    },
    {
     "data": {
      "application/vnd.jupyter.widget-view+json": {
       "model_id": "9164ff822cd54e0dac0ee53e8aee4d54",
       "version_major": 2,
       "version_minor": 0
      },
      "text/plain": [
       "  0%|          | 0/80 [00:00<?, ?it/s]"
      ]
     },
     "metadata": {},
     "output_type": "display_data"
    },
    {
     "name": "stdout",
     "output_type": "stream",
     "text": [
      "epoch: 494, train_acc: 0.24933172487745098 , train_loss: 1.3863149866461755 , test_acc: 0.2485722931338028 , test_loss: 1.386301738023758\n"
     ]
    },
    {
     "data": {
      "application/vnd.jupyter.widget-view+json": {
       "model_id": "720f28711172424aba1d565e2bfd8af4",
       "version_major": 2,
       "version_minor": 0
      },
      "text/plain": [
       "  0%|          | 0/80 [00:00<?, ?it/s]"
      ]
     },
     "metadata": {},
     "output_type": "display_data"
    },
    {
     "name": "stdout",
     "output_type": "stream",
     "text": [
      "epoch: 495, train_acc: 0.2515064912683823 , train_loss: 1.3863049373030663 , test_acc: 0.248663447303137 , test_loss: 1.386309164762497\n"
     ]
    },
    {
     "data": {
      "application/vnd.jupyter.widget-view+json": {
       "model_id": "33984da64372430f91bfe1bc77d84192",
       "version_major": 2,
       "version_minor": 0
      },
      "text/plain": [
       "  0%|          | 0/80 [00:00<?, ?it/s]"
      ]
     },
     "metadata": {},
     "output_type": "display_data"
    },
    {
     "name": "stdout",
     "output_type": "stream",
     "text": [
      "epoch: 496, train_acc: 0.2492565678615196 , train_loss: 1.3863170221447945 , test_acc: 0.24887614036491676 , test_loss: 1.3863060295581817\n"
     ]
    },
    {
     "data": {
      "application/vnd.jupyter.widget-view+json": {
       "model_id": "6b174dc1f6034cec8bbcd1b0e61b4e30",
       "version_major": 2,
       "version_minor": 0
      },
      "text/plain": [
       "  0%|          | 0/80 [00:00<?, ?it/s]"
      ]
     },
     "metadata": {},
     "output_type": "display_data"
    },
    {
     "name": "stdout",
     "output_type": "stream",
     "text": [
      "epoch: 497, train_acc: 0.24871850107230392 , train_loss: 1.3863113835453986 , test_acc: 0.2488609480033611 , test_loss: 1.3863097608089447\n"
     ]
    },
    {
     "data": {
      "application/vnd.jupyter.widget-view+json": {
       "model_id": "1086999c704d40dfac4e44c511d578b8",
       "version_major": 2,
       "version_minor": 0
      },
      "text/plain": [
       "  0%|          | 0/80 [00:00<?, ?it/s]"
      ]
     },
     "metadata": {},
     "output_type": "display_data"
    },
    {
     "name": "stdout",
     "output_type": "stream",
     "text": [
      "epoch: 498, train_acc: 0.2510397518382353 , train_loss: 1.3863123670220374 , test_acc: 0.24974960737435978 , test_loss: 1.386301738023758\n"
     ]
    },
    {
     "data": {
      "application/vnd.jupyter.widget-view+json": {
       "model_id": "c0600a13f4974692ab91b1833116718b",
       "version_major": 2,
       "version_minor": 0
      },
      "text/plain": [
       "  0%|          | 0/80 [00:00<?, ?it/s]"
      ]
     },
     "metadata": {},
     "output_type": "display_data"
    },
    {
     "name": "stdout",
     "output_type": "stream",
     "text": [
      "epoch: 499, train_acc: 0.24755691827512255 , train_loss: 1.3863276690244675 , test_acc: 0.24990153098991677 , test_loss: 1.3863013207912445\n"
     ]
    },
    {
     "data": {
      "application/vnd.jupyter.widget-view+json": {
       "model_id": "ad35a732ea874773a67e9406b3c4cc77",
       "version_major": 2,
       "version_minor": 0
      },
      "text/plain": [
       "  0%|          | 0/80 [00:00<?, ?it/s]"
      ]
     },
     "metadata": {},
     "output_type": "display_data"
    },
    {
     "name": "stdout",
     "output_type": "stream",
     "text": [
      "epoch: 500, train_acc: 0.24963211358762255 , train_loss: 1.3863088279962539 , test_acc: 0.24980606294014085 , test_loss: 1.3862951934337615\n"
     ]
    },
    {
     "data": {
      "application/vnd.jupyter.widget-view+json": {
       "model_id": "00c4eff9e6a44559bc1b4682c8a80660",
       "version_major": 2,
       "version_minor": 0
      },
      "text/plain": [
       "  0%|          | 0/80 [00:00<?, ?it/s]"
      ]
     },
     "metadata": {},
     "output_type": "display_data"
    },
    {
     "name": "stdout",
     "output_type": "stream",
     "text": [
      "epoch: 501, train_acc: 0.2489391850490196 , train_loss: 1.3863127559423447 , test_acc: 0.24985595390524967 , test_loss: 1.3863016486167907\n"
     ]
    },
    {
     "data": {
      "application/vnd.jupyter.widget-view+json": {
       "model_id": "8e140cf5447a41198f30c603827f5d0a",
       "version_major": 2,
       "version_minor": 0
      },
      "text/plain": [
       "  0%|          | 0/80 [00:00<?, ?it/s]"
      ]
     },
     "metadata": {},
     "output_type": "display_data"
    },
    {
     "name": "stdout",
     "output_type": "stream",
     "text": [
      "epoch: 502, train_acc: 0.2503908643535539 , train_loss: 1.3863152846693994 , test_acc: 0.24993191571302814 , test_loss: 1.3862994313240051\n"
     ]
    },
    {
     "data": {
      "application/vnd.jupyter.widget-view+json": {
       "model_id": "8c99f3bdd2c54b069032c95a3e017063",
       "version_major": 2,
       "version_minor": 0
      },
      "text/plain": [
       "  0%|          | 0/80 [00:00<?, ?it/s]"
      ]
     },
     "metadata": {},
     "output_type": "display_data"
    },
    {
     "name": "stdout",
     "output_type": "stream",
     "text": [
      "epoch: 503, train_acc: 0.24760670381433822 , train_loss: 1.3863154232501984 , test_acc: 0.24941106153969272 , test_loss: 1.3862973868846893\n"
     ]
    },
    {
     "data": {
      "application/vnd.jupyter.widget-view+json": {
       "model_id": "a614b90b768245a19096db1167248549",
       "version_major": 2,
       "version_minor": 0
      },
      "text/plain": [
       "  0%|          | 0/80 [00:00<?, ?it/s]"
      ]
     },
     "metadata": {},
     "output_type": "display_data"
    },
    {
     "name": "stdout",
     "output_type": "stream",
     "text": [
      "epoch: 504, train_acc: 0.24806865617340684 , train_loss: 1.3863140538334846 , test_acc: 0.24901287161891802 , test_loss: 1.3863056182861329\n"
     ]
    },
    {
     "data": {
      "application/vnd.jupyter.widget-view+json": {
       "model_id": "e7cb62192212476c9c2196584b9b1bd9",
       "version_major": 2,
       "version_minor": 0
      },
      "text/plain": [
       "  0%|          | 0/80 [00:00<?, ?it/s]"
      ]
     },
     "metadata": {},
     "output_type": "display_data"
    },
    {
     "name": "stdout",
     "output_type": "stream",
     "text": [
      "epoch: 505, train_acc: 0.24809307023590685 , train_loss: 1.3863213926553726 , test_acc: 0.2497647997359155 , test_loss: 1.3863020718097687\n"
     ]
    },
    {
     "data": {
      "application/vnd.jupyter.widget-view+json": {
       "model_id": "fa40a7ebcd3c4c77ba085d275d135fb3",
       "version_major": 2,
       "version_minor": 0
      },
      "text/plain": [
       "  0%|          | 0/80 [00:00<?, ?it/s]"
      ]
     },
     "metadata": {},
     "output_type": "display_data"
    },
    {
     "name": "stdout",
     "output_type": "stream",
     "text": [
      "epoch: 506, train_acc: 0.2503683651194853 , train_loss: 1.3863077729940414 , test_acc: 0.24936548445502563 , test_loss: 1.3863000988960266\n"
     ]
    },
    {
     "data": {
      "application/vnd.jupyter.widget-view+json": {
       "model_id": "d7ae524cfc0a46099bc3b89998357227",
       "version_major": 2,
       "version_minor": 0
      },
      "text/plain": [
       "  0%|          | 0/80 [00:00<?, ?it/s]"
      ]
     },
     "metadata": {},
     "output_type": "display_data"
    },
    {
     "name": "stdout",
     "output_type": "stream",
     "text": [
      "epoch: 507, train_acc: 0.250079226026348 , train_loss: 1.3863095089793205 , test_acc: 0.24950652958946865 , test_loss: 1.3863000690937042\n"
     ]
    },
    {
     "data": {
      "application/vnd.jupyter.widget-view+json": {
       "model_id": "b10f75ae718e4dc6aca8c63233a69251",
       "version_major": 2,
       "version_minor": 0
      },
      "text/plain": [
       "  0%|          | 0/80 [00:00<?, ?it/s]"
      ]
     },
     "metadata": {},
     "output_type": "display_data"
    },
    {
     "name": "stdout",
     "output_type": "stream",
     "text": [
      "epoch: 508, train_acc: 0.24844803155637254 , train_loss: 1.3863183349370956 , test_acc: 0.24993191571302814 , test_loss: 1.38630251288414\n"
     ]
    },
    {
     "data": {
      "application/vnd.jupyter.widget-view+json": {
       "model_id": "981a20ee41074c82a23c1fa703323ab0",
       "version_major": 2,
       "version_minor": 0
      },
      "text/plain": [
       "  0%|          | 0/80 [00:00<?, ?it/s]"
      ]
     },
     "metadata": {},
     "output_type": "display_data"
    },
    {
     "name": "stdout",
     "output_type": "stream",
     "text": [
      "epoch: 509, train_acc: 0.24939276003370098 , train_loss: 1.3863095447421074 , test_acc: 0.24983644766325225 , test_loss: 1.386296993494034\n"
     ]
    },
    {
     "data": {
      "application/vnd.jupyter.widget-view+json": {
       "model_id": "0d4f8a0bb1c142509d2f457e8287eda3",
       "version_major": 2,
       "version_minor": 0
      },
      "text/plain": [
       "  0%|          | 0/80 [00:00<?, ?it/s]"
      ]
     },
     "metadata": {},
     "output_type": "display_data"
    },
    {
     "name": "stdout",
     "output_type": "stream",
     "text": [
      "epoch: 510, train_acc: 0.24806961358762253 , train_loss: 1.386316032707691 , test_acc: 0.24960856223991676 , test_loss: 1.3863135159015656\n"
     ]
    },
    {
     "data": {
      "application/vnd.jupyter.widget-view+json": {
       "model_id": "133318eb390c4733884203f7dc7e3699",
       "version_major": 2,
       "version_minor": 0
      },
      "text/plain": [
       "  0%|          | 0/80 [00:00<?, ?it/s]"
      ]
     },
     "metadata": {},
     "output_type": "display_data"
    },
    {
     "name": "stdout",
     "output_type": "stream",
     "text": [
      "epoch: 511, train_acc: 0.24881615732230392 , train_loss: 1.3863154336810113 , test_acc: 0.24880017855713826 , test_loss: 1.3863023579120637\n"
     ]
    },
    {
     "data": {
      "application/vnd.jupyter.widget-view+json": {
       "model_id": "67665749fbc341a8b6d0cd9387dcf6d2",
       "version_major": 2,
       "version_minor": 0
      },
      "text/plain": [
       "  0%|          | 0/80 [00:00<?, ?it/s]"
      ]
     },
     "metadata": {},
     "output_type": "display_data"
    },
    {
     "name": "stdout",
     "output_type": "stream",
     "text": [
      "epoch: 512, train_acc: 0.2501730526194853 , train_loss: 1.3863250717520714 , test_acc: 0.24899767925736235 , test_loss: 1.3862950503826141\n"
     ]
    },
    {
     "data": {
      "application/vnd.jupyter.widget-view+json": {
       "model_id": "a09929ae675645e3a692ea8dad89869a",
       "version_major": 2,
       "version_minor": 0
      },
      "text/plain": [
       "  0%|          | 0/80 [00:00<?, ?it/s]"
      ]
     },
     "metadata": {},
     "output_type": "display_data"
    },
    {
     "name": "stdout",
     "output_type": "stream",
     "text": [
      "epoch: 513, train_acc: 0.24869217218137254 , train_loss: 1.3863122269511223 , test_acc: 0.2488913327264725 , test_loss: 1.3863046526908875\n"
     ]
    },
    {
     "data": {
      "application/vnd.jupyter.widget-view+json": {
       "model_id": "0275d7b72448498cab5296c9b0d211fb",
       "version_major": 2,
       "version_minor": 0
      },
      "text/plain": [
       "  0%|          | 0/80 [00:00<?, ?it/s]"
      ]
     },
     "metadata": {},
     "output_type": "display_data"
    },
    {
     "name": "stdout",
     "output_type": "stream",
     "text": [
      "epoch: 514, train_acc: 0.25007635378370097 , train_loss: 1.3863082140684129 , test_acc: 0.24875460147247117 , test_loss: 1.3863013803958892\n"
     ]
    },
    {
     "data": {
      "application/vnd.jupyter.widget-view+json": {
       "model_id": "32c42469ff4348d6a37e523df266fa16",
       "version_major": 2,
       "version_minor": 0
      },
      "text/plain": [
       "  0%|          | 0/80 [00:00<?, ?it/s]"
      ]
     },
     "metadata": {},
     "output_type": "display_data"
    },
    {
     "name": "stdout",
     "output_type": "stream",
     "text": [
      "epoch: 515, train_acc: 0.24900859757965685 , train_loss: 1.386318026483059 , test_acc: 0.2497192226512484 , test_loss: 1.3863025844097137\n"
     ]
    },
    {
     "data": {
      "application/vnd.jupyter.widget-view+json": {
       "model_id": "bb1c557d1790494294e7822204d126dd",
       "version_major": 2,
       "version_minor": 0
      },
      "text/plain": [
       "  0%|          | 0/80 [00:00<?, ?it/s]"
      ]
     },
     "metadata": {},
     "output_type": "display_data"
    },
    {
     "name": "stdout",
     "output_type": "stream",
     "text": [
      "epoch: 516, train_acc: 0.24678787530637253 , train_loss: 1.3863103896379472 , test_acc: 0.2516745358514725 , test_loss: 1.386293601989746\n"
     ]
    },
    {
     "data": {
      "application/vnd.jupyter.widget-view+json": {
       "model_id": "7bcef289c3e54b87b61f90d98369499c",
       "version_major": 2,
       "version_minor": 0
      },
      "text/plain": [
       "  0%|          | 0/80 [00:00<?, ?it/s]"
      ]
     },
     "metadata": {},
     "output_type": "display_data"
    },
    {
     "name": "stdout",
     "output_type": "stream",
     "text": [
      "epoch: 517, train_acc: 0.24769023820465685 , train_loss: 1.3863089188933373 , test_acc: 0.248663447303137 , test_loss: 1.3862985730171205\n"
     ]
    },
    {
     "data": {
      "application/vnd.jupyter.widget-view+json": {
       "model_id": "e3873738f4504a47ad196833a2c5864b",
       "version_major": 2,
       "version_minor": 0
      },
      "text/plain": [
       "  0%|          | 0/80 [00:00<?, ?it/s]"
      ]
     },
     "metadata": {},
     "output_type": "display_data"
    },
    {
     "name": "stdout",
     "output_type": "stream",
     "text": [
      "epoch: 518, train_acc: 0.24719549440870098 , train_loss: 1.3863225862383843 , test_acc: 0.2503117247519206 , test_loss: 1.3862930119037629\n"
     ]
    },
    {
     "data": {
      "application/vnd.jupyter.widget-view+json": {
       "model_id": "ef5c0e6343fa4df9806f93657b98d47f",
       "version_major": 2,
       "version_minor": 0
      },
      "text/plain": [
       "  0%|          | 0/80 [00:00<?, ?it/s]"
      ]
     },
     "metadata": {},
     "output_type": "display_data"
    },
    {
     "name": "stdout",
     "output_type": "stream",
     "text": [
      "epoch: 519, train_acc: 0.2480856502757353 , train_loss: 1.3863152146339417 , test_acc: 0.24858748549535853 , test_loss: 1.3863046526908875\n"
     ]
    },
    {
     "data": {
      "application/vnd.jupyter.widget-view+json": {
       "model_id": "3b7b92fccbd140528ae97f7367349d62",
       "version_major": 2,
       "version_minor": 0
      },
      "text/plain": [
       "  0%|          | 0/80 [00:00<?, ?it/s]"
      ]
     },
     "metadata": {},
     "output_type": "display_data"
    },
    {
     "name": "stdout",
     "output_type": "stream",
     "text": [
      "epoch: 520, train_acc: 0.24720291436887254 , train_loss: 1.386312870681286 , test_acc: 0.24867863966469272 , test_loss: 1.3863094687461852\n"
     ]
    },
    {
     "data": {
      "application/vnd.jupyter.widget-view+json": {
       "model_id": "a40eddbe040047d8a6b55926127c60a2",
       "version_major": 2,
       "version_minor": 0
      },
      "text/plain": [
       "  0%|          | 0/80 [00:00<?, ?it/s]"
      ]
     },
     "metadata": {},
     "output_type": "display_data"
    },
    {
     "name": "stdout",
     "output_type": "stream",
     "text": [
      "epoch: 521, train_acc: 0.24804615693933824 , train_loss: 1.386310924589634 , test_acc: 0.24908883342669652 , test_loss: 1.386300528049469\n"
     ]
    },
    {
     "data": {
      "application/vnd.jupyter.widget-view+json": {
       "model_id": "7364a6ae7399461d88dde41e406eb0dc",
       "version_major": 2,
       "version_minor": 0
      },
      "text/plain": [
       "  0%|          | 0/80 [00:00<?, ?it/s]"
      ]
     },
     "metadata": {},
     "output_type": "display_data"
    },
    {
     "name": "stdout",
     "output_type": "stream",
     "text": [
      "epoch: 522, train_acc: 0.24967639399509803 , train_loss: 1.386313183605671 , test_acc: 0.24890652508802816 , test_loss: 1.3863011181354523\n"
     ]
    },
    {
     "data": {
      "application/vnd.jupyter.widget-view+json": {
       "model_id": "d241def159004b5289aa9cbb484bcf28",
       "version_major": 2,
       "version_minor": 0
      },
      "text/plain": [
       "  0%|          | 0/80 [00:00<?, ?it/s]"
      ]
     },
     "metadata": {},
     "output_type": "display_data"
    },
    {
     "name": "stdout",
     "output_type": "stream",
     "text": [
      "epoch: 523, train_acc: 0.24948658662683823 , train_loss: 1.3863229170441627 , test_acc: 0.24907364106514085 , test_loss: 1.3863020241260529\n"
     ]
    },
    {
     "data": {
      "application/vnd.jupyter.widget-view+json": {
       "model_id": "ce7f6f4cc2d244dd97fbc91614a82f64",
       "version_major": 2,
       "version_minor": 0
      },
      "text/plain": [
       "  0%|          | 0/80 [00:00<?, ?it/s]"
      ]
     },
     "metadata": {},
     "output_type": "display_data"
    },
    {
     "name": "stdout",
     "output_type": "stream",
     "text": [
      "epoch: 524, train_acc: 0.24920582490808824 , train_loss: 1.386312483251095 , test_acc: 0.24898248689580665 , test_loss: 1.386298555135727\n"
     ]
    },
    {
     "data": {
      "application/vnd.jupyter.widget-view+json": {
       "model_id": "b14bbfda63134c68bb3ef27bc6fdcac8",
       "version_major": 2,
       "version_minor": 0
      },
      "text/plain": [
       "  0%|          | 0/80 [00:00<?, ?it/s]"
      ]
     },
     "metadata": {},
     "output_type": "display_data"
    },
    {
     "name": "stdout",
     "output_type": "stream",
     "text": [
      "epoch: 525, train_acc: 0.25016180300245094 , train_loss: 1.3863066464662552 , test_acc: 0.2486938320262484 , test_loss: 1.3862997889518738\n"
     ]
    },
    {
     "data": {
      "application/vnd.jupyter.widget-view+json": {
       "model_id": "de142ef94d1e47b886b650c171af4bd6",
       "version_major": 2,
       "version_minor": 0
      },
      "text/plain": [
       "  0%|          | 0/80 [00:00<?, ?it/s]"
      ]
     },
     "metadata": {},
     "output_type": "display_data"
    },
    {
     "name": "stdout",
     "output_type": "stream",
     "text": [
      "epoch: 526, train_acc: 0.25010914522058825 , train_loss: 1.386311487853527 , test_acc: 0.24892171744958386 , test_loss: 1.3863073289394379\n"
     ]
    },
    {
     "data": {
      "application/vnd.jupyter.widget-view+json": {
       "model_id": "33ebc83d739e41cc99f36b1a629a8435",
       "version_major": 2,
       "version_minor": 0
      },
      "text/plain": [
       "  0%|          | 0/80 [00:00<?, ?it/s]"
      ]
     },
     "metadata": {},
     "output_type": "display_data"
    },
    {
     "name": "stdout",
     "output_type": "stream",
     "text": [
      "epoch: 527, train_acc: 0.24829867493872548 , train_loss: 1.3863242089748382 , test_acc: 0.24999268515925097 , test_loss: 1.3863045871257782\n"
     ]
    },
    {
     "data": {
      "application/vnd.jupyter.widget-view+json": {
       "model_id": "42ee1fca5f474a13b508e24bfca15c45",
       "version_major": 2,
       "version_minor": 0
      },
      "text/plain": [
       "  0%|          | 0/80 [00:00<?, ?it/s]"
      ]
     },
     "metadata": {},
     "output_type": "display_data"
    },
    {
     "name": "stdout",
     "output_type": "stream",
     "text": [
      "epoch: 528, train_acc: 0.24859451593137255 , train_loss: 1.3863095596432686 , test_acc: 0.2487394091109155 , test_loss: 1.3862982273101807\n"
     ]
    },
    {
     "data": {
      "application/vnd.jupyter.widget-view+json": {
       "model_id": "02f03715d4a444ef963a8da0116b0a43",
       "version_major": 2,
       "version_minor": 0
      },
      "text/plain": [
       "  0%|          | 0/80 [00:00<?, ?it/s]"
      ]
     },
     "metadata": {},
     "output_type": "display_data"
    },
    {
     "name": "stdout",
     "output_type": "stream",
     "text": [
      "epoch: 529, train_acc: 0.24802270029105392 , train_loss: 1.3863243371248246 , test_acc: 0.24919517995758644 , test_loss: 1.3863130629062652\n"
     ]
    },
    {
     "data": {
      "application/vnd.jupyter.widget-view+json": {
       "model_id": "294ea94693b9409bb06985ac9d7fc64f",
       "version_major": 2,
       "version_minor": 0
      },
      "text/plain": [
       "  0%|          | 0/80 [00:00<?, ?it/s]"
      ]
     },
     "metadata": {},
     "output_type": "display_data"
    },
    {
     "name": "stdout",
     "output_type": "stream",
     "text": [
      "epoch: 530, train_acc: 0.2491775811887255 , train_loss: 1.386311337351799 , test_acc: 0.24904325634202945 , test_loss: 1.3862999439239503\n"
     ]
    },
    {
     "data": {
      "application/vnd.jupyter.widget-view+json": {
       "model_id": "59a3a0fa26f8400b8d57cc6b32c84fe9",
       "version_major": 2,
       "version_minor": 0
      },
      "text/plain": [
       "  0%|          | 0/80 [00:00<?, ?it/s]"
      ]
     },
     "metadata": {},
     "output_type": "display_data"
    },
    {
     "name": "stdout",
     "output_type": "stream",
     "text": [
      "epoch: 531, train_acc: 0.250308287377451 , train_loss: 1.3863107517361641 , test_acc: 0.24941537542013442 , test_loss: 1.386301976442337\n"
     ]
    },
    {
     "data": {
      "application/vnd.jupyter.widget-view+json": {
       "model_id": "b60a6ffaa52145c5a09883c10a0b0874",
       "version_major": 2,
       "version_minor": 0
      },
      "text/plain": [
       "  0%|          | 0/80 [00:00<?, ?it/s]"
      ]
     },
     "metadata": {},
     "output_type": "display_data"
    },
    {
     "name": "stdout",
     "output_type": "stream",
     "text": [
      "epoch: 532, train_acc: 0.2492199467677696 , train_loss: 1.38631179779768 , test_acc: 0.24967364556658128 , test_loss: 1.386302798986435\n"
     ]
    },
    {
     "data": {
      "application/vnd.jupyter.widget-view+json": {
       "model_id": "51fcc8d2c35f4827b5df2bf0612af3c3",
       "version_major": 2,
       "version_minor": 0
      },
      "text/plain": [
       "  0%|          | 0/80 [00:00<?, ?it/s]"
      ]
     },
     "metadata": {},
     "output_type": "display_data"
    },
    {
     "name": "stdout",
     "output_type": "stream",
     "text": [
      "epoch: 533, train_acc: 0.24989420572916665 , train_loss: 1.386305396258831 , test_acc: 0.24858748549535853 , test_loss: 1.3863064706325532\n"
     ]
    },
    {
     "data": {
      "application/vnd.jupyter.widget-view+json": {
       "model_id": "25fc8a89ce134497b338fa2bf4e45684",
       "version_major": 2,
       "version_minor": 0
      },
      "text/plain": [
       "  0%|          | 0/80 [00:00<?, ?it/s]"
      ]
     },
     "metadata": {},
     "output_type": "display_data"
    },
    {
     "name": "stdout",
     "output_type": "stream",
     "text": [
      "epoch: 534, train_acc: 0.24723857804840685 , train_loss: 1.3863272920250893 , test_acc: 0.2487697938340269 , test_loss: 1.386301839351654\n"
     ]
    },
    {
     "data": {
      "application/vnd.jupyter.widget-view+json": {
       "model_id": "f84b7dd6b4714527b60647c6e68e07a8",
       "version_major": 2,
       "version_minor": 0
      },
      "text/plain": [
       "  0%|          | 0/80 [00:00<?, ?it/s]"
      ]
     },
     "metadata": {},
     "output_type": "display_data"
    },
    {
     "name": "stdout",
     "output_type": "stream",
     "text": [
      "epoch: 535, train_acc: 0.2493410596660539 , train_loss: 1.3863037556409836 , test_acc: 0.24980606294014085 , test_loss: 1.386305683851242\n"
     ]
    },
    {
     "data": {
      "application/vnd.jupyter.widget-view+json": {
       "model_id": "cae44c47449f44c3909129a560743385",
       "version_major": 2,
       "version_minor": 0
      },
      "text/plain": [
       "  0%|          | 0/80 [00:00<?, ?it/s]"
      ]
     },
     "metadata": {},
     "output_type": "display_data"
    },
    {
     "name": "stdout",
     "output_type": "stream",
     "text": [
      "epoch: 536, train_acc: 0.24891285615808822 , train_loss: 1.3863217756152153 , test_acc: 0.24948702334747117 , test_loss: 1.3863332271575928\n"
     ]
    },
    {
     "data": {
      "application/vnd.jupyter.widget-view+json": {
       "model_id": "5eeaf998f61049c9804e776689653f2b",
       "version_major": 2,
       "version_minor": 0
      },
      "text/plain": [
       "  0%|          | 0/80 [00:00<?, ?it/s]"
      ]
     },
     "metadata": {},
     "output_type": "display_data"
    },
    {
     "name": "stdout",
     "output_type": "stream",
     "text": [
      "epoch: 537, train_acc: 0.2499636182598039 , train_loss: 1.3863072246313095 , test_acc: 0.248663447303137 , test_loss: 1.3863011002540588\n"
     ]
    },
    {
     "data": {
      "application/vnd.jupyter.widget-view+json": {
       "model_id": "8f798665ba64451aa32d4015f2e5afb4",
       "version_major": 2,
       "version_minor": 0
      },
      "text/plain": [
       "  0%|          | 0/80 [00:00<?, ?it/s]"
      ]
     },
     "metadata": {},
     "output_type": "display_data"
    },
    {
     "name": "stdout",
     "output_type": "stream",
     "text": [
      "epoch: 538, train_acc: 0.24974772135416665 , train_loss: 1.3863130792975427 , test_acc: 0.2487394091109155 , test_loss: 1.3863050580024718\n"
     ]
    },
    {
     "data": {
      "application/vnd.jupyter.widget-view+json": {
       "model_id": "d5b3a113fea2430f9f970851c80d2a90",
       "version_major": 2,
       "version_minor": 0
      },
      "text/plain": [
       "  0%|          | 0/80 [00:00<?, ?it/s]"
      ]
     },
     "metadata": {},
     "output_type": "display_data"
    },
    {
     "name": "stdout",
     "output_type": "stream",
     "text": [
      "epoch: 539, train_acc: 0.24987625421262255 , train_loss: 1.386313332617283 , test_acc: 0.24907364106514085 , test_loss: 1.3863021612167359\n"
     ]
    },
    {
     "data": {
      "application/vnd.jupyter.widget-view+json": {
       "model_id": "8c332c1cc9c84b6597ca872fb2ac86f4",
       "version_major": 2,
       "version_minor": 0
      },
      "text/plain": [
       "  0%|          | 0/80 [00:00<?, ?it/s]"
      ]
     },
     "metadata": {},
     "output_type": "display_data"
    },
    {
     "name": "stdout",
     "output_type": "stream",
     "text": [
      "epoch: 540, train_acc: 0.25078819125306373 , train_loss: 1.3863098815083503 , test_acc: 0.25153780459747116 , test_loss: 1.3862920641899108\n"
     ]
    },
    {
     "data": {
      "application/vnd.jupyter.widget-view+json": {
       "model_id": "7d34e6e8623b434e9ba67e8aa317403c",
       "version_major": 2,
       "version_minor": 0
      },
      "text/plain": [
       "  0%|          | 0/80 [00:00<?, ?it/s]"
      ]
     },
     "metadata": {},
     "output_type": "display_data"
    },
    {
     "name": "stdout",
     "output_type": "stream",
     "text": [
      "epoch: 541, train_acc: 0.24784892961090685 , train_loss: 1.3863228604197502 , test_acc: 0.2515833816821383 , test_loss: 1.3862923681735992\n"
     ]
    },
    {
     "data": {
      "application/vnd.jupyter.widget-view+json": {
       "model_id": "197732f4db7b4e659e13ccdc25aa9a56",
       "version_major": 2,
       "version_minor": 0
      },
      "text/plain": [
       "  0%|          | 0/80 [00:00<?, ?it/s]"
      ]
     },
     "metadata": {},
     "output_type": "display_data"
    },
    {
     "name": "stdout",
     "output_type": "stream",
     "text": [
      "epoch: 542, train_acc: 0.250540220971201 , train_loss: 1.3863055676221847 , test_acc: 0.24867863966469272 , test_loss: 1.386307179927826\n"
     ]
    },
    {
     "data": {
      "application/vnd.jupyter.widget-view+json": {
       "model_id": "027328405c3940dca4db2538ac1d2324",
       "version_major": 2,
       "version_minor": 0
      },
      "text/plain": [
       "  0%|          | 0/80 [00:00<?, ?it/s]"
      ]
     },
     "metadata": {},
     "output_type": "display_data"
    },
    {
     "name": "stdout",
     "output_type": "stream",
     "text": [
      "epoch: 543, train_acc: 0.24788938036151958 , train_loss: 1.3863133013248443 , test_acc: 0.24899767925736235 , test_loss: 1.386299741268158\n"
     ]
    },
    {
     "data": {
      "application/vnd.jupyter.widget-view+json": {
       "model_id": "ebed5594d25e40638363a9671fada074",
       "version_major": 2,
       "version_minor": 0
      },
      "text/plain": [
       "  0%|          | 0/80 [00:00<?, ?it/s]"
      ]
     },
     "metadata": {},
     "output_type": "display_data"
    },
    {
     "name": "stdout",
     "output_type": "stream",
     "text": [
      "epoch: 544, train_acc: 0.2485119389552696 , train_loss: 1.3863113671541214 , test_acc: 0.24973010113236235 , test_loss: 1.3862981617450714\n"
     ]
    },
    {
     "data": {
      "application/vnd.jupyter.widget-view+json": {
       "model_id": "10cb7dc473ec487b8f822a2ac643f412",
       "version_major": 2,
       "version_minor": 0
      },
      "text/plain": [
       "  0%|          | 0/80 [00:00<?, ?it/s]"
      ]
     },
     "metadata": {},
     "output_type": "display_data"
    },
    {
     "name": "stdout",
     "output_type": "stream",
     "text": [
      "epoch: 545, train_acc: 0.2500256108302696 , train_loss: 1.3863162606954575 , test_acc: 0.24976048585547375 , test_loss: 1.386301076412201\n"
     ]
    },
    {
     "data": {
      "application/vnd.jupyter.widget-view+json": {
       "model_id": "8afc3eec260743099786d126a796cbd2",
       "version_major": 2,
       "version_minor": 0
      },
      "text/plain": [
       "  0%|          | 0/80 [00:00<?, ?it/s]"
      ]
     },
     "metadata": {},
     "output_type": "display_data"
    },
    {
     "name": "stdout",
     "output_type": "stream",
     "text": [
      "epoch: 546, train_acc: 0.24791187959558822 , train_loss: 1.3863202840089799 , test_acc: 0.24979518445902688 , test_loss: 1.3862983584403992\n"
     ]
    },
    {
     "data": {
      "application/vnd.jupyter.widget-view+json": {
       "model_id": "b7f1b1c11ae6460ab8ad468a4a185437",
       "version_major": 2,
       "version_minor": 0
      },
      "text/plain": [
       "  0%|          | 0/80 [00:00<?, ?it/s]"
      ]
     },
     "metadata": {},
     "output_type": "display_data"
    },
    {
     "name": "stdout",
     "output_type": "stream",
     "text": [
      "epoch: 547, train_acc: 0.2497683057598039 , train_loss: 1.3863126307725906 , test_acc: 0.24883056328024966 , test_loss: 1.3863031804561614\n"
     ]
    },
    {
     "data": {
      "application/vnd.jupyter.widget-view+json": {
       "model_id": "9104a288f60743d0a820b26746faf579",
       "version_major": 2,
       "version_minor": 0
      },
      "text/plain": [
       "  0%|          | 0/80 [00:00<?, ?it/s]"
      ]
     },
     "metadata": {},
     "output_type": "display_data"
    },
    {
     "name": "stdout",
     "output_type": "stream",
     "text": [
      "epoch: 548, train_acc: 0.24867709290747547 , train_loss: 1.3863130420446397 , test_acc: 0.24974529349391802 , test_loss: 1.386296308040619\n"
     ]
    },
    {
     "data": {
      "application/vnd.jupyter.widget-view+json": {
       "model_id": "f64befddfe75411e8582e4c061bb1af3",
       "version_major": 2,
       "version_minor": 0
      },
      "text/plain": [
       "  0%|          | 0/80 [00:00<?, ?it/s]"
      ]
     },
     "metadata": {},
     "output_type": "display_data"
    },
    {
     "name": "stdout",
     "output_type": "stream",
     "text": [
      "epoch: 549, train_acc: 0.2478884229473039 , train_loss: 1.3863175898790359 , test_acc: 0.24895210217269526 , test_loss: 1.3863031685352325\n"
     ]
    },
    {
     "data": {
      "application/vnd.jupyter.widget-view+json": {
       "model_id": "1d149bf67bca45ce930665a247161ab2",
       "version_major": 2,
       "version_minor": 0
      },
      "text/plain": [
       "  0%|          | 0/80 [00:00<?, ?it/s]"
      ]
     },
     "metadata": {},
     "output_type": "display_data"
    },
    {
     "name": "stdout",
     "output_type": "stream",
     "text": [
      "epoch: 550, train_acc: 0.24671176087622548 , train_loss: 1.386319562792778 , test_acc: 0.24901287161891802 , test_loss: 1.3862969517707824\n"
     ]
    },
    {
     "data": {
      "application/vnd.jupyter.widget-view+json": {
       "model_id": "723edb84d5cf418ba270b8f469d00dd0",
       "version_major": 2,
       "version_minor": 0
      },
      "text/plain": [
       "  0%|          | 0/80 [00:00<?, ?it/s]"
      ]
     },
     "metadata": {},
     "output_type": "display_data"
    },
    {
     "name": "stdout",
     "output_type": "stream",
     "text": [
      "epoch: 551, train_acc: 0.24729961320465685 , train_loss: 1.3863157749176025 , test_acc: 0.24974960737435978 , test_loss: 1.3862990736961365\n"
     ]
    },
    {
     "data": {
      "application/vnd.jupyter.widget-view+json": {
       "model_id": "d9520b97325e4a5f961f9da8a5fc7e4c",
       "version_major": 2,
       "version_minor": 0
      },
      "text/plain": [
       "  0%|          | 0/80 [00:00<?, ?it/s]"
      ]
     },
     "metadata": {},
     "output_type": "display_data"
    },
    {
     "name": "stdout",
     "output_type": "stream",
     "text": [
      "epoch: 552, train_acc: 0.24775797526041665 , train_loss: 1.3863160252571105 , test_acc: 0.24917998759603072 , test_loss: 1.386296796798706\n"
     ]
    },
    {
     "data": {
      "application/vnd.jupyter.widget-view+json": {
       "model_id": "94f170599a1d4f119656dd2add1918f6",
       "version_major": 2,
       "version_minor": 0
      },
      "text/plain": [
       "  0%|          | 0/80 [00:00<?, ?it/s]"
      ]
     },
     "metadata": {},
     "output_type": "display_data"
    },
    {
     "name": "stdout",
     "output_type": "stream",
     "text": [
      "epoch: 553, train_acc: 0.24880107804840684 , train_loss: 1.386308641731739 , test_acc: 0.248663447303137 , test_loss: 1.386302101612091\n"
     ]
    },
    {
     "data": {
      "application/vnd.jupyter.widget-view+json": {
       "model_id": "e93e70e9d3f949cca2075f259146c1b9",
       "version_major": 2,
       "version_minor": 0
      },
      "text/plain": [
       "  0%|          | 0/80 [00:00<?, ?it/s]"
      ]
     },
     "metadata": {},
     "output_type": "display_data"
    },
    {
     "name": "stdout",
     "output_type": "stream",
     "text": [
      "epoch: 554, train_acc: 0.24871658624387255 , train_loss: 1.3863086238503457 , test_acc: 0.25146184278969275 , test_loss: 1.3862919151782989\n"
     ]
    },
    {
     "data": {
      "application/vnd.jupyter.widget-view+json": {
       "model_id": "e390a15a307e48fe982bb888b796fceb",
       "version_major": 2,
       "version_minor": 0
      },
      "text/plain": [
       "  0%|          | 0/80 [00:00<?, ?it/s]"
      ]
     },
     "metadata": {},
     "output_type": "display_data"
    },
    {
     "name": "stdout",
     "output_type": "stream",
     "text": [
      "epoch: 555, train_acc: 0.24819168390012253 , train_loss: 1.3863349229097366 , test_acc: 0.2488457556418054 , test_loss: 1.3862956762313843\n"
     ]
    },
    {
     "data": {
      "application/vnd.jupyter.widget-view+json": {
       "model_id": "c8434350da2c4c9f9a63d7520ba9c70b",
       "version_major": 2,
       "version_minor": 0
      },
      "text/plain": [
       "  0%|          | 0/80 [00:00<?, ?it/s]"
      ]
     },
     "metadata": {},
     "output_type": "display_data"
    },
    {
     "name": "stdout",
     "output_type": "stream",
     "text": [
      "epoch: 556, train_acc: 0.24927906709558822 , train_loss: 1.38631352186203 , test_acc: 0.2498863386283611 , test_loss: 1.3862958192825316\n"
     ]
    },
    {
     "data": {
      "application/vnd.jupyter.widget-view+json": {
       "model_id": "43ba0e1d038148019983127891bf3b34",
       "version_major": 2,
       "version_minor": 0
      },
      "text/plain": [
       "  0%|          | 0/80 [00:00<?, ?it/s]"
      ]
     },
     "metadata": {},
     "output_type": "display_data"
    },
    {
     "name": "stdout",
     "output_type": "stream",
     "text": [
      "epoch: 557, train_acc: 0.2482546338848039 , train_loss: 1.3863258108496666 , test_acc: 0.2497647997359155 , test_loss: 1.3863012969493866\n"
     ]
    },
    {
     "data": {
      "application/vnd.jupyter.widget-view+json": {
       "model_id": "b6dc52ff3bc44edda8d42feb19a6112e",
       "version_major": 2,
       "version_minor": 0
      },
      "text/plain": [
       "  0%|          | 0/80 [00:00<?, ?it/s]"
      ]
     },
     "metadata": {},
     "output_type": "display_data"
    },
    {
     "name": "stdout",
     "output_type": "stream",
     "text": [
      "epoch: 558, train_acc: 0.24752316942401958 , train_loss: 1.3863096371293069 , test_acc: 0.24958249139724714 , test_loss: 1.3863004982471465\n"
     ]
    },
    {
     "data": {
      "application/vnd.jupyter.widget-view+json": {
       "model_id": "d0ae18e96bdf48ee8f984fd52611d238",
       "version_major": 2,
       "version_minor": 0
      },
      "text/plain": [
       "  0%|          | 0/80 [00:00<?, ?it/s]"
      ]
     },
     "metadata": {},
     "output_type": "display_data"
    },
    {
     "name": "stdout",
     "output_type": "stream",
     "text": [
      "epoch: 559, train_acc: 0.2489513920802696 , train_loss: 1.3863102942705154 , test_acc: 0.24969971640925098 , test_loss: 1.3862970292568206\n"
     ]
    },
    {
     "data": {
      "application/vnd.jupyter.widget-view+json": {
       "model_id": "975bf223a0504c259f83adde2cc08c19",
       "version_major": 2,
       "version_minor": 0
      },
      "text/plain": [
       "  0%|          | 0/80 [00:00<?, ?it/s]"
      ]
     },
     "metadata": {},
     "output_type": "display_data"
    },
    {
     "name": "stdout",
     "output_type": "stream",
     "text": [
      "epoch: 560, train_acc: 0.24741043390012254 , train_loss: 1.3863148435950279 , test_acc: 0.2486482549415813 , test_loss: 1.3862978875637055\n"
     ]
    },
    {
     "data": {
      "application/vnd.jupyter.widget-view+json": {
       "model_id": "29d4a12a62a742c5903bffa5fd911c92",
       "version_major": 2,
       "version_minor": 0
      },
      "text/plain": [
       "  0%|          | 0/80 [00:00<?, ?it/s]"
      ]
     },
     "metadata": {},
     "output_type": "display_data"
    },
    {
     "name": "stdout",
     "output_type": "stream",
     "text": [
      "epoch: 561, train_acc: 0.24626393037683822 , train_loss: 1.38631561845541 , test_acc: 0.2495022157090269 , test_loss: 1.3862943530082703\n"
     ]
    },
    {
     "data": {
      "application/vnd.jupyter.widget-view+json": {
       "model_id": "ba324a83d07c438b91fa1372acb6afd0",
       "version_major": 2,
       "version_minor": 0
      },
      "text/plain": [
       "  0%|          | 0/80 [00:00<?, ?it/s]"
      ]
     },
     "metadata": {},
     "output_type": "display_data"
    },
    {
     "name": "stdout",
     "output_type": "stream",
     "text": [
      "epoch: 562, train_acc: 0.24644320618872548 , train_loss: 1.386317791044712 , test_acc: 0.24892171744958386 , test_loss: 1.3863022029399872\n"
     ]
    },
    {
     "data": {
      "application/vnd.jupyter.widget-view+json": {
       "model_id": "2162e2921b6040c083615f7e4df71c93",
       "version_major": 2,
       "version_minor": 0
      },
      "text/plain": [
       "  0%|          | 0/80 [00:00<?, ?it/s]"
      ]
     },
     "metadata": {},
     "output_type": "display_data"
    },
    {
     "name": "stdout",
     "output_type": "stream",
     "text": [
      "epoch: 563, train_acc: 0.24772494446997548 , train_loss: 1.3863227516412735 , test_acc: 0.24990153098991677 , test_loss: 1.3862946391105653\n"
     ]
    },
    {
     "data": {
      "application/vnd.jupyter.widget-view+json": {
       "model_id": "2806d17f63714a7ea20d62160c816c8b",
       "version_major": 2,
       "version_minor": 0
      },
      "text/plain": [
       "  0%|          | 0/80 [00:00<?, ?it/s]"
      ]
     },
     "metadata": {},
     "output_type": "display_data"
    },
    {
     "name": "stdout",
     "output_type": "stream",
     "text": [
      "epoch: 564, train_acc: 0.251467955346201 , train_loss: 1.3863120809197427 , test_acc: 0.249547792793694 , test_loss: 1.3863010227680206\n"
     ]
    },
    {
     "data": {
      "application/vnd.jupyter.widget-view+json": {
       "model_id": "376f9467f81046e3bb9ca8dab5362395",
       "version_major": 2,
       "version_minor": 0
      },
      "text/plain": [
       "  0%|          | 0/80 [00:00<?, ?it/s]"
      ]
     },
     "metadata": {},
     "output_type": "display_data"
    },
    {
     "name": "stdout",
     "output_type": "stream",
     "text": [
      "epoch: 565, train_acc: 0.24775223077512254 , train_loss: 1.3863078206777573 , test_acc: 0.24994279419414211 , test_loss: 1.386295485496521\n"
     ]
    },
    {
     "data": {
      "application/vnd.jupyter.widget-view+json": {
       "model_id": "4a71924496c945d689f18d49c0ff6dc0",
       "version_major": 2,
       "version_minor": 0
      },
      "text/plain": [
       "  0%|          | 0/80 [00:00<?, ?it/s]"
      ]
     },
     "metadata": {},
     "output_type": "display_data"
    },
    {
     "name": "stdout",
     "output_type": "stream",
     "text": [
      "epoch: 566, train_acc: 0.24968477136948528 , train_loss: 1.3863152250647546 , test_acc: 0.24985595390524967 , test_loss: 1.3862923085689545\n"
     ]
    },
    {
     "data": {
      "application/vnd.jupyter.widget-view+json": {
       "model_id": "611997224b6a4ae2b7062dd66c754942",
       "version_major": 2,
       "version_minor": 0
      },
      "text/plain": [
       "  0%|          | 0/80 [00:00<?, ?it/s]"
      ]
     },
     "metadata": {},
     "output_type": "display_data"
    },
    {
     "name": "stdout",
     "output_type": "stream",
     "text": [
      "epoch: 567, train_acc: 0.24854568780637254 , train_loss: 1.386317567527294 , test_acc: 0.24985595390524967 , test_loss: 1.386292850971222\n"
     ]
    },
    {
     "data": {
      "application/vnd.jupyter.widget-view+json": {
       "model_id": "6c248e573b86448799b47ee4cc6c047f",
       "version_major": 2,
       "version_minor": 0
      },
      "text/plain": [
       "  0%|          | 0/80 [00:00<?, ?it/s]"
      ]
     },
     "metadata": {},
     "output_type": "display_data"
    },
    {
     "name": "stdout",
     "output_type": "stream",
     "text": [
      "epoch: 568, train_acc: 0.24776252297794116 , train_loss: 1.3863130196928979 , test_acc: 0.25005345460547374 , test_loss: 1.386300754547119\n"
     ]
    },
    {
     "data": {
      "application/vnd.jupyter.widget-view+json": {
       "model_id": "5d80e1da963d4d73b7706b84f5b32580",
       "version_major": 2,
       "version_minor": 0
      },
      "text/plain": [
       "  0%|          | 0/80 [00:00<?, ?it/s]"
      ]
     },
     "metadata": {},
     "output_type": "display_data"
    },
    {
     "name": "stdout",
     "output_type": "stream",
     "text": [
      "epoch: 569, train_acc: 0.2493532666973039 , train_loss: 1.3863147601485253 , test_acc: 0.24883056328024966 , test_loss: 1.38631112575531\n"
     ]
    },
    {
     "data": {
      "application/vnd.jupyter.widget-view+json": {
       "model_id": "9eca2642b2e34155a15b5ce8f1275214",
       "version_major": 2,
       "version_minor": 0
      },
      "text/plain": [
       "  0%|          | 0/80 [00:00<?, ?it/s]"
      ]
     },
     "metadata": {},
     "output_type": "display_data"
    },
    {
     "name": "stdout",
     "output_type": "stream",
     "text": [
      "epoch: 570, train_acc: 0.24640754250919117 , train_loss: 1.3863153427839279 , test_acc: 0.24917998759603072 , test_loss: 1.3863049745559692\n"
     ]
    },
    {
     "data": {
      "application/vnd.jupyter.widget-view+json": {
       "model_id": "24c4aa9ac8334f6d96df7ccf0a40d6dc",
       "version_major": 2,
       "version_minor": 0
      },
      "text/plain": [
       "  0%|          | 0/80 [00:00<?, ?it/s]"
      ]
     },
     "metadata": {},
     "output_type": "display_data"
    },
    {
     "name": "stdout",
     "output_type": "stream",
     "text": [
      "epoch: 571, train_acc: 0.2488039502910539 , train_loss: 1.3863151475787163 , test_acc: 0.24875460147247117 , test_loss: 1.3863112688064576\n"
     ]
    },
    {
     "data": {
      "application/vnd.jupyter.widget-view+json": {
       "model_id": "ebac1a6cb8134ef99c418220793eb166",
       "version_major": 2,
       "version_minor": 0
      },
      "text/plain": [
       "  0%|          | 0/80 [00:00<?, ?it/s]"
      ]
     },
     "metadata": {},
     "output_type": "display_data"
    },
    {
     "name": "stdout",
     "output_type": "stream",
     "text": [
      "epoch: 572, train_acc: 0.24941047219669116 , train_loss: 1.3863108545541762 , test_acc: 0.25012941641325226 , test_loss: 1.3863029062747956\n"
     ]
    },
    {
     "data": {
      "application/vnd.jupyter.widget-view+json": {
       "model_id": "cb3655c67dd74b2994d27d4cb164c613",
       "version_major": 2,
       "version_minor": 0
      },
      "text/plain": [
       "  0%|          | 0/80 [00:00<?, ?it/s]"
      ]
     },
     "metadata": {},
     "output_type": "display_data"
    },
    {
     "name": "stdout",
     "output_type": "stream",
     "text": [
      "epoch: 573, train_acc: 0.2493664311427696 , train_loss: 1.3863209560513496 , test_acc: 0.24997749279769527 , test_loss: 1.386294949054718\n"
     ]
    },
    {
     "data": {
      "application/vnd.jupyter.widget-view+json": {
       "model_id": "602c78e7507f4f13b4f07f79e773e17a",
       "version_major": 2,
       "version_minor": 0
      },
      "text/plain": [
       "  0%|          | 0/80 [00:00<?, ?it/s]"
      ]
     },
     "metadata": {},
     "output_type": "display_data"
    },
    {
     "name": "stdout",
     "output_type": "stream",
     "text": [
      "epoch: 574, train_acc: 0.2492077397365196 , train_loss: 1.3863083958625793 , test_acc: 0.2499623004361396 , test_loss: 1.386295771598816\n"
     ]
    },
    {
     "data": {
      "application/vnd.jupyter.widget-view+json": {
       "model_id": "0c3cf6b4623d485cb74fb425fe8a5817",
       "version_major": 2,
       "version_minor": 0
      },
      "text/plain": [
       "  0%|          | 0/80 [00:00<?, ?it/s]"
      ]
     },
     "metadata": {},
     "output_type": "display_data"
    },
    {
     "name": "stdout",
     "output_type": "stream",
     "text": [
      "epoch: 575, train_acc: 0.24808086320465686 , train_loss: 1.3863140478730203 , test_acc: 0.24899767925736235 , test_loss: 1.3863040804862976\n"
     ]
    },
    {
     "data": {
      "application/vnd.jupyter.widget-view+json": {
       "model_id": "99cef1ef8ff9415fa38cdd216731e72a",
       "version_major": 2,
       "version_minor": 0
      },
      "text/plain": [
       "  0%|          | 0/80 [00:00<?, ?it/s]"
      ]
     },
     "metadata": {},
     "output_type": "display_data"
    },
    {
     "name": "stdout",
     "output_type": "stream",
     "text": [
      "epoch: 576, train_acc: 0.24917949601715686 , train_loss: 1.3863187208771706 , test_acc: 0.24893690981113958 , test_loss: 1.386303609609604\n"
     ]
    },
    {
     "data": {
      "application/vnd.jupyter.widget-view+json": {
       "model_id": "1025343cf08b4720ba085430c8b74a9f",
       "version_major": 2,
       "version_minor": 0
      },
      "text/plain": [
       "  0%|          | 0/80 [00:00<?, ?it/s]"
      ]
     },
     "metadata": {},
     "output_type": "display_data"
    },
    {
     "name": "stdout",
     "output_type": "stream",
     "text": [
      "epoch: 577, train_acc: 0.24799349915747548 , train_loss: 1.3863054484128952 , test_acc: 0.24956298515524966 , test_loss: 1.3862914443016052\n"
     ]
    },
    {
     "data": {
      "application/vnd.jupyter.widget-view+json": {
       "model_id": "58d4c9e7bd09470ca39d04a17a75d631",
       "version_major": 2,
       "version_minor": 0
      },
      "text/plain": [
       "  0%|          | 0/80 [00:00<?, ?it/s]"
      ]
     },
     "metadata": {},
     "output_type": "display_data"
    },
    {
     "name": "stdout",
     "output_type": "stream",
     "text": [
      "epoch: 578, train_acc: 0.24793342141544117 , train_loss: 1.3863154113292695 , test_acc: 0.2495781775168054 , test_loss: 1.386294460296631\n"
     ]
    },
    {
     "data": {
      "application/vnd.jupyter.widget-view+json": {
       "model_id": "ff52558afc0a40d4a4b5f4db9cc88e8f",
       "version_major": 2,
       "version_minor": 0
      },
      "text/plain": [
       "  0%|          | 0/80 [00:00<?, ?it/s]"
      ]
     },
     "metadata": {},
     "output_type": "display_data"
    },
    {
     "name": "stdout",
     "output_type": "stream",
     "text": [
      "epoch: 579, train_acc: 0.24840016084558822 , train_loss: 1.386312486231327 , test_acc: 0.2494718309859155 , test_loss: 1.3862992763519286\n"
     ]
    },
    {
     "data": {
      "application/vnd.jupyter.widget-view+json": {
       "model_id": "0f58c3c120c44a9a9b59e982a5418079",
       "version_major": 2,
       "version_minor": 0
      },
      "text/plain": [
       "  0%|          | 0/80 [00:00<?, ?it/s]"
      ]
     },
     "metadata": {},
     "output_type": "display_data"
    },
    {
     "name": "stdout",
     "output_type": "stream",
     "text": [
      "epoch: 580, train_acc: 0.24709209367340684 , train_loss: 1.3863188847899437 , test_acc: 0.24973010113236235 , test_loss: 1.3863004982471465\n"
     ]
    },
    {
     "data": {
      "application/vnd.jupyter.widget-view+json": {
       "model_id": "4cf670c9c0ec4d70a7af987b0e6f1286",
       "version_major": 2,
       "version_minor": 0
      },
      "text/plain": [
       "  0%|          | 0/80 [00:00<?, ?it/s]"
      ]
     },
     "metadata": {},
     "output_type": "display_data"
    },
    {
     "name": "stdout",
     "output_type": "stream",
     "text": [
      "epoch: 581, train_acc: 0.24612390854779412 , train_loss: 1.3863108992576598 , test_acc: 0.2497192226512484 , test_loss: 1.386294436454773\n"
     ]
    },
    {
     "data": {
      "application/vnd.jupyter.widget-view+json": {
       "model_id": "7026d1b3953a4bbe80f92c838fefc5e7",
       "version_major": 2,
       "version_minor": 0
      },
      "text/plain": [
       "  0%|          | 0/80 [00:00<?, ?it/s]"
      ]
     },
     "metadata": {},
     "output_type": "display_data"
    },
    {
     "name": "stdout",
     "output_type": "stream",
     "text": [
      "epoch: 582, train_acc: 0.2506237553615196 , train_loss: 1.3863194346427918 , test_acc: 0.2487697938340269 , test_loss: 1.386305022239685\n"
     ]
    },
    {
     "data": {
      "application/vnd.jupyter.widget-view+json": {
       "model_id": "31c5a4052b1f475c8a8e0f93ca4a4281",
       "version_major": 2,
       "version_minor": 0
      },
      "text/plain": [
       "  0%|          | 0/80 [00:00<?, ?it/s]"
      ]
     },
     "metadata": {},
     "output_type": "display_data"
    },
    {
     "name": "stdout",
     "output_type": "stream",
     "text": [
      "epoch: 583, train_acc: 0.24985375497855392 , train_loss: 1.3863063976168633 , test_acc: 0.2502357629441421 , test_loss: 1.3863008320331573\n"
     ]
    },
    {
     "data": {
      "application/vnd.jupyter.widget-view+json": {
       "model_id": "ee5a8cceaaaf4398a31952b95c4b0753",
       "version_major": 2,
       "version_minor": 0
      },
      "text/plain": [
       "  0%|          | 0/80 [00:00<?, ?it/s]"
      ]
     },
     "metadata": {},
     "output_type": "display_data"
    },
    {
     "name": "stdout",
     "output_type": "stream",
     "text": [
      "epoch: 584, train_acc: 0.24767994600183824 , train_loss: 1.3863105550408363 , test_acc: 0.24974960737435978 , test_loss: 1.386298280954361\n"
     ]
    },
    {
     "data": {
      "application/vnd.jupyter.widget-view+json": {
       "model_id": "12e7a61b5bef475f8ee913fa335c15bf",
       "version_major": 2,
       "version_minor": 0
      },
      "text/plain": [
       "  0%|          | 0/80 [00:00<?, ?it/s]"
      ]
     },
     "metadata": {},
     "output_type": "display_data"
    },
    {
     "name": "stdout",
     "output_type": "stream",
     "text": [
      "epoch: 585, train_acc: 0.24668926164215685 , train_loss: 1.3863164588809014 , test_acc: 0.24944144626280412 , test_loss: 1.3862957537174225\n"
     ]
    },
    {
     "data": {
      "application/vnd.jupyter.widget-view+json": {
       "model_id": "4fe80f0c1a734806916ad73c33d33ef1",
       "version_major": 2,
       "version_minor": 0
      },
      "text/plain": [
       "  0%|          | 0/80 [00:00<?, ?it/s]"
      ]
     },
     "metadata": {},
     "output_type": "display_data"
    },
    {
     "name": "stdout",
     "output_type": "stream",
     "text": [
      "epoch: 586, train_acc: 0.24952225030637254 , train_loss: 1.3863152056932448 , test_acc: 0.249547792793694 , test_loss: 1.3863078355789185\n"
     ]
    },
    {
     "data": {
      "application/vnd.jupyter.widget-view+json": {
       "model_id": "d95cfe37af52478ebdc06ce53cd9236e",
       "version_major": 2,
       "version_minor": 0
      },
      "text/plain": [
       "  0%|          | 0/80 [00:00<?, ?it/s]"
      ]
     },
     "metadata": {},
     "output_type": "display_data"
    },
    {
     "name": "stdout",
     "output_type": "stream",
     "text": [
      "epoch: 587, train_acc: 0.2477795170802696 , train_loss: 1.3863053232431413 , test_acc: 0.24892171744958386 , test_loss: 1.3862967669963837\n"
     ]
    },
    {
     "data": {
      "application/vnd.jupyter.widget-view+json": {
       "model_id": "cb94eb96e5314e899fe976cdcf642338",
       "version_major": 2,
       "version_minor": 0
      },
      "text/plain": [
       "  0%|          | 0/80 [00:00<?, ?it/s]"
      ]
     },
     "metadata": {},
     "output_type": "display_data"
    },
    {
     "name": "stdout",
     "output_type": "stream",
     "text": [
      "epoch: 588, train_acc: 0.2471935795802696 , train_loss: 1.3863093569874763 , test_acc: 0.2494262539012484 , test_loss: 1.3862972557544708\n"
     ]
    },
    {
     "data": {
      "application/vnd.jupyter.widget-view+json": {
       "model_id": "3571d8d61c5f4db9b6e51d94b026e6c0",
       "version_major": 2,
       "version_minor": 0
      },
      "text/plain": [
       "  0%|          | 0/80 [00:00<?, ?it/s]"
      ]
     },
     "metadata": {},
     "output_type": "display_data"
    },
    {
     "name": "stdout",
     "output_type": "stream",
     "text": [
      "epoch: 589, train_acc: 0.24786400888480392 , train_loss: 1.3863155841827393 , test_acc: 0.2485419084106914 , test_loss: 1.3863077044487\n"
     ]
    },
    {
     "data": {
      "application/vnd.jupyter.widget-view+json": {
       "model_id": "d67ba99a2a164815ac1bc966e31a092f",
       "version_major": 2,
       "version_minor": 0
      },
      "text/plain": [
       "  0%|          | 0/80 [00:00<?, ?it/s]"
      ]
     },
     "metadata": {},
     "output_type": "display_data"
    },
    {
     "name": "stdout",
     "output_type": "stream",
     "text": [
      "epoch: 590, train_acc: 0.24711459290747548 , train_loss: 1.3863115161657333 , test_acc: 0.24887614036491676 , test_loss: 1.3863008141517639\n"
     ]
    },
    {
     "data": {
      "application/vnd.jupyter.widget-view+json": {
       "model_id": "7bae8318193844b0b620cbd48738d567",
       "version_major": 2,
       "version_minor": 0
      },
      "text/plain": [
       "  0%|          | 0/80 [00:00<?, ?it/s]"
      ]
     },
     "metadata": {},
     "output_type": "display_data"
    },
    {
     "name": "stdout",
     "output_type": "stream",
     "text": [
      "epoch: 591, train_acc: 0.24917949601715686 , train_loss: 1.3863056734204293 , test_acc: 0.2494262539012484 , test_loss: 1.386295485496521\n"
     ]
    },
    {
     "data": {
      "application/vnd.jupyter.widget-view+json": {
       "model_id": "6e743145b6ad42f4a30e3b324c07687f",
       "version_major": 2,
       "version_minor": 0
      },
      "text/plain": [
       "  0%|          | 0/80 [00:00<?, ?it/s]"
      ]
     },
     "metadata": {},
     "output_type": "display_data"
    },
    {
     "name": "stdout",
     "output_type": "stream",
     "text": [
      "epoch: 592, train_acc: 0.24889131433823528 , train_loss: 1.3863165184855462 , test_acc: 0.24892171744958386 , test_loss: 1.386305147409439\n"
     ]
    },
    {
     "data": {
      "application/vnd.jupyter.widget-view+json": {
       "model_id": "84408d4463c846208c18ee58600c2314",
       "version_major": 2,
       "version_minor": 0
      },
      "text/plain": [
       "  0%|          | 0/80 [00:00<?, ?it/s]"
      ]
     },
     "metadata": {},
     "output_type": "display_data"
    },
    {
     "name": "stdout",
     "output_type": "stream",
     "text": [
      "epoch: 593, train_acc: 0.24930252374387254 , train_loss: 1.3863143369555473 , test_acc: 0.24905844870358512 , test_loss: 1.3863094806671143\n"
     ]
    },
    {
     "data": {
      "application/vnd.jupyter.widget-view+json": {
       "model_id": "2ef23627e8384c5bbcb13716bef32bbb",
       "version_major": 2,
       "version_minor": 0
      },
      "text/plain": [
       "  0%|          | 0/80 [00:00<?, ?it/s]"
      ]
     },
     "metadata": {},
     "output_type": "display_data"
    },
    {
     "name": "stdout",
     "output_type": "stream",
     "text": [
      "epoch: 594, train_acc: 0.24870246438419116 , train_loss: 1.3863111197948457 , test_acc: 0.25150741987435976 , test_loss: 1.386291766166687\n"
     ]
    },
    {
     "data": {
      "application/vnd.jupyter.widget-view+json": {
       "model_id": "0cea1ddb8465476e98fb29270ae08ef6",
       "version_major": 2,
       "version_minor": 0
      },
      "text/plain": [
       "  0%|          | 0/80 [00:00<?, ?it/s]"
      ]
     },
     "metadata": {},
     "output_type": "display_data"
    },
    {
     "name": "stdout",
     "output_type": "stream",
     "text": [
      "epoch: 595, train_acc: 0.2485729741115196 , train_loss: 1.386310338973999 , test_acc: 0.24947614486635725 , test_loss: 1.386309427022934\n"
     ]
    },
    {
     "data": {
      "application/vnd.jupyter.widget-view+json": {
       "model_id": "28263090357c45488e356b9317e74e56",
       "version_major": 2,
       "version_minor": 0
      },
      "text/plain": [
       "  0%|          | 0/80 [00:00<?, ?it/s]"
      ]
     },
     "metadata": {},
     "output_type": "display_data"
    },
    {
     "name": "stdout",
     "output_type": "stream",
     "text": [
      "epoch: 596, train_acc: 0.24736064836090685 , train_loss: 1.386318901181221 , test_acc: 0.24977999209747118 , test_loss: 1.3863015234470368\n"
     ]
    },
    {
     "data": {
      "application/vnd.jupyter.widget-view+json": {
       "model_id": "172f3488d721472e8441557f9397fae6",
       "version_major": 2,
       "version_minor": 0
      },
      "text/plain": [
       "  0%|          | 0/80 [00:00<?, ?it/s]"
      ]
     },
     "metadata": {},
     "output_type": "display_data"
    },
    {
     "name": "stdout",
     "output_type": "stream",
     "text": [
      "epoch: 597, train_acc: 0.2474432253370098 , train_loss: 1.3863166332244874 , test_acc: 0.2488609480033611 , test_loss: 1.3863010287284852\n"
     ]
    },
    {
     "data": {
      "application/vnd.jupyter.widget-view+json": {
       "model_id": "fe41e7539c1644cabbcf70eed8245b0c",
       "version_major": 2,
       "version_minor": 0
      },
      "text/plain": [
       "  0%|          | 0/80 [00:00<?, ?it/s]"
      ]
     },
     "metadata": {},
     "output_type": "display_data"
    },
    {
     "name": "stdout",
     "output_type": "stream",
     "text": [
      "epoch: 598, train_acc: 0.24843390969669116 , train_loss: 1.3863237112760545 , test_acc: 0.24941106153969272 , test_loss: 1.3863077282905578\n"
     ]
    },
    {
     "data": {
      "application/vnd.jupyter.widget-view+json": {
       "model_id": "011c110e29254de799a274a4d5722e48",
       "version_major": 2,
       "version_minor": 0
      },
      "text/plain": [
       "  0%|          | 0/80 [00:00<?, ?it/s]"
      ]
     },
     "metadata": {},
     "output_type": "display_data"
    },
    {
     "name": "stdout",
     "output_type": "stream",
     "text": [
      "epoch: 599, train_acc: 0.24945092294730392 , train_loss: 1.3863131284713746 , test_acc: 0.24911921814980795 , test_loss: 1.3862973749637604\n"
     ]
    },
    {
     "data": {
      "application/vnd.jupyter.widget-view+json": {
       "model_id": "33d553ab0ff04192a60d5140a11754fd",
       "version_major": 2,
       "version_minor": 0
      },
      "text/plain": [
       "  0%|          | 0/80 [00:00<?, ?it/s]"
      ]
     },
     "metadata": {},
     "output_type": "display_data"
    },
    {
     "name": "stdout",
     "output_type": "stream",
     "text": [
      "epoch: 600, train_acc: 0.24776443780637253 , train_loss: 1.3863152384757995 , test_acc: 0.2517353052976953 , test_loss: 1.3862927436828614\n"
     ]
    },
    {
     "data": {
      "application/vnd.jupyter.widget-view+json": {
       "model_id": "18d0051503934b579d9e44091266b93f",
       "version_major": 2,
       "version_minor": 0
      },
      "text/plain": [
       "  0%|          | 0/80 [00:00<?, ?it/s]"
      ]
     },
     "metadata": {},
     "output_type": "display_data"
    },
    {
     "name": "stdout",
     "output_type": "stream",
     "text": [
      "epoch: 601, train_acc: 0.24822830499387255 , train_loss: 1.3863152608275413 , test_acc: 0.2487394091109155 , test_loss: 1.386302000284195\n"
     ]
    },
    {
     "data": {
      "application/vnd.jupyter.widget-view+json": {
       "model_id": "50f30e8520444c5b82d8014da6c39d06",
       "version_major": 2,
       "version_minor": 0
      },
      "text/plain": [
       "  0%|          | 0/80 [00:00<?, ?it/s]"
      ]
     },
     "metadata": {},
     "output_type": "display_data"
    },
    {
     "name": "stdout",
     "output_type": "stream",
     "text": [
      "epoch: 602, train_acc: 0.2504885206035539 , train_loss: 1.386324554681778 , test_acc: 0.25009903169014086 , test_loss: 1.3862953066825867\n"
     ]
    },
    {
     "data": {
      "application/vnd.jupyter.widget-view+json": {
       "model_id": "440a7c420edd4be7af55f26c41176945",
       "version_major": 2,
       "version_minor": 0
      },
      "text/plain": [
       "  0%|          | 0/80 [00:00<?, ?it/s]"
      ]
     },
     "metadata": {},
     "output_type": "display_data"
    },
    {
     "name": "stdout",
     "output_type": "stream",
     "text": [
      "epoch: 603, train_acc: 0.2495129155177696 , train_loss: 1.3863085702061653 , test_acc: 0.24918317611635726 , test_loss: 1.386304259300232\n"
     ]
    },
    {
     "data": {
      "application/vnd.jupyter.widget-view+json": {
       "model_id": "a760c23afe5c489d9d8286b6e8b245e9",
       "version_major": 2,
       "version_minor": 0
      },
      "text/plain": [
       "  0%|          | 0/80 [00:00<?, ?it/s]"
      ]
     },
     "metadata": {},
     "output_type": "display_data"
    },
    {
     "name": "stdout",
     "output_type": "stream",
     "text": [
      "epoch: 604, train_acc: 0.2496349858302696 , train_loss: 1.3863160744309426 , test_acc: 0.24904325634202945 , test_loss: 1.3863042294979095\n"
     ]
    },
    {
     "data": {
      "application/vnd.jupyter.widget-view+json": {
       "model_id": "b56a8821405c483cab05f0fdbda13d46",
       "version_major": 2,
       "version_minor": 0
      },
      "text/plain": [
       "  0%|          | 0/80 [00:00<?, ?it/s]"
      ]
     },
     "metadata": {},
     "output_type": "display_data"
    },
    {
     "name": "stdout",
     "output_type": "stream",
     "text": [
      "epoch: 605, train_acc: 0.25019842409620097 , train_loss: 1.3863107323646546 , test_acc: 0.24979518445902688 , test_loss: 1.3863034129142762\n"
     ]
    },
    {
     "data": {
      "application/vnd.jupyter.widget-view+json": {
       "model_id": "ab88c96dce4848648ad94a449a3a2b63",
       "version_major": 2,
       "version_minor": 0
      },
      "text/plain": [
       "  0%|          | 0/80 [00:00<?, ?it/s]"
      ]
     },
     "metadata": {},
     "output_type": "display_data"
    },
    {
     "name": "stdout",
     "output_type": "stream",
     "text": [
      "epoch: 606, train_acc: 0.24861797257965684 , train_loss: 1.3863118782639503 , test_acc: 0.24982125530169652 , test_loss: 1.3862968683242798\n"
     ]
    },
    {
     "data": {
      "application/vnd.jupyter.widget-view+json": {
       "model_id": "ef2f55ee74ab43d6bd96873def5949a1",
       "version_major": 2,
       "version_minor": 0
      },
      "text/plain": [
       "  0%|          | 0/80 [00:00<?, ?it/s]"
      ]
     },
     "metadata": {},
     "output_type": "display_data"
    },
    {
     "name": "stdout",
     "output_type": "stream",
     "text": [
      "epoch: 607, train_acc: 0.24910529641544116 , train_loss: 1.3863222628831864 , test_acc: 0.24983644766325225 , test_loss: 1.3862988948822021\n"
     ]
    },
    {
     "data": {
      "application/vnd.jupyter.widget-view+json": {
       "model_id": "d1d8375cb42d4859a12fca4a3451a9b9",
       "version_major": 2,
       "version_minor": 0
      },
      "text/plain": [
       "  0%|          | 0/80 [00:00<?, ?it/s]"
      ]
     },
     "metadata": {},
     "output_type": "display_data"
    },
    {
     "name": "stdout",
     "output_type": "stream",
     "text": [
      "epoch: 608, train_acc: 0.2481213139552696 , train_loss: 1.3863191574811935 , test_acc: 0.2487849861955826 , test_loss: 1.3863134205341339\n"
     ]
    },
    {
     "data": {
      "application/vnd.jupyter.widget-view+json": {
       "model_id": "24b3a169c7cc47be9bb4dfa5c19eb307",
       "version_major": 2,
       "version_minor": 0
      },
      "text/plain": [
       "  0%|          | 0/80 [00:00<?, ?it/s]"
      ]
     },
     "metadata": {},
     "output_type": "display_data"
    },
    {
     "name": "stdout",
     "output_type": "stream",
     "text": [
      "epoch: 609, train_acc: 0.24874387254901958 , train_loss: 1.3863122776150703 , test_acc: 0.24893690981113958 , test_loss: 1.3862970113754272\n"
     ]
    },
    {
     "data": {
      "application/vnd.jupyter.widget-view+json": {
       "model_id": "847297acdefb4a068fefac65b9146a96",
       "version_major": 2,
       "version_minor": 0
      },
      "text/plain": [
       "  0%|          | 0/80 [00:00<?, ?it/s]"
      ]
     },
     "metadata": {},
     "output_type": "display_data"
    },
    {
     "name": "stdout",
     "output_type": "stream",
     "text": [
      "epoch: 610, train_acc: 0.2493166456035539 , train_loss: 1.386308877170086 , test_acc: 0.2498863386283611 , test_loss: 1.3862962663173675\n"
     ]
    },
    {
     "data": {
      "application/vnd.jupyter.widget-view+json": {
       "model_id": "fc3d0ca11bd54971820c44f1cf994736",
       "version_major": 2,
       "version_minor": 0
      },
      "text/plain": [
       "  0%|          | 0/80 [00:00<?, ?it/s]"
      ]
     },
     "metadata": {},
     "output_type": "display_data"
    },
    {
     "name": "stdout",
     "output_type": "stream",
     "text": [
      "epoch: 611, train_acc: 0.2501965092677696 , train_loss: 1.386322245001793 , test_acc: 0.24982556918213827 , test_loss: 1.3862983882427216\n"
     ]
    },
    {
     "data": {
      "application/vnd.jupyter.widget-view+json": {
       "model_id": "25c925b0a1f748348896c0d0179cc6f6",
       "version_major": 2,
       "version_minor": 0
      },
      "text/plain": [
       "  0%|          | 0/80 [00:00<?, ?it/s]"
      ]
     },
     "metadata": {},
     "output_type": "display_data"
    },
    {
     "name": "stdout",
     "output_type": "stream",
     "text": [
      "epoch: 612, train_acc: 0.250357115502451 , train_loss: 1.3863086327910423 , test_acc: 0.248663447303137 , test_loss: 1.3863004505634309\n"
     ]
    },
    {
     "data": {
      "application/vnd.jupyter.widget-view+json": {
       "model_id": "218b332b19f74f1e800f59e9051083be",
       "version_major": 2,
       "version_minor": 0
      },
      "text/plain": [
       "  0%|          | 0/80 [00:00<?, ?it/s]"
      ]
     },
     "metadata": {},
     "output_type": "display_data"
    },
    {
     "name": "stdout",
     "output_type": "stream",
     "text": [
      "epoch: 613, train_acc: 0.24783672257965686 , train_loss: 1.3863173559308053 , test_acc: 0.24895210217269526 , test_loss: 1.386298143863678\n"
     ]
    },
    {
     "data": {
      "application/vnd.jupyter.widget-view+json": {
       "model_id": "76b81aceef14425c9124dc757e501fb9",
       "version_major": 2,
       "version_minor": 0
      },
      "text/plain": [
       "  0%|          | 0/80 [00:00<?, ?it/s]"
      ]
     },
     "metadata": {},
     "output_type": "display_data"
    },
    {
     "name": "stdout",
     "output_type": "stream",
     "text": [
      "epoch: 614, train_acc: 0.24718974992340687 , train_loss: 1.3863191470503806 , test_acc: 0.25168972821302815 , test_loss: 1.3862917125225067\n"
     ]
    },
    {
     "data": {
      "application/vnd.jupyter.widget-view+json": {
       "model_id": "26db88d1adad4eab9eaaaeeb99efccc0",
       "version_major": 2,
       "version_minor": 0
      },
      "text/plain": [
       "  0%|          | 0/80 [00:00<?, ?it/s]"
      ]
     },
     "metadata": {},
     "output_type": "display_data"
    },
    {
     "name": "stdout",
     "output_type": "stream",
     "text": [
      "epoch: 615, train_acc: 0.2471023858762255 , train_loss: 1.3863298460841178 , test_acc: 0.2486178702184699 , test_loss: 1.386311560869217\n"
     ]
    },
    {
     "data": {
      "application/vnd.jupyter.widget-view+json": {
       "model_id": "713c1c890f65451b83d8a8671e426822",
       "version_major": 2,
       "version_minor": 0
      },
      "text/plain": [
       "  0%|          | 0/80 [00:00<?, ?it/s]"
      ]
     },
     "metadata": {},
     "output_type": "display_data"
    },
    {
     "name": "stdout",
     "output_type": "stream",
     "text": [
      "epoch: 616, train_acc: 0.2488968194699755 , train_loss: 1.3863219901919366 , test_acc: 0.249547792793694 , test_loss: 1.3863029778003693\n"
     ]
    },
    {
     "data": {
      "application/vnd.jupyter.widget-view+json": {
       "model_id": "3c05500f28564253b4baedbc3a009d6d",
       "version_major": 2,
       "version_minor": 0
      },
      "text/plain": [
       "  0%|          | 0/80 [00:00<?, ?it/s]"
      ]
     },
     "metadata": {},
     "output_type": "display_data"
    },
    {
     "name": "stdout",
     "output_type": "stream",
     "text": [
      "epoch: 617, train_acc: 0.24835037530637255 , train_loss: 1.3863075807690621 , test_acc: 0.24967364556658128 , test_loss: 1.3863081514835358\n"
     ]
    },
    {
     "data": {
      "application/vnd.jupyter.widget-view+json": {
       "model_id": "58579b6a4d1d4d6f8070f6e2b8c81e54",
       "version_major": 2,
       "version_minor": 0
      },
      "text/plain": [
       "  0%|          | 0/80 [00:00<?, ?it/s]"
      ]
     },
     "metadata": {},
     "output_type": "display_data"
    },
    {
     "name": "stdout",
     "output_type": "stream",
     "text": [
      "epoch: 618, train_acc: 0.2500856885723039 , train_loss: 1.3863069400191308 , test_acc: 0.24994710807458387 , test_loss: 1.3863102734088897\n"
     ]
    },
    {
     "data": {
      "application/vnd.jupyter.widget-view+json": {
       "model_id": "cf130bec383c473aae45f1f40b8e8fb8",
       "version_major": 2,
       "version_minor": 0
      },
      "text/plain": [
       "  0%|          | 0/80 [00:00<?, ?it/s]"
      ]
     },
     "metadata": {},
     "output_type": "display_data"
    },
    {
     "name": "stdout",
     "output_type": "stream",
     "text": [
      "epoch: 619, train_acc: 0.25073744829963235 , train_loss: 1.3863110929727553 , test_acc: 0.2497344150128041 , test_loss: 1.386312049627304\n"
     ]
    },
    {
     "data": {
      "application/vnd.jupyter.widget-view+json": {
       "model_id": "36bd39d3d7f943dc8052899a612d9841",
       "version_major": 2,
       "version_minor": 0
      },
      "text/plain": [
       "  0%|          | 0/80 [00:00<?, ?it/s]"
      ]
     },
     "metadata": {},
     "output_type": "display_data"
    },
    {
     "name": "stdout",
     "output_type": "stream",
     "text": [
      "epoch: 620, train_acc: 0.2505514705882353 , train_loss: 1.386311227083206 , test_acc: 0.2497344150128041 , test_loss: 1.3862957894802093\n"
     ]
    },
    {
     "data": {
      "application/vnd.jupyter.widget-view+json": {
       "model_id": "76b7a880e48440a2bb9c71996b5335b6",
       "version_major": 2,
       "version_minor": 0
      },
      "text/plain": [
       "  0%|          | 0/80 [00:00<?, ?it/s]"
      ]
     },
     "metadata": {},
     "output_type": "display_data"
    },
    {
     "name": "stdout",
     "output_type": "stream",
     "text": [
      "epoch: 621, train_acc: 0.24574836282169116 , train_loss: 1.386310902237892 , test_acc: 0.2501598011363636 , test_loss: 1.3862983942031861\n"
     ]
    },
    {
     "data": {
      "application/vnd.jupyter.widget-view+json": {
       "model_id": "5202c1899dc844308aa4f81e66602ced",
       "version_major": 2,
       "version_minor": 0
      },
      "text/plain": [
       "  0%|          | 0/80 [00:00<?, ?it/s]"
      ]
     },
     "metadata": {},
     "output_type": "display_data"
    },
    {
     "name": "stdout",
     "output_type": "stream",
     "text": [
      "epoch: 622, train_acc: 0.24775701784620097 , train_loss: 1.3863072246313095 , test_acc: 0.24898248689580665 , test_loss: 1.386311310529709\n"
     ]
    },
    {
     "data": {
      "application/vnd.jupyter.widget-view+json": {
       "model_id": "2c680a4fd1ed4eca9a9e6f31c7fcc1b1",
       "version_major": 2,
       "version_minor": 0
      },
      "text/plain": [
       "  0%|          | 0/80 [00:00<?, ?it/s]"
      ]
     },
     "metadata": {},
     "output_type": "display_data"
    },
    {
     "name": "stdout",
     "output_type": "stream",
     "text": [
      "epoch: 623, train_acc: 0.24824601715686273 , train_loss: 1.3863276988267899 , test_acc: 0.2487394091109155 , test_loss: 1.3863081097602845\n"
     ]
    },
    {
     "data": {
      "application/vnd.jupyter.widget-view+json": {
       "model_id": "0dd69ce9898b40b793e0745221c7f29d",
       "version_major": 2,
       "version_minor": 0
      },
      "text/plain": [
       "  0%|          | 0/80 [00:00<?, ?it/s]"
      ]
     },
     "metadata": {},
     "output_type": "display_data"
    },
    {
     "name": "stdout",
     "output_type": "stream",
     "text": [
      "epoch: 624, train_acc: 0.2493298100490196 , train_loss: 1.3863144770264626 , test_acc: 0.2497344150128041 , test_loss: 1.3862951934337615\n"
     ]
    },
    {
     "data": {
      "application/vnd.jupyter.widget-view+json": {
       "model_id": "2ba5b96b72c741d2a8c30f482535e9ef",
       "version_major": 2,
       "version_minor": 0
      },
      "text/plain": [
       "  0%|          | 0/80 [00:00<?, ?it/s]"
      ]
     },
     "metadata": {},
     "output_type": "display_data"
    },
    {
     "name": "stdout",
     "output_type": "stream",
     "text": [
      "epoch: 625, train_acc: 0.24846598307291665 , train_loss: 1.3863192617893219 , test_acc: 0.24895210217269526 , test_loss: 1.3863078773021698\n"
     ]
    },
    {
     "data": {
      "application/vnd.jupyter.widget-view+json": {
       "model_id": "517f820cb3c34860be6920bbb572c841",
       "version_major": 2,
       "version_minor": 0
      },
      "text/plain": [
       "  0%|          | 0/80 [00:00<?, ?it/s]"
      ]
     },
     "metadata": {},
     "output_type": "display_data"
    },
    {
     "name": "stdout",
     "output_type": "stream",
     "text": [
      "epoch: 626, train_acc: 0.2503420362285539 , train_loss: 1.3863208994269371 , test_acc: 0.2488913327264725 , test_loss: 1.3863069593906403\n"
     ]
    },
    {
     "data": {
      "application/vnd.jupyter.widget-view+json": {
       "model_id": "b77918f555cd4da6b17d04a76b53ea2b",
       "version_major": 2,
       "version_minor": 0
      },
      "text/plain": [
       "  0%|          | 0/80 [00:00<?, ?it/s]"
      ]
     },
     "metadata": {},
     "output_type": "display_data"
    },
    {
     "name": "stdout",
     "output_type": "stream",
     "text": [
      "epoch: 627, train_acc: 0.2480715284160539 , train_loss: 1.3863088235259056 , test_acc: 0.2502357629441421 , test_loss: 1.386302465200424\n"
     ]
    },
    {
     "data": {
      "application/vnd.jupyter.widget-view+json": {
       "model_id": "eaa180e3a5d64e04802fb757ba6b3fec",
       "version_major": 2,
       "version_minor": 0
      },
      "text/plain": [
       "  0%|          | 0/80 [00:00<?, ?it/s]"
      ]
     },
     "metadata": {},
     "output_type": "display_data"
    },
    {
     "name": "stdout",
     "output_type": "stream",
     "text": [
      "epoch: 628, train_acc: 0.24712967218137255 , train_loss: 1.3863262131810188 , test_acc: 0.2495022157090269 , test_loss: 1.386312770843506\n"
     ]
    },
    {
     "data": {
      "application/vnd.jupyter.widget-view+json": {
       "model_id": "01f4dd9e5d3f4eefa125f840333c8052",
       "version_major": 2,
       "version_minor": 0
      },
      "text/plain": [
       "  0%|          | 0/80 [00:00<?, ?it/s]"
      ]
     },
     "metadata": {},
     "output_type": "display_data"
    },
    {
     "name": "stdout",
     "output_type": "stream",
     "text": [
      "epoch: 629, train_acc: 0.2495363721660539 , train_loss: 1.3863141357898712 , test_acc: 0.2487242167493598 , test_loss: 1.3862987279891967\n"
     ]
    },
    {
     "data": {
      "application/vnd.jupyter.widget-view+json": {
       "model_id": "bb904cb6ef494ce1afec0e05a797c3d1",
       "version_major": 2,
       "version_minor": 0
      },
      "text/plain": [
       "  0%|          | 0/80 [00:00<?, ?it/s]"
      ]
     },
     "metadata": {},
     "output_type": "display_data"
    },
    {
     "name": "stdout",
     "output_type": "stream",
     "text": [
      "epoch: 630, train_acc: 0.24880490770526958 , train_loss: 1.3863094747066498 , test_acc: 0.2494262539012484 , test_loss: 1.3863065540790558\n"
     ]
    },
    {
     "data": {
      "application/vnd.jupyter.widget-view+json": {
       "model_id": "8893c2a40d4a4b0ebfee671e4a75e4ac",
       "version_major": 2,
       "version_minor": 0
      },
      "text/plain": [
       "  0%|          | 0/80 [00:00<?, ?it/s]"
      ]
     },
     "metadata": {},
     "output_type": "display_data"
    },
    {
     "name": "stdout",
     "output_type": "stream",
     "text": [
      "epoch: 631, train_acc: 0.2498547123927696 , train_loss: 1.38631352186203 , test_acc: 0.2494566386243598 , test_loss: 1.386293751001358\n"
     ]
    },
    {
     "data": {
      "application/vnd.jupyter.widget-view+json": {
       "model_id": "e0ba285eaebf49d3900f1da1036aa004",
       "version_major": 2,
       "version_minor": 0
      },
      "text/plain": [
       "  0%|          | 0/80 [00:00<?, ?it/s]"
      ]
     },
     "metadata": {},
     "output_type": "display_data"
    },
    {
     "name": "stdout",
     "output_type": "stream",
     "text": [
      "epoch: 632, train_acc: 0.24759162454044117 , train_loss: 1.3863249361515044 , test_acc: 0.2520391525288092 , test_loss: 1.3862918317317963\n"
     ]
    },
    {
     "data": {
      "application/vnd.jupyter.widget-view+json": {
       "model_id": "ae56c472967f4d65bf82e5d233ec6246",
       "version_major": 2,
       "version_minor": 0
      },
      "text/plain": [
       "  0%|          | 0/80 [00:00<?, ?it/s]"
      ]
     },
     "metadata": {},
     "output_type": "display_data"
    },
    {
     "name": "stdout",
     "output_type": "stream",
     "text": [
      "epoch: 633, train_acc: 0.2472424077052696 , train_loss: 1.3863203883171082 , test_acc: 0.25187203655169654 , test_loss: 1.3862894594669342\n"
     ]
    },
    {
     "data": {
      "application/vnd.jupyter.widget-view+json": {
       "model_id": "2ab7f54506824364813365ef7165409c",
       "version_major": 2,
       "version_minor": 0
      },
      "text/plain": [
       "  0%|          | 0/80 [00:00<?, ?it/s]"
      ]
     },
     "metadata": {},
     "output_type": "display_data"
    },
    {
     "name": "stdout",
     "output_type": "stream",
     "text": [
      "epoch: 634, train_acc: 0.24618973077512254 , train_loss: 1.386312399804592 , test_acc: 0.25190242127480794 , test_loss: 1.3862913608551026\n"
     ]
    },
    {
     "data": {
      "application/vnd.jupyter.widget-view+json": {
       "model_id": "2ab266db87804071a575fb3a2b0c5323",
       "version_major": 2,
       "version_minor": 0
      },
      "text/plain": [
       "  0%|          | 0/80 [00:00<?, ?it/s]"
      ]
     },
     "metadata": {},
     "output_type": "display_data"
    },
    {
     "name": "stdout",
     "output_type": "stream",
     "text": [
      "epoch: 635, train_acc: 0.2482922123927696 , train_loss: 1.3863075852394104 , test_acc: 0.24965413932458386 , test_loss: 1.3862966358661652\n"
     ]
    },
    {
     "data": {
      "application/vnd.jupyter.widget-view+json": {
       "model_id": "7f3118cd99a746988533b22ea780f6f3",
       "version_major": 2,
       "version_minor": 0
      },
      "text/plain": [
       "  0%|          | 0/80 [00:00<?, ?it/s]"
      ]
     },
     "metadata": {},
     "output_type": "display_data"
    },
    {
     "name": "stdout",
     "output_type": "stream",
     "text": [
      "epoch: 636, train_acc: 0.2498180912990196 , train_loss: 1.386328086256981 , test_acc: 0.250038262243918 , test_loss: 1.3862926363945007\n"
     ]
    },
    {
     "data": {
      "application/vnd.jupyter.widget-view+json": {
       "model_id": "1f269c5eb5944b4b818ce6e151f14f54",
       "version_major": 2,
       "version_minor": 0
      },
      "text/plain": [
       "  0%|          | 0/80 [00:00<?, ?it/s]"
      ]
     },
     "metadata": {},
     "output_type": "display_data"
    },
    {
     "name": "stdout",
     "output_type": "stream",
     "text": [
      "epoch: 637, train_acc: 0.2481926413143382 , train_loss: 1.3863162860274314 , test_acc: 0.2487697938340269 , test_loss: 1.3862959325313569\n"
     ]
    },
    {
     "data": {
      "application/vnd.jupyter.widget-view+json": {
       "model_id": "6f8d403d7fc24d16bc135b661b12d1a3",
       "version_major": 2,
       "version_minor": 0
      },
      "text/plain": [
       "  0%|          | 0/80 [00:00<?, ?it/s]"
      ]
     },
     "metadata": {},
     "output_type": "display_data"
    },
    {
     "name": "stdout",
     "output_type": "stream",
     "text": [
      "epoch: 638, train_acc: 0.24946121515012254 , train_loss: 1.3863149359822273 , test_acc: 0.24941106153969272 , test_loss: 1.3863010346889495\n"
     ]
    },
    {
     "data": {
      "application/vnd.jupyter.widget-view+json": {
       "model_id": "c7db493f2c4f446bb26e27761aa16fb1",
       "version_major": 2,
       "version_minor": 0
      },
      "text/plain": [
       "  0%|          | 0/80 [00:00<?, ?it/s]"
      ]
     },
     "metadata": {},
     "output_type": "display_data"
    },
    {
     "name": "stdout",
     "output_type": "stream",
     "text": [
      "epoch: 639, train_acc: 0.24826588350183823 , train_loss: 1.3863187000155448 , test_acc: 0.2493502920934699 , test_loss: 1.3862978041172027\n"
     ]
    },
    {
     "data": {
      "application/vnd.jupyter.widget-view+json": {
       "model_id": "1ebe654001a94533ad247d203ca4a932",
       "version_major": 2,
       "version_minor": 0
      },
      "text/plain": [
       "  0%|          | 0/80 [00:00<?, ?it/s]"
      ]
     },
     "metadata": {},
     "output_type": "display_data"
    },
    {
     "name": "stdout",
     "output_type": "stream",
     "text": [
      "epoch: 640, train_acc: 0.2510904947916667 , train_loss: 1.3863185301423073 , test_acc: 0.24941106153969272 , test_loss: 1.386298817396164\n"
     ]
    },
    {
     "data": {
      "application/vnd.jupyter.widget-view+json": {
       "model_id": "8fc782f37f1e4989a0e14acab1e053b7",
       "version_major": 2,
       "version_minor": 0
      },
      "text/plain": [
       "  0%|          | 0/80 [00:00<?, ?it/s]"
      ]
     },
     "metadata": {},
     "output_type": "display_data"
    },
    {
     "name": "stdout",
     "output_type": "stream",
     "text": [
      "epoch: 641, train_acc: 0.2506247127757353 , train_loss: 1.3863130182027816 , test_acc: 0.2494718309859155 , test_loss: 1.3862967193126678\n"
     ]
    },
    {
     "data": {
      "application/vnd.jupyter.widget-view+json": {
       "model_id": "7ae400275a0242ce9ef0a48d156ab399",
       "version_major": 2,
       "version_minor": 0
      },
      "text/plain": [
       "  0%|          | 0/80 [00:00<?, ?it/s]"
      ]
     },
     "metadata": {},
     "output_type": "display_data"
    },
    {
     "name": "stdout",
     "output_type": "stream",
     "text": [
      "epoch: 642, train_acc: 0.250506472120098 , train_loss: 1.3862998709082603 , test_acc: 0.24896729453425098 , test_loss: 1.3863060176372528\n"
     ]
    },
    {
     "data": {
      "application/vnd.jupyter.widget-view+json": {
       "model_id": "8f6f7e16726b4e1fbb3bda97a7b07f02",
       "version_major": 2,
       "version_minor": 0
      },
      "text/plain": [
       "  0%|          | 0/80 [00:00<?, ?it/s]"
      ]
     },
     "metadata": {},
     "output_type": "display_data"
    },
    {
     "name": "stdout",
     "output_type": "stream",
     "text": [
      "epoch: 643, train_acc: 0.24755596086090687 , train_loss: 1.3863286957144738 , test_acc: 0.24893690981113958 , test_loss: 1.3863053441047668\n"
     ]
    },
    {
     "data": {
      "application/vnd.jupyter.widget-view+json": {
       "model_id": "dd9a2bac0c0d405fb215a59ddbc53f02",
       "version_major": 2,
       "version_minor": 0
      },
      "text/plain": [
       "  0%|          | 0/80 [00:00<?, ?it/s]"
      ]
     },
     "metadata": {},
     "output_type": "display_data"
    },
    {
     "name": "stdout",
     "output_type": "stream",
     "text": [
      "epoch: 644, train_acc: 0.24938151041666665 , train_loss: 1.3863068953156472 , test_acc: 0.2497647997359155 , test_loss: 1.3863005816936493\n"
     ]
    },
    {
     "data": {
      "application/vnd.jupyter.widget-view+json": {
       "model_id": "fdef4e41236c4b148f0b03dbc4ad1d9e",
       "version_major": 2,
       "version_minor": 0
      },
      "text/plain": [
       "  0%|          | 0/80 [00:00<?, ?it/s]"
      ]
     },
     "metadata": {},
     "output_type": "display_data"
    },
    {
     "name": "stdout",
     "output_type": "stream",
     "text": [
      "epoch: 645, train_acc: 0.2481316061580882 , train_loss: 1.3863127768039702 , test_acc: 0.25005345460547374 , test_loss: 1.3863050639629364\n"
     ]
    },
    {
     "data": {
      "application/vnd.jupyter.widget-view+json": {
       "model_id": "a0a4c875792b466c89e4559c5b88487b",
       "version_major": 2,
       "version_minor": 0
      },
      "text/plain": [
       "  0%|          | 0/80 [00:00<?, ?it/s]"
      ]
     },
     "metadata": {},
     "output_type": "display_data"
    },
    {
     "name": "stdout",
     "output_type": "stream",
     "text": [
      "epoch: 646, train_acc: 0.24974293428308822 , train_loss: 1.3863181620836258 , test_acc: 0.24953260043213826 , test_loss: 1.3863064229488373\n"
     ]
    },
    {
     "data": {
      "application/vnd.jupyter.widget-view+json": {
       "model_id": "659de7acd8604c47b8d2737010581982",
       "version_major": 2,
       "version_minor": 0
      },
      "text/plain": [
       "  0%|          | 0/80 [00:00<?, ?it/s]"
      ]
     },
     "metadata": {},
     "output_type": "display_data"
    },
    {
     "name": "stdout",
     "output_type": "stream",
     "text": [
      "epoch: 647, train_acc: 0.24846406824448528 , train_loss: 1.386316826939583 , test_acc: 0.24948702334747117 , test_loss: 1.386308068037033\n"
     ]
    },
    {
     "data": {
      "application/vnd.jupyter.widget-view+json": {
       "model_id": "3d63288508f845a2a66c2c4e9f713d27",
       "version_major": 2,
       "version_minor": 0
      },
      "text/plain": [
       "  0%|          | 0/80 [00:00<?, ?it/s]"
      ]
     },
     "metadata": {},
     "output_type": "display_data"
    },
    {
     "name": "stdout",
     "output_type": "stream",
     "text": [
      "epoch: 648, train_acc: 0.2503195369944853 , train_loss: 1.3863050028681756 , test_acc: 0.249395869178137 , test_loss: 1.3863075017929076\n"
     ]
    },
    {
     "data": {
      "application/vnd.jupyter.widget-view+json": {
       "model_id": "e6825d8a40c647fbad5d9f461cc9b0c2",
       "version_major": 2,
       "version_minor": 0
      },
      "text/plain": [
       "  0%|          | 0/80 [00:00<?, ?it/s]"
      ]
     },
     "metadata": {},
     "output_type": "display_data"
    },
    {
     "name": "stdout",
     "output_type": "stream",
     "text": [
      "epoch: 649, train_acc: 0.2502462948069853 , train_loss: 1.386318103969097 , test_acc: 0.2497344150128041 , test_loss: 1.3863018691539764\n"
     ]
    },
    {
     "data": {
      "application/vnd.jupyter.widget-view+json": {
       "model_id": "0b901a2b81224205b420d1f5abc87171",
       "version_major": 2,
       "version_minor": 0
      },
      "text/plain": [
       "  0%|          | 0/80 [00:00<?, ?it/s]"
      ]
     },
     "metadata": {},
     "output_type": "display_data"
    },
    {
     "name": "stdout",
     "output_type": "stream",
     "text": [
      "epoch: 650, train_acc: 0.2484621534160539 , train_loss: 1.3863272592425346 , test_acc: 0.2515529969590269 , test_loss: 1.3862933933734893\n"
     ]
    },
    {
     "data": {
      "application/vnd.jupyter.widget-view+json": {
       "model_id": "111ffc5bed1847a8a4c14797273a4443",
       "version_major": 2,
       "version_minor": 0
      },
      "text/plain": [
       "  0%|          | 0/80 [00:00<?, ?it/s]"
      ]
     },
     "metadata": {},
     "output_type": "display_data"
    },
    {
     "name": "stdout",
     "output_type": "stream",
     "text": [
      "epoch: 651, train_acc: 0.2486950444240196 , train_loss: 1.3863028809428215 , test_acc: 0.2513858809819142 , test_loss: 1.3862906754016877\n"
     ]
    },
    {
     "data": {
      "application/vnd.jupyter.widget-view+json": {
       "model_id": "4e647591a20042c9a85433fd396f0fdc",
       "version_major": 2,
       "version_minor": 0
      },
      "text/plain": [
       "  0%|          | 0/80 [00:00<?, ?it/s]"
      ]
     },
     "metadata": {},
     "output_type": "display_data"
    },
    {
     "name": "stdout",
     "output_type": "stream",
     "text": [
      "epoch: 652, train_acc: 0.24914861940870098 , train_loss: 1.38631721585989 , test_acc: 0.2502813400288092 , test_loss: 1.386293601989746\n"
     ]
    },
    {
     "data": {
      "application/vnd.jupyter.widget-view+json": {
       "model_id": "0e8ab3cfa6b14fef9438f9539cbf6c16",
       "version_major": 2,
       "version_minor": 0
      },
      "text/plain": [
       "  0%|          | 0/80 [00:00<?, ?it/s]"
      ]
     },
     "metadata": {},
     "output_type": "display_data"
    },
    {
     "name": "stdout",
     "output_type": "stream",
     "text": [
      "epoch: 653, train_acc: 0.250174010033701 , train_loss: 1.3863108292222024 , test_acc: 0.24990153098991677 , test_loss: 1.3863038420677185\n"
     ]
    },
    {
     "data": {
      "application/vnd.jupyter.widget-view+json": {
       "model_id": "3ea7f95c88294c8d9646656a5b3417a0",
       "version_major": 2,
       "version_minor": 0
      },
      "text/plain": [
       "  0%|          | 0/80 [00:00<?, ?it/s]"
      ]
     },
     "metadata": {},
     "output_type": "display_data"
    },
    {
     "name": "stdout",
     "output_type": "stream",
     "text": [
      "epoch: 654, train_acc: 0.24806961358762253 , train_loss: 1.3863255292177201 , test_acc: 0.24994710807458387 , test_loss: 1.386294847726822\n"
     ]
    },
    {
     "data": {
      "application/vnd.jupyter.widget-view+json": {
       "model_id": "f50fd1ca811f47fbaf027f75aea36ce8",
       "version_major": 2,
       "version_minor": 0
      },
      "text/plain": [
       "  0%|          | 0/80 [00:00<?, ?it/s]"
      ]
     },
     "metadata": {},
     "output_type": "display_data"
    },
    {
     "name": "stdout",
     "output_type": "stream",
     "text": [
      "epoch: 655, train_acc: 0.24627326516544118 , train_loss: 1.38631811439991 , test_acc: 0.25006864696702946 , test_loss: 1.3863009452819823\n"
     ]
    },
    {
     "data": {
      "application/vnd.jupyter.widget-view+json": {
       "model_id": "feb291379af64ac8a9c2d5dafd6c6ca5",
       "version_major": 2,
       "version_minor": 0
      },
      "text/plain": [
       "  0%|          | 0/80 [00:00<?, ?it/s]"
      ]
     },
     "metadata": {},
     "output_type": "display_data"
    },
    {
     "name": "stdout",
     "output_type": "stream",
     "text": [
      "epoch: 656, train_acc: 0.25025945925245097 , train_loss: 1.3863112017512322 , test_acc: 0.2488609480033611 , test_loss: 1.3862959504127503\n"
     ]
    },
    {
     "data": {
      "application/vnd.jupyter.widget-view+json": {
       "model_id": "4c5a61b6736c4277a0ab646a037dc81a",
       "version_major": 2,
       "version_minor": 0
      },
      "text/plain": [
       "  0%|          | 0/80 [00:00<?, ?it/s]"
      ]
     },
     "metadata": {},
     "output_type": "display_data"
    },
    {
     "name": "stdout",
     "output_type": "stream",
     "text": [
      "epoch: 657, train_acc: 0.24935039445465684 , train_loss: 1.3863183498382567 , test_acc: 0.24987114626680537 , test_loss: 1.3863002240657807\n"
     ]
    },
    {
     "data": {
      "application/vnd.jupyter.widget-view+json": {
       "model_id": "41ee67257162466b87708d05385cde5f",
       "version_major": 2,
       "version_minor": 0
      },
      "text/plain": [
       "  0%|          | 0/80 [00:00<?, ?it/s]"
      ]
     },
     "metadata": {},
     "output_type": "display_data"
    },
    {
     "name": "stdout",
     "output_type": "stream",
     "text": [
      "epoch: 658, train_acc: 0.24632209329044116 , train_loss: 1.3863171681761741 , test_acc: 0.24890652508802816 , test_loss: 1.386299741268158\n"
     ]
    },
    {
     "data": {
      "application/vnd.jupyter.widget-view+json": {
       "model_id": "b603c67d663249599635ffac46343345",
       "version_major": 2,
       "version_minor": 0
      },
      "text/plain": [
       "  0%|          | 0/80 [00:00<?, ?it/s]"
      ]
     },
     "metadata": {},
     "output_type": "display_data"
    },
    {
     "name": "stdout",
     "output_type": "stream",
     "text": [
      "epoch: 659, train_acc: 0.24922281901041665 , train_loss: 1.3863113835453986 , test_acc: 0.24960856223991676 , test_loss: 1.3863016068935394\n"
     ]
    },
    {
     "data": {
      "application/vnd.jupyter.widget-view+json": {
       "model_id": "190f61778f5244bfa6e111d51f64ff56",
       "version_major": 2,
       "version_minor": 0
      },
      "text/plain": [
       "  0%|          | 0/80 [00:00<?, ?it/s]"
      ]
     },
     "metadata": {},
     "output_type": "display_data"
    },
    {
     "name": "stdout",
     "output_type": "stream",
     "text": [
      "epoch: 660, train_acc: 0.24992603975183822 , train_loss: 1.3863239869475366 , test_acc: 0.24994279419414211 , test_loss: 1.3863030433654786\n"
     ]
    },
    {
     "data": {
      "application/vnd.jupyter.widget-view+json": {
       "model_id": "2c88661657514414bab319fcc68c9c5f",
       "version_major": 2,
       "version_minor": 0
      },
      "text/plain": [
       "  0%|          | 0/80 [00:00<?, ?it/s]"
      ]
     },
     "metadata": {},
     "output_type": "display_data"
    },
    {
     "name": "stdout",
     "output_type": "stream",
     "text": [
      "epoch: 661, train_acc: 0.2475475834865196 , train_loss: 1.38631828725338 , test_acc: 0.24845075424135726 , test_loss: 1.386301726102829\n"
     ]
    },
    {
     "data": {
      "application/vnd.jupyter.widget-view+json": {
       "model_id": "769370cef8d548449a097974a2d6c955",
       "version_major": 2,
       "version_minor": 0
      },
      "text/plain": [
       "  0%|          | 0/80 [00:00<?, ?it/s]"
      ]
     },
     "metadata": {},
     "output_type": "display_data"
    },
    {
     "name": "stdout",
     "output_type": "stream",
     "text": [
      "epoch: 662, train_acc: 0.24929414636948527 , train_loss: 1.3863227292895317 , test_acc: 0.251598574043694 , test_loss: 1.386290043592453\n"
     ]
    },
    {
     "data": {
      "application/vnd.jupyter.widget-view+json": {
       "model_id": "d41c21bee2b347708aad3e1944bf13df",
       "version_major": 2,
       "version_minor": 0
      },
      "text/plain": [
       "  0%|          | 0/80 [00:00<?, ?it/s]"
      ]
     },
     "metadata": {},
     "output_type": "display_data"
    },
    {
     "name": "stdout",
     "output_type": "stream",
     "text": [
      "epoch: 663, train_acc: 0.24895617915134802 , train_loss: 1.38631279617548 , test_acc: 0.251598574043694 , test_loss: 1.3862921178340912\n"
     ]
    },
    {
     "data": {
      "application/vnd.jupyter.widget-view+json": {
       "model_id": "59c863f8df3e4ea9884feb947b1fc8a9",
       "version_major": 2,
       "version_minor": 0
      },
      "text/plain": [
       "  0%|          | 0/80 [00:00<?, ?it/s]"
      ]
     },
     "metadata": {},
     "output_type": "display_data"
    },
    {
     "name": "stdout",
     "output_type": "stream",
     "text": [
      "epoch: 664, train_acc: 0.24810431985294118 , train_loss: 1.3863167852163314 , test_acc: 0.24956298515524966 , test_loss: 1.3862996339797973\n"
     ]
    },
    {
     "data": {
      "application/vnd.jupyter.widget-view+json": {
       "model_id": "3290ad2b13244badad09cf5f4af2a032",
       "version_major": 2,
       "version_minor": 0
      },
      "text/plain": [
       "  0%|          | 0/80 [00:00<?, ?it/s]"
      ]
     },
     "metadata": {},
     "output_type": "display_data"
    },
    {
     "name": "stdout",
     "output_type": "stream",
     "text": [
      "epoch: 665, train_acc: 0.250967467064951 , train_loss: 1.3863222852349282 , test_acc: 0.2488457556418054 , test_loss: 1.3862982213497161\n"
     ]
    },
    {
     "data": {
      "application/vnd.jupyter.widget-view+json": {
       "model_id": "3aa2bbe1b31d49e8b6bdab9fa1809c86",
       "version_major": 2,
       "version_minor": 0
      },
      "text/plain": [
       "  0%|          | 0/80 [00:00<?, ?it/s]"
      ]
     },
     "metadata": {},
     "output_type": "display_data"
    },
    {
     "name": "stdout",
     "output_type": "stream",
     "text": [
      "epoch: 666, train_acc: 0.2489138135723039 , train_loss: 1.386317528784275 , test_acc: 0.24890652508802816 , test_loss: 1.3863105297088623\n"
     ]
    },
    {
     "data": {
      "application/vnd.jupyter.widget-view+json": {
       "model_id": "9a30560c2ebb4faa877d8ce8cdb0a52a",
       "version_major": 2,
       "version_minor": 0
      },
      "text/plain": [
       "  0%|          | 0/80 [00:00<?, ?it/s]"
      ]
     },
     "metadata": {},
     "output_type": "display_data"
    },
    {
     "name": "stdout",
     "output_type": "stream",
     "text": [
      "epoch: 667, train_acc: 0.2466141046262255 , train_loss: 1.3863218948245049 , test_acc: 0.24887614036491676 , test_loss: 1.3863032042980195\n"
     ]
    },
    {
     "data": {
      "application/vnd.jupyter.widget-view+json": {
       "model_id": "b8aa30efa91f48dbbfea39691d3ad86d",
       "version_major": 2,
       "version_minor": 0
      },
      "text/plain": [
       "  0%|          | 0/80 [00:00<?, ?it/s]"
      ]
     },
     "metadata": {},
     "output_type": "display_data"
    },
    {
     "name": "stdout",
     "output_type": "stream",
     "text": [
      "epoch: 668, train_acc: 0.24799637140012254 , train_loss: 1.3863224998116492 , test_acc: 0.249688837928137 , test_loss: 1.3862943351268768\n"
     ]
    },
    {
     "data": {
      "application/vnd.jupyter.widget-view+json": {
       "model_id": "aadb2056557d4ec0ab1f9a67075ab821",
       "version_major": 2,
       "version_minor": 0
      },
      "text/plain": [
       "  0%|          | 0/80 [00:00<?, ?it/s]"
      ]
     },
     "metadata": {},
     "output_type": "display_data"
    },
    {
     "name": "stdout",
     "output_type": "stream",
     "text": [
      "epoch: 669, train_acc: 0.25044352213541665 , train_loss: 1.386316178739071 , test_acc: 0.2487849861955826 , test_loss: 1.3863047182559967\n"
     ]
    },
    {
     "data": {
      "application/vnd.jupyter.widget-view+json": {
       "model_id": "b8937b2a668f45ab9a00f2aa03be4ff9",
       "version_major": 2,
       "version_minor": 0
      },
      "text/plain": [
       "  0%|          | 0/80 [00:00<?, ?it/s]"
      ]
     },
     "metadata": {},
     "output_type": "display_data"
    },
    {
     "name": "stdout",
     "output_type": "stream",
     "text": [
      "epoch: 670, train_acc: 0.2474920534620098 , train_loss: 1.386323979496956 , test_acc: 0.24880017855713826 , test_loss: 1.3863012433052062\n"
     ]
    },
    {
     "data": {
      "application/vnd.jupyter.widget-view+json": {
       "model_id": "276c01b4e94349e98ff7baf1e7e021a4",
       "version_major": 2,
       "version_minor": 0
      },
      "text/plain": [
       "  0%|          | 0/80 [00:00<?, ?it/s]"
      ]
     },
     "metadata": {},
     "output_type": "display_data"
    },
    {
     "name": "stdout",
     "output_type": "stream",
     "text": [
      "epoch: 671, train_acc: 0.2493420170802696 , train_loss: 1.3863141134381294 , test_acc: 0.2497192226512484 , test_loss: 1.3862995266914369\n"
     ]
    },
    {
     "data": {
      "application/vnd.jupyter.widget-view+json": {
       "model_id": "a4319f87f34f4fbe94736f27a6a0e1b2",
       "version_major": 2,
       "version_minor": 0
      },
      "text/plain": [
       "  0%|          | 0/80 [00:00<?, ?it/s]"
      ]
     },
     "metadata": {},
     "output_type": "display_data"
    },
    {
     "name": "stdout",
     "output_type": "stream",
     "text": [
      "epoch: 672, train_acc: 0.2498415479473039 , train_loss: 1.3863176912069322 , test_acc: 0.2515529969590269 , test_loss: 1.3862914621829987\n"
     ]
    },
    {
     "data": {
      "application/vnd.jupyter.widget-view+json": {
       "model_id": "84d23691e965480b84f6d1c843c608cd",
       "version_major": 2,
       "version_minor": 0
      },
      "text/plain": [
       "  0%|          | 0/80 [00:00<?, ?it/s]"
      ]
     },
     "metadata": {},
     "output_type": "display_data"
    },
    {
     "name": "stdout",
     "output_type": "stream",
     "text": [
      "epoch: 673, train_acc: 0.24969985064338235 , train_loss: 1.386319489777088 , test_acc: 0.2486938320262484 , test_loss: 1.3862992763519286\n"
     ]
    },
    {
     "data": {
      "application/vnd.jupyter.widget-view+json": {
       "model_id": "d9be783ad06f4d6d9b83fde8aa81c34f",
       "version_major": 2,
       "version_minor": 0
      },
      "text/plain": [
       "  0%|          | 0/80 [00:00<?, ?it/s]"
      ]
     },
     "metadata": {},
     "output_type": "display_data"
    },
    {
     "name": "stdout",
     "output_type": "stream",
     "text": [
      "epoch: 674, train_acc: 0.24739631204044116 , train_loss: 1.3863241478800774 , test_acc: 0.24883056328024966 , test_loss: 1.386308377981186\n"
     ]
    },
    {
     "data": {
      "application/vnd.jupyter.widget-view+json": {
       "model_id": "3cca2983d3794f539bc685b9ab2bf807",
       "version_major": 2,
       "version_minor": 0
      },
      "text/plain": [
       "  0%|          | 0/80 [00:00<?, ?it/s]"
      ]
     },
     "metadata": {},
     "output_type": "display_data"
    },
    {
     "name": "stdout",
     "output_type": "stream",
     "text": [
      "epoch: 675, train_acc: 0.2498293409160539 , train_loss: 1.386317926645279 , test_acc: 0.2515681893205826 , test_loss: 1.3862918615341187\n"
     ]
    },
    {
     "data": {
      "application/vnd.jupyter.widget-view+json": {
       "model_id": "659b692d5ea4432ba09d0097f3d7cedc",
       "version_major": 2,
       "version_minor": 0
      },
      "text/plain": [
       "  0%|          | 0/80 [00:00<?, ?it/s]"
      ]
     },
     "metadata": {},
     "output_type": "display_data"
    },
    {
     "name": "stdout",
     "output_type": "stream",
     "text": [
      "epoch: 676, train_acc: 0.25019267961090685 , train_loss: 1.3863107472658158 , test_acc: 0.24887614036491676 , test_loss: 1.3862996041774749\n"
     ]
    },
    {
     "data": {
      "application/vnd.jupyter.widget-view+json": {
       "model_id": "a7590c85b56c407c8cd72cccae6af362",
       "version_major": 2,
       "version_minor": 0
      },
      "text/plain": [
       "  0%|          | 0/80 [00:00<?, ?it/s]"
      ]
     },
     "metadata": {},
     "output_type": "display_data"
    },
    {
     "name": "stdout",
     "output_type": "stream",
     "text": [
      "epoch: 677, train_acc: 0.2473943972120098 , train_loss: 1.3863161116838456 , test_acc: 0.24979518445902688 , test_loss: 1.3862950146198272\n"
     ]
    },
    {
     "data": {
      "application/vnd.jupyter.widget-view+json": {
       "model_id": "36cd746fb3d44d6c9c9acb6b3a2d48e8",
       "version_major": 2,
       "version_minor": 0
      },
      "text/plain": [
       "  0%|          | 0/80 [00:00<?, ?it/s]"
      ]
     },
     "metadata": {},
     "output_type": "display_data"
    },
    {
     "name": "stdout",
     "output_type": "stream",
     "text": [
      "epoch: 678, train_acc: 0.24920295266544118 , train_loss: 1.3863171100616456 , test_acc: 0.24895210217269526 , test_loss: 1.3862940430641175\n"
     ]
    },
    {
     "data": {
      "application/vnd.jupyter.widget-view+json": {
       "model_id": "5e18efad1ef5462393b8bcdf2c4dbfe4",
       "version_major": 2,
       "version_minor": 0
      },
      "text/plain": [
       "  0%|          | 0/80 [00:00<?, ?it/s]"
      ]
     },
     "metadata": {},
     "output_type": "display_data"
    },
    {
     "name": "stdout",
     "output_type": "stream",
     "text": [
      "epoch: 679, train_acc: 0.24637379365808823 , train_loss: 1.3863097116351129 , test_acc: 0.2495174080705826 , test_loss: 1.386302387714386\n"
     ]
    },
    {
     "data": {
      "application/vnd.jupyter.widget-view+json": {
       "model_id": "8e24c0f6f1634068bbd10a06aa7ba44a",
       "version_major": 2,
       "version_minor": 0
      },
      "text/plain": [
       "  0%|          | 0/80 [00:00<?, ?it/s]"
      ]
     },
     "metadata": {},
     "output_type": "display_data"
    },
    {
     "name": "stdout",
     "output_type": "stream",
     "text": [
      "epoch: 680, train_acc: 0.2502199659160539 , train_loss: 1.3863163739442825 , test_acc: 0.24994710807458387 , test_loss: 1.3862976789474488\n"
     ]
    },
    {
     "data": {
      "application/vnd.jupyter.widget-view+json": {
       "model_id": "b4f8eac3569b465aa5b5ee7a9a61162d",
       "version_major": 2,
       "version_minor": 0
      },
      "text/plain": [
       "  0%|          | 0/80 [00:00<?, ?it/s]"
      ]
     },
     "metadata": {},
     "output_type": "display_data"
    },
    {
     "name": "stdout",
     "output_type": "stream",
     "text": [
      "epoch: 681, train_acc: 0.24672684015012253 , train_loss: 1.3863162279129029 , test_acc: 0.2514314580665813 , test_loss: 1.3862947881221772\n"
     ]
    },
    {
     "data": {
      "application/vnd.jupyter.widget-view+json": {
       "model_id": "3ff15dc20d114b86acac42f4f26f17f8",
       "version_major": 2,
       "version_minor": 0
      },
      "text/plain": [
       "  0%|          | 0/80 [00:00<?, ?it/s]"
      ]
     },
     "metadata": {},
     "output_type": "display_data"
    },
    {
     "name": "stdout",
     "output_type": "stream",
     "text": [
      "epoch: 682, train_acc: 0.24946217256433822 , train_loss: 1.386314259469509 , test_acc: 0.24967364556658128 , test_loss: 1.3862987101078033\n"
     ]
    },
    {
     "data": {
      "application/vnd.jupyter.widget-view+json": {
       "model_id": "1607a42f5f234b00961eb01fe622befc",
       "version_major": 2,
       "version_minor": 0
      },
      "text/plain": [
       "  0%|          | 0/80 [00:00<?, ?it/s]"
      ]
     },
     "metadata": {},
     "output_type": "display_data"
    },
    {
     "name": "stdout",
     "output_type": "stream",
     "text": [
      "epoch: 683, train_acc: 0.2469061159620098 , train_loss: 1.3863131329417229 , test_acc: 0.2495781775168054 , test_loss: 1.3863107323646546\n"
     ]
    },
    {
     "data": {
      "application/vnd.jupyter.widget-view+json": {
       "model_id": "994d1ab4ac3147449611a85e132d6ded",
       "version_major": 2,
       "version_minor": 0
      },
      "text/plain": [
       "  0%|          | 0/80 [00:00<?, ?it/s]"
      ]
     },
     "metadata": {},
     "output_type": "display_data"
    },
    {
     "name": "stdout",
     "output_type": "stream",
     "text": [
      "epoch: 684, train_acc: 0.24946025773590685 , train_loss: 1.3863195195794105 , test_acc: 0.24980606294014085 , test_loss: 1.3862977564334868\n"
     ]
    },
    {
     "data": {
      "application/vnd.jupyter.widget-view+json": {
       "model_id": "caeab5032763409e847e349954434aff",
       "version_major": 2,
       "version_minor": 0
      },
      "text/plain": [
       "  0%|          | 0/80 [00:00<?, ?it/s]"
      ]
     },
     "metadata": {},
     "output_type": "display_data"
    },
    {
     "name": "stdout",
     "output_type": "stream",
     "text": [
      "epoch: 685, train_acc: 0.24846119600183822 , train_loss: 1.3863127872347831 , test_acc: 0.24890652508802816 , test_loss: 1.3863120198249816\n"
     ]
    },
    {
     "data": {
      "application/vnd.jupyter.widget-view+json": {
       "model_id": "1ed7d529c2df4207bf3dd3ee2f2b6485",
       "version_major": 2,
       "version_minor": 0
      },
      "text/plain": [
       "  0%|          | 0/80 [00:00<?, ?it/s]"
      ]
     },
     "metadata": {},
     "output_type": "display_data"
    },
    {
     "name": "stdout",
     "output_type": "stream",
     "text": [
      "epoch: 686, train_acc: 0.24764141007965684 , train_loss: 1.3863145127892493 , test_acc: 0.24980606294014085 , test_loss: 1.386309963464737\n"
     ]
    },
    {
     "data": {
      "application/vnd.jupyter.widget-view+json": {
       "model_id": "f79b6e838be044da98166641a934429a",
       "version_major": 2,
       "version_minor": 0
      },
      "text/plain": [
       "  0%|          | 0/80 [00:00<?, ?it/s]"
      ]
     },
     "metadata": {},
     "output_type": "display_data"
    },
    {
     "name": "stdout",
     "output_type": "stream",
     "text": [
      "epoch: 687, train_acc: 0.2492189893535539 , train_loss: 1.386326102912426 , test_acc: 0.2494566386243598 , test_loss: 1.386298704147339\n"
     ]
    },
    {
     "data": {
      "application/vnd.jupyter.widget-view+json": {
       "model_id": "312e02fca29649588cbf34a101bcc068",
       "version_major": 2,
       "version_minor": 0
      },
      "text/plain": [
       "  0%|          | 0/80 [00:00<?, ?it/s]"
      ]
     },
     "metadata": {},
     "output_type": "display_data"
    },
    {
     "name": "stdout",
     "output_type": "stream",
     "text": [
      "epoch: 688, train_acc: 0.2486892999387255 , train_loss: 1.3863085359334946 , test_acc: 0.24974529349391802 , test_loss: 1.386298930644989\n"
     ]
    },
    {
     "data": {
      "application/vnd.jupyter.widget-view+json": {
       "model_id": "44c1d581628b4d9cbe29c43b530904fc",
       "version_major": 2,
       "version_minor": 0
      },
      "text/plain": [
       "  0%|          | 0/80 [00:00<?, ?it/s]"
      ]
     },
     "metadata": {},
     "output_type": "display_data"
    },
    {
     "name": "stdout",
     "output_type": "stream",
     "text": [
      "epoch: 689, train_acc: 0.24859547334558824 , train_loss: 1.3863045901060105 , test_acc: 0.2493047150088028 , test_loss: 1.3862963974475861\n"
     ]
    },
    {
     "data": {
      "application/vnd.jupyter.widget-view+json": {
       "model_id": "195a96037a204e81b126e4baa441f5a7",
       "version_major": 2,
       "version_minor": 0
      },
      "text/plain": [
       "  0%|          | 0/80 [00:00<?, ?it/s]"
      ]
     },
     "metadata": {},
     "output_type": "display_data"
    },
    {
     "name": "stdout",
     "output_type": "stream",
     "text": [
      "epoch: 690, train_acc: 0.24753441904105392 , train_loss: 1.3863195806741715 , test_acc: 0.24890652508802816 , test_loss: 1.3862986624240876\n"
     ]
    },
    {
     "data": {
      "application/vnd.jupyter.widget-view+json": {
       "model_id": "4e9b1a5f0d18427ab69d90c991354fdc",
       "version_major": 2,
       "version_minor": 0
      },
      "text/plain": [
       "  0%|          | 0/80 [00:00<?, ?it/s]"
      ]
     },
     "metadata": {},
     "output_type": "display_data"
    },
    {
     "name": "stdout",
     "output_type": "stream",
     "text": [
      "epoch: 691, train_acc: 0.24798607919730392 , train_loss: 1.3863138675689697 , test_acc: 0.24890652508802816 , test_loss: 1.3862974166870117\n"
     ]
    },
    {
     "data": {
      "application/vnd.jupyter.widget-view+json": {
       "model_id": "87d9d24d62bd46ffbff737cc41bfff4c",
       "version_major": 2,
       "version_minor": 0
      },
      "text/plain": [
       "  0%|          | 0/80 [00:00<?, ?it/s]"
      ]
     },
     "metadata": {},
     "output_type": "display_data"
    },
    {
     "name": "stdout",
     "output_type": "stream",
     "text": [
      "epoch: 692, train_acc: 0.24552959367340685 , train_loss: 1.3863217040896416 , test_acc: 0.2494566386243598 , test_loss: 1.386293214559555\n"
     ]
    },
    {
     "data": {
      "application/vnd.jupyter.widget-view+json": {
       "model_id": "951ed5d27a8c4c77b11f435f7106bf6e",
       "version_major": 2,
       "version_minor": 0
      },
      "text/plain": [
       "  0%|          | 0/80 [00:00<?, ?it/s]"
      ]
     },
     "metadata": {},
     "output_type": "display_data"
    },
    {
     "name": "stdout",
     "output_type": "stream",
     "text": [
      "epoch: 693, train_acc: 0.24747242647058823 , train_loss: 1.3863173753023148 , test_acc: 0.25153780459747116 , test_loss: 1.3862915754318237\n"
     ]
    },
    {
     "data": {
      "application/vnd.jupyter.widget-view+json": {
       "model_id": "8c50fdbc5680458c96090da277e10e67",
       "version_major": 2,
       "version_minor": 0
      },
      "text/plain": [
       "  0%|          | 0/80 [00:00<?, ?it/s]"
      ]
     },
     "metadata": {},
     "output_type": "display_data"
    },
    {
     "name": "stdout",
     "output_type": "stream",
     "text": [
      "epoch: 694, train_acc: 0.2497335994944853 , train_loss: 1.3863185599446297 , test_acc: 0.24883056328024966 , test_loss: 1.386295872926712\n"
     ]
    },
    {
     "data": {
      "application/vnd.jupyter.widget-view+json": {
       "model_id": "219bb2194d164c3db7980c5c372640e4",
       "version_major": 2,
       "version_minor": 0
      },
      "text/plain": [
       "  0%|          | 0/80 [00:00<?, ?it/s]"
      ]
     },
     "metadata": {},
     "output_type": "display_data"
    },
    {
     "name": "stdout",
     "output_type": "stream",
     "text": [
      "epoch: 695, train_acc: 0.24920965456495098 , train_loss: 1.3863115161657333 , test_acc: 0.2488457556418054 , test_loss: 1.3863076448440552\n"
     ]
    },
    {
     "data": {
      "application/vnd.jupyter.widget-view+json": {
       "model_id": "0806d894ef364ce0959d3e4533e7254b",
       "version_major": 2,
       "version_minor": 0
      },
      "text/plain": [
       "  0%|          | 0/80 [00:00<?, ?it/s]"
      ]
     },
     "metadata": {},
     "output_type": "display_data"
    },
    {
     "name": "stdout",
     "output_type": "stream",
     "text": [
      "epoch: 696, train_acc: 0.25020967371323527 , train_loss: 1.3863076195120811 , test_acc: 0.2496237546014725 , test_loss: 1.386305558681488\n"
     ]
    },
    {
     "data": {
      "application/vnd.jupyter.widget-view+json": {
       "model_id": "6d406dacb7a644db8fad9ea01eaa151c",
       "version_major": 2,
       "version_minor": 0
      },
      "text/plain": [
       "  0%|          | 0/80 [00:00<?, ?it/s]"
      ]
     },
     "metadata": {},
     "output_type": "display_data"
    },
    {
     "name": "stdout",
     "output_type": "stream",
     "text": [
      "epoch: 697, train_acc: 0.24825750612745096 , train_loss: 1.3863188788294791 , test_acc: 0.24914960287291935 , test_loss: 1.3863050401210786\n"
     ]
    },
    {
     "data": {
      "application/vnd.jupyter.widget-view+json": {
       "model_id": "17ab0cd5e37e4af5b6c7a50b3dce7ee3",
       "version_major": 2,
       "version_minor": 0
      },
      "text/plain": [
       "  0%|          | 0/80 [00:00<?, ?it/s]"
      ]
     },
     "metadata": {},
     "output_type": "display_data"
    },
    {
     "name": "stdout",
     "output_type": "stream",
     "text": [
      "epoch: 698, train_acc: 0.24725078507965687 , train_loss: 1.3863217413425446 , test_acc: 0.24953260043213826 , test_loss: 1.386300414800644\n"
     ]
    },
    {
     "data": {
      "application/vnd.jupyter.widget-view+json": {
       "model_id": "413ed8af90be46b995b7b4673c16ff23",
       "version_major": 2,
       "version_minor": 0
      },
      "text/plain": [
       "  0%|          | 0/80 [00:00<?, ?it/s]"
      ]
     },
     "metadata": {},
     "output_type": "display_data"
    },
    {
     "name": "stdout",
     "output_type": "stream",
     "text": [
      "epoch: 699, train_acc: 0.24835133272058824 , train_loss: 1.3863087996840477 , test_acc: 0.2503117247519206 , test_loss: 1.3862938642501832\n"
     ]
    },
    {
     "data": {
      "application/vnd.jupyter.widget-view+json": {
       "model_id": "6e2842aa3c8d497dbaaacc8096bd004e",
       "version_major": 2,
       "version_minor": 0
      },
      "text/plain": [
       "  0%|          | 0/80 [00:00<?, ?it/s]"
      ]
     },
     "metadata": {},
     "output_type": "display_data"
    },
    {
     "name": "stdout",
     "output_type": "stream",
     "text": [
      "epoch: 700, train_acc: 0.24715408624387253 , train_loss: 1.3863124758005143 , test_acc: 0.24974960737435978 , test_loss: 1.3862915992736817\n"
     ]
    },
    {
     "data": {
      "application/vnd.jupyter.widget-view+json": {
       "model_id": "033ff851cb634a0fa87cff54b4d0a24f",
       "version_major": 2,
       "version_minor": 0
      },
      "text/plain": [
       "  0%|          | 0/80 [00:00<?, ?it/s]"
      ]
     },
     "metadata": {},
     "output_type": "display_data"
    },
    {
     "name": "stdout",
     "output_type": "stream",
     "text": [
      "epoch: 701, train_acc: 0.24976447610294117 , train_loss: 1.3863105058670044 , test_acc: 0.248815370918694 , test_loss: 1.3862988889217376\n"
     ]
    },
    {
     "data": {
      "application/vnd.jupyter.widget-view+json": {
       "model_id": "eeb008aae0c945bc9a6a40a1c4d35044",
       "version_major": 2,
       "version_minor": 0
      },
      "text/plain": [
       "  0%|          | 0/80 [00:00<?, ?it/s]"
      ]
     },
     "metadata": {},
     "output_type": "display_data"
    },
    {
     "name": "stdout",
     "output_type": "stream",
     "text": [
      "epoch: 702, train_acc: 0.2505074295343137 , train_loss: 1.3863105401396751 , test_acc: 0.2517353052976953 , test_loss: 1.3862884402275086\n"
     ]
    },
    {
     "data": {
      "application/vnd.jupyter.widget-view+json": {
       "model_id": "2285264c626c4078949143108b49ab5a",
       "version_major": 2,
       "version_minor": 0
      },
      "text/plain": [
       "  0%|          | 0/80 [00:00<?, ?it/s]"
      ]
     },
     "metadata": {},
     "output_type": "display_data"
    },
    {
     "name": "stdout",
     "output_type": "stream",
     "text": [
      "epoch: 703, train_acc: 0.24977117800245097 , train_loss: 1.3863220751285552 , test_acc: 0.2494262539012484 , test_loss: 1.3862937927246093\n"
     ]
    },
    {
     "data": {
      "application/vnd.jupyter.widget-view+json": {
       "model_id": "f232db04c6d04aaa814917a14f81750a",
       "version_major": 2,
       "version_minor": 0
      },
      "text/plain": [
       "  0%|          | 0/80 [00:00<?, ?it/s]"
      ]
     },
     "metadata": {},
     "output_type": "display_data"
    },
    {
     "name": "stdout",
     "output_type": "stream",
     "text": [
      "epoch: 704, train_acc: 0.24892410577512253 , train_loss: 1.3863198891282082 , test_acc: 0.2493047150088028 , test_loss: 1.3863002061843872\n"
     ]
    },
    {
     "data": {
      "application/vnd.jupyter.widget-view+json": {
       "model_id": "3c4829d51a9a4abebf580e0f040f3c8b",
       "version_major": 2,
       "version_minor": 0
      },
      "text/plain": [
       "  0%|          | 0/80 [00:00<?, ?it/s]"
      ]
     },
     "metadata": {},
     "output_type": "display_data"
    },
    {
     "name": "stdout",
     "output_type": "stream",
     "text": [
      "epoch: 705, train_acc: 0.24958328546262254 , train_loss: 1.386304172873497 , test_acc: 0.24993191571302814 , test_loss: 1.386305606365204\n"
     ]
    },
    {
     "data": {
      "application/vnd.jupyter.widget-view+json": {
       "model_id": "30cd713e23ed4dae83c1852634900d77",
       "version_major": 2,
       "version_minor": 0
      },
      "text/plain": [
       "  0%|          | 0/80 [00:00<?, ?it/s]"
      ]
     },
     "metadata": {},
     "output_type": "display_data"
    },
    {
     "name": "stdout",
     "output_type": "stream",
     "text": [
      "epoch: 706, train_acc: 0.2507936963848039 , train_loss: 1.386309841275215 , test_acc: 0.24994279419414211 , test_loss: 1.3863027215003967\n"
     ]
    },
    {
     "data": {
      "application/vnd.jupyter.widget-view+json": {
       "model_id": "96f6475b653c436599795d1978b0318c",
       "version_major": 2,
       "version_minor": 0
      },
      "text/plain": [
       "  0%|          | 0/80 [00:00<?, ?it/s]"
      ]
     },
     "metadata": {},
     "output_type": "display_data"
    },
    {
     "name": "stdout",
     "output_type": "stream",
     "text": [
      "epoch: 707, train_acc: 0.25044256472120097 , train_loss: 1.3863169342279433 , test_acc: 0.250190185859475 , test_loss: 1.3862969875335693\n"
     ]
    },
    {
     "data": {
      "application/vnd.jupyter.widget-view+json": {
       "model_id": "47083f88d79343bc9aa424d7ed11636b",
       "version_major": 2,
       "version_minor": 0
      },
      "text/plain": [
       "  0%|          | 0/80 [00:00<?, ?it/s]"
      ]
     },
     "metadata": {},
     "output_type": "display_data"
    },
    {
     "name": "stdout",
     "output_type": "stream",
     "text": [
      "epoch: 708, train_acc: 0.24892793543198527 , train_loss: 1.3863143742084503 , test_acc: 0.2498863386283611 , test_loss: 1.3863047003746032\n"
     ]
    },
    {
     "data": {
      "application/vnd.jupyter.widget-view+json": {
       "model_id": "3456b30707f7449ca71ed23c86bf0080",
       "version_major": 2,
       "version_minor": 0
      },
      "text/plain": [
       "  0%|          | 0/80 [00:00<?, ?it/s]"
      ]
     },
     "metadata": {},
     "output_type": "display_data"
    },
    {
     "name": "stdout",
     "output_type": "stream",
     "text": [
      "epoch: 709, train_acc: 0.2494997510723039 , train_loss: 1.3863083973526955 , test_acc: 0.2499623004361396 , test_loss: 1.3862947523593903\n"
     ]
    },
    {
     "data": {
      "application/vnd.jupyter.widget-view+json": {
       "model_id": "b9c0013cb3df4dc9a02706bc2767cb66",
       "version_major": 2,
       "version_minor": 0
      },
      "text/plain": [
       "  0%|          | 0/80 [00:00<?, ?it/s]"
      ]
     },
     "metadata": {},
     "output_type": "display_data"
    },
    {
     "name": "stdout",
     "output_type": "stream",
     "text": [
      "epoch: 710, train_acc: 0.24842744715073528 , train_loss: 1.3863308683037758 , test_acc: 0.2515681893205826 , test_loss: 1.3862893164157868\n"
     ]
    },
    {
     "data": {
      "application/vnd.jupyter.widget-view+json": {
       "model_id": "4b2ed641ba294d939be99e9f63ad00a3",
       "version_major": 2,
       "version_minor": 0
      },
      "text/plain": [
       "  0%|          | 0/80 [00:00<?, ?it/s]"
      ]
     },
     "metadata": {},
     "output_type": "display_data"
    },
    {
     "name": "stdout",
     "output_type": "stream",
     "text": [
      "epoch: 711, train_acc: 0.24834941789215687 , train_loss: 1.3863219410181045 , test_acc: 0.2498863386283611 , test_loss: 1.3862958371639251\n"
     ]
    },
    {
     "data": {
      "application/vnd.jupyter.widget-view+json": {
       "model_id": "04d25a1101584c9b870cb6cda563bde2",
       "version_major": 2,
       "version_minor": 0
      },
      "text/plain": [
       "  0%|          | 0/80 [00:00<?, ?it/s]"
      ]
     },
     "metadata": {},
     "output_type": "display_data"
    },
    {
     "name": "stdout",
     "output_type": "stream",
     "text": [
      "epoch: 712, train_acc: 0.24582351983762254 , train_loss: 1.386317454278469 , test_acc: 0.2486482549415813 , test_loss: 1.386294275522232\n"
     ]
    },
    {
     "data": {
      "application/vnd.jupyter.widget-view+json": {
       "model_id": "b46b9e5ceedb4c209ca7447233579fde",
       "version_major": 2,
       "version_minor": 0
      },
      "text/plain": [
       "  0%|          | 0/80 [00:00<?, ?it/s]"
      ]
     },
     "metadata": {},
     "output_type": "display_data"
    },
    {
     "name": "stdout",
     "output_type": "stream",
     "text": [
      "epoch: 713, train_acc: 0.24914861940870098 , train_loss: 1.3863117039203643 , test_acc: 0.2494262539012484 , test_loss: 1.3862999200820922\n"
     ]
    },
    {
     "data": {
      "application/vnd.jupyter.widget-view+json": {
       "model_id": "413bb0872a26461bb3f0706c33f1f0f0",
       "version_major": 2,
       "version_minor": 0
      },
      "text/plain": [
       "  0%|          | 0/80 [00:00<?, ?it/s]"
      ]
     },
     "metadata": {},
     "output_type": "display_data"
    },
    {
     "name": "stdout",
     "output_type": "stream",
     "text": [
      "epoch: 714, train_acc: 0.24842457490808822 , train_loss: 1.38630862981081 , test_acc: 0.2484963313260243 , test_loss: 1.3863077521324159\n"
     ]
    },
    {
     "data": {
      "application/vnd.jupyter.widget-view+json": {
       "model_id": "2c3e4f9ee1364b7a8617c04f7d98609a",
       "version_major": 2,
       "version_minor": 0
      },
      "text/plain": [
       "  0%|          | 0/80 [00:00<?, ?it/s]"
      ]
     },
     "metadata": {},
     "output_type": "display_data"
    },
    {
     "name": "stdout",
     "output_type": "stream",
     "text": [
      "epoch: 715, train_acc: 0.24987625421262255 , train_loss: 1.3863206014037133 , test_acc: 0.24855710077224713 , test_loss: 1.3863089978694916\n"
     ]
    },
    {
     "data": {
      "application/vnd.jupyter.widget-view+json": {
       "model_id": "2c802a8e5d054242947855583112b711",
       "version_major": 2,
       "version_minor": 0
      },
      "text/plain": [
       "  0%|          | 0/80 [00:00<?, ?it/s]"
      ]
     },
     "metadata": {},
     "output_type": "display_data"
    },
    {
     "name": "stdout",
     "output_type": "stream",
     "text": [
      "epoch: 716, train_acc: 0.250540220971201 , train_loss: 1.386311061680317 , test_acc: 0.2513858809819142 , test_loss: 1.3862915992736817\n"
     ]
    },
    {
     "data": {
      "application/vnd.jupyter.widget-view+json": {
       "model_id": "9ce51b6c13504f0fa0e073ab4d51ecaf",
       "version_major": 2,
       "version_minor": 0
      },
      "text/plain": [
       "  0%|          | 0/80 [00:00<?, ?it/s]"
      ]
     },
     "metadata": {},
     "output_type": "display_data"
    },
    {
     "name": "stdout",
     "output_type": "stream",
     "text": [
      "epoch: 717, train_acc: 0.24835037530637255 , train_loss: 1.3863086596131324 , test_acc: 0.24956298515524966 , test_loss: 1.3862941801548003\n"
     ]
    },
    {
     "data": {
      "application/vnd.jupyter.widget-view+json": {
       "model_id": "cfd41a505dca4291816c610d7a212b94",
       "version_major": 2,
       "version_minor": 0
      },
      "text/plain": [
       "  0%|          | 0/80 [00:00<?, ?it/s]"
      ]
     },
     "metadata": {},
     "output_type": "display_data"
    },
    {
     "name": "stdout",
     "output_type": "stream",
     "text": [
      "epoch: 718, train_acc: 0.24839920343137253 , train_loss: 1.3863167613744736 , test_acc: 0.2495781775168054 , test_loss: 1.386297243833542\n"
     ]
    },
    {
     "data": {
      "application/vnd.jupyter.widget-view+json": {
       "model_id": "1849a63ec6e14f6e9377e2643c156ab1",
       "version_major": 2,
       "version_minor": 0
      },
      "text/plain": [
       "  0%|          | 0/80 [00:00<?, ?it/s]"
      ]
     },
     "metadata": {},
     "output_type": "display_data"
    },
    {
     "name": "stdout",
     "output_type": "stream",
     "text": [
      "epoch: 719, train_acc: 0.2501242244944853 , train_loss: 1.3863053694367409 , test_acc: 0.24893690981113958 , test_loss: 1.3862970530986787\n"
     ]
    },
    {
     "data": {
      "application/vnd.jupyter.widget-view+json": {
       "model_id": "9b4721e2edf0466ba2c1a7e1b3a0cda5",
       "version_major": 2,
       "version_minor": 0
      },
      "text/plain": [
       "  0%|          | 0/80 [00:00<?, ?it/s]"
      ]
     },
     "metadata": {},
     "output_type": "display_data"
    },
    {
     "name": "stdout",
     "output_type": "stream",
     "text": [
      "epoch: 720, train_acc: 0.24714092179840685 , train_loss: 1.3863166972994805 , test_acc: 0.2488913327264725 , test_loss: 1.3862958550453186\n"
     ]
    },
    {
     "data": {
      "application/vnd.jupyter.widget-view+json": {
       "model_id": "dc4a523cbb50407bac15802fa2595388",
       "version_major": 2,
       "version_minor": 0
      },
      "text/plain": [
       "  0%|          | 0/80 [00:00<?, ?it/s]"
      ]
     },
     "metadata": {},
     "output_type": "display_data"
    },
    {
     "name": "stdout",
     "output_type": "stream",
     "text": [
      "epoch: 721, train_acc: 0.24690898820465684 , train_loss: 1.3863153532147408 , test_acc: 0.2497192226512484 , test_loss: 1.3862950146198272\n"
     ]
    },
    {
     "data": {
      "application/vnd.jupyter.widget-view+json": {
       "model_id": "86bbbb4c99674a20a8356048c2d486d4",
       "version_major": 2,
       "version_minor": 0
      },
      "text/plain": [
       "  0%|          | 0/80 [00:00<?, ?it/s]"
      ]
     },
     "metadata": {},
     "output_type": "display_data"
    },
    {
     "name": "stdout",
     "output_type": "stream",
     "text": [
      "epoch: 722, train_acc: 0.24673713235294117 , train_loss: 1.3863167092204094 , test_acc: 0.2496237546014725 , test_loss: 1.3862975418567658\n"
     ]
    },
    {
     "data": {
      "application/vnd.jupyter.widget-view+json": {
       "model_id": "6e31b952df0f4503a5d3deffb5969a84",
       "version_major": 2,
       "version_minor": 0
      },
      "text/plain": [
       "  0%|          | 0/80 [00:00<?, ?it/s]"
      ]
     },
     "metadata": {},
     "output_type": "display_data"
    },
    {
     "name": "stdout",
     "output_type": "stream",
     "text": [
      "epoch: 723, train_acc: 0.24798512178308824 , train_loss: 1.3863082841038703 , test_acc: 0.2517201129361396 , test_loss: 1.3862911880016326\n"
     ]
    },
    {
     "data": {
      "application/vnd.jupyter.widget-view+json": {
       "model_id": "57e9ce2da58142f4aef6e5ec5904408b",
       "version_major": 2,
       "version_minor": 0
      },
      "text/plain": [
       "  0%|          | 0/80 [00:00<?, ?it/s]"
      ]
     },
     "metadata": {},
     "output_type": "display_data"
    },
    {
     "name": "stdout",
     "output_type": "stream",
     "text": [
      "epoch: 724, train_acc: 0.24786017922794118 , train_loss: 1.3863255679607391 , test_acc: 0.24848113896446863 , test_loss: 1.386297333240509\n"
     ]
    },
    {
     "data": {
      "application/vnd.jupyter.widget-view+json": {
       "model_id": "3a8481a9cdf74381bfc21a5188522de2",
       "version_major": 2,
       "version_minor": 0
      },
      "text/plain": [
       "  0%|          | 0/80 [00:00<?, ?it/s]"
      ]
     },
     "metadata": {},
     "output_type": "display_data"
    },
    {
     "name": "stdout",
     "output_type": "stream",
     "text": [
      "epoch: 725, train_acc: 0.24804424211090687 , train_loss: 1.386310239136219 , test_acc: 0.2496237546014725 , test_loss: 1.3863062977790832\n"
     ]
    },
    {
     "data": {
      "application/vnd.jupyter.widget-view+json": {
       "model_id": "d0e919b1c16040e68b7c0667f23db2e3",
       "version_major": 2,
       "version_minor": 0
      },
      "text/plain": [
       "  0%|          | 0/80 [00:00<?, ?it/s]"
      ]
     },
     "metadata": {},
     "output_type": "display_data"
    },
    {
     "name": "stdout",
     "output_type": "stream",
     "text": [
      "epoch: 726, train_acc: 0.2486818799785539 , train_loss: 1.3863094672560692 , test_acc: 0.24958249139724714 , test_loss: 1.3862965285778046\n"
     ]
    },
    {
     "data": {
      "application/vnd.jupyter.widget-view+json": {
       "model_id": "c8895bdfe1124a19b2fe5cf8910722f8",
       "version_major": 2,
       "version_minor": 0
      },
      "text/plain": [
       "  0%|          | 0/80 [00:00<?, ?it/s]"
      ]
     },
     "metadata": {},
     "output_type": "display_data"
    },
    {
     "name": "stdout",
     "output_type": "stream",
     "text": [
      "epoch: 727, train_acc: 0.24446111940870097 , train_loss: 1.3863127380609512 , test_acc: 0.2495022157090269 , test_loss: 1.386299741268158\n"
     ]
    },
    {
     "data": {
      "application/vnd.jupyter.widget-view+json": {
       "model_id": "bf49e196334d49919bdea34ec9b71a11",
       "version_major": 2,
       "version_minor": 0
      },
      "text/plain": [
       "  0%|          | 0/80 [00:00<?, ?it/s]"
      ]
     },
     "metadata": {},
     "output_type": "display_data"
    },
    {
     "name": "stdout",
     "output_type": "stream",
     "text": [
      "epoch: 728, train_acc: 0.24824434168198528 , train_loss: 1.3863113045692443 , test_acc: 0.24974529349391802 , test_loss: 1.3863027930259704\n"
     ]
    },
    {
     "data": {
      "application/vnd.jupyter.widget-view+json": {
       "model_id": "a1499980ebd14d13818d8d170ec349ad",
       "version_major": 2,
       "version_minor": 0
      },
      "text/plain": [
       "  0%|          | 0/80 [00:00<?, ?it/s]"
      ]
     },
     "metadata": {},
     "output_type": "display_data"
    },
    {
     "name": "stdout",
     "output_type": "stream",
     "text": [
      "epoch: 729, train_acc: 0.24740109911151958 , train_loss: 1.3863169342279433 , test_acc: 0.24890652508802816 , test_loss: 1.386300128698349\n"
     ]
    },
    {
     "data": {
      "application/vnd.jupyter.widget-view+json": {
       "model_id": "3fa6a97961c149d5a2c450f4e3dca043",
       "version_major": 2,
       "version_minor": 0
      },
      "text/plain": [
       "  0%|          | 0/80 [00:00<?, ?it/s]"
      ]
     },
     "metadata": {},
     "output_type": "display_data"
    },
    {
     "name": "stdout",
     "output_type": "stream",
     "text": [
      "epoch: 730, train_acc: 0.2508078182444853 , train_loss: 1.3863073736429214 , test_acc: 0.24898248689580665 , test_loss: 1.386300927400589\n"
     ]
    },
    {
     "data": {
      "application/vnd.jupyter.widget-view+json": {
       "model_id": "7771af5d2203471e9ca1330e90e3cb80",
       "version_major": 2,
       "version_minor": 0
      },
      "text/plain": [
       "  0%|          | 0/80 [00:00<?, ?it/s]"
      ]
     },
     "metadata": {},
     "output_type": "display_data"
    },
    {
     "name": "stdout",
     "output_type": "stream",
     "text": [
      "epoch: 731, train_acc: 0.2472112917432598 , train_loss: 1.386307880282402 , test_acc: 0.24982556918213827 , test_loss: 1.386294662952423\n"
     ]
    },
    {
     "data": {
      "application/vnd.jupyter.widget-view+json": {
       "model_id": "934d1bfcef1f47b2a049571a19b09966",
       "version_major": 2,
       "version_minor": 0
      },
      "text/plain": [
       "  0%|          | 0/80 [00:00<?, ?it/s]"
      ]
     },
     "metadata": {},
     "output_type": "display_data"
    },
    {
     "name": "stdout",
     "output_type": "stream",
     "text": [
      "epoch: 732, train_acc: 0.24877020143995096 , train_loss: 1.3863200306892396 , test_acc: 0.24899767925736235 , test_loss: 1.3863035678863525\n"
     ]
    },
    {
     "data": {
      "application/vnd.jupyter.widget-view+json": {
       "model_id": "b85405df8f734532bfb1fdee2bf4a51c",
       "version_major": 2,
       "version_minor": 0
      },
      "text/plain": [
       "  0%|          | 0/80 [00:00<?, ?it/s]"
      ]
     },
     "metadata": {},
     "output_type": "display_data"
    },
    {
     "name": "stdout",
     "output_type": "stream",
     "text": [
      "epoch: 733, train_acc: 0.24941047219669116 , train_loss: 1.38632430434227 , test_acc: 0.24887614036491676 , test_loss: 1.3863078594207763\n"
     ]
    },
    {
     "data": {
      "application/vnd.jupyter.widget-view+json": {
       "model_id": "92b214be981445b4b3bf3ee015eb8223",
       "version_major": 2,
       "version_minor": 0
      },
      "text/plain": [
       "  0%|          | 0/80 [00:00<?, ?it/s]"
      ]
     },
     "metadata": {},
     "output_type": "display_data"
    },
    {
     "name": "stdout",
     "output_type": "stream",
     "text": [
      "epoch: 734, train_acc: 0.2459896312040441 , train_loss: 1.3863157048821448 , test_acc: 0.25178088238236235 , test_loss: 1.3862917304039002\n"
     ]
    },
    {
     "data": {
      "application/vnd.jupyter.widget-view+json": {
       "model_id": "1cfa81c6219c4557a2edc9ef4ad85fbf",
       "version_major": 2,
       "version_minor": 0
      },
      "text/plain": [
       "  0%|          | 0/80 [00:00<?, ?it/s]"
      ]
     },
     "metadata": {},
     "output_type": "display_data"
    },
    {
     "name": "stdout",
     "output_type": "stream",
     "text": [
      "epoch: 735, train_acc: 0.24896264169730392 , train_loss: 1.3863155901432038 , test_acc: 0.24997749279769527 , test_loss: 1.3862983763217926\n"
     ]
    },
    {
     "data": {
      "application/vnd.jupyter.widget-view+json": {
       "model_id": "0fffd70e63d94c97947125bdda4a9af1",
       "version_major": 2,
       "version_minor": 0
      },
      "text/plain": [
       "  0%|          | 0/80 [00:00<?, ?it/s]"
      ]
     },
     "metadata": {},
     "output_type": "display_data"
    },
    {
     "name": "stdout",
     "output_type": "stream",
     "text": [
      "epoch: 736, train_acc: 0.24740109911151958 , train_loss: 1.386323334276676 , test_acc: 0.25181126710547375 , test_loss: 1.3862917304039002\n"
     ]
    },
    {
     "data": {
      "application/vnd.jupyter.widget-view+json": {
       "model_id": "b4c0489e67b94e9899a9fb9dc35e5af5",
       "version_major": 2,
       "version_minor": 0
      },
      "text/plain": [
       "  0%|          | 0/80 [00:00<?, ?it/s]"
      ]
     },
     "metadata": {},
     "output_type": "display_data"
    },
    {
     "name": "stdout",
     "output_type": "stream",
     "text": [
      "epoch: 737, train_acc: 0.2499401616115196 , train_loss: 1.3863084226846696 , test_acc: 0.24965413932458386 , test_loss: 1.3863076329231263\n"
     ]
    },
    {
     "data": {
      "application/vnd.jupyter.widget-view+json": {
       "model_id": "e4b872c96955462e817c534412f3c1ea",
       "version_major": 2,
       "version_minor": 0
      },
      "text/plain": [
       "  0%|          | 0/80 [00:00<?, ?it/s]"
      ]
     },
     "metadata": {},
     "output_type": "display_data"
    },
    {
     "name": "stdout",
     "output_type": "stream",
     "text": [
      "epoch: 738, train_acc: 0.25128580729166666 , train_loss: 1.3862999871373176 , test_acc: 0.24852671604913573 , test_loss: 1.3863088726997375\n"
     ]
    },
    {
     "data": {
      "application/vnd.jupyter.widget-view+json": {
       "model_id": "2650c9b08bd54530b4a380cb64512c71",
       "version_major": 2,
       "version_minor": 0
      },
      "text/plain": [
       "  0%|          | 0/80 [00:00<?, ?it/s]"
      ]
     },
     "metadata": {},
     "output_type": "display_data"
    },
    {
     "name": "stdout",
     "output_type": "stream",
     "text": [
      "epoch: 739, train_acc: 0.24831375421262253 , train_loss: 1.3863139271736145 , test_acc: 0.248815370918694 , test_loss: 1.386304533481598\n"
     ]
    },
    {
     "data": {
      "application/vnd.jupyter.widget-view+json": {
       "model_id": "3272a3c2812a4939aed0b663132f98f0",
       "version_major": 2,
       "version_minor": 0
      },
      "text/plain": [
       "  0%|          | 0/80 [00:00<?, ?it/s]"
      ]
     },
     "metadata": {},
     "output_type": "display_data"
    },
    {
     "name": "stdout",
     "output_type": "stream",
     "text": [
      "epoch: 740, train_acc: 0.24864717371323528 , train_loss: 1.3863176941871642 , test_acc: 0.24911921814980795 , test_loss: 1.3862966895103455\n"
     ]
    },
    {
     "data": {
      "application/vnd.jupyter.widget-view+json": {
       "model_id": "a867a4f6b6104bf6911ed900f27bf3c4",
       "version_major": 2,
       "version_minor": 0
      },
      "text/plain": [
       "  0%|          | 0/80 [00:00<?, ?it/s]"
      ]
     },
     "metadata": {},
     "output_type": "display_data"
    },
    {
     "name": "stdout",
     "output_type": "stream",
     "text": [
      "epoch: 741, train_acc: 0.2515064912683823 , train_loss: 1.386312408745289 , test_acc: 0.248663447303137 , test_loss: 1.3862994849681853\n"
     ]
    },
    {
     "data": {
      "application/vnd.jupyter.widget-view+json": {
       "model_id": "d74ff58a17534949b8da6010e4a5f7d1",
       "version_major": 2,
       "version_minor": 0
      },
      "text/plain": [
       "  0%|          | 0/80 [00:00<?, ?it/s]"
      ]
     },
     "metadata": {},
     "output_type": "display_data"
    },
    {
     "name": "stdout",
     "output_type": "stream",
     "text": [
      "epoch: 742, train_acc: 0.2491833256740196 , train_loss: 1.3863154411315919 , test_acc: 0.24892171744958386 , test_loss: 1.3863088130950927\n"
     ]
    },
    {
     "data": {
      "application/vnd.jupyter.widget-view+json": {
       "model_id": "33769f50d7044aeabb183dc8df3d5405",
       "version_major": 2,
       "version_minor": 0
      },
      "text/plain": [
       "  0%|          | 0/80 [00:00<?, ?it/s]"
      ]
     },
     "metadata": {},
     "output_type": "display_data"
    },
    {
     "name": "stdout",
     "output_type": "stream",
     "text": [
      "epoch: 743, train_acc: 0.24844707414215686 , train_loss: 1.3863148629665374 , test_acc: 0.2487697938340269 , test_loss: 1.3862992584705354\n"
     ]
    },
    {
     "data": {
      "application/vnd.jupyter.widget-view+json": {
       "model_id": "a356fefcba8845209b21b3170069f099",
       "version_major": 2,
       "version_minor": 0
      },
      "text/plain": [
       "  0%|          | 0/80 [00:00<?, ?it/s]"
      ]
     },
     "metadata": {},
     "output_type": "display_data"
    },
    {
     "name": "stdout",
     "output_type": "stream",
     "text": [
      "epoch: 744, train_acc: 0.24780010148590687 , train_loss: 1.386310938000679 , test_acc: 0.2514770351512484 , test_loss: 1.3862941145896912\n"
     ]
    },
    {
     "data": {
      "application/vnd.jupyter.widget-view+json": {
       "model_id": "f90a070cad3247b5b6b94ff8a61e6c69",
       "version_major": 2,
       "version_minor": 0
      },
      "text/plain": [
       "  0%|          | 0/80 [00:00<?, ?it/s]"
      ]
     },
     "metadata": {},
     "output_type": "display_data"
    },
    {
     "name": "stdout",
     "output_type": "stream",
     "text": [
      "epoch: 745, train_acc: 0.24747242647058823 , train_loss: 1.3863126769661904 , test_acc: 0.25011422405169653 , test_loss: 1.3862917602062226\n"
     ]
    },
    {
     "data": {
      "application/vnd.jupyter.widget-view+json": {
       "model_id": "a1e3dfa969964752b708347e95acbc77",
       "version_major": 2,
       "version_minor": 0
      },
      "text/plain": [
       "  0%|          | 0/80 [00:00<?, ?it/s]"
      ]
     },
     "metadata": {},
     "output_type": "display_data"
    },
    {
     "name": "stdout",
     "output_type": "stream",
     "text": [
      "epoch: 746, train_acc: 0.2505514705882353 , train_loss: 1.3863144412636756 , test_acc: 0.2498863386283611 , test_loss: 1.3863055884838105\n"
     ]
    },
    {
     "data": {
      "application/vnd.jupyter.widget-view+json": {
       "model_id": "a56e4eea456f48cf8ba84c59e4e3b894",
       "version_major": 2,
       "version_minor": 0
      },
      "text/plain": [
       "  0%|          | 0/80 [00:00<?, ?it/s]"
      ]
     },
     "metadata": {},
     "output_type": "display_data"
    },
    {
     "name": "stdout",
     "output_type": "stream",
     "text": [
      "epoch: 747, train_acc: 0.24836736940870097 , train_loss: 1.3863135501742363 , test_acc: 0.24912240667013444 , test_loss: 1.3863170146942139\n"
     ]
    },
    {
     "data": {
      "application/vnd.jupyter.widget-view+json": {
       "model_id": "afee3c5fd8d349f091766041591b2119",
       "version_major": 2,
       "version_minor": 0
      },
      "text/plain": [
       "  0%|          | 0/80 [00:00<?, ?it/s]"
      ]
     },
     "metadata": {},
     "output_type": "display_data"
    },
    {
     "name": "stdout",
     "output_type": "stream",
     "text": [
      "epoch: 748, train_acc: 0.24713158700980392 , train_loss: 1.3863138407468796 , test_acc: 0.24991240947103072 , test_loss: 1.3863010823726654\n"
     ]
    },
    {
     "data": {
      "application/vnd.jupyter.widget-view+json": {
       "model_id": "b971461a08a44b8bbaacfc41b4445e26",
       "version_major": 2,
       "version_minor": 0
      },
      "text/plain": [
       "  0%|          | 0/80 [00:00<?, ?it/s]"
      ]
     },
     "metadata": {},
     "output_type": "display_data"
    },
    {
     "name": "stdout",
     "output_type": "stream",
     "text": [
      "epoch: 749, train_acc: 0.2488592409620098 , train_loss: 1.3863109573721886 , test_acc: 0.24963894696302816 , test_loss: 1.386313146352768\n"
     ]
    },
    {
     "data": {
      "application/vnd.jupyter.widget-view+json": {
       "model_id": "6ef07273f9234ebf9098ff96b7581c46",
       "version_major": 2,
       "version_minor": 0
      },
      "text/plain": [
       "  0%|          | 0/80 [00:00<?, ?it/s]"
      ]
     },
     "metadata": {},
     "output_type": "display_data"
    },
    {
     "name": "stdout",
     "output_type": "stream",
     "text": [
      "epoch: 750, train_acc: 0.24998994715073528 , train_loss: 1.3863035127520562 , test_acc: 0.24899767925736235 , test_loss: 1.3863051772117614\n"
     ]
    },
    {
     "data": {
      "application/vnd.jupyter.widget-view+json": {
       "model_id": "88932a8e9c78441e965141fd837f8e36",
       "version_major": 2,
       "version_minor": 0
      },
      "text/plain": [
       "  0%|          | 0/80 [00:00<?, ?it/s]"
      ]
     },
     "metadata": {},
     "output_type": "display_data"
    },
    {
     "name": "stdout",
     "output_type": "stream",
     "text": [
      "epoch: 751, train_acc: 0.2505749272365196 , train_loss: 1.386314782500267 , test_acc: 0.24907364106514085 , test_loss: 1.3863064348697662\n"
     ]
    },
    {
     "data": {
      "application/vnd.jupyter.widget-view+json": {
       "model_id": "4cb3a5361ba44c698b57920c98f0d92f",
       "version_major": 2,
       "version_minor": 0
      },
      "text/plain": [
       "  0%|          | 0/80 [00:00<?, ?it/s]"
      ]
     },
     "metadata": {},
     "output_type": "display_data"
    },
    {
     "name": "stdout",
     "output_type": "stream",
     "text": [
      "epoch: 752, train_acc: 0.2478582643995098 , train_loss: 1.3863157898187637 , test_acc: 0.24870902438780412 , test_loss: 1.3863156855106353\n"
     ]
    },
    {
     "data": {
      "application/vnd.jupyter.widget-view+json": {
       "model_id": "de9abbe2167e4d6183753298e6c527f3",
       "version_major": 2,
       "version_minor": 0
      },
      "text/plain": [
       "  0%|          | 0/80 [00:00<?, ?it/s]"
      ]
     },
     "metadata": {},
     "output_type": "display_data"
    },
    {
     "name": "stdout",
     "output_type": "stream",
     "text": [
      "epoch: 753, train_acc: 0.25010914522058825 , train_loss: 1.386310887336731 , test_acc: 0.24904325634202945 , test_loss: 1.3862980663776399\n"
     ]
    },
    {
     "data": {
      "application/vnd.jupyter.widget-view+json": {
       "model_id": "b94c6710809c4a46aa54ea364253c401",
       "version_major": 2,
       "version_minor": 0
      },
      "text/plain": [
       "  0%|          | 0/80 [00:00<?, ?it/s]"
      ]
     },
     "metadata": {},
     "output_type": "display_data"
    },
    {
     "name": "stdout",
     "output_type": "stream",
     "text": [
      "epoch: 754, train_acc: 0.2476931104473039 , train_loss: 1.3863100320100785 , test_acc: 0.2488457556418054 , test_loss: 1.386298030614853\n"
     ]
    },
    {
     "data": {
      "application/vnd.jupyter.widget-view+json": {
       "model_id": "3db309449de743c7b531884ae7720041",
       "version_major": 2,
       "version_minor": 0
      },
      "text/plain": [
       "  0%|          | 0/80 [00:00<?, ?it/s]"
      ]
     },
     "metadata": {},
     "output_type": "display_data"
    },
    {
     "name": "stdout",
     "output_type": "stream",
     "text": [
      "epoch: 755, train_acc: 0.24889227175245096 , train_loss: 1.3863117650151253 , test_acc: 0.24993191571302814 , test_loss: 1.386297696828842\n"
     ]
    },
    {
     "data": {
      "application/vnd.jupyter.widget-view+json": {
       "model_id": "f003cde6357543dbbca3e893a0b05f20",
       "version_major": 2,
       "version_minor": 0
      },
      "text/plain": [
       "  0%|          | 0/80 [00:00<?, ?it/s]"
      ]
     },
     "metadata": {},
     "output_type": "display_data"
    },
    {
     "name": "stdout",
     "output_type": "stream",
     "text": [
      "epoch: 756, train_acc: 0.24761891084558824 , train_loss: 1.3863193839788437 , test_acc: 0.2502053782210307 , test_loss: 1.3862980484962464\n"
     ]
    },
    {
     "data": {
      "application/vnd.jupyter.widget-view+json": {
       "model_id": "a48faba75a19449e9aaa11ef7f256187",
       "version_major": 2,
       "version_minor": 0
      },
      "text/plain": [
       "  0%|          | 0/80 [00:00<?, ?it/s]"
      ]
     },
     "metadata": {},
     "output_type": "display_data"
    },
    {
     "name": "stdout",
     "output_type": "stream",
     "text": [
      "epoch: 757, train_acc: 0.2476574467677696 , train_loss: 1.3863108798861503 , test_acc: 0.24893690981113958 , test_loss: 1.3863008916378021\n"
     ]
    },
    {
     "data": {
      "application/vnd.jupyter.widget-view+json": {
       "model_id": "02257c46e797401ea25b23d8a7ef5401",
       "version_major": 2,
       "version_minor": 0
      },
      "text/plain": [
       "  0%|          | 0/80 [00:00<?, ?it/s]"
      ]
     },
     "metadata": {},
     "output_type": "display_data"
    },
    {
     "name": "stdout",
     "output_type": "stream",
     "text": [
      "epoch: 758, train_acc: 0.2486452588848039 , train_loss: 1.3863128527998925 , test_acc: 0.24898248689580665 , test_loss: 1.386298769712448\n"
     ]
    },
    {
     "data": {
      "application/vnd.jupyter.widget-view+json": {
       "model_id": "1f59b5f6193e4231884c1d782a511fb6",
       "version_major": 2,
       "version_minor": 0
      },
      "text/plain": [
       "  0%|          | 0/80 [00:00<?, ?it/s]"
      ]
     },
     "metadata": {},
     "output_type": "display_data"
    },
    {
     "name": "stdout",
     "output_type": "stream",
     "text": [
      "epoch: 759, train_acc: 0.24840399050245096 , train_loss: 1.386316205561161 , test_acc: 0.24870902438780412 , test_loss: 1.3862941980361938\n"
     ]
    },
    {
     "data": {
      "application/vnd.jupyter.widget-view+json": {
       "model_id": "82de249e30b8454e8ccac00de5a2588a",
       "version_major": 2,
       "version_minor": 0
      },
      "text/plain": [
       "  0%|          | 0/80 [00:00<?, ?it/s]"
      ]
     },
     "metadata": {},
     "output_type": "display_data"
    },
    {
     "name": "stdout",
     "output_type": "stream",
     "text": [
      "epoch: 760, train_acc: 0.24987625421262255 , train_loss: 1.386317151784897 , test_acc: 0.2486178702184699 , test_loss: 1.3863003730773926\n"
     ]
    },
    {
     "data": {
      "application/vnd.jupyter.widget-view+json": {
       "model_id": "df79c3256ddf4a09b91c3adb187418ee",
       "version_major": 2,
       "version_minor": 0
      },
      "text/plain": [
       "  0%|          | 0/80 [00:00<?, ?it/s]"
      ]
     },
     "metadata": {},
     "output_type": "display_data"
    },
    {
     "name": "stdout",
     "output_type": "stream",
     "text": [
      "epoch: 761, train_acc: 0.2491833256740196 , train_loss: 1.3863141000270844 , test_acc: 0.2494718309859155 , test_loss: 1.3862943470478057\n"
     ]
    },
    {
     "data": {
      "application/vnd.jupyter.widget-view+json": {
       "model_id": "7a55682f7ce942278214ad5bce52a1ed",
       "version_major": 2,
       "version_minor": 0
      },
      "text/plain": [
       "  0%|          | 0/80 [00:00<?, ?it/s]"
      ]
     },
     "metadata": {},
     "output_type": "display_data"
    },
    {
     "name": "stdout",
     "output_type": "stream",
     "text": [
      "epoch: 762, train_acc: 0.24802078546262254 , train_loss: 1.386317068338394 , test_acc: 0.249547792793694 , test_loss: 1.386302787065506\n"
     ]
    },
    {
     "data": {
      "application/vnd.jupyter.widget-view+json": {
       "model_id": "7a49d09e33234fd6829cd30688204f94",
       "version_major": 2,
       "version_minor": 0
      },
      "text/plain": [
       "  0%|          | 0/80 [00:00<?, ?it/s]"
      ]
     },
     "metadata": {},
     "output_type": "display_data"
    },
    {
     "name": "stdout",
     "output_type": "stream",
     "text": [
      "epoch: 763, train_acc: 0.24757846009497547 , train_loss: 1.3863114908337593 , test_acc: 0.24863306258002563 , test_loss: 1.386306607723236\n"
     ]
    },
    {
     "data": {
      "application/vnd.jupyter.widget-view+json": {
       "model_id": "d1c1ede8dfe242428243d2a53d7d146c",
       "version_major": 2,
       "version_minor": 0
      },
      "text/plain": [
       "  0%|          | 0/80 [00:00<?, ?it/s]"
      ]
     },
     "metadata": {},
     "output_type": "display_data"
    },
    {
     "name": "stdout",
     "output_type": "stream",
     "text": [
      "epoch: 764, train_acc: 0.24886594286151958 , train_loss: 1.3863166123628616 , test_acc: 0.2487849861955826 , test_loss: 1.386310911178589\n"
     ]
    },
    {
     "data": {
      "application/vnd.jupyter.widget-view+json": {
       "model_id": "1fa19aab8b1e43e0beae52e94c894e11",
       "version_major": 2,
       "version_minor": 0
      },
      "text/plain": [
       "  0%|          | 0/80 [00:00<?, ?it/s]"
      ]
     },
     "metadata": {},
     "output_type": "display_data"
    },
    {
     "name": "stdout",
     "output_type": "stream",
     "text": [
      "epoch: 765, train_acc: 0.2505749272365196 , train_loss: 1.3863057851791383 , test_acc: 0.2485419084106914 , test_loss: 1.3862968385219574\n"
     ]
    },
    {
     "data": {
      "application/vnd.jupyter.widget-view+json": {
       "model_id": "e0d6869e81f6411ead005c6f112778e8",
       "version_major": 2,
       "version_minor": 0
      },
      "text/plain": [
       "  0%|          | 0/80 [00:00<?, ?it/s]"
      ]
     },
     "metadata": {},
     "output_type": "display_data"
    },
    {
     "name": "stdout",
     "output_type": "stream",
     "text": [
      "epoch: 766, train_acc: 0.2456009210324755 , train_loss: 1.386317041516304 , test_acc: 0.25178088238236235 , test_loss: 1.3862905204296112\n"
     ]
    },
    {
     "data": {
      "application/vnd.jupyter.widget-view+json": {
       "model_id": "ea4d623995464ddf9a5acf6739a0648e",
       "version_major": 2,
       "version_minor": 0
      },
      "text/plain": [
       "  0%|          | 0/80 [00:00<?, ?it/s]"
      ]
     },
     "metadata": {},
     "output_type": "display_data"
    },
    {
     "name": "stdout",
     "output_type": "stream",
     "text": [
      "epoch: 767, train_acc: 0.24858135148590685 , train_loss: 1.3863145515322686 , test_acc: 0.24997749279769527 , test_loss: 1.3862952291965485\n"
     ]
    },
    {
     "data": {
      "application/vnd.jupyter.widget-view+json": {
       "model_id": "3abb5d8e8b9a4969b75e46934d2791ec",
       "version_major": 2,
       "version_minor": 0
      },
      "text/plain": [
       "  0%|          | 0/80 [00:00<?, ?it/s]"
      ]
     },
     "metadata": {},
     "output_type": "display_data"
    },
    {
     "name": "stdout",
     "output_type": "stream",
     "text": [
      "epoch: 768, train_acc: 0.24816080729166665 , train_loss: 1.3863076120615005 , test_acc: 0.2488457556418054 , test_loss: 1.3863041758537293\n"
     ]
    },
    {
     "data": {
      "application/vnd.jupyter.widget-view+json": {
       "model_id": "ddcb088225b54afb8846cedbdbaa91ab",
       "version_major": 2,
       "version_minor": 0
      },
      "text/plain": [
       "  0%|          | 0/80 [00:00<?, ?it/s]"
      ]
     },
     "metadata": {},
     "output_type": "display_data"
    },
    {
     "name": "stdout",
     "output_type": "stream",
     "text": [
      "epoch: 769, train_acc: 0.24964336320465685 , train_loss: 1.3863119408488274 , test_acc: 0.24883056328024966 , test_loss: 1.3863035678863525\n"
     ]
    },
    {
     "data": {
      "application/vnd.jupyter.widget-view+json": {
       "model_id": "369b7a0d0ec94cc798945db3989fa792",
       "version_major": 2,
       "version_minor": 0
      },
      "text/plain": [
       "  0%|          | 0/80 [00:00<?, ?it/s]"
      ]
     },
     "metadata": {},
     "output_type": "display_data"
    },
    {
     "name": "stdout",
     "output_type": "stream",
     "text": [
      "epoch: 770, train_acc: 0.2487419577205882 , train_loss: 1.3863236874341964 , test_acc: 0.24979518445902688 , test_loss: 1.3863021790981294\n"
     ]
    },
    {
     "data": {
      "application/vnd.jupyter.widget-view+json": {
       "model_id": "91e476f4581143c69ee28f0664452090",
       "version_major": 2,
       "version_minor": 0
      },
      "text/plain": [
       "  0%|          | 0/80 [00:00<?, ?it/s]"
      ]
     },
     "metadata": {},
     "output_type": "display_data"
    },
    {
     "name": "stdout",
     "output_type": "stream",
     "text": [
      "epoch: 771, train_acc: 0.24791187959558822 , train_loss: 1.3863191723823547 , test_acc: 0.2502053782210307 , test_loss: 1.3863005459308624\n"
     ]
    },
    {
     "data": {
      "application/vnd.jupyter.widget-view+json": {
       "model_id": "408b2b0062a9416fa1b0ecc1fa65be0e",
       "version_major": 2,
       "version_minor": 0
      },
      "text/plain": [
       "  0%|          | 0/80 [00:00<?, ?it/s]"
      ]
     },
     "metadata": {},
     "output_type": "display_data"
    },
    {
     "name": "stdout",
     "output_type": "stream",
     "text": [
      "epoch: 772, train_acc: 0.24960219439338233 , train_loss: 1.3863129258155822 , test_acc: 0.24896729453425098 , test_loss: 1.3863116562366486\n"
     ]
    },
    {
     "data": {
      "application/vnd.jupyter.widget-view+json": {
       "model_id": "bb3167328ef94ad3a86f1ca7ae452f40",
       "version_major": 2,
       "version_minor": 0
      },
      "text/plain": [
       "  0%|          | 0/80 [00:00<?, ?it/s]"
      ]
     },
     "metadata": {},
     "output_type": "display_data"
    },
    {
     "name": "stdout",
     "output_type": "stream",
     "text": [
      "epoch: 773, train_acc: 0.24964336320465685 , train_loss: 1.3863305300474167 , test_acc: 0.24919517995758644 , test_loss: 1.3863045930862428\n"
     ]
    },
    {
     "data": {
      "application/vnd.jupyter.widget-view+json": {
       "model_id": "f265f3341fd741e28e88aa603718e985",
       "version_major": 2,
       "version_minor": 0
      },
      "text/plain": [
       "  0%|          | 0/80 [00:00<?, ?it/s]"
      ]
     },
     "metadata": {},
     "output_type": "display_data"
    },
    {
     "name": "stdout",
     "output_type": "stream",
     "text": [
      "epoch: 774, train_acc: 0.24808660768995097 , train_loss: 1.3863091051578522 , test_acc: 0.24990153098991677 , test_loss: 1.3862930536270142\n"
     ]
    },
    {
     "data": {
      "application/vnd.jupyter.widget-view+json": {
       "model_id": "80f64ec9426c4474beef9747f677af3d",
       "version_major": 2,
       "version_minor": 0
      },
      "text/plain": [
       "  0%|          | 0/80 [00:00<?, ?it/s]"
      ]
     },
     "metadata": {},
     "output_type": "display_data"
    },
    {
     "name": "stdout",
     "output_type": "stream",
     "text": [
      "epoch: 775, train_acc: 0.24898897058823527 , train_loss: 1.3863097980618477 , test_acc: 0.249840761543694 , test_loss: 1.3863006770610808\n"
     ]
    },
    {
     "data": {
      "application/vnd.jupyter.widget-view+json": {
       "model_id": "5cf0ed9243c04db58ed46f2a0cee5895",
       "version_major": 2,
       "version_minor": 0
      },
      "text/plain": [
       "  0%|          | 0/80 [00:00<?, ?it/s]"
      ]
     },
     "metadata": {},
     "output_type": "display_data"
    },
    {
     "name": "stdout",
     "output_type": "stream",
     "text": [
      "epoch: 776, train_acc: 0.24934010225183822 , train_loss: 1.3863103106617927 , test_acc: 0.24970403028969274 , test_loss: 1.3862968385219574\n"
     ]
    },
    {
     "data": {
      "application/vnd.jupyter.widget-view+json": {
       "model_id": "3d8be039436c4a49b731601fec7858f3",
       "version_major": 2,
       "version_minor": 0
      },
      "text/plain": [
       "  0%|          | 0/80 [00:00<?, ?it/s]"
      ]
     },
     "metadata": {},
     "output_type": "display_data"
    },
    {
     "name": "stdout",
     "output_type": "stream",
     "text": [
      "epoch: 777, train_acc: 0.2488039502910539 , train_loss: 1.3863068163394927 , test_acc: 0.24902806398047375 , test_loss: 1.3863020658493042\n"
     ]
    },
    {
     "data": {
      "application/vnd.jupyter.widget-view+json": {
       "model_id": "453eacf80b2646debcb5c130c7600b25",
       "version_major": 2,
       "version_minor": 0
      },
      "text/plain": [
       "  0%|          | 0/80 [00:00<?, ?it/s]"
      ]
     },
     "metadata": {},
     "output_type": "display_data"
    },
    {
     "name": "stdout",
     "output_type": "stream",
     "text": [
      "epoch: 778, train_acc: 0.24922090418198528 , train_loss: 1.386305296421051 , test_acc: 0.2488913327264725 , test_loss: 1.3863047540187836\n"
     ]
    },
    {
     "data": {
      "application/vnd.jupyter.widget-view+json": {
       "model_id": "9e92c52656274f9c97c4a799b6d6c9ef",
       "version_major": 2,
       "version_minor": 0
      },
      "text/plain": [
       "  0%|          | 0/80 [00:00<?, ?it/s]"
      ]
     },
     "metadata": {},
     "output_type": "display_data"
    },
    {
     "name": "stdout",
     "output_type": "stream",
     "text": [
      "epoch: 779, train_acc: 0.2489504346660539 , train_loss: 1.386315581202507 , test_acc: 0.24965413932458386 , test_loss: 1.3863132357597352\n"
     ]
    },
    {
     "data": {
      "application/vnd.jupyter.widget-view+json": {
       "model_id": "5c48bf68fbaf48eeb6a8cb4bf8703115",
       "version_major": 2,
       "version_minor": 0
      },
      "text/plain": [
       "  0%|          | 0/80 [00:00<?, ?it/s]"
      ]
     },
     "metadata": {},
     "output_type": "display_data"
    },
    {
     "name": "stdout",
     "output_type": "stream",
     "text": [
      "epoch: 780, train_acc: 0.24963881548713235 , train_loss: 1.3863116309046746 , test_acc: 0.2493806768165813 , test_loss: 1.3863004088401794\n"
     ]
    },
    {
     "data": {
      "application/vnd.jupyter.widget-view+json": {
       "model_id": "3c9ada1b55654ba29196dae7cea6c08a",
       "version_major": 2,
       "version_minor": 0
      },
      "text/plain": [
       "  0%|          | 0/80 [00:00<?, ?it/s]"
      ]
     },
     "metadata": {},
     "output_type": "display_data"
    },
    {
     "name": "stdout",
     "output_type": "stream",
     "text": [
      "epoch: 781, train_acc: 0.24969314874387255 , train_loss: 1.3863192737102508 , test_acc: 0.2495933698783611 , test_loss: 1.3862972736358643\n"
     ]
    },
    {
     "data": {
      "application/vnd.jupyter.widget-view+json": {
       "model_id": "012e044d999f4c3b85605c1c190d4fe8",
       "version_major": 2,
       "version_minor": 0
      },
      "text/plain": [
       "  0%|          | 0/80 [00:00<?, ?it/s]"
      ]
     },
     "metadata": {},
     "output_type": "display_data"
    },
    {
     "name": "stdout",
     "output_type": "stream",
     "text": [
      "epoch: 782, train_acc: 0.24967352175245097 , train_loss: 1.3863067209720612 , test_acc: 0.2516441511283611 , test_loss: 1.386290395259857\n"
     ]
    },
    {
     "data": {
      "application/vnd.jupyter.widget-view+json": {
       "model_id": "461d0243efc1431ba554dc4e14cd1bb9",
       "version_major": 2,
       "version_minor": 0
      },
      "text/plain": [
       "  0%|          | 0/80 [00:00<?, ?it/s]"
      ]
     },
     "metadata": {},
     "output_type": "display_data"
    },
    {
     "name": "stdout",
     "output_type": "stream",
     "text": [
      "epoch: 783, train_acc: 0.25094209558823527 , train_loss: 1.3863171577453612 , test_acc: 0.2492559494038092 , test_loss: 1.3863013327121734\n"
     ]
    },
    {
     "data": {
      "application/vnd.jupyter.widget-view+json": {
       "model_id": "bfa6f1a148a747fbb926a70cd1cf267f",
       "version_major": 2,
       "version_minor": 0
      },
      "text/plain": [
       "  0%|          | 0/80 [00:00<?, ?it/s]"
      ]
     },
     "metadata": {},
     "output_type": "display_data"
    },
    {
     "name": "stdout",
     "output_type": "stream",
     "text": [
      "epoch: 784, train_acc: 0.24747146905637254 , train_loss: 1.3863193526864053 , test_acc: 0.25012941641325226 , test_loss: 1.3863022089004517\n"
     ]
    },
    {
     "data": {
      "application/vnd.jupyter.widget-view+json": {
       "model_id": "dd0553d3a3a24e37bd2a30b3cb7f9d21",
       "version_major": 2,
       "version_minor": 0
      },
      "text/plain": [
       "  0%|          | 0/80 [00:00<?, ?it/s]"
      ]
     },
     "metadata": {},
     "output_type": "display_data"
    },
    {
     "name": "stdout",
     "output_type": "stream",
     "text": [
      "epoch: 785, train_acc: 0.24817851945465685 , train_loss: 1.3863102599978447 , test_acc: 0.24901287161891802 , test_loss: 1.3862979710102081\n"
     ]
    },
    {
     "data": {
      "application/vnd.jupyter.widget-view+json": {
       "model_id": "ba136fb3fc324b38badfbc980a04bd26",
       "version_major": 2,
       "version_minor": 0
      },
      "text/plain": [
       "  0%|          | 0/80 [00:00<?, ?it/s]"
      ]
     },
     "metadata": {},
     "output_type": "display_data"
    },
    {
     "name": "stdout",
     "output_type": "stream",
     "text": [
      "epoch: 786, train_acc: 0.2507570752910539 , train_loss: 1.3863105043768882 , test_acc: 0.25005345460547374 , test_loss: 1.3862935662269593\n"
     ]
    },
    {
     "data": {
      "application/vnd.jupyter.widget-view+json": {
       "model_id": "6492cacfdc394465a09c96d3b1d092dc",
       "version_major": 2,
       "version_minor": 0
      },
      "text/plain": [
       "  0%|          | 0/80 [00:00<?, ?it/s]"
      ]
     },
     "metadata": {},
     "output_type": "display_data"
    },
    {
     "name": "stdout",
     "output_type": "stream",
     "text": [
      "epoch: 787, train_acc: 0.24857010186887254 , train_loss: 1.3863129436969757 , test_acc: 0.24991672335147247 , test_loss: 1.3863021731376648\n"
     ]
    },
    {
     "data": {
      "application/vnd.jupyter.widget-view+json": {
       "model_id": "b0a632a4d3e04af9a54c66398a6417d1",
       "version_major": 2,
       "version_minor": 0
      },
      "text/plain": [
       "  0%|          | 0/80 [00:00<?, ?it/s]"
      ]
     },
     "metadata": {},
     "output_type": "display_data"
    },
    {
     "name": "stdout",
     "output_type": "stream",
     "text": [
      "epoch: 788, train_acc: 0.2491222905177696 , train_loss: 1.3863121017813682 , test_acc: 0.24895210217269526 , test_loss: 1.3862975418567658\n"
     ]
    },
    {
     "data": {
      "application/vnd.jupyter.widget-view+json": {
       "model_id": "eb84521da140494593b663e7c9c806f5",
       "version_major": 2,
       "version_minor": 0
      },
      "text/plain": [
       "  0%|          | 0/80 [00:00<?, ?it/s]"
      ]
     },
     "metadata": {},
     "output_type": "display_data"
    },
    {
     "name": "stdout",
     "output_type": "stream",
     "text": [
      "epoch: 789, train_acc: 0.2503401214001225 , train_loss: 1.386310800909996 , test_acc: 0.25165934348991675 , test_loss: 1.386291003227234\n"
     ]
    },
    {
     "data": {
      "application/vnd.jupyter.widget-view+json": {
       "model_id": "60972ad9c97a41d8af6e624010069dab",
       "version_major": 2,
       "version_minor": 0
      },
      "text/plain": [
       "  0%|          | 0/80 [00:00<?, ?it/s]"
      ]
     },
     "metadata": {},
     "output_type": "display_data"
    },
    {
     "name": "stdout",
     "output_type": "stream",
     "text": [
      "epoch: 790, train_acc: 0.2513111787683823 , train_loss: 1.3863115921616553 , test_acc: 0.250190185859475 , test_loss: 1.386295872926712\n"
     ]
    },
    {
     "data": {
      "application/vnd.jupyter.widget-view+json": {
       "model_id": "ea5148d9c8e2431bb6f5b525855fd12d",
       "version_major": 2,
       "version_minor": 0
      },
      "text/plain": [
       "  0%|          | 0/80 [00:00<?, ?it/s]"
      ]
     },
     "metadata": {},
     "output_type": "display_data"
    },
    {
     "name": "stdout",
     "output_type": "stream",
     "text": [
      "epoch: 791, train_acc: 0.2480104932598039 , train_loss: 1.3863068595528603 , test_acc: 0.2497344150128041 , test_loss: 1.3863118946552277\n"
     ]
    },
    {
     "data": {
      "application/vnd.jupyter.widget-view+json": {
       "model_id": "198a28abc41b48259d1c32d842040c1a",
       "version_major": 2,
       "version_minor": 0
      },
      "text/plain": [
       "  0%|          | 0/80 [00:00<?, ?it/s]"
      ]
     },
     "metadata": {},
     "output_type": "display_data"
    },
    {
     "name": "stdout",
     "output_type": "stream",
     "text": [
      "epoch: 792, train_acc: 0.2473034428615196 , train_loss: 1.3863136753439904 , test_acc: 0.2495933698783611 , test_loss: 1.3863069534301757\n"
     ]
    },
    {
     "data": {
      "application/vnd.jupyter.widget-view+json": {
       "model_id": "acceb7deb89a4a4c9be7cedb0328e533",
       "version_major": 2,
       "version_minor": 0
      },
      "text/plain": [
       "  0%|          | 0/80 [00:00<?, ?it/s]"
      ]
     },
     "metadata": {},
     "output_type": "display_data"
    },
    {
     "name": "stdout",
     "output_type": "stream",
     "text": [
      "epoch: 793, train_acc: 0.2487062940410539 , train_loss: 1.386312946677208 , test_acc: 0.24960856223991676 , test_loss: 1.386307805776596\n"
     ]
    },
    {
     "data": {
      "application/vnd.jupyter.widget-view+json": {
       "model_id": "821feed97d194d73bf83fb2240a5c140",
       "version_major": 2,
       "version_minor": 0
      },
      "text/plain": [
       "  0%|          | 0/80 [00:00<?, ?it/s]"
      ]
     },
     "metadata": {},
     "output_type": "display_data"
    },
    {
     "name": "stdout",
     "output_type": "stream",
     "text": [
      "epoch: 794, train_acc: 0.24959357766544116 , train_loss: 1.386308741569519 , test_acc: 0.24883056328024966 , test_loss: 1.386302101612091\n"
     ]
    },
    {
     "data": {
      "application/vnd.jupyter.widget-view+json": {
       "model_id": "803feb61f44a4b59804922fc3aa702f5",
       "version_major": 2,
       "version_minor": 0
      },
      "text/plain": [
       "  0%|          | 0/80 [00:00<?, ?it/s]"
      ]
     },
     "metadata": {},
     "output_type": "display_data"
    },
    {
     "name": "stdout",
     "output_type": "stream",
     "text": [
      "epoch: 795, train_acc: 0.2490725049785539 , train_loss: 1.3863150775432587 , test_acc: 0.2495174080705826 , test_loss: 1.3863036394119264\n"
     ]
    },
    {
     "data": {
      "application/vnd.jupyter.widget-view+json": {
       "model_id": "fc542f9302924677aa47b5b8d9ec9d8f",
       "version_major": 2,
       "version_minor": 0
      },
      "text/plain": [
       "  0%|          | 0/80 [00:00<?, ?it/s]"
      ]
     },
     "metadata": {},
     "output_type": "display_data"
    },
    {
     "name": "stdout",
     "output_type": "stream",
     "text": [
      "epoch: 796, train_acc: 0.2479879940257353 , train_loss: 1.3863069728016852 , test_acc: 0.24976048585547375 , test_loss: 1.3862989366054534\n"
     ]
    },
    {
     "data": {
      "application/vnd.jupyter.widget-view+json": {
       "model_id": "6358bfccccc54b20b739122842f0af35",
       "version_major": 2,
       "version_minor": 0
      },
      "text/plain": [
       "  0%|          | 0/80 [00:00<?, ?it/s]"
      ]
     },
     "metadata": {},
     "output_type": "display_data"
    },
    {
     "name": "stdout",
     "output_type": "stream",
     "text": [
      "epoch: 797, train_acc: 0.24821442248774508 , train_loss: 1.3863165542483329 , test_acc: 0.2495174080705826 , test_loss: 1.3863031566143036\n"
     ]
    },
    {
     "data": {
      "application/vnd.jupyter.widget-view+json": {
       "model_id": "7be231ae8a484a67af3db02a43fa1fdf",
       "version_major": 2,
       "version_minor": 0
      },
      "text/plain": [
       "  0%|          | 0/80 [00:00<?, ?it/s]"
      ]
     },
     "metadata": {},
     "output_type": "display_data"
    },
    {
     "name": "stdout",
     "output_type": "stream",
     "text": [
      "epoch: 798, train_acc: 0.24922736672794116 , train_loss: 1.3863312691450118 , test_acc: 0.2495933698783611 , test_loss: 1.386305469274521\n"
     ]
    },
    {
     "data": {
      "application/vnd.jupyter.widget-view+json": {
       "model_id": "2ae17a98f188417386a8a40d9e616b93",
       "version_major": 2,
       "version_minor": 0
      },
      "text/plain": [
       "  0%|          | 0/80 [00:00<?, ?it/s]"
      ]
     },
     "metadata": {},
     "output_type": "display_data"
    },
    {
     "name": "stdout",
     "output_type": "stream",
     "text": [
      "epoch: 799, train_acc: 0.24947342218137253 , train_loss: 1.386316330730915 , test_acc: 0.2502357629441421 , test_loss: 1.386293852329254\n"
     ]
    },
    {
     "data": {
      "application/vnd.jupyter.widget-view+json": {
       "model_id": "787b47fae9f448a483050bd54f068301",
       "version_major": 2,
       "version_minor": 0
      },
      "text/plain": [
       "  0%|          | 0/80 [00:00<?, ?it/s]"
      ]
     },
     "metadata": {},
     "output_type": "display_data"
    },
    {
     "name": "stdout",
     "output_type": "stream",
     "text": [
      "epoch: 800, train_acc: 0.2497335994944853 , train_loss: 1.3863067582249642 , test_acc: 0.24883056328024966 , test_loss: 1.3863005816936493\n"
     ]
    },
    {
     "data": {
      "application/vnd.jupyter.widget-view+json": {
       "model_id": "4a0ab1e81e754cf3926f2ee4c0e6924d",
       "version_major": 2,
       "version_minor": 0
      },
      "text/plain": [
       "  0%|          | 0/80 [00:00<?, ?it/s]"
      ]
     },
     "metadata": {},
     "output_type": "display_data"
    },
    {
     "name": "stdout",
     "output_type": "stream",
     "text": [
      "epoch: 801, train_acc: 0.2508078182444853 , train_loss: 1.3863132774829865 , test_acc: 0.24880017855713826 , test_loss: 1.386298954486847\n"
     ]
    },
    {
     "data": {
      "application/vnd.jupyter.widget-view+json": {
       "model_id": "06ea6816628248b39c570351b99585ab",
       "version_major": 2,
       "version_minor": 0
      },
      "text/plain": [
       "  0%|          | 0/80 [00:00<?, ?it/s]"
      ]
     },
     "metadata": {},
     "output_type": "display_data"
    },
    {
     "name": "stdout",
     "output_type": "stream",
     "text": [
      "epoch: 802, train_acc: 0.24852127374387253 , train_loss: 1.386321160197258 , test_acc: 0.24979518445902688 , test_loss: 1.3863017141819\n"
     ]
    },
    {
     "data": {
      "application/vnd.jupyter.widget-view+json": {
       "model_id": "caae8032b39348eb96cba98b758177b1",
       "version_major": 2,
       "version_minor": 0
      },
      "text/plain": [
       "  0%|          | 0/80 [00:00<?, ?it/s]"
      ]
     },
     "metadata": {},
     "output_type": "display_data"
    },
    {
     "name": "stdout",
     "output_type": "stream",
     "text": [
      "epoch: 803, train_acc: 0.24964910768995097 , train_loss: 1.3863073259592056 , test_acc: 0.2503269171134763 , test_loss: 1.3862967252731324\n"
     ]
    },
    {
     "data": {
      "application/vnd.jupyter.widget-view+json": {
       "model_id": "3b43899988e34a22a5b130e80decdb15",
       "version_major": 2,
       "version_minor": 0
      },
      "text/plain": [
       "  0%|          | 0/80 [00:00<?, ?it/s]"
      ]
     },
     "metadata": {},
     "output_type": "display_data"
    },
    {
     "name": "stdout",
     "output_type": "stream",
     "text": [
      "epoch: 804, train_acc: 0.24758037492340684 , train_loss: 1.3863259747624397 , test_acc: 0.24967364556658128 , test_loss: 1.38630108833313\n"
     ]
    },
    {
     "data": {
      "application/vnd.jupyter.widget-view+json": {
       "model_id": "d5b13716c6f34a088a83ee542524204f",
       "version_major": 2,
       "version_minor": 0
      },
      "text/plain": [
       "  0%|          | 0/80 [00:00<?, ?it/s]"
      ]
     },
     "metadata": {},
     "output_type": "display_data"
    },
    {
     "name": "stdout",
     "output_type": "stream",
     "text": [
      "epoch: 805, train_acc: 0.24695781632965685 , train_loss: 1.3863032415509224 , test_acc: 0.24887614036491676 , test_loss: 1.386303609609604\n"
     ]
    },
    {
     "data": {
      "application/vnd.jupyter.widget-view+json": {
       "model_id": "532c998a87d74ac9a3f4fad682171ae9",
       "version_major": 2,
       "version_minor": 0
      },
      "text/plain": [
       "  0%|          | 0/80 [00:00<?, ?it/s]"
      ]
     },
     "metadata": {},
     "output_type": "display_data"
    },
    {
     "name": "stdout",
     "output_type": "stream",
     "text": [
      "epoch: 806, train_acc: 0.2504162358302696 , train_loss: 1.3863014474511146 , test_acc: 0.2501598011363636 , test_loss: 1.3863067746162414\n"
     ]
    },
    {
     "data": {
      "application/vnd.jupyter.widget-view+json": {
       "model_id": "106f31cd50504d229f6564130a353a86",
       "version_major": 2,
       "version_minor": 0
      },
      "text/plain": [
       "  0%|          | 0/80 [00:00<?, ?it/s]"
      ]
     },
     "metadata": {},
     "output_type": "display_data"
    },
    {
     "name": "stdout",
     "output_type": "stream",
     "text": [
      "epoch: 807, train_acc: 0.24979271982230392 , train_loss: 1.3863126173615457 , test_acc: 0.24994710807458387 , test_loss: 1.3863053977489472\n"
     ]
    },
    {
     "data": {
      "application/vnd.jupyter.widget-view+json": {
       "model_id": "818e79e938d64bc295f0bcfee65977de",
       "version_major": 2,
       "version_minor": 0
      },
      "text/plain": [
       "  0%|          | 0/80 [00:00<?, ?it/s]"
      ]
     },
     "metadata": {},
     "output_type": "display_data"
    },
    {
     "name": "stdout",
     "output_type": "stream",
     "text": [
      "epoch: 808, train_acc: 0.24753058938419117 , train_loss: 1.386322808265686 , test_acc: 0.248663447303137 , test_loss: 1.3863040387630463\n"
     ]
    },
    {
     "data": {
      "application/vnd.jupyter.widget-view+json": {
       "model_id": "f905231238ff413a8c5f53a8b8b289f1",
       "version_major": 2,
       "version_minor": 0
      },
      "text/plain": [
       "  0%|          | 0/80 [00:00<?, ?it/s]"
      ]
     },
     "metadata": {},
     "output_type": "display_data"
    },
    {
     "name": "stdout",
     "output_type": "stream",
     "text": [
      "epoch: 809, train_acc: 0.24823955461090685 , train_loss: 1.3863058358430862 , test_acc: 0.24997749279769527 , test_loss: 1.3862969398498535\n"
     ]
    },
    {
     "data": {
      "application/vnd.jupyter.widget-view+json": {
       "model_id": "6521679036ea4319946f68451e36f363",
       "version_major": 2,
       "version_minor": 0
      },
      "text/plain": [
       "  0%|          | 0/80 [00:00<?, ?it/s]"
      ]
     },
     "metadata": {},
     "output_type": "display_data"
    },
    {
     "name": "stdout",
     "output_type": "stream",
     "text": [
      "epoch: 810, train_acc: 0.24781422334558822 , train_loss: 1.3863213017582894 , test_acc: 0.24880017855713826 , test_loss: 1.3862955510616302\n"
     ]
    },
    {
     "data": {
      "application/vnd.jupyter.widget-view+json": {
       "model_id": "e8ae5860f965418b8f7b00525dbced36",
       "version_major": 2,
       "version_minor": 0
      },
      "text/plain": [
       "  0%|          | 0/80 [00:00<?, ?it/s]"
      ]
     },
     "metadata": {},
     "output_type": "display_data"
    },
    {
     "name": "stdout",
     "output_type": "stream",
     "text": [
      "epoch: 811, train_acc: 0.25138346354166663 , train_loss: 1.3863136738538742 , test_acc: 0.24982125530169652 , test_loss: 1.3863048732280732\n"
     ]
    },
    {
     "data": {
      "application/vnd.jupyter.widget-view+json": {
       "model_id": "05eb9941bcdd4b27870222444f8e0eb4",
       "version_major": 2,
       "version_minor": 0
      },
      "text/plain": [
       "  0%|          | 0/80 [00:00<?, ?it/s]"
      ]
     },
     "metadata": {},
     "output_type": "display_data"
    },
    {
     "name": "stdout",
     "output_type": "stream",
     "text": [
      "epoch: 812, train_acc: 0.2506247127757353 , train_loss: 1.3863172486424447 , test_acc: 0.24971490877080665 , test_loss: 1.386298793554306\n"
     ]
    },
    {
     "data": {
      "application/vnd.jupyter.widget-view+json": {
       "model_id": "6120e1ee17c84f928d18e11986d94982",
       "version_major": 2,
       "version_minor": 0
      },
      "text/plain": [
       "  0%|          | 0/80 [00:00<?, ?it/s]"
      ]
     },
     "metadata": {},
     "output_type": "display_data"
    },
    {
     "name": "stdout",
     "output_type": "stream",
     "text": [
      "epoch: 813, train_acc: 0.24876924402573528 , train_loss: 1.3863142043352128 , test_acc: 0.24983644766325225 , test_loss: 1.3863055288791657\n"
     ]
    },
    {
     "data": {
      "application/vnd.jupyter.widget-view+json": {
       "model_id": "67568880147c4e6d95eca9f28770c75a",
       "version_major": 2,
       "version_minor": 0
      },
      "text/plain": [
       "  0%|          | 0/80 [00:00<?, ?it/s]"
      ]
     },
     "metadata": {},
     "output_type": "display_data"
    },
    {
     "name": "stdout",
     "output_type": "stream",
     "text": [
      "epoch: 814, train_acc: 0.24961990655637253 , train_loss: 1.3863226413726806 , test_acc: 0.2497192226512484 , test_loss: 1.386303287744522\n"
     ]
    },
    {
     "data": {
      "application/vnd.jupyter.widget-view+json": {
       "model_id": "24ce2cd264714f01ba109f6c06cfa0df",
       "version_major": 2,
       "version_minor": 0
      },
      "text/plain": [
       "  0%|          | 0/80 [00:00<?, ?it/s]"
      ]
     },
     "metadata": {},
     "output_type": "display_data"
    },
    {
     "name": "stdout",
     "output_type": "stream",
     "text": [
      "epoch: 815, train_acc: 0.24697768267463233 , train_loss: 1.386317992210388 , test_acc: 0.2488457556418054 , test_loss: 1.3862999022006988\n"
     ]
    },
    {
     "data": {
      "application/vnd.jupyter.widget-view+json": {
       "model_id": "3212da24e73c4f8fbbb8d6a15c5ac81d",
       "version_major": 2,
       "version_minor": 0
      },
      "text/plain": [
       "  0%|          | 0/80 [00:00<?, ?it/s]"
      ]
     },
     "metadata": {},
     "output_type": "display_data"
    },
    {
     "name": "stdout",
     "output_type": "stream",
     "text": [
      "epoch: 816, train_acc: 0.24990545534620096 , train_loss: 1.3863130122423173 , test_acc: 0.24944144626280412 , test_loss: 1.3863130807876587\n"
     ]
    },
    {
     "data": {
      "application/vnd.jupyter.widget-view+json": {
       "model_id": "d79f952af54849ad87cca0581a4f997e",
       "version_major": 2,
       "version_minor": 0
      },
      "text/plain": [
       "  0%|          | 0/80 [00:00<?, ?it/s]"
      ]
     },
     "metadata": {},
     "output_type": "display_data"
    },
    {
     "name": "stdout",
     "output_type": "stream",
     "text": [
      "epoch: 817, train_acc: 0.24947342218137253 , train_loss: 1.3863115444779397 , test_acc: 0.25006864696702946 , test_loss: 1.386302798986435\n"
     ]
    },
    {
     "data": {
      "application/vnd.jupyter.widget-view+json": {
       "model_id": "39b24a214ab34a729ccf4b1193ab94e4",
       "version_major": 2,
       "version_minor": 0
      },
      "text/plain": [
       "  0%|          | 0/80 [00:00<?, ?it/s]"
      ]
     },
     "metadata": {},
     "output_type": "display_data"
    },
    {
     "name": "stdout",
     "output_type": "stream",
     "text": [
      "epoch: 818, train_acc: 0.24944996553308824 , train_loss: 1.3863195762038232 , test_acc: 0.249395869178137 , test_loss: 1.3863029956817627\n"
     ]
    },
    {
     "data": {
      "application/vnd.jupyter.widget-view+json": {
       "model_id": "8965e032945d4117bf8a0315ece91269",
       "version_major": 2,
       "version_minor": 0
      },
      "text/plain": [
       "  0%|          | 0/80 [00:00<?, ?it/s]"
      ]
     },
     "metadata": {},
     "output_type": "display_data"
    },
    {
     "name": "stdout",
     "output_type": "stream",
     "text": [
      "epoch: 819, train_acc: 0.24563945695465686 , train_loss: 1.3863134860992432 , test_acc: 0.24966933168613958 , test_loss: 1.3862924218177795\n"
     ]
    },
    {
     "data": {
      "application/vnd.jupyter.widget-view+json": {
       "model_id": "46c7364b4dcf4e8292f1016e6767b4df",
       "version_major": 2,
       "version_minor": 0
      },
      "text/plain": [
       "  0%|          | 0/80 [00:00<?, ?it/s]"
      ]
     },
     "metadata": {},
     "output_type": "display_data"
    },
    {
     "name": "stdout",
     "output_type": "stream",
     "text": [
      "epoch: 820, train_acc: 0.2475212545955882 , train_loss: 1.3863215699791909 , test_acc: 0.2502661476672535 , test_loss: 1.3862892806529998\n"
     ]
    },
    {
     "data": {
      "application/vnd.jupyter.widget-view+json": {
       "model_id": "be839134d31b402eb921889fbf682f7b",
       "version_major": 2,
       "version_minor": 0
      },
      "text/plain": [
       "  0%|          | 0/80 [00:00<?, ?it/s]"
      ]
     },
     "metadata": {},
     "output_type": "display_data"
    },
    {
     "name": "stdout",
     "output_type": "stream",
     "text": [
      "epoch: 821, train_acc: 0.2473635206035539 , train_loss: 1.3863147675991059 , test_acc: 0.24893690981113958 , test_loss: 1.3862995207309723\n"
     ]
    },
    {
     "data": {
      "application/vnd.jupyter.widget-view+json": {
       "model_id": "994cd41d02b344d5ba79f63493a892fd",
       "version_major": 2,
       "version_minor": 0
      },
      "text/plain": [
       "  0%|          | 0/80 [00:00<?, ?it/s]"
      ]
     },
     "metadata": {},
     "output_type": "display_data"
    },
    {
     "name": "stdout",
     "output_type": "stream",
     "text": [
      "epoch: 822, train_acc: 0.24800857843137253 , train_loss: 1.3863141655921936 , test_acc: 0.24941106153969272 , test_loss: 1.3863019108772279\n"
     ]
    },
    {
     "data": {
      "application/vnd.jupyter.widget-view+json": {
       "model_id": "a5010554996441b7b4b7c8a2e0e6f21a",
       "version_major": 2,
       "version_minor": 0
      },
      "text/plain": [
       "  0%|          | 0/80 [00:00<?, ?it/s]"
      ]
     },
     "metadata": {},
     "output_type": "display_data"
    },
    {
     "name": "stdout",
     "output_type": "stream",
     "text": [
      "epoch: 823, train_acc: 0.24876541436887253 , train_loss: 1.386315581202507 , test_acc: 0.24883056328024966 , test_loss: 1.3862929463386535\n"
     ]
    },
    {
     "data": {
      "application/vnd.jupyter.widget-view+json": {
       "model_id": "a6de1122ba9e4c7e868dad095a220708",
       "version_major": 2,
       "version_minor": 0
      },
      "text/plain": [
       "  0%|          | 0/80 [00:00<?, ?it/s]"
      ]
     },
     "metadata": {},
     "output_type": "display_data"
    },
    {
     "name": "stdout",
     "output_type": "stream",
     "text": [
      "epoch: 824, train_acc: 0.24850906671262254 , train_loss: 1.386317963898182 , test_acc: 0.2499623004361396 , test_loss: 1.3862958252429962\n"
     ]
    },
    {
     "data": {
      "application/vnd.jupyter.widget-view+json": {
       "model_id": "ecbd733b87f54c6a876bec4fcc552b9b",
       "version_major": 2,
       "version_minor": 0
      },
      "text/plain": [
       "  0%|          | 0/80 [00:00<?, ?it/s]"
      ]
     },
     "metadata": {},
     "output_type": "display_data"
    },
    {
     "name": "stdout",
     "output_type": "stream",
     "text": [
      "epoch: 825, train_acc: 0.2504387350643382 , train_loss: 1.3863137394189835 , test_acc: 0.24890652508802816 , test_loss: 1.386305469274521\n"
     ]
    },
    {
     "data": {
      "application/vnd.jupyter.widget-view+json": {
       "model_id": "45d7ac6fc6c24cb8b009768f72f4f26c",
       "version_major": 2,
       "version_minor": 0
      },
      "text/plain": [
       "  0%|          | 0/80 [00:00<?, ?it/s]"
      ]
     },
     "metadata": {},
     "output_type": "display_data"
    },
    {
     "name": "stdout",
     "output_type": "stream",
     "text": [
      "epoch: 826, train_acc: 0.2503420362285539 , train_loss: 1.3863136768341064 , test_acc: 0.2496237546014725 , test_loss: 1.386301004886627\n"
     ]
    },
    {
     "data": {
      "application/vnd.jupyter.widget-view+json": {
       "model_id": "c675d1ca69434a4fb31a6ff8173efd11",
       "version_major": 2,
       "version_minor": 0
      },
      "text/plain": [
       "  0%|          | 0/80 [00:00<?, ?it/s]"
      ]
     },
     "metadata": {},
     "output_type": "display_data"
    },
    {
     "name": "stdout",
     "output_type": "stream",
     "text": [
      "epoch: 827, train_acc: 0.2467605890012255 , train_loss: 1.3863106310367583 , test_acc: 0.24912240667013444 , test_loss: 1.3862943053245544\n"
     ]
    },
    {
     "data": {
      "application/vnd.jupyter.widget-view+json": {
       "model_id": "5f13768c929f4a2db735a9c6bc59b15e",
       "version_major": 2,
       "version_minor": 0
      },
      "text/plain": [
       "  0%|          | 0/80 [00:00<?, ?it/s]"
      ]
     },
     "metadata": {},
     "output_type": "display_data"
    },
    {
     "name": "stdout",
     "output_type": "stream",
     "text": [
      "epoch: 828, train_acc: 0.24809785730698528 , train_loss: 1.3863195076584816 , test_acc: 0.251947998359475 , test_loss: 1.3862918734550476\n"
     ]
    },
    {
     "data": {
      "application/vnd.jupyter.widget-view+json": {
       "model_id": "d7ea7db9394a4158abf10ab3a56798d5",
       "version_major": 2,
       "version_minor": 0
      },
      "text/plain": [
       "  0%|          | 0/80 [00:00<?, ?it/s]"
      ]
     },
     "metadata": {},
     "output_type": "display_data"
    },
    {
     "name": "stdout",
     "output_type": "stream",
     "text": [
      "epoch: 829, train_acc: 0.24798512178308824 , train_loss: 1.3863107427954673 , test_acc: 0.24880017855713826 , test_loss: 1.3862979710102081\n"
     ]
    },
    {
     "data": {
      "application/vnd.jupyter.widget-view+json": {
       "model_id": "444fd386f0bd4091b39c4cf756338d7c",
       "version_major": 2,
       "version_minor": 0
      },
      "text/plain": [
       "  0%|          | 0/80 [00:00<?, ?it/s]"
      ]
     },
     "metadata": {},
     "output_type": "display_data"
    },
    {
     "name": "stdout",
     "output_type": "stream",
     "text": [
      "epoch: 830, train_acc: 0.24964336320465685 , train_loss: 1.3863131806254387 , test_acc: 0.24970403028969274 , test_loss: 1.3863059341907502\n"
     ]
    },
    {
     "data": {
      "application/vnd.jupyter.widget-view+json": {
       "model_id": "66a51f532b9d4be5b95427d6bc42a8ce",
       "version_major": 2,
       "version_minor": 0
      },
      "text/plain": [
       "  0%|          | 0/80 [00:00<?, ?it/s]"
      ]
     },
     "metadata": {},
     "output_type": "display_data"
    },
    {
     "name": "stdout",
     "output_type": "stream",
     "text": [
      "epoch: 831, train_acc: 0.250836061963848 , train_loss: 1.3863080322742463 , test_acc: 0.24960856223991676 , test_loss: 1.3863044679164886\n"
     ]
    },
    {
     "data": {
      "application/vnd.jupyter.widget-view+json": {
       "model_id": "4376fb34c8c54a9ebd15877e5d6f4ce3",
       "version_major": 2,
       "version_minor": 0
      },
      "text/plain": [
       "  0%|          | 0/80 [00:00<?, ?it/s]"
      ]
     },
     "metadata": {},
     "output_type": "display_data"
    },
    {
     "name": "stdout",
     "output_type": "stream",
     "text": [
      "epoch: 832, train_acc: 0.25048110064338236 , train_loss: 1.386308953166008 , test_acc: 0.2492743302856914 , test_loss: 1.3863036036491394\n"
     ]
    },
    {
     "data": {
      "application/vnd.jupyter.widget-view+json": {
       "model_id": "d08173f631134d5abf01c2d74d741c3c",
       "version_major": 2,
       "version_minor": 0
      },
      "text/plain": [
       "  0%|          | 0/80 [00:00<?, ?it/s]"
      ]
     },
     "metadata": {},
     "output_type": "display_data"
    },
    {
     "name": "stdout",
     "output_type": "stream",
     "text": [
      "epoch: 833, train_acc: 0.24842074525122548 , train_loss: 1.3863162100315094 , test_acc: 0.2497344150128041 , test_loss: 1.3862971723079682\n"
     ]
    },
    {
     "data": {
      "application/vnd.jupyter.widget-view+json": {
       "model_id": "0ac2e609bc9840d3b85045b501f47cd3",
       "version_major": 2,
       "version_minor": 0
      },
      "text/plain": [
       "  0%|          | 0/80 [00:00<?, ?it/s]"
      ]
     },
     "metadata": {},
     "output_type": "display_data"
    },
    {
     "name": "stdout",
     "output_type": "stream",
     "text": [
      "epoch: 834, train_acc: 0.25000406901041666 , train_loss: 1.3863172590732575 , test_acc: 0.24899767925736235 , test_loss: 1.38630553483963\n"
     ]
    },
    {
     "data": {
      "application/vnd.jupyter.widget-view+json": {
       "model_id": "a620329317874ab0b83bdc2cb3c6ac9c",
       "version_major": 2,
       "version_minor": 0
      },
      "text/plain": [
       "  0%|          | 0/80 [00:00<?, ?it/s]"
      ]
     },
     "metadata": {},
     "output_type": "display_data"
    },
    {
     "name": "stdout",
     "output_type": "stream",
     "text": [
      "epoch: 835, train_acc: 0.24872328814338235 , train_loss: 1.3863095477223397 , test_acc: 0.2487394091109155 , test_loss: 1.386305671930313\n"
     ]
    },
    {
     "data": {
      "application/vnd.jupyter.widget-view+json": {
       "model_id": "b6b837409bde4651a9693253c45c7549",
       "version_major": 2,
       "version_minor": 0
      },
      "text/plain": [
       "  0%|          | 0/80 [00:00<?, ?it/s]"
      ]
     },
     "metadata": {},
     "output_type": "display_data"
    },
    {
     "name": "stdout",
     "output_type": "stream",
     "text": [
      "epoch: 836, train_acc: 0.2489635991115196 , train_loss: 1.3863230690360069 , test_acc: 0.248815370918694 , test_loss: 1.386310303211212\n"
     ]
    },
    {
     "data": {
      "application/vnd.jupyter.widget-view+json": {
       "model_id": "a1ec7059058f4124bf0f9275582fd258",
       "version_major": 2,
       "version_minor": 0
      },
      "text/plain": [
       "  0%|          | 0/80 [00:00<?, ?it/s]"
      ]
     },
     "metadata": {},
     "output_type": "display_data"
    },
    {
     "name": "stdout",
     "output_type": "stream",
     "text": [
      "epoch: 837, train_acc: 0.24964336320465685 , train_loss: 1.3863158077001572 , test_acc: 0.24896729453425098 , test_loss: 1.3863031566143036\n"
     ]
    },
    {
     "data": {
      "application/vnd.jupyter.widget-view+json": {
       "model_id": "e431a830b28548b08829c8046f12bdb5",
       "version_major": 2,
       "version_minor": 0
      },
      "text/plain": [
       "  0%|          | 0/80 [00:00<?, ?it/s]"
      ]
     },
     "metadata": {},
     "output_type": "display_data"
    },
    {
     "name": "stdout",
     "output_type": "stream",
     "text": [
      "epoch: 838, train_acc: 0.2495363721660539 , train_loss: 1.386310636997223 , test_acc: 0.25011422405169653 , test_loss: 1.3862988889217376\n"
     ]
    },
    {
     "data": {
      "application/vnd.jupyter.widget-view+json": {
       "model_id": "287382ab657b4ad1a62df35f46c71c0b",
       "version_major": 2,
       "version_minor": 0
      },
      "text/plain": [
       "  0%|          | 0/80 [00:00<?, ?it/s]"
      ]
     },
     "metadata": {},
     "output_type": "display_data"
    },
    {
     "name": "stdout",
     "output_type": "stream",
     "text": [
      "epoch: 839, train_acc: 0.25043322993259803 , train_loss: 1.3863052904605866 , test_acc: 0.2486482549415813 , test_loss: 1.3863033175468444\n"
     ]
    },
    {
     "data": {
      "application/vnd.jupyter.widget-view+json": {
       "model_id": "701de2fcbb2645caa56c593eaeafdad2",
       "version_major": 2,
       "version_minor": 0
      },
      "text/plain": [
       "  0%|          | 0/80 [00:00<?, ?it/s]"
      ]
     },
     "metadata": {},
     "output_type": "display_data"
    },
    {
     "name": "stdout",
     "output_type": "stream",
     "text": [
      "epoch: 840, train_acc: 0.24775318818933822 , train_loss: 1.3863236472010612 , test_acc: 0.24908883342669652 , test_loss: 1.386311560869217\n"
     ]
    },
    {
     "data": {
      "application/vnd.jupyter.widget-view+json": {
       "model_id": "3ab184f423ba43379b2fd22644889e25",
       "version_major": 2,
       "version_minor": 0
      },
      "text/plain": [
       "  0%|          | 0/80 [00:00<?, ?it/s]"
      ]
     },
     "metadata": {},
     "output_type": "display_data"
    },
    {
     "name": "stdout",
     "output_type": "stream",
     "text": [
      "epoch: 841, train_acc: 0.24774481081495098 , train_loss: 1.3863086432218552 , test_acc: 0.24875460147247117 , test_loss: 1.3863029301166534\n"
     ]
    },
    {
     "data": {
      "application/vnd.jupyter.widget-view+json": {
       "model_id": "5b1718abce324ddf9fb46876f846804f",
       "version_major": 2,
       "version_minor": 0
      },
      "text/plain": [
       "  0%|          | 0/80 [00:00<?, ?it/s]"
      ]
     },
     "metadata": {},
     "output_type": "display_data"
    },
    {
     "name": "stdout",
     "output_type": "stream",
     "text": [
      "epoch: 842, train_acc: 0.2491232479319853 , train_loss: 1.3863130196928979 , test_acc: 0.24883056328024966 , test_loss: 1.3862977206707001\n"
     ]
    },
    {
     "data": {
      "application/vnd.jupyter.widget-view+json": {
       "model_id": "f1ed95759005476296815e564ce71fa3",
       "version_major": 2,
       "version_minor": 0
      },
      "text/plain": [
       "  0%|          | 0/80 [00:00<?, ?it/s]"
      ]
     },
     "metadata": {},
     "output_type": "display_data"
    },
    {
     "name": "stdout",
     "output_type": "stream",
     "text": [
      "epoch: 843, train_acc: 0.24848465265012254 , train_loss: 1.3863119408488274 , test_acc: 0.24880017855713826 , test_loss: 1.3862998962402344\n"
     ]
    },
    {
     "data": {
      "application/vnd.jupyter.widget-view+json": {
       "model_id": "7f09006bef424605880f4649b2613a76",
       "version_major": 2,
       "version_minor": 0
      },
      "text/plain": [
       "  0%|          | 0/80 [00:00<?, ?it/s]"
      ]
     },
     "metadata": {},
     "output_type": "display_data"
    },
    {
     "name": "stdout",
     "output_type": "stream",
     "text": [
      "epoch: 844, train_acc: 0.24692119523590686 , train_loss: 1.3863101229071617 , test_acc: 0.24892171744958386 , test_loss: 1.38630331158638\n"
     ]
    },
    {
     "data": {
      "application/vnd.jupyter.widget-view+json": {
       "model_id": "738ad49ec4714c09acc3f1b1aa5c1b58",
       "version_major": 2,
       "version_minor": 0
      },
      "text/plain": [
       "  0%|          | 0/80 [00:00<?, ?it/s]"
      ]
     },
     "metadata": {},
     "output_type": "display_data"
    },
    {
     "name": "stdout",
     "output_type": "stream",
     "text": [
      "epoch: 845, train_acc: 0.24823955461090685 , train_loss: 1.3863116100430488 , test_acc: 0.2497647997359155 , test_loss: 1.386293989419937\n"
     ]
    },
    {
     "data": {
      "application/vnd.jupyter.widget-view+json": {
       "model_id": "664c32bcba794a09a3e2dccfb973e0ba",
       "version_major": 2,
       "version_minor": 0
      },
      "text/plain": [
       "  0%|          | 0/80 [00:00<?, ?it/s]"
      ]
     },
     "metadata": {},
     "output_type": "display_data"
    },
    {
     "name": "stdout",
     "output_type": "stream",
     "text": [
      "epoch: 846, train_acc: 0.24930922564338234 , train_loss: 1.3863106697797776 , test_acc: 0.24890652508802816 , test_loss: 1.3862959563732147\n"
     ]
    },
    {
     "data": {
      "application/vnd.jupyter.widget-view+json": {
       "model_id": "013e7c29c09e47429999ace0a116b4d0",
       "version_major": 2,
       "version_minor": 0
      },
      "text/plain": [
       "  0%|          | 0/80 [00:00<?, ?it/s]"
      ]
     },
     "metadata": {},
     "output_type": "display_data"
    },
    {
     "name": "stdout",
     "output_type": "stream",
     "text": [
      "epoch: 847, train_acc: 0.24870533662683822 , train_loss: 1.386322559416294 , test_acc: 0.24896729453425098 , test_loss: 1.386297196149826\n"
     ]
    },
    {
     "data": {
      "application/vnd.jupyter.widget-view+json": {
       "model_id": "35575b2b4c344d3da7e3eb798dae7d05",
       "version_major": 2,
       "version_minor": 0
      },
      "text/plain": [
       "  0%|          | 0/80 [00:00<?, ?it/s]"
      ]
     },
     "metadata": {},
     "output_type": "display_data"
    },
    {
     "name": "stdout",
     "output_type": "stream",
     "text": [
      "epoch: 848, train_acc: 0.2487927006740196 , train_loss: 1.3863069355487823 , test_acc: 0.24966933168613958 , test_loss: 1.3863023400306702\n"
     ]
    },
    {
     "data": {
      "application/vnd.jupyter.widget-view+json": {
       "model_id": "dba10e2da2d04a679dcb953975ed0891",
       "version_major": 2,
       "version_minor": 0
      },
      "text/plain": [
       "  0%|          | 0/80 [00:00<?, ?it/s]"
      ]
     },
     "metadata": {},
     "output_type": "display_data"
    },
    {
     "name": "stdout",
     "output_type": "stream",
     "text": [
      "epoch: 849, train_acc: 0.2484264897365196 , train_loss: 1.3863162249326706 , test_acc: 0.2487242167493598 , test_loss: 1.38630268573761\n"
     ]
    },
    {
     "data": {
      "application/vnd.jupyter.widget-view+json": {
       "model_id": "2e4b3b766612422e8874eafcb3d78949",
       "version_major": 2,
       "version_minor": 0
      },
      "text/plain": [
       "  0%|          | 0/80 [00:00<?, ?it/s]"
      ]
     },
     "metadata": {},
     "output_type": "display_data"
    },
    {
     "name": "stdout",
     "output_type": "stream",
     "text": [
      "epoch: 850, train_acc: 0.24882453469669116 , train_loss: 1.3863155841827393 , test_acc: 0.2495933698783611 , test_loss: 1.3863018333911896\n"
     ]
    },
    {
     "data": {
      "application/vnd.jupyter.widget-view+json": {
       "model_id": "662347bf998641e38504801fe4bc940c",
       "version_major": 2,
       "version_minor": 0
      },
      "text/plain": [
       "  0%|          | 0/80 [00:00<?, ?it/s]"
      ]
     },
     "metadata": {},
     "output_type": "display_data"
    },
    {
     "name": "stdout",
     "output_type": "stream",
     "text": [
      "epoch: 851, train_acc: 0.24764141007965684 , train_loss: 1.3863158479332924 , test_acc: 0.25025095530569785 , test_loss: 1.3862931847572326\n"
     ]
    },
    {
     "data": {
      "application/vnd.jupyter.widget-view+json": {
       "model_id": "91a614f04dbc46998e2627c76f903233",
       "version_major": 2,
       "version_minor": 0
      },
      "text/plain": [
       "  0%|          | 0/80 [00:00<?, ?it/s]"
      ]
     },
     "metadata": {},
     "output_type": "display_data"
    },
    {
     "name": "stdout",
     "output_type": "stream",
     "text": [
      "epoch: 852, train_acc: 0.24819455614276958 , train_loss: 1.3863134115934372 , test_acc: 0.2495781775168054 , test_loss: 1.3862990617752076\n"
     ]
    },
    {
     "data": {
      "application/vnd.jupyter.widget-view+json": {
       "model_id": "5533ef7fb05e40f5af652359ef19aab7",
       "version_major": 2,
       "version_minor": 0
      },
      "text/plain": [
       "  0%|          | 0/80 [00:00<?, ?it/s]"
      ]
     },
     "metadata": {},
     "output_type": "display_data"
    },
    {
     "name": "stdout",
     "output_type": "stream",
     "text": [
      "epoch: 853, train_acc: 0.24859547334558824 , train_loss: 1.3863154992461204 , test_acc: 0.24944144626280412 , test_loss: 1.3862949371337892\n"
     ]
    },
    {
     "data": {
      "application/vnd.jupyter.widget-view+json": {
       "model_id": "b93e15cc34e1481d9394fc7c7745db31",
       "version_major": 2,
       "version_minor": 0
      },
      "text/plain": [
       "  0%|          | 0/80 [00:00<?, ?it/s]"
      ]
     },
     "metadata": {},
     "output_type": "display_data"
    },
    {
     "name": "stdout",
     "output_type": "stream",
     "text": [
      "epoch: 854, train_acc: 0.2484255323223039 , train_loss: 1.3863147169351577 , test_acc: 0.24999268515925097 , test_loss: 1.386301076412201\n"
     ]
    },
    {
     "data": {
      "application/vnd.jupyter.widget-view+json": {
       "model_id": "e658f1caeae3453ca0f4ee3b918f1f2d",
       "version_major": 2,
       "version_minor": 0
      },
      "text/plain": [
       "  0%|          | 0/80 [00:00<?, ?it/s]"
      ]
     },
     "metadata": {},
     "output_type": "display_data"
    },
    {
     "name": "stdout",
     "output_type": "stream",
     "text": [
      "epoch: 855, train_acc: 0.24870916628370096 , train_loss: 1.3863143607974053 , test_acc: 0.24966933168613958 , test_loss: 1.3862952411174774\n"
     ]
    },
    {
     "data": {
      "application/vnd.jupyter.widget-view+json": {
       "model_id": "e4adc5db27c445d892b43d43cb5bb144",
       "version_major": 2,
       "version_minor": 0
      },
      "text/plain": [
       "  0%|          | 0/80 [00:00<?, ?it/s]"
      ]
     },
     "metadata": {},
     "output_type": "display_data"
    },
    {
     "name": "stdout",
     "output_type": "stream",
     "text": [
      "epoch: 856, train_acc: 0.2492311963848039 , train_loss: 1.3863121151924134 , test_acc: 0.25190242127480794 , test_loss: 1.3862943947315216\n"
     ]
    },
    {
     "data": {
      "application/vnd.jupyter.widget-view+json": {
       "model_id": "092e219c212b4b6a8bd588b8ce364a7f",
       "version_major": 2,
       "version_minor": 0
      },
      "text/plain": [
       "  0%|          | 0/80 [00:00<?, ?it/s]"
      ]
     },
     "metadata": {},
     "output_type": "display_data"
    },
    {
     "name": "stdout",
     "output_type": "stream",
     "text": [
      "epoch: 857, train_acc: 0.2486950444240196 , train_loss: 1.3863177746534348 , test_acc: 0.24971490877080665 , test_loss: 1.3862927854061127\n"
     ]
    },
    {
     "data": {
      "application/vnd.jupyter.widget-view+json": {
       "model_id": "22808243651f49d899f03935ef0d6b4e",
       "version_major": 2,
       "version_minor": 0
      },
      "text/plain": [
       "  0%|          | 0/80 [00:00<?, ?it/s]"
      ]
     },
     "metadata": {},
     "output_type": "display_data"
    },
    {
     "name": "stdout",
     "output_type": "stream",
     "text": [
      "epoch: 858, train_acc: 0.24905838311887254 , train_loss: 1.386305098235607 , test_acc: 0.24883056328024966 , test_loss: 1.386308377981186\n"
     ]
    },
    {
     "data": {
      "application/vnd.jupyter.widget-view+json": {
       "model_id": "5e173350c60f4ff781c1f9e4ea0a0a26",
       "version_major": 2,
       "version_minor": 0
      },
      "text/plain": [
       "  0%|          | 0/80 [00:00<?, ?it/s]"
      ]
     },
     "metadata": {},
     "output_type": "display_data"
    },
    {
     "name": "stdout",
     "output_type": "stream",
     "text": [
      "epoch: 859, train_acc: 0.24999832452512255 , train_loss: 1.3863129317760468 , test_acc: 0.2499883712788092 , test_loss: 1.3862988829612732\n"
     ]
    },
    {
     "data": {
      "application/vnd.jupyter.widget-view+json": {
       "model_id": "7819356aa6904addb2e51649fbb708b1",
       "version_major": 2,
       "version_minor": 0
      },
      "text/plain": [
       "  0%|          | 0/80 [00:00<?, ?it/s]"
      ]
     },
     "metadata": {},
     "output_type": "display_data"
    },
    {
     "name": "stdout",
     "output_type": "stream",
     "text": [
      "epoch: 860, train_acc: 0.24914478975183824 , train_loss: 1.386316691339016 , test_acc: 0.24995798655569784 , test_loss: 1.3862999975681305\n"
     ]
    },
    {
     "data": {
      "application/vnd.jupyter.widget-view+json": {
       "model_id": "ac6bfe1698df4de9a1d26824277234ed",
       "version_major": 2,
       "version_minor": 0
      },
      "text/plain": [
       "  0%|          | 0/80 [00:00<?, ?it/s]"
      ]
     },
     "metadata": {},
     "output_type": "display_data"
    },
    {
     "name": "stdout",
     "output_type": "stream",
     "text": [
      "epoch: 861, train_acc: 0.2496960209865196 , train_loss: 1.3863018035888672 , test_acc: 0.24848113896446863 , test_loss: 1.3863053262233733\n"
     ]
    },
    {
     "data": {
      "application/vnd.jupyter.widget-view+json": {
       "model_id": "86176641ca0c4bc9a82986bd51294e6d",
       "version_major": 2,
       "version_minor": 0
      },
      "text/plain": [
       "  0%|          | 0/80 [00:00<?, ?it/s]"
      ]
     },
     "metadata": {},
     "output_type": "display_data"
    },
    {
     "name": "stdout",
     "output_type": "stream",
     "text": [
      "epoch: 862, train_acc: 0.2492019952512255 , train_loss: 1.3863263517618178 , test_acc: 0.2504028789212548 , test_loss: 1.3862987220287324\n"
     ]
    },
    {
     "data": {
      "application/vnd.jupyter.widget-view+json": {
       "model_id": "4bb12a2f1f934abd8535c7ab179880d7",
       "version_major": 2,
       "version_minor": 0
      },
      "text/plain": [
       "  0%|          | 0/80 [00:00<?, ?it/s]"
      ]
     },
     "metadata": {},
     "output_type": "display_data"
    },
    {
     "name": "stdout",
     "output_type": "stream",
     "text": [
      "epoch: 863, train_acc: 0.2501589307598039 , train_loss: 1.3863168329000473 , test_acc: 0.24936548445502563 , test_loss: 1.3862971723079682\n"
     ]
    },
    {
     "data": {
      "application/vnd.jupyter.widget-view+json": {
       "model_id": "65c0f6ab0e6e4ae2a1e633734f9f1588",
       "version_major": 2,
       "version_minor": 0
      },
      "text/plain": [
       "  0%|          | 0/80 [00:00<?, ?it/s]"
      ]
     },
     "metadata": {},
     "output_type": "display_data"
    },
    {
     "name": "stdout",
     "output_type": "stream",
     "text": [
      "epoch: 864, train_acc: 0.2504171932444853 , train_loss: 1.3863063603639603 , test_acc: 0.2487394091109155 , test_loss: 1.3862990736961365\n"
     ]
    },
    {
     "data": {
      "application/vnd.jupyter.widget-view+json": {
       "model_id": "cb2a08c947a444c99f2bc73d8cb127f3",
       "version_major": 2,
       "version_minor": 0
      },
      "text/plain": [
       "  0%|          | 0/80 [00:00<?, ?it/s]"
      ]
     },
     "metadata": {},
     "output_type": "display_data"
    },
    {
     "name": "stdout",
     "output_type": "stream",
     "text": [
      "epoch: 865, train_acc: 0.24857010186887254 , train_loss: 1.3863288193941117 , test_acc: 0.2514314580665813 , test_loss: 1.3862934231758117\n"
     ]
    },
    {
     "data": {
      "application/vnd.jupyter.widget-view+json": {
       "model_id": "1dc17c8bddf0484caa6f794b7483a527",
       "version_major": 2,
       "version_minor": 0
      },
      "text/plain": [
       "  0%|          | 0/80 [00:00<?, ?it/s]"
      ]
     },
     "metadata": {},
     "output_type": "display_data"
    },
    {
     "name": "stdout",
     "output_type": "stream",
     "text": [
      "epoch: 866, train_acc: 0.24827713311887253 , train_loss: 1.3863106533885001 , test_acc: 0.24858748549535853 , test_loss: 1.3863078713417054\n"
     ]
    },
    {
     "data": {
      "application/vnd.jupyter.widget-view+json": {
       "model_id": "19d550daf9da428882cdd63c7fb0945f",
       "version_major": 2,
       "version_minor": 0
      },
      "text/plain": [
       "  0%|          | 0/80 [00:00<?, ?it/s]"
      ]
     },
     "metadata": {},
     "output_type": "display_data"
    },
    {
     "name": "stdout",
     "output_type": "stream",
     "text": [
      "epoch: 867, train_acc: 0.2493410596660539 , train_loss: 1.3863182052969933 , test_acc: 0.24846594660291293 , test_loss: 1.3862997770309449\n"
     ]
    },
    {
     "data": {
      "application/vnd.jupyter.widget-view+json": {
       "model_id": "8d57224601ce41f5aa06257f7b77b917",
       "version_major": 2,
       "version_minor": 0
      },
      "text/plain": [
       "  0%|          | 0/80 [00:00<?, ?it/s]"
      ]
     },
     "metadata": {},
     "output_type": "display_data"
    },
    {
     "name": "stdout",
     "output_type": "stream",
     "text": [
      "epoch: 868, train_acc: 0.2495251225490196 , train_loss: 1.3863149851560592 , test_acc: 0.24907364106514085 , test_loss: 1.386308914422989\n"
     ]
    },
    {
     "data": {
      "application/vnd.jupyter.widget-view+json": {
       "model_id": "714432f3332f4a63932d199816d5392b",
       "version_major": 2,
       "version_minor": 0
      },
      "text/plain": [
       "  0%|          | 0/80 [00:00<?, ?it/s]"
      ]
     },
     "metadata": {},
     "output_type": "display_data"
    },
    {
     "name": "stdout",
     "output_type": "stream",
     "text": [
      "epoch: 869, train_acc: 0.24990354051776958 , train_loss: 1.386307817697525 , test_acc: 0.24991672335147247 , test_loss: 1.386302387714386\n"
     ]
    },
    {
     "data": {
      "application/vnd.jupyter.widget-view+json": {
       "model_id": "30db61d554d04b238c2be1004135b33f",
       "version_major": 2,
       "version_minor": 0
      },
      "text/plain": [
       "  0%|          | 0/80 [00:00<?, ?it/s]"
      ]
     },
     "metadata": {},
     "output_type": "display_data"
    },
    {
     "name": "stdout",
     "output_type": "stream",
     "text": [
      "epoch: 870, train_acc: 0.2485729741115196 , train_loss: 1.3863052621483802 , test_acc: 0.24931990737035853 , test_loss: 1.3862950205802917\n"
     ]
    },
    {
     "data": {
      "application/vnd.jupyter.widget-view+json": {
       "model_id": "c884d41c246542089913c67fefb33a2e",
       "version_major": 2,
       "version_minor": 0
      },
      "text/plain": [
       "  0%|          | 0/80 [00:00<?, ?it/s]"
      ]
     },
     "metadata": {},
     "output_type": "display_data"
    },
    {
     "name": "stdout",
     "output_type": "stream",
     "text": [
      "epoch: 871, train_acc: 0.24997965494791666 , train_loss: 1.386307381093502 , test_acc: 0.24973010113236235 , test_loss: 1.3862975597381593\n"
     ]
    },
    {
     "data": {
      "application/vnd.jupyter.widget-view+json": {
       "model_id": "973d2e58a4614f1e85f220f50dfb86ec",
       "version_major": 2,
       "version_minor": 0
      },
      "text/plain": [
       "  0%|          | 0/80 [00:00<?, ?it/s]"
      ]
     },
     "metadata": {},
     "output_type": "display_data"
    },
    {
     "name": "stdout",
     "output_type": "stream",
     "text": [
      "epoch: 872, train_acc: 0.24925752527573528 , train_loss: 1.3863144040107727 , test_acc: 0.24911921814980795 , test_loss: 1.3862989723682404\n"
     ]
    },
    {
     "data": {
      "application/vnd.jupyter.widget-view+json": {
       "model_id": "d9bae4f312d8463784e84a0fb09f445d",
       "version_major": 2,
       "version_minor": 0
      },
      "text/plain": [
       "  0%|          | 0/80 [00:00<?, ?it/s]"
      ]
     },
     "metadata": {},
     "output_type": "display_data"
    },
    {
     "name": "stdout",
     "output_type": "stream",
     "text": [
      "epoch: 873, train_acc: 0.24791187959558822 , train_loss: 1.38630703240633 , test_acc: 0.2486482549415813 , test_loss: 1.3863102674484253\n"
     ]
    },
    {
     "data": {
      "application/vnd.jupyter.widget-view+json": {
       "model_id": "c44fad2dc6b140f09cae1917dfec190d",
       "version_major": 2,
       "version_minor": 0
      },
      "text/plain": [
       "  0%|          | 0/80 [00:00<?, ?it/s]"
      ]
     },
     "metadata": {},
     "output_type": "display_data"
    },
    {
     "name": "stdout",
     "output_type": "stream",
     "text": [
      "epoch: 874, train_acc: 0.24834846047794118 , train_loss: 1.386319987475872 , test_acc: 0.24895210217269526 , test_loss: 1.3863061726093293\n"
     ]
    },
    {
     "data": {
      "application/vnd.jupyter.widget-view+json": {
       "model_id": "f744ec5a0af8473e8c4bac9da79fd002",
       "version_major": 2,
       "version_minor": 0
      },
      "text/plain": [
       "  0%|          | 0/80 [00:00<?, ?it/s]"
      ]
     },
     "metadata": {},
     "output_type": "display_data"
    },
    {
     "name": "stdout",
     "output_type": "stream",
     "text": [
      "epoch: 875, train_acc: 0.2473099054074755 , train_loss: 1.3863131716847419 , test_acc: 0.25002306988236234 , test_loss: 1.3862944781780242\n"
     ]
    },
    {
     "data": {
      "application/vnd.jupyter.widget-view+json": {
       "model_id": "2c7b9126ad2c496b9a5c6d64b426bc9b",
       "version_major": 2,
       "version_minor": 0
      },
      "text/plain": [
       "  0%|          | 0/80 [00:00<?, ?it/s]"
      ]
     },
     "metadata": {},
     "output_type": "display_data"
    },
    {
     "name": "stdout",
     "output_type": "stream",
     "text": [
      "epoch: 876, train_acc: 0.24883410883884802 , train_loss: 1.386310414969921 , test_acc: 0.24867863966469272 , test_loss: 1.3863091230392457\n"
     ]
    },
    {
     "data": {
      "application/vnd.jupyter.widget-view+json": {
       "model_id": "66f81e27fc674801b5eb07e53fe93166",
       "version_major": 2,
       "version_minor": 0
      },
      "text/plain": [
       "  0%|          | 0/80 [00:00<?, ?it/s]"
      ]
     },
     "metadata": {},
     "output_type": "display_data"
    },
    {
     "name": "stdout",
     "output_type": "stream",
     "text": [
      "epoch: 877, train_acc: 0.2485119389552696 , train_loss: 1.38630900233984 , test_acc: 0.24895210217269526 , test_loss: 1.3863147795200348\n"
     ]
    },
    {
     "data": {
      "application/vnd.jupyter.widget-view+json": {
       "model_id": "517f0ffab7a74e7da8516c0d563bf9d7",
       "version_major": 2,
       "version_minor": 0
      },
      "text/plain": [
       "  0%|          | 0/80 [00:00<?, ?it/s]"
      ]
     },
     "metadata": {},
     "output_type": "display_data"
    },
    {
     "name": "stdout",
     "output_type": "stream",
     "text": [
      "epoch: 878, train_acc: 0.2499514112285539 , train_loss: 1.3863178849220277 , test_acc: 0.24989721710947502 , test_loss: 1.3863148868083954\n"
     ]
    },
    {
     "data": {
      "application/vnd.jupyter.widget-view+json": {
       "model_id": "8b191ed531124a8797b1fa1a923a81ae",
       "version_major": 2,
       "version_minor": 0
      },
      "text/plain": [
       "  0%|          | 0/80 [00:00<?, ?it/s]"
      ]
     },
     "metadata": {},
     "output_type": "display_data"
    },
    {
     "name": "stdout",
     "output_type": "stream",
     "text": [
      "epoch: 879, train_acc: 0.24899734796262254 , train_loss: 1.3863145768642426 , test_acc: 0.24999268515925097 , test_loss: 1.3862933695316315\n"
     ]
    },
    {
     "data": {
      "application/vnd.jupyter.widget-view+json": {
       "model_id": "d2b6ca5b574944faa00a51440e1cdf23",
       "version_major": 2,
       "version_minor": 0
      },
      "text/plain": [
       "  0%|          | 0/80 [00:00<?, ?it/s]"
      ]
     },
     "metadata": {},
     "output_type": "display_data"
    },
    {
     "name": "stdout",
     "output_type": "stream",
     "text": [
      "epoch: 880, train_acc: 0.2483532475490196 , train_loss: 1.3863174244761467 , test_acc: 0.24852671604913573 , test_loss: 1.3862982869148255\n"
     ]
    },
    {
     "data": {
      "application/vnd.jupyter.widget-view+json": {
       "model_id": "834fc413830f49088010eb03627e053b",
       "version_major": 2,
       "version_minor": 0
      },
      "text/plain": [
       "  0%|          | 0/80 [00:00<?, ?it/s]"
      ]
     },
     "metadata": {},
     "output_type": "display_data"
    },
    {
     "name": "stdout",
     "output_type": "stream",
     "text": [
      "epoch: 881, train_acc: 0.24635967179840684 , train_loss: 1.3863142684102059 , test_acc: 0.24867863966469272 , test_loss: 1.3863036334514618\n"
     ]
    },
    {
     "data": {
      "application/vnd.jupyter.widget-view+json": {
       "model_id": "66c772e17b604aaea85b3f8d258877b5",
       "version_major": 2,
       "version_minor": 0
      },
      "text/plain": [
       "  0%|          | 0/80 [00:00<?, ?it/s]"
      ]
     },
     "metadata": {},
     "output_type": "display_data"
    },
    {
     "name": "stdout",
     "output_type": "stream",
     "text": [
      "epoch: 882, train_acc: 0.2489391850490196 , train_loss: 1.3863104373216628 , test_acc: 0.24967364556658128 , test_loss: 1.3863095939159393\n"
     ]
    },
    {
     "data": {
      "application/vnd.jupyter.widget-view+json": {
       "model_id": "97b66d80a6634023b8ba5d74df2a1250",
       "version_major": 2,
       "version_minor": 0
      },
      "text/plain": [
       "  0%|          | 0/80 [00:00<?, ?it/s]"
      ]
     },
     "metadata": {},
     "output_type": "display_data"
    },
    {
     "name": "stdout",
     "output_type": "stream",
     "text": [
      "epoch: 883, train_acc: 0.2485916436887255 , train_loss: 1.3863282576203346 , test_acc: 0.24965413932458386 , test_loss: 1.3863028168678284\n"
     ]
    },
    {
     "data": {
      "application/vnd.jupyter.widget-view+json": {
       "model_id": "a7ecd4b1f53646989bd67db875f9803c",
       "version_major": 2,
       "version_minor": 0
      },
      "text/plain": [
       "  0%|          | 0/80 [00:00<?, ?it/s]"
      ]
     },
     "metadata": {},
     "output_type": "display_data"
    },
    {
     "name": "stdout",
     "output_type": "stream",
     "text": [
      "epoch: 884, train_acc: 0.24857105928308823 , train_loss: 1.3863473236560822 , test_acc: 0.24867863966469272 , test_loss: 1.3863140761852264\n"
     ]
    },
    {
     "data": {
      "application/vnd.jupyter.widget-view+json": {
       "model_id": "725b243a33ef4ebcbfe43dfb529f2c0e",
       "version_major": 2,
       "version_minor": 0
      },
      "text/plain": [
       "  0%|          | 0/80 [00:00<?, ?it/s]"
      ]
     },
     "metadata": {},
     "output_type": "display_data"
    },
    {
     "name": "stdout",
     "output_type": "stream",
     "text": [
      "epoch: 885, train_acc: 0.24739822686887253 , train_loss: 1.3863196909427642 , test_acc: 0.2498103768205826 , test_loss: 1.3863012492656708\n"
     ]
    },
    {
     "data": {
      "application/vnd.jupyter.widget-view+json": {
       "model_id": "2a9eb0dea3d748cb8adb4747ecbfdd2a",
       "version_major": 2,
       "version_minor": 0
      },
      "text/plain": [
       "  0%|          | 0/80 [00:00<?, ?it/s]"
      ]
     },
     "metadata": {},
     "output_type": "display_data"
    },
    {
     "name": "stdout",
     "output_type": "stream",
     "text": [
      "epoch: 886, train_acc: 0.2509279737285539 , train_loss: 1.3863110557198524 , test_acc: 0.24979087057858512 , test_loss: 1.3863036215305329\n"
     ]
    },
    {
     "data": {
      "application/vnd.jupyter.widget-view+json": {
       "model_id": "16c5e3265cdf45e79585d125476de3be",
       "version_major": 2,
       "version_minor": 0
      },
      "text/plain": [
       "  0%|          | 0/80 [00:00<?, ?it/s]"
      ]
     },
     "metadata": {},
     "output_type": "display_data"
    },
    {
     "name": "stdout",
     "output_type": "stream",
     "text": [
      "epoch: 887, train_acc: 0.24816726983762255 , train_loss: 1.3863097369670867 , test_acc: 0.24956298515524966 , test_loss: 1.3862980484962464\n"
     ]
    },
    {
     "data": {
      "application/vnd.jupyter.widget-view+json": {
       "model_id": "418c5fdf9bca46d297aea8086b86fc0d",
       "version_major": 2,
       "version_minor": 0
      },
      "text/plain": [
       "  0%|          | 0/80 [00:00<?, ?it/s]"
      ]
     },
     "metadata": {},
     "output_type": "display_data"
    },
    {
     "name": "stdout",
     "output_type": "stream",
     "text": [
      "epoch: 888, train_acc: 0.24973551432291666 , train_loss: 1.3863108918070792 , test_acc: 0.2492559494038092 , test_loss: 1.3863006591796876\n"
     ]
    },
    {
     "data": {
      "application/vnd.jupyter.widget-view+json": {
       "model_id": "b1276f0e71c347a49e697fb027d79c91",
       "version_major": 2,
       "version_minor": 0
      },
      "text/plain": [
       "  0%|          | 0/80 [00:00<?, ?it/s]"
      ]
     },
     "metadata": {},
     "output_type": "display_data"
    },
    {
     "name": "stdout",
     "output_type": "stream",
     "text": [
      "epoch: 889, train_acc: 0.2489025639552696 , train_loss: 1.3863134771585464 , test_acc: 0.24887614036491676 , test_loss: 1.3863042056560517\n"
     ]
    },
    {
     "data": {
      "application/vnd.jupyter.widget-view+json": {
       "model_id": "a6bc0dec74fe4490a98b39598b84d737",
       "version_major": 2,
       "version_minor": 0
      },
      "text/plain": [
       "  0%|          | 0/80 [00:00<?, ?it/s]"
      ]
     },
     "metadata": {},
     "output_type": "display_data"
    },
    {
     "name": "stdout",
     "output_type": "stream",
     "text": [
      "epoch: 890, train_acc: 0.2505749272365196 , train_loss: 1.3863148406147956 , test_acc: 0.24843556187980154 , test_loss: 1.3863088667392731\n"
     ]
    },
    {
     "data": {
      "application/vnd.jupyter.widget-view+json": {
       "model_id": "a1470a46502942e08b25a7ef8a00fd3f",
       "version_major": 2,
       "version_minor": 0
      },
      "text/plain": [
       "  0%|          | 0/80 [00:00<?, ?it/s]"
      ]
     },
     "metadata": {},
     "output_type": "display_data"
    },
    {
     "name": "stdout",
     "output_type": "stream",
     "text": [
      "epoch: 891, train_acc: 0.2486462162990196 , train_loss: 1.3863078936934472 , test_acc: 0.248815370918694 , test_loss: 1.3862975060939788\n"
     ]
    },
    {
     "data": {
      "application/vnd.jupyter.widget-view+json": {
       "model_id": "e5a19c9f11ba434cb72da1d53e6e6a81",
       "version_major": 2,
       "version_minor": 0
      },
      "text/plain": [
       "  0%|          | 0/80 [00:00<?, ?it/s]"
      ]
     },
     "metadata": {},
     "output_type": "display_data"
    },
    {
     "name": "stdout",
     "output_type": "stream",
     "text": [
      "epoch: 892, train_acc: 0.2478948854932598 , train_loss: 1.3863135144114493 , test_acc: 0.2487394091109155 , test_loss: 1.3863030612468719\n"
     ]
    },
    {
     "data": {
      "application/vnd.jupyter.widget-view+json": {
       "model_id": "40469a8bdbe04f59853e094d9143ea35",
       "version_major": 2,
       "version_minor": 0
      },
      "text/plain": [
       "  0%|          | 0/80 [00:00<?, ?it/s]"
      ]
     },
     "metadata": {},
     "output_type": "display_data"
    },
    {
     "name": "stdout",
     "output_type": "stream",
     "text": [
      "epoch: 893, train_acc: 0.2483644971660539 , train_loss: 1.386310411989689 , test_acc: 0.24927114176536494 , test_loss: 1.3862972974777221\n"
     ]
    },
    {
     "data": {
      "application/vnd.jupyter.widget-view+json": {
       "model_id": "83eaa501c2f8430ca43fb36ab9c8f4f5",
       "version_major": 2,
       "version_minor": 0
      },
      "text/plain": [
       "  0%|          | 0/80 [00:00<?, ?it/s]"
      ]
     },
     "metadata": {},
     "output_type": "display_data"
    },
    {
     "name": "stdout",
     "output_type": "stream",
     "text": [
      "epoch: 894, train_acc: 0.25010914522058825 , train_loss: 1.3863173797726631 , test_acc: 0.24892171744958386 , test_loss: 1.3863062858581543\n"
     ]
    },
    {
     "data": {
      "application/vnd.jupyter.widget-view+json": {
       "model_id": "b2a3c6a3bf804c09aa6c7bb31a97d738",
       "version_major": 2,
       "version_minor": 0
      },
      "text/plain": [
       "  0%|          | 0/80 [00:00<?, ?it/s]"
      ]
     },
     "metadata": {},
     "output_type": "display_data"
    },
    {
     "name": "stdout",
     "output_type": "stream",
     "text": [
      "epoch: 895, train_acc: 0.24932885263480392 , train_loss: 1.386311237514019 , test_acc: 0.24905844870358512 , test_loss: 1.3862943053245544\n"
     ]
    },
    {
     "data": {
      "application/vnd.jupyter.widget-view+json": {
       "model_id": "7d24be973fdd4bd8b4e71d619726c8cc",
       "version_major": 2,
       "version_minor": 0
      },
      "text/plain": [
       "  0%|          | 0/80 [00:00<?, ?it/s]"
      ]
     },
     "metadata": {},
     "output_type": "display_data"
    },
    {
     "name": "stdout",
     "output_type": "stream",
     "text": [
      "epoch: 896, train_acc: 0.24679816750919117 , train_loss: 1.3863262370228768 , test_acc: 0.24858748549535853 , test_loss: 1.3862977206707001\n"
     ]
    },
    {
     "data": {
      "application/vnd.jupyter.widget-view+json": {
       "model_id": "9394f4d3a83a4a8ea61962ff5150fa59",
       "version_major": 2,
       "version_minor": 0
      },
      "text/plain": [
       "  0%|          | 0/80 [00:00<?, ?it/s]"
      ]
     },
     "metadata": {},
     "output_type": "display_data"
    },
    {
     "name": "stdout",
     "output_type": "stream",
     "text": [
      "epoch: 897, train_acc: 0.2472668217677696 , train_loss: 1.3863133504986762 , test_acc: 0.2495933698783611 , test_loss: 1.3862969815731048\n"
     ]
    },
    {
     "data": {
      "application/vnd.jupyter.widget-view+json": {
       "model_id": "3fb8b0b68cf5406cbd179ba86cb4dec6",
       "version_major": 2,
       "version_minor": 0
      },
      "text/plain": [
       "  0%|          | 0/80 [00:00<?, ?it/s]"
      ]
     },
     "metadata": {},
     "output_type": "display_data"
    },
    {
     "name": "stdout",
     "output_type": "stream",
     "text": [
      "epoch: 898, train_acc: 0.24969314874387255 , train_loss: 1.3863148465752602 , test_acc: 0.24971490877080665 , test_loss: 1.386296772956848\n"
     ]
    },
    {
     "data": {
      "application/vnd.jupyter.widget-view+json": {
       "model_id": "335306f176a7442aac4a96ac6640478e",
       "version_major": 2,
       "version_minor": 0
      },
      "text/plain": [
       "  0%|          | 0/80 [00:00<?, ?it/s]"
      ]
     },
     "metadata": {},
     "output_type": "display_data"
    },
    {
     "name": "stdout",
     "output_type": "stream",
     "text": [
      "epoch: 899, train_acc: 0.2492912741268382 , train_loss: 1.3863097369670867 , test_acc: 0.2498103768205826 , test_loss: 1.3863035202026368\n"
     ]
    },
    {
     "data": {
      "application/vnd.jupyter.widget-view+json": {
       "model_id": "bc1af65b21744397bd61c8526a54624d",
       "version_major": 2,
       "version_minor": 0
      },
      "text/plain": [
       "  0%|          | 0/80 [00:00<?, ?it/s]"
      ]
     },
     "metadata": {},
     "output_type": "display_data"
    },
    {
     "name": "stdout",
     "output_type": "stream",
     "text": [
      "epoch: 900, train_acc: 0.24663947610294118 , train_loss: 1.3863158091902732 , test_acc: 0.24893690981113958 , test_loss: 1.3862986087799072\n"
     ]
    },
    {
     "data": {
      "application/vnd.jupyter.widget-view+json": {
       "model_id": "0f2183f735d2475696d2b668b7336d4e",
       "version_major": 2,
       "version_minor": 0
      },
      "text/plain": [
       "  0%|          | 0/80 [00:00<?, ?it/s]"
      ]
     },
     "metadata": {},
     "output_type": "display_data"
    },
    {
     "name": "stdout",
     "output_type": "stream",
     "text": [
      "epoch: 901, train_acc: 0.24687236711090685 , train_loss: 1.3863090828061104 , test_acc: 0.2487242167493598 , test_loss: 1.3862953424453734\n"
     ]
    },
    {
     "data": {
      "application/vnd.jupyter.widget-view+json": {
       "model_id": "bb2e8a508cfa41e5aef379c214e4c907",
       "version_major": 2,
       "version_minor": 0
      },
      "text/plain": [
       "  0%|          | 0/80 [00:00<?, ?it/s]"
      ]
     },
     "metadata": {},
     "output_type": "display_data"
    },
    {
     "name": "stdout",
     "output_type": "stream",
     "text": [
      "epoch: 902, train_acc: 0.2504885206035539 , train_loss: 1.3863092601299285 , test_acc: 0.25017499349791933 , test_loss: 1.3862953245639802\n"
     ]
    },
    {
     "data": {
      "application/vnd.jupyter.widget-view+json": {
       "model_id": "98dc513dbb594deb893f0db4021968c0",
       "version_major": 2,
       "version_minor": 0
      },
      "text/plain": [
       "  0%|          | 0/80 [00:00<?, ?it/s]"
      ]
     },
     "metadata": {},
     "output_type": "display_data"
    },
    {
     "name": "stdout",
     "output_type": "stream",
     "text": [
      "epoch: 903, train_acc: 0.24792504404105392 , train_loss: 1.3863128155469895 , test_acc: 0.24892171744958386 , test_loss: 1.3862947225570679\n"
     ]
    },
    {
     "data": {
      "application/vnd.jupyter.widget-view+json": {
       "model_id": "bcc4f4547e1f40c6a8f1c1fcadae45d2",
       "version_major": 2,
       "version_minor": 0
      },
      "text/plain": [
       "  0%|          | 0/80 [00:00<?, ?it/s]"
      ]
     },
     "metadata": {},
     "output_type": "display_data"
    },
    {
     "name": "stdout",
     "output_type": "stream",
     "text": [
      "epoch: 904, train_acc: 0.2491842830882353 , train_loss: 1.3863108426332473 , test_acc: 0.24999268515925097 , test_loss: 1.3862947583198548\n"
     ]
    },
    {
     "data": {
      "application/vnd.jupyter.widget-view+json": {
       "model_id": "cb0a6d7e792b449da3ce3ff9ec4648d9",
       "version_major": 2,
       "version_minor": 0
      },
      "text/plain": [
       "  0%|          | 0/80 [00:00<?, ?it/s]"
      ]
     },
     "metadata": {},
     "output_type": "display_data"
    },
    {
     "name": "stdout",
     "output_type": "stream",
     "text": [
      "epoch: 905, train_acc: 0.24938701554840687 , train_loss: 1.3863144114613533 , test_acc: 0.25008383932858513 , test_loss: 1.3862943589687347\n"
     ]
    },
    {
     "data": {
      "application/vnd.jupyter.widget-view+json": {
       "model_id": "b067f429804c4fbd9ca9a3ce62ff58cc",
       "version_major": 2,
       "version_minor": 0
      },
      "text/plain": [
       "  0%|          | 0/80 [00:00<?, ?it/s]"
      ]
     },
     "metadata": {},
     "output_type": "display_data"
    },
    {
     "name": "stdout",
     "output_type": "stream",
     "text": [
      "epoch: 906, train_acc: 0.24959932215073527 , train_loss: 1.3863073781132698 , test_acc: 0.2514314580665813 , test_loss: 1.3862923085689545\n"
     ]
    },
    {
     "data": {
      "application/vnd.jupyter.widget-view+json": {
       "model_id": "de380790d45d41e18e862e02e3898dbb",
       "version_major": 2,
       "version_minor": 0
      },
      "text/plain": [
       "  0%|          | 0/80 [00:00<?, ?it/s]"
      ]
     },
     "metadata": {},
     "output_type": "display_data"
    },
    {
     "name": "stdout",
     "output_type": "stream",
     "text": [
      "epoch: 907, train_acc: 0.2484011182598039 , train_loss: 1.386316004395485 , test_acc: 0.250190185859475 , test_loss: 1.3862984240055085\n"
     ]
    },
    {
     "data": {
      "application/vnd.jupyter.widget-view+json": {
       "model_id": "cdc8a273d62e4040858e2220e157d5ac",
       "version_major": 2,
       "version_minor": 0
      },
      "text/plain": [
       "  0%|          | 0/80 [00:00<?, ?it/s]"
      ]
     },
     "metadata": {},
     "output_type": "display_data"
    },
    {
     "name": "stdout",
     "output_type": "stream",
     "text": [
      "epoch: 908, train_acc: 0.2488180721507353 , train_loss: 1.386310061812401 , test_acc: 0.24893690981113958 , test_loss: 1.3862973749637604\n"
     ]
    },
    {
     "data": {
      "application/vnd.jupyter.widget-view+json": {
       "model_id": "faee6b0803ee46df856a78bba5f2a120",
       "version_major": 2,
       "version_minor": 0
      },
      "text/plain": [
       "  0%|          | 0/80 [00:00<?, ?it/s]"
      ]
     },
     "metadata": {},
     "output_type": "display_data"
    },
    {
     "name": "stdout",
     "output_type": "stream",
     "text": [
      "epoch: 909, train_acc: 0.24684795304840684 , train_loss: 1.386323133111 , test_acc: 0.25005345460547374 , test_loss: 1.386301177740097\n"
     ]
    },
    {
     "data": {
      "application/vnd.jupyter.widget-view+json": {
       "model_id": "e1c3e23d9d7943ae823462c02d932a05",
       "version_major": 2,
       "version_minor": 0
      },
      "text/plain": [
       "  0%|          | 0/80 [00:00<?, ?it/s]"
      ]
     },
     "metadata": {},
     "output_type": "display_data"
    },
    {
     "name": "stdout",
     "output_type": "stream",
     "text": [
      "epoch: 910, train_acc: 0.24876445695465685 , train_loss: 1.386306993663311 , test_acc: 0.2486482549415813 , test_loss: 1.3862977266311645\n"
     ]
    },
    {
     "data": {
      "application/vnd.jupyter.widget-view+json": {
       "model_id": "a58f33069fda4003b8d2582d51777642",
       "version_major": 2,
       "version_minor": 0
      },
      "text/plain": [
       "  0%|          | 0/80 [00:00<?, ?it/s]"
      ]
     },
     "metadata": {},
     "output_type": "display_data"
    },
    {
     "name": "stdout",
     "output_type": "stream",
     "text": [
      "epoch: 911, train_acc: 0.24984442018995096 , train_loss: 1.386309677362442 , test_acc: 0.25000787752080667 , test_loss: 1.3862916946411132\n"
     ]
    },
    {
     "data": {
      "application/vnd.jupyter.widget-view+json": {
       "model_id": "6d13e050c20e4a7ca04dd993511fe508",
       "version_major": 2,
       "version_minor": 0
      },
      "text/plain": [
       "  0%|          | 0/80 [00:00<?, ?it/s]"
      ]
     },
     "metadata": {},
     "output_type": "display_data"
    },
    {
     "name": "stdout",
     "output_type": "stream",
     "text": [
      "epoch: 912, train_acc: 0.24664043351715687 , train_loss: 1.386330211162567 , test_acc: 0.24969971640925098 , test_loss: 1.3862950444221496\n"
     ]
    },
    {
     "data": {
      "application/vnd.jupyter.widget-view+json": {
       "model_id": "c3dacff78172438fb65b3c9345e81444",
       "version_major": 2,
       "version_minor": 0
      },
      "text/plain": [
       "  0%|          | 0/80 [00:00<?, ?it/s]"
      ]
     },
     "metadata": {},
     "output_type": "display_data"
    },
    {
     "name": "stdout",
     "output_type": "stream",
     "text": [
      "epoch: 913, train_acc: 0.24908471200980392 , train_loss: 1.3863281026482581 , test_acc: 0.25134030389724715 , test_loss: 1.386291491985321\n"
     ]
    },
    {
     "data": {
      "application/vnd.jupyter.widget-view+json": {
       "model_id": "df9d75a111e64ba1bf9592ad88073500",
       "version_major": 2,
       "version_minor": 0
      },
      "text/plain": [
       "  0%|          | 0/80 [00:00<?, ?it/s]"
      ]
     },
     "metadata": {},
     "output_type": "display_data"
    },
    {
     "name": "stdout",
     "output_type": "stream",
     "text": [
      "epoch: 914, train_acc: 0.2479015873927696 , train_loss: 1.386303925514221 , test_acc: 0.2488609480033611 , test_loss: 1.3862975656986236\n"
     ]
    },
    {
     "data": {
      "application/vnd.jupyter.widget-view+json": {
       "model_id": "18786a6290ab433c998e5cf365d21f96",
       "version_major": 2,
       "version_minor": 0
      },
      "text/plain": [
       "  0%|          | 0/80 [00:00<?, ?it/s]"
      ]
     },
     "metadata": {},
     "output_type": "display_data"
    },
    {
     "name": "stdout",
     "output_type": "stream",
     "text": [
      "epoch: 915, train_acc: 0.24941047219669116 , train_loss: 1.3863077491521836 , test_acc: 0.2487394091109155 , test_loss: 1.3863007307052613\n"
     ]
    },
    {
     "data": {
      "application/vnd.jupyter.widget-view+json": {
       "model_id": "2b0e0a270ab94b1bb8d0ed9a30ae1e26",
       "version_major": 2,
       "version_minor": 0
      },
      "text/plain": [
       "  0%|          | 0/80 [00:00<?, ?it/s]"
      ]
     },
     "metadata": {},
     "output_type": "display_data"
    },
    {
     "name": "stdout",
     "output_type": "stream",
     "text": [
      "epoch: 916, train_acc: 0.24999928193933824 , train_loss: 1.3863125264644622 , test_acc: 0.2497344150128041 , test_loss: 1.3862961053848266\n"
     ]
    },
    {
     "data": {
      "application/vnd.jupyter.widget-view+json": {
       "model_id": "e412159a218345908493b88e2d72675a",
       "version_major": 2,
       "version_minor": 0
      },
      "text/plain": [
       "  0%|          | 0/80 [00:00<?, ?it/s]"
      ]
     },
     "metadata": {},
     "output_type": "display_data"
    },
    {
     "name": "stdout",
     "output_type": "stream",
     "text": [
      "epoch: 917, train_acc: 0.2499411190257353 , train_loss: 1.3863083735108375 , test_acc: 0.2498103768205826 , test_loss: 1.3862999975681305\n"
     ]
    },
    {
     "data": {
      "application/vnd.jupyter.widget-view+json": {
       "model_id": "d718140e65794aabb3df9351fe3150e5",
       "version_major": 2,
       "version_minor": 0
      },
      "text/plain": [
       "  0%|          | 0/80 [00:00<?, ?it/s]"
      ]
     },
     "metadata": {},
     "output_type": "display_data"
    },
    {
     "name": "stdout",
     "output_type": "stream",
     "text": [
      "epoch: 918, train_acc: 0.24857680376838234 , train_loss: 1.3863111227750777 , test_acc: 0.24977999209747118 , test_loss: 1.3863034546375275\n"
     ]
    },
    {
     "data": {
      "application/vnd.jupyter.widget-view+json": {
       "model_id": "ed5b6c9073584610a54f131ca849127c",
       "version_major": 2,
       "version_minor": 0
      },
      "text/plain": [
       "  0%|          | 0/80 [00:00<?, ?it/s]"
      ]
     },
     "metadata": {},
     "output_type": "display_data"
    },
    {
     "name": "stdout",
     "output_type": "stream",
     "text": [
      "epoch: 919, train_acc: 0.2484367819393382 , train_loss: 1.386309026181698 , test_acc: 0.24987114626680537 , test_loss: 1.3863132774829865\n"
     ]
    },
    {
     "data": {
      "application/vnd.jupyter.widget-view+json": {
       "model_id": "a0acb11983cb4b4b97523ea53cf48902",
       "version_major": 2,
       "version_minor": 0
      },
      "text/plain": [
       "  0%|          | 0/80 [00:00<?, ?it/s]"
      ]
     },
     "metadata": {},
     "output_type": "display_data"
    },
    {
     "name": "stdout",
     "output_type": "stream",
     "text": [
      "epoch: 920, train_acc: 0.2501232670802696 , train_loss: 1.3863132491707801 , test_acc: 0.24858748549535853 , test_loss: 1.3862975060939788\n"
     ]
    },
    {
     "data": {
      "application/vnd.jupyter.widget-view+json": {
       "model_id": "60d3ff0a17a849999b2c05a5561bfb9c",
       "version_major": 2,
       "version_minor": 0
      },
      "text/plain": [
       "  0%|          | 0/80 [00:00<?, ?it/s]"
      ]
     },
     "metadata": {},
     "output_type": "display_data"
    },
    {
     "name": "stdout",
     "output_type": "stream",
     "text": [
      "epoch: 921, train_acc: 0.24609111711090687 , train_loss: 1.3863126024603845 , test_acc: 0.24953260043213826 , test_loss: 1.3862974882125854\n"
     ]
    },
    {
     "data": {
      "application/vnd.jupyter.widget-view+json": {
       "model_id": "952ec2f142604b6491e44770517451fe",
       "version_major": 2,
       "version_minor": 0
      },
      "text/plain": [
       "  0%|          | 0/80 [00:00<?, ?it/s]"
      ]
     },
     "metadata": {},
     "output_type": "display_data"
    },
    {
     "name": "stdout",
     "output_type": "stream",
     "text": [
      "epoch: 922, train_acc: 0.2478659237132353 , train_loss: 1.3863364070653916 , test_acc: 0.2494262539012484 , test_loss: 1.3862930119037629\n"
     ]
    },
    {
     "data": {
      "application/vnd.jupyter.widget-view+json": {
       "model_id": "b55e6f98a1de431ba81613e672c64f4a",
       "version_major": 2,
       "version_minor": 0
      },
      "text/plain": [
       "  0%|          | 0/80 [00:00<?, ?it/s]"
      ]
     },
     "metadata": {},
     "output_type": "display_data"
    },
    {
     "name": "stdout",
     "output_type": "stream",
     "text": [
      "epoch: 923, train_acc: 0.24710717294730392 , train_loss: 1.3863140776753426 , test_acc: 0.24956298515524966 , test_loss: 1.3862989723682404\n"
     ]
    },
    {
     "data": {
      "application/vnd.jupyter.widget-view+json": {
       "model_id": "9951bdc17cb34383bfc591731e2350e3",
       "version_major": 2,
       "version_minor": 0
      },
      "text/plain": [
       "  0%|          | 0/80 [00:00<?, ?it/s]"
      ]
     },
     "metadata": {},
     "output_type": "display_data"
    },
    {
     "name": "stdout",
     "output_type": "stream",
     "text": [
      "epoch: 924, train_acc: 0.2485672296262255 , train_loss: 1.3863142237067223 , test_acc: 0.2500035636403649 , test_loss: 1.3863008975982667\n"
     ]
    },
    {
     "data": {
      "application/vnd.jupyter.widget-view+json": {
       "model_id": "91802d92ed4c407eaa68dcb1ea07f275",
       "version_major": 2,
       "version_minor": 0
      },
      "text/plain": [
       "  0%|          | 0/80 [00:00<?, ?it/s]"
      ]
     },
     "metadata": {},
     "output_type": "display_data"
    },
    {
     "name": "stdout",
     "output_type": "stream",
     "text": [
      "epoch: 925, train_acc: 0.2491579541973039 , train_loss: 1.386321833729744 , test_acc: 0.25162895876680536 , test_loss: 1.386288970708847\n"
     ]
    },
    {
     "data": {
      "application/vnd.jupyter.widget-view+json": {
       "model_id": "6df0810a3ca84883b82e9e0cae77e189",
       "version_major": 2,
       "version_minor": 0
      },
      "text/plain": [
       "  0%|          | 0/80 [00:00<?, ?it/s]"
      ]
     },
     "metadata": {},
     "output_type": "display_data"
    },
    {
     "name": "stdout",
     "output_type": "stream",
     "text": [
      "epoch: 926, train_acc: 0.2481935987285539 , train_loss: 1.3863115042448044 , test_acc: 0.2495174080705826 , test_loss: 1.3862987220287324\n"
     ]
    },
    {
     "data": {
      "application/vnd.jupyter.widget-view+json": {
       "model_id": "80ffd910d61a47d9991ac7073afd59ab",
       "version_major": 2,
       "version_minor": 0
      },
      "text/plain": [
       "  0%|          | 0/80 [00:00<?, ?it/s]"
      ]
     },
     "metadata": {},
     "output_type": "display_data"
    },
    {
     "name": "stdout",
     "output_type": "stream",
     "text": [
      "epoch: 927, train_acc: 0.24601596009497548 , train_loss: 1.386319325864315 , test_acc: 0.2487394091109155 , test_loss: 1.3863089382648468\n"
     ]
    },
    {
     "data": {
      "application/vnd.jupyter.widget-view+json": {
       "model_id": "24d9a8f6fe474618af5d55d74773ea2a",
       "version_major": 2,
       "version_minor": 0
      },
      "text/plain": [
       "  0%|          | 0/80 [00:00<?, ?it/s]"
      ]
     },
     "metadata": {},
     "output_type": "display_data"
    },
    {
     "name": "stdout",
     "output_type": "stream",
     "text": [
      "epoch: 928, train_acc: 0.2503420362285539 , train_loss: 1.38631891310215 , test_acc: 0.2487242167493598 , test_loss: 1.3863067090511323\n"
     ]
    },
    {
     "data": {
      "application/vnd.jupyter.widget-view+json": {
       "model_id": "d33888b6ce144b3b9f6bababc16efd22",
       "version_major": 2,
       "version_minor": 0
      },
      "text/plain": [
       "  0%|          | 0/80 [00:00<?, ?it/s]"
      ]
     },
     "metadata": {},
     "output_type": "display_data"
    },
    {
     "name": "stdout",
     "output_type": "stream",
     "text": [
      "epoch: 929, train_acc: 0.2472771139705882 , train_loss: 1.3863124921917915 , test_acc: 0.2487697938340269 , test_loss: 1.3862985491752624\n"
     ]
    },
    {
     "data": {
      "application/vnd.jupyter.widget-view+json": {
       "model_id": "2a26bc83707245e589fbd86136769c99",
       "version_major": 2,
       "version_minor": 0
      },
      "text/plain": [
       "  0%|          | 0/80 [00:00<?, ?it/s]"
      ]
     },
     "metadata": {},
     "output_type": "display_data"
    },
    {
     "name": "stdout",
     "output_type": "stream",
     "text": [
      "epoch: 930, train_acc: 0.2503420362285539 , train_loss: 1.3863048300147056 , test_acc: 0.248815370918694 , test_loss: 1.3863125681877135\n"
     ]
    },
    {
     "data": {
      "application/vnd.jupyter.widget-view+json": {
       "model_id": "a99a2ee86032478b890857246341ff90",
       "version_major": 2,
       "version_minor": 0
      },
      "text/plain": [
       "  0%|          | 0/80 [00:00<?, ?it/s]"
      ]
     },
     "metadata": {},
     "output_type": "display_data"
    },
    {
     "name": "stdout",
     "output_type": "stream",
     "text": [
      "epoch: 931, train_acc: 0.24983317057291665 , train_loss: 1.386310239136219 , test_acc: 0.24963894696302816 , test_loss: 1.3863074243068696\n"
     ]
    },
    {
     "data": {
      "application/vnd.jupyter.widget-view+json": {
       "model_id": "5e2f0108db2840d18d2c6aa565c848da",
       "version_major": 2,
       "version_minor": 0
      },
      "text/plain": [
       "  0%|          | 0/80 [00:00<?, ?it/s]"
      ]
     },
     "metadata": {},
     "output_type": "display_data"
    },
    {
     "name": "stdout",
     "output_type": "stream",
     "text": [
      "epoch: 932, train_acc: 0.24992603975183822 , train_loss: 1.3863242015242576 , test_acc: 0.2495933698783611 , test_loss: 1.3863023936748504\n"
     ]
    },
    {
     "data": {
      "application/vnd.jupyter.widget-view+json": {
       "model_id": "eafb1bc9b9984e679ba7f0ea9c231b1e",
       "version_major": 2,
       "version_minor": 0
      },
      "text/plain": [
       "  0%|          | 0/80 [00:00<?, ?it/s]"
      ]
     },
     "metadata": {},
     "output_type": "display_data"
    },
    {
     "name": "stdout",
     "output_type": "stream",
     "text": [
      "epoch: 933, train_acc: 0.24806769875919116 , train_loss: 1.3863107204437255 , test_acc: 0.25153780459747116 , test_loss: 1.3862955272197723\n"
     ]
    },
    {
     "data": {
      "application/vnd.jupyter.widget-view+json": {
       "model_id": "bee4812f91fb44dfbbab75350846b699",
       "version_major": 2,
       "version_minor": 0
      },
      "text/plain": [
       "  0%|          | 0/80 [00:00<?, ?it/s]"
      ]
     },
     "metadata": {},
     "output_type": "display_data"
    },
    {
     "name": "stdout",
     "output_type": "stream",
     "text": [
      "epoch: 934, train_acc: 0.24779914407169118 , train_loss: 1.3863125681877135 , test_acc: 0.25199357544414214 , test_loss: 1.3862910151481629\n"
     ]
    },
    {
     "data": {
      "application/vnd.jupyter.widget-view+json": {
       "model_id": "961ab5a8493b468ea6f2b3b513c8149d",
       "version_major": 2,
       "version_minor": 0
      },
      "text/plain": [
       "  0%|          | 0/80 [00:00<?, ?it/s]"
      ]
     },
     "metadata": {},
     "output_type": "display_data"
    },
    {
     "name": "stdout",
     "output_type": "stream",
     "text": [
      "epoch: 935, train_acc: 0.2481466854319853 , train_loss: 1.3863205164670944 , test_acc: 0.24896729453425098 , test_loss: 1.3862954139709474\n"
     ]
    },
    {
     "data": {
      "application/vnd.jupyter.widget-view+json": {
       "model_id": "a03f784c25c44c0d952c7aa54e7f0c96",
       "version_major": 2,
       "version_minor": 0
      },
      "text/plain": [
       "  0%|          | 0/80 [00:00<?, ?it/s]"
      ]
     },
     "metadata": {},
     "output_type": "display_data"
    },
    {
     "name": "stdout",
     "output_type": "stream",
     "text": [
      "epoch: 936, train_acc: 0.24804424211090687 , train_loss: 1.386313433945179 , test_acc: 0.249688837928137 , test_loss: 1.3862958788871764\n"
     ]
    },
    {
     "data": {
      "application/vnd.jupyter.widget-view+json": {
       "model_id": "d492bb3baffc46ddad909c205a281d31",
       "version_major": 2,
       "version_minor": 0
      },
      "text/plain": [
       "  0%|          | 0/80 [00:00<?, ?it/s]"
      ]
     },
     "metadata": {},
     "output_type": "display_data"
    },
    {
     "name": "stdout",
     "output_type": "stream",
     "text": [
      "epoch: 937, train_acc: 0.24694752412683824 , train_loss: 1.3863144189119339 , test_acc: 0.249547792793694 , test_loss: 1.3862976789474488\n"
     ]
    },
    {
     "data": {
      "application/vnd.jupyter.widget-view+json": {
       "model_id": "90551e2baeba49bc88a3bdf6c2ea84f9",
       "version_major": 2,
       "version_minor": 0
      },
      "text/plain": [
       "  0%|          | 0/80 [00:00<?, ?it/s]"
      ]
     },
     "metadata": {},
     "output_type": "display_data"
    },
    {
     "name": "stdout",
     "output_type": "stream",
     "text": [
      "epoch: 938, train_acc: 0.2485739315257353 , train_loss: 1.3863018572330474 , test_acc: 0.24875460147247117 , test_loss: 1.3862985610961913\n"
     ]
    },
    {
     "data": {
      "application/vnd.jupyter.widget-view+json": {
       "model_id": "7861064d5a4940a687361f8322e86f4f",
       "version_major": 2,
       "version_minor": 0
      },
      "text/plain": [
       "  0%|          | 0/80 [00:00<?, ?it/s]"
      ]
     },
     "metadata": {},
     "output_type": "display_data"
    },
    {
     "name": "stdout",
     "output_type": "stream",
     "text": [
      "epoch: 939, train_acc: 0.24932502297794118 , train_loss: 1.386312159895897 , test_acc: 0.24855710077224713 , test_loss: 1.3863111674785613\n"
     ]
    },
    {
     "data": {
      "application/vnd.jupyter.widget-view+json": {
       "model_id": "df31d27dd6f241a688a9ba42daf34f4b",
       "version_major": 2,
       "version_minor": 0
      },
      "text/plain": [
       "  0%|          | 0/80 [00:00<?, ?it/s]"
      ]
     },
     "metadata": {},
     "output_type": "display_data"
    },
    {
     "name": "stdout",
     "output_type": "stream",
     "text": [
      "epoch: 940, train_acc: 0.24854473039215685 , train_loss: 1.3863168239593506 , test_acc: 0.24947614486635725 , test_loss: 1.3863008260726928\n"
     ]
    },
    {
     "data": {
      "application/vnd.jupyter.widget-view+json": {
       "model_id": "7af49fe612394e728107321abb53f4db",
       "version_major": 2,
       "version_minor": 0
      },
      "text/plain": [
       "  0%|          | 0/80 [00:00<?, ?it/s]"
      ]
     },
     "metadata": {},
     "output_type": "display_data"
    },
    {
     "name": "stdout",
     "output_type": "stream",
     "text": [
      "epoch: 941, train_acc: 0.24793916590073528 , train_loss: 1.3863085061311722 , test_acc: 0.24956298515524966 , test_loss: 1.3862959563732147\n"
     ]
    },
    {
     "data": {
      "application/vnd.jupyter.widget-view+json": {
       "model_id": "f08cd862e05742749c61533c6a4385c7",
       "version_major": 2,
       "version_minor": 0
      },
      "text/plain": [
       "  0%|          | 0/80 [00:00<?, ?it/s]"
      ]
     },
     "metadata": {},
     "output_type": "display_data"
    },
    {
     "name": "stdout",
     "output_type": "stream",
     "text": [
      "epoch: 942, train_acc: 0.2507092045802696 , train_loss: 1.3863253712654113 , test_acc: 0.24966933168613958 , test_loss: 1.3863052308559418\n"
     ]
    },
    {
     "data": {
      "application/vnd.jupyter.widget-view+json": {
       "model_id": "04b5d5bdde85406887f0a8a34e46a72d",
       "version_major": 2,
       "version_minor": 0
      },
      "text/plain": [
       "  0%|          | 0/80 [00:00<?, ?it/s]"
      ]
     },
     "metadata": {},
     "output_type": "display_data"
    },
    {
     "name": "stdout",
     "output_type": "stream",
     "text": [
      "epoch: 943, train_acc: 0.250857603783701 , train_loss: 1.3863080769777298 , test_acc: 0.24983644766325225 , test_loss: 1.3863049626350403\n"
     ]
    },
    {
     "data": {
      "application/vnd.jupyter.widget-view+json": {
       "model_id": "9a88086ea92b4c7fa56684d79c33b023",
       "version_major": 2,
       "version_minor": 0
      },
      "text/plain": [
       "  0%|          | 0/80 [00:00<?, ?it/s]"
      ]
     },
     "metadata": {},
     "output_type": "display_data"
    },
    {
     "name": "stdout",
     "output_type": "stream",
     "text": [
      "epoch: 944, train_acc: 0.24969889322916666 , train_loss: 1.3863060534000398 , test_acc: 0.2494566386243598 , test_loss: 1.3863061249256134\n"
     ]
    },
    {
     "data": {
      "application/vnd.jupyter.widget-view+json": {
       "model_id": "3683f5a5224e4d29965a3e877f4b9927",
       "version_major": 2,
       "version_minor": 0
      },
      "text/plain": [
       "  0%|          | 0/80 [00:00<?, ?it/s]"
      ]
     },
     "metadata": {},
     "output_type": "display_data"
    },
    {
     "name": "stdout",
     "output_type": "stream",
     "text": [
      "epoch: 945, train_acc: 0.2489944757199755 , train_loss: 1.38631302267313 , test_acc: 0.2486482549415813 , test_loss: 1.3863109230995179\n"
     ]
    },
    {
     "data": {
      "application/vnd.jupyter.widget-view+json": {
       "model_id": "1b464ec6a43b4af19dc77bced4e23518",
       "version_major": 2,
       "version_minor": 0
      },
      "text/plain": [
       "  0%|          | 0/80 [00:00<?, ?it/s]"
      ]
     },
     "metadata": {},
     "output_type": "display_data"
    },
    {
     "name": "stdout",
     "output_type": "stream",
     "text": [
      "epoch: 946, train_acc: 0.24824601715686273 , train_loss: 1.386321371793747 , test_acc: 0.2494566386243598 , test_loss: 1.3862944185733794\n"
     ]
    },
    {
     "data": {
      "application/vnd.jupyter.widget-view+json": {
       "model_id": "424e8556fffc47dbb50aa0c68a231cc9",
       "version_major": 2,
       "version_minor": 0
      },
      "text/plain": [
       "  0%|          | 0/80 [00:00<?, ?it/s]"
      ]
     },
     "metadata": {},
     "output_type": "display_data"
    },
    {
     "name": "stdout",
     "output_type": "stream",
     "text": [
      "epoch: 947, train_acc: 0.2476263308057598 , train_loss: 1.386324292421341 , test_acc: 0.249547792793694 , test_loss: 1.3862977385520936\n"
     ]
    },
    {
     "data": {
      "application/vnd.jupyter.widget-view+json": {
       "model_id": "f2dc15de30b443ebbe5420c9a278ab0e",
       "version_major": 2,
       "version_minor": 0
      },
      "text/plain": [
       "  0%|          | 0/80 [00:00<?, ?it/s]"
      ]
     },
     "metadata": {},
     "output_type": "display_data"
    },
    {
     "name": "stdout",
     "output_type": "stream",
     "text": [
      "epoch: 948, train_acc: 0.24863209443933823 , train_loss: 1.3863205641508103 , test_acc: 0.2517353052976953 , test_loss: 1.3862921714782714\n"
     ]
    },
    {
     "data": {
      "application/vnd.jupyter.widget-view+json": {
       "model_id": "6ffcdb04d8de4a59a7fef0d840e70a89",
       "version_major": 2,
       "version_minor": 0
      },
      "text/plain": [
       "  0%|          | 0/80 [00:00<?, ?it/s]"
      ]
     },
     "metadata": {},
     "output_type": "display_data"
    },
    {
     "name": "stdout",
     "output_type": "stream",
     "text": [
      "epoch: 949, train_acc: 0.24796453737745097 , train_loss: 1.3863097041845323 , test_acc: 0.24892171744958386 , test_loss: 1.3862959027290345\n"
     ]
    },
    {
     "data": {
      "application/vnd.jupyter.widget-view+json": {
       "model_id": "c921debffb9d4173b8b3ec049b2e8781",
       "version_major": 2,
       "version_minor": 0
      },
      "text/plain": [
       "  0%|          | 0/80 [00:00<?, ?it/s]"
      ]
     },
     "metadata": {},
     "output_type": "display_data"
    },
    {
     "name": "stdout",
     "output_type": "stream",
     "text": [
      "epoch: 950, train_acc: 0.2467605890012255 , train_loss: 1.3863293841481208 , test_acc: 0.24895210217269526 , test_loss: 1.386294001340866\n"
     ]
    },
    {
     "data": {
      "application/vnd.jupyter.widget-view+json": {
       "model_id": "45fe8cdabec14fb18d274125bd27adb9",
       "version_major": 2,
       "version_minor": 0
      },
      "text/plain": [
       "  0%|          | 0/80 [00:00<?, ?it/s]"
      ]
     },
     "metadata": {},
     "output_type": "display_data"
    },
    {
     "name": "stdout",
     "output_type": "stream",
     "text": [
      "epoch: 951, train_acc: 0.24869217218137254 , train_loss: 1.3863053023815155 , test_acc: 0.249688837928137 , test_loss: 1.386296659708023\n"
     ]
    },
    {
     "data": {
      "application/vnd.jupyter.widget-view+json": {
       "model_id": "a08b94b9a1c44680b19f12f93e0ec370",
       "version_major": 2,
       "version_minor": 0
      },
      "text/plain": [
       "  0%|          | 0/80 [00:00<?, ?it/s]"
      ]
     },
     "metadata": {},
     "output_type": "display_data"
    },
    {
     "name": "stdout",
     "output_type": "stream",
     "text": [
      "epoch: 952, train_acc: 0.24841141046262255 , train_loss: 1.386324366927147 , test_acc: 0.24967364556658128 , test_loss: 1.3862948298454285\n"
     ]
    },
    {
     "data": {
      "application/vnd.jupyter.widget-view+json": {
       "model_id": "d9ae93b0c84c44bea1f8b9896e3220bb",
       "version_major": 2,
       "version_minor": 0
      },
      "text/plain": [
       "  0%|          | 0/80 [00:00<?, ?it/s]"
      ]
     },
     "metadata": {},
     "output_type": "display_data"
    },
    {
     "name": "stdout",
     "output_type": "stream",
     "text": [
      "epoch: 953, train_acc: 0.24643387140012254 , train_loss: 1.3863233909010888 , test_acc: 0.25181126710547375 , test_loss: 1.3862902581691743\n"
     ]
    },
    {
     "data": {
      "application/vnd.jupyter.widget-view+json": {
       "model_id": "e3d956270b4e4f24af12677d16a49534",
       "version_major": 2,
       "version_minor": 0
      },
      "text/plain": [
       "  0%|          | 0/80 [00:00<?, ?it/s]"
      ]
     },
     "metadata": {},
     "output_type": "display_data"
    },
    {
     "name": "stdout",
     "output_type": "stream",
     "text": [
      "epoch: 954, train_acc: 0.2506603764552696 , train_loss: 1.3863036394119264 , test_acc: 0.24911921814980795 , test_loss: 1.386300128698349\n"
     ]
    },
    {
     "data": {
      "application/vnd.jupyter.widget-view+json": {
       "model_id": "d56be60b0a5b47b69f94cfa81dfcdcdd",
       "version_major": 2,
       "version_minor": 0
      },
      "text/plain": [
       "  0%|          | 0/80 [00:00<?, ?it/s]"
      ]
     },
     "metadata": {},
     "output_type": "display_data"
    },
    {
     "name": "stdout",
     "output_type": "stream",
     "text": [
      "epoch: 955, train_acc: 0.25082098268995096 , train_loss: 1.3863102704286576 , test_acc: 0.24907364106514085 , test_loss: 1.3862973153591156\n"
     ]
    },
    {
     "data": {
      "application/vnd.jupyter.widget-view+json": {
       "model_id": "73030b54535c4f8b8cca9371943cddc5",
       "version_major": 2,
       "version_minor": 0
      },
      "text/plain": [
       "  0%|          | 0/80 [00:00<?, ?it/s]"
      ]
     },
     "metadata": {},
     "output_type": "display_data"
    },
    {
     "name": "stdout",
     "output_type": "stream",
     "text": [
      "epoch: 956, train_acc: 0.2488537358302696 , train_loss: 1.386322373151779 , test_acc: 0.24893690981113958 , test_loss: 1.3862980127334594\n"
     ]
    },
    {
     "data": {
      "application/vnd.jupyter.widget-view+json": {
       "model_id": "5505b82afc914add91122a3b2ea1e82f",
       "version_major": 2,
       "version_minor": 0
      },
      "text/plain": [
       "  0%|          | 0/80 [00:00<?, ?it/s]"
      ]
     },
     "metadata": {},
     "output_type": "display_data"
    },
    {
     "name": "stdout",
     "output_type": "stream",
     "text": [
      "epoch: 957, train_acc: 0.24899734796262254 , train_loss: 1.386319361627102 , test_acc: 0.24898248689580665 , test_loss: 1.3863001406192779\n"
     ]
    },
    {
     "data": {
      "application/vnd.jupyter.widget-view+json": {
       "model_id": "54df5ae8dbf64550b775557c8c18710c",
       "version_major": 2,
       "version_minor": 0
      },
      "text/plain": [
       "  0%|          | 0/80 [00:00<?, ?it/s]"
      ]
     },
     "metadata": {},
     "output_type": "display_data"
    },
    {
     "name": "stdout",
     "output_type": "stream",
     "text": [
      "epoch: 958, train_acc: 0.2500856885723039 , train_loss: 1.3863055244088174 , test_acc: 0.24993191571302814 , test_loss: 1.3863074600696563\n"
     ]
    },
    {
     "data": {
      "application/vnd.jupyter.widget-view+json": {
       "model_id": "ae26b1ca09c7432c97f11a54abf0bd2e",
       "version_major": 2,
       "version_minor": 0
      },
      "text/plain": [
       "  0%|          | 0/80 [00:00<?, ?it/s]"
      ]
     },
     "metadata": {},
     "output_type": "display_data"
    },
    {
     "name": "stdout",
     "output_type": "stream",
     "text": [
      "epoch: 959, train_acc: 0.2475212545955882 , train_loss: 1.3863128677010537 , test_acc: 0.24970403028969274 , test_loss: 1.3862948000431061\n"
     ]
    },
    {
     "data": {
      "application/vnd.jupyter.widget-view+json": {
       "model_id": "7c697b16130140aabfdffe5b1cf793da",
       "version_major": 2,
       "version_minor": 0
      },
      "text/plain": [
       "  0%|          | 0/80 [00:00<?, ?it/s]"
      ]
     },
     "metadata": {},
     "output_type": "display_data"
    },
    {
     "name": "stdout",
     "output_type": "stream",
     "text": [
      "epoch: 960, train_acc: 0.2485363530177696 , train_loss: 1.3863176450133323 , test_acc: 0.24948702334747117 , test_loss: 1.3862979710102081\n"
     ]
    },
    {
     "data": {
      "application/vnd.jupyter.widget-view+json": {
       "model_id": "87e4cfcdc0824f3cb534d7c786f7cc69",
       "version_major": 2,
       "version_minor": 0
      },
      "text/plain": [
       "  0%|          | 0/80 [00:00<?, ?it/s]"
      ]
     },
     "metadata": {},
     "output_type": "display_data"
    },
    {
     "name": "stdout",
     "output_type": "stream",
     "text": [
      "epoch: 961, train_acc: 0.24965939989276958 , train_loss: 1.3863149836659432 , test_acc: 0.24953260043213826 , test_loss: 1.386299467086792\n"
     ]
    },
    {
     "data": {
      "application/vnd.jupyter.widget-view+json": {
       "model_id": "fb5c5210b2374b8ea3d7575723656847",
       "version_major": 2,
       "version_minor": 0
      },
      "text/plain": [
       "  0%|          | 0/80 [00:00<?, ?it/s]"
      ]
     },
     "metadata": {},
     "output_type": "display_data"
    },
    {
     "name": "stdout",
     "output_type": "stream",
     "text": [
      "epoch: 962, train_acc: 0.24793437882965685 , train_loss: 1.3863137140870094 , test_acc: 0.24910402578825225 , test_loss: 1.3863075256347657\n"
     ]
    },
    {
     "data": {
      "application/vnd.jupyter.widget-view+json": {
       "model_id": "41ae6d5a67d44d7daa054c3f76edd5b9",
       "version_major": 2,
       "version_minor": 0
      },
      "text/plain": [
       "  0%|          | 0/80 [00:00<?, ?it/s]"
      ]
     },
     "metadata": {},
     "output_type": "display_data"
    },
    {
     "name": "stdout",
     "output_type": "stream",
     "text": [
      "epoch: 963, train_acc: 0.2497805127910539 , train_loss: 1.386319823563099 , test_acc: 0.2488457556418054 , test_loss: 1.3863037347793579\n"
     ]
    },
    {
     "data": {
      "application/vnd.jupyter.widget-view+json": {
       "model_id": "0f842f0aece64adbb8b0c132dd7ad8d4",
       "version_major": 2,
       "version_minor": 0
      },
      "text/plain": [
       "  0%|          | 0/80 [00:00<?, ?it/s]"
      ]
     },
     "metadata": {},
     "output_type": "display_data"
    },
    {
     "name": "stdout",
     "output_type": "stream",
     "text": [
      "epoch: 964, train_acc: 0.24684699563419116 , train_loss: 1.386318787932396 , test_acc: 0.24988202474791935 , test_loss: 1.3863041400909424\n"
     ]
    },
    {
     "data": {
      "application/vnd.jupyter.widget-view+json": {
       "model_id": "52d11c46e032410eb29574c0dfbcb6d1",
       "version_major": 2,
       "version_minor": 0
      },
      "text/plain": [
       "  0%|          | 0/80 [00:00<?, ?it/s]"
      ]
     },
     "metadata": {},
     "output_type": "display_data"
    },
    {
     "name": "stdout",
     "output_type": "stream",
     "text": [
      "epoch: 965, train_acc: 0.24840949563419118 , train_loss: 1.3863137438893318 , test_acc: 0.24960856223991676 , test_loss: 1.386295247077942\n"
     ]
    },
    {
     "data": {
      "application/vnd.jupyter.widget-view+json": {
       "model_id": "864198c3cf88410ab741fa87d77ab907",
       "version_major": 2,
       "version_minor": 0
      },
      "text/plain": [
       "  0%|          | 0/80 [00:00<?, ?it/s]"
      ]
     },
     "metadata": {},
     "output_type": "display_data"
    },
    {
     "name": "stdout",
     "output_type": "stream",
     "text": [
      "epoch: 966, train_acc: 0.24830250459558822 , train_loss: 1.3863084614276886 , test_acc: 0.251796074743918 , test_loss: 1.3862933397293091\n"
     ]
    },
    {
     "data": {
      "application/vnd.jupyter.widget-view+json": {
       "model_id": "c0c5651ff0f64be48a09defd01623de5",
       "version_major": 2,
       "version_minor": 0
      },
      "text/plain": [
       "  0%|          | 0/80 [00:00<?, ?it/s]"
      ]
     },
     "metadata": {},
     "output_type": "display_data"
    },
    {
     "name": "stdout",
     "output_type": "stream",
     "text": [
      "epoch: 967, train_acc: 0.2479485006893382 , train_loss: 1.3863096311688423 , test_acc: 0.2492559494038092 , test_loss: 1.3862947344779968\n"
     ]
    },
    {
     "data": {
      "application/vnd.jupyter.widget-view+json": {
       "model_id": "65e0d5e783774ab68e19aa65a89e3d96",
       "version_major": 2,
       "version_minor": 0
      },
      "text/plain": [
       "  0%|          | 0/80 [00:00<?, ?it/s]"
      ]
     },
     "metadata": {},
     "output_type": "display_data"
    },
    {
     "name": "stdout",
     "output_type": "stream",
     "text": [
      "epoch: 968, train_acc: 0.24941047219669116 , train_loss: 1.386310525238514 , test_acc: 0.24896729453425098 , test_loss: 1.3863015115261077\n"
     ]
    },
    {
     "data": {
      "application/vnd.jupyter.widget-view+json": {
       "model_id": "b9d1924e41d94118a6e99f308f3f0146",
       "version_major": 2,
       "version_minor": 0
      },
      "text/plain": [
       "  0%|          | 0/80 [00:00<?, ?it/s]"
      ]
     },
     "metadata": {},
     "output_type": "display_data"
    },
    {
     "name": "stdout",
     "output_type": "stream",
     "text": [
      "epoch: 969, train_acc: 0.24840566597732844 , train_loss: 1.3863342747092247 , test_acc: 0.249547792793694 , test_loss: 1.3862972676753997\n"
     ]
    },
    {
     "data": {
      "application/vnd.jupyter.widget-view+json": {
       "model_id": "5cf178d5ab8643a6a9c6ec9a50da6891",
       "version_major": 2,
       "version_minor": 0
      },
      "text/plain": [
       "  0%|          | 0/80 [00:00<?, ?it/s]"
      ]
     },
     "metadata": {},
     "output_type": "display_data"
    },
    {
     "name": "stdout",
     "output_type": "stream",
     "text": [
      "epoch: 970, train_acc: 0.24680941712622548 , train_loss: 1.3863182827830314 , test_acc: 0.2488457556418054 , test_loss: 1.3862957179546356\n"
     ]
    },
    {
     "data": {
      "application/vnd.jupyter.widget-view+json": {
       "model_id": "0b51ae5e258046bfaea6d8b885292f40",
       "version_major": 2,
       "version_minor": 0
      },
      "text/plain": [
       "  0%|          | 0/80 [00:00<?, ?it/s]"
      ]
     },
     "metadata": {},
     "output_type": "display_data"
    },
    {
     "name": "stdout",
     "output_type": "stream",
     "text": [
      "epoch: 971, train_acc: 0.2479494581035539 , train_loss: 1.386318674683571 , test_acc: 0.2493047150088028 , test_loss: 1.386294776201248\n"
     ]
    },
    {
     "data": {
      "application/vnd.jupyter.widget-view+json": {
       "model_id": "8042de039c634efb9987b1c2c55bdbdf",
       "version_major": 2,
       "version_minor": 0
      },
      "text/plain": [
       "  0%|          | 0/80 [00:00<?, ?it/s]"
      ]
     },
     "metadata": {},
     "output_type": "display_data"
    },
    {
     "name": "stdout",
     "output_type": "stream",
     "text": [
      "epoch: 972, train_acc: 0.25003877527573526 , train_loss: 1.3863177701830864 , test_acc: 0.2488609480033611 , test_loss: 1.3863077521324159\n"
     ]
    },
    {
     "data": {
      "application/vnd.jupyter.widget-view+json": {
       "model_id": "6362f6f1b29744a7833afd2ae04eb2d1",
       "version_major": 2,
       "version_minor": 0
      },
      "text/plain": [
       "  0%|          | 0/80 [00:00<?, ?it/s]"
      ]
     },
     "metadata": {},
     "output_type": "display_data"
    },
    {
     "name": "stdout",
     "output_type": "stream",
     "text": [
      "epoch: 973, train_acc: 0.2485842237285539 , train_loss: 1.3863187268376351 , test_acc: 0.24846594660291293 , test_loss: 1.3863053262233733\n"
     ]
    },
    {
     "data": {
      "application/vnd.jupyter.widget-view+json": {
       "model_id": "9837a3da8bb04c44a833733b86a8a9e7",
       "version_major": 2,
       "version_minor": 0
      },
      "text/plain": [
       "  0%|          | 0/80 [00:00<?, ?it/s]"
      ]
     },
     "metadata": {},
     "output_type": "display_data"
    },
    {
     "name": "stdout",
     "output_type": "stream",
     "text": [
      "epoch: 974, train_acc: 0.24937026079963234 , train_loss: 1.3863146319985389 , test_acc: 0.24899767925736235 , test_loss: 1.3863149642944337\n"
     ]
    },
    {
     "data": {
      "application/vnd.jupyter.widget-view+json": {
       "model_id": "30bb97d15f8f46b29d7cdaece30f7823",
       "version_major": 2,
       "version_minor": 0
      },
      "text/plain": [
       "  0%|          | 0/80 [00:00<?, ?it/s]"
      ]
     },
     "metadata": {},
     "output_type": "display_data"
    },
    {
     "name": "stdout",
     "output_type": "stream",
     "text": [
      "epoch: 975, train_acc: 0.24987625421262255 , train_loss: 1.3863168060779572 , test_acc: 0.2488609480033611 , test_loss: 1.3862992227077484\n"
     ]
    },
    {
     "data": {
      "application/vnd.jupyter.widget-view+json": {
       "model_id": "db0b8ebeeeb447ddb5757f5d731b465b",
       "version_major": 2,
       "version_minor": 0
      },
      "text/plain": [
       "  0%|          | 0/80 [00:00<?, ?it/s]"
      ]
     },
     "metadata": {},
     "output_type": "display_data"
    },
    {
     "name": "stdout",
     "output_type": "stream",
     "text": [
      "epoch: 976, train_acc: 0.2466985964307598 , train_loss: 1.386312687397003 , test_acc: 0.24970403028969274 , test_loss: 1.386299067735672\n"
     ]
    },
    {
     "data": {
      "application/vnd.jupyter.widget-view+json": {
       "model_id": "68a001b1d57d4c4b9f0d695ac8af89bb",
       "version_major": 2,
       "version_minor": 0
      },
      "text/plain": [
       "  0%|          | 0/80 [00:00<?, ?it/s]"
      ]
     },
     "metadata": {},
     "output_type": "display_data"
    },
    {
     "name": "stdout",
     "output_type": "stream",
     "text": [
      "epoch: 977, train_acc: 0.24859260110294118 , train_loss: 1.386311699450016 , test_acc: 0.24875460147247117 , test_loss: 1.3862965762615205\n"
     ]
    },
    {
     "data": {
      "application/vnd.jupyter.widget-view+json": {
       "model_id": "104b5cbbf5a04a5eba0a2551306a6851",
       "version_major": 2,
       "version_minor": 0
      },
      "text/plain": [
       "  0%|          | 0/80 [00:00<?, ?it/s]"
      ]
     },
     "metadata": {},
     "output_type": "display_data"
    },
    {
     "name": "stdout",
     "output_type": "stream",
     "text": [
      "epoch: 978, train_acc: 0.24766773897058822 , train_loss: 1.3863195434212685 , test_acc: 0.249840761543694 , test_loss: 1.3863039493560791\n"
     ]
    },
    {
     "data": {
      "application/vnd.jupyter.widget-view+json": {
       "model_id": "67f85e26cd2143818504bd9a48b6f619",
       "version_major": 2,
       "version_minor": 0
      },
      "text/plain": [
       "  0%|          | 0/80 [00:00<?, ?it/s]"
      ]
     },
     "metadata": {},
     "output_type": "display_data"
    },
    {
     "name": "stdout",
     "output_type": "stream",
     "text": [
      "epoch: 979, train_acc: 0.24466480928308823 , train_loss: 1.3863171190023422 , test_acc: 0.2487849861955826 , test_loss: 1.3863057374954224\n"
     ]
    },
    {
     "data": {
      "application/vnd.jupyter.widget-view+json": {
       "model_id": "bda53a125e3c4d6ea7efb3d4fe807d44",
       "version_major": 2,
       "version_minor": 0
      },
      "text/plain": [
       "  0%|          | 0/80 [00:00<?, ?it/s]"
      ]
     },
     "metadata": {},
     "output_type": "display_data"
    },
    {
     "name": "stdout",
     "output_type": "stream",
     "text": [
      "epoch: 980, train_acc: 0.24770723230698527 , train_loss: 1.386302687227726 , test_acc: 0.2488457556418054 , test_loss: 1.386300504207611\n"
     ]
    },
    {
     "data": {
      "application/vnd.jupyter.widget-view+json": {
       "model_id": "1e9901539715493281bb996a5b2108d0",
       "version_major": 2,
       "version_minor": 0
      },
      "text/plain": [
       "  0%|          | 0/80 [00:00<?, ?it/s]"
      ]
     },
     "metadata": {},
     "output_type": "display_data"
    },
    {
     "name": "stdout",
     "output_type": "stream",
     "text": [
      "epoch: 981, train_acc: 0.2498913334865196 , train_loss: 1.3863050848245622 , test_acc: 0.24887614036491676 , test_loss: 1.3863151669502258\n"
     ]
    },
    {
     "data": {
      "application/vnd.jupyter.widget-view+json": {
       "model_id": "53939018185647eaa9478b4ff2708415",
       "version_major": 2,
       "version_minor": 0
      },
      "text/plain": [
       "  0%|          | 0/80 [00:00<?, ?it/s]"
      ]
     },
     "metadata": {},
     "output_type": "display_data"
    },
    {
     "name": "stdout",
     "output_type": "stream",
     "text": [
      "epoch: 982, train_acc: 0.25029799517463236 , train_loss: 1.3863137349486352 , test_acc: 0.24895210217269526 , test_loss: 1.38630530834198\n"
     ]
    },
    {
     "data": {
      "application/vnd.jupyter.widget-view+json": {
       "model_id": "fccc55237ee44149815c82b0f3b83a8c",
       "version_major": 2,
       "version_minor": 0
      },
      "text/plain": [
       "  0%|          | 0/80 [00:00<?, ?it/s]"
      ]
     },
     "metadata": {},
     "output_type": "display_data"
    },
    {
     "name": "stdout",
     "output_type": "stream",
     "text": [
      "epoch: 983, train_acc: 0.24964336320465685 , train_loss: 1.3863333866000176 , test_acc: 0.24908883342669652 , test_loss: 1.3862998604774475\n"
     ]
    },
    {
     "data": {
      "application/vnd.jupyter.widget-view+json": {
       "model_id": "8180c37a45e248bc910f5a0caecf24f0",
       "version_major": 2,
       "version_minor": 0
      },
      "text/plain": [
       "  0%|          | 0/80 [00:00<?, ?it/s]"
      ]
     },
     "metadata": {},
     "output_type": "display_data"
    },
    {
     "name": "stdout",
     "output_type": "stream",
     "text": [
      "epoch: 984, train_acc: 0.24819168390012253 , train_loss: 1.3863085582852364 , test_acc: 0.2497647997359155 , test_loss: 1.38629812002182\n"
     ]
    },
    {
     "data": {
      "application/vnd.jupyter.widget-view+json": {
       "model_id": "a3657daacc5f4d58b9905b68c5b976cc",
       "version_major": 2,
       "version_minor": 0
      },
      "text/plain": [
       "  0%|          | 0/80 [00:00<?, ?it/s]"
      ]
     },
     "metadata": {},
     "output_type": "display_data"
    },
    {
     "name": "stdout",
     "output_type": "stream",
     "text": [
      "epoch: 985, train_acc: 0.2484509037990196 , train_loss: 1.386320200562477 , test_acc: 0.2493047150088028 , test_loss: 1.386296808719635\n"
     ]
    },
    {
     "data": {
      "application/vnd.jupyter.widget-view+json": {
       "model_id": "dbbc3cdd665241e6bb441f1f7ace26da",
       "version_major": 2,
       "version_minor": 0
      },
      "text/plain": [
       "  0%|          | 0/80 [00:00<?, ?it/s]"
      ]
     },
     "metadata": {},
     "output_type": "display_data"
    },
    {
     "name": "stdout",
     "output_type": "stream",
     "text": [
      "epoch: 986, train_acc: 0.2476751589307598 , train_loss: 1.3863143786787986 , test_acc: 0.248815370918694 , test_loss: 1.386306393146515\n"
     ]
    },
    {
     "data": {
      "application/vnd.jupyter.widget-view+json": {
       "model_id": "773bfad58275444b874b2e581fb0b718",
       "version_major": 2,
       "version_minor": 0
      },
      "text/plain": [
       "  0%|          | 0/80 [00:00<?, ?it/s]"
      ]
     },
     "metadata": {},
     "output_type": "display_data"
    },
    {
     "name": "stdout",
     "output_type": "stream",
     "text": [
      "epoch: 987, train_acc: 0.2476086186427696 , train_loss: 1.3863160744309426 , test_acc: 0.24953260043213826 , test_loss: 1.3863032817840577\n"
     ]
    },
    {
     "data": {
      "application/vnd.jupyter.widget-view+json": {
       "model_id": "7fe20ba2ff5949e6b5164902fa3dd7a6",
       "version_major": 2,
       "version_minor": 0
      },
      "text/plain": [
       "  0%|          | 0/80 [00:00<?, ?it/s]"
      ]
     },
     "metadata": {},
     "output_type": "display_data"
    },
    {
     "name": "stdout",
     "output_type": "stream",
     "text": [
      "epoch: 988, train_acc: 0.24992603975183822 , train_loss: 1.3863071098923683 , test_acc: 0.2495174080705826 , test_loss: 1.3863000333309174\n"
     ]
    },
    {
     "data": {
      "application/vnd.jupyter.widget-view+json": {
       "model_id": "9517a2c132114a77ab7c6d067fcf9d04",
       "version_major": 2,
       "version_minor": 0
      },
      "text/plain": [
       "  0%|          | 0/80 [00:00<?, ?it/s]"
      ]
     },
     "metadata": {},
     "output_type": "display_data"
    },
    {
     "name": "stdout",
     "output_type": "stream",
     "text": [
      "epoch: 989, train_acc: 0.2487917432598039 , train_loss: 1.3863261967897416 , test_acc: 0.2497344150128041 , test_loss: 1.3863081097602845\n"
     ]
    },
    {
     "data": {
      "application/vnd.jupyter.widget-view+json": {
       "model_id": "f606a8fcc0e841b48d5c6c899bfd9ec4",
       "version_major": 2,
       "version_minor": 0
      },
      "text/plain": [
       "  0%|          | 0/80 [00:00<?, ?it/s]"
      ]
     },
     "metadata": {},
     "output_type": "display_data"
    },
    {
     "name": "stdout",
     "output_type": "stream",
     "text": [
      "epoch: 990, train_acc: 0.24815314797794116 , train_loss: 1.386308790743351 , test_acc: 0.2520239601672535 , test_loss: 1.3862893998622894\n"
     ]
    },
    {
     "data": {
      "application/vnd.jupyter.widget-view+json": {
       "model_id": "5f5b243479424afb801a0b6bd6f58a3e",
       "version_major": 2,
       "version_minor": 0
      },
      "text/plain": [
       "  0%|          | 0/80 [00:00<?, ?it/s]"
      ]
     },
     "metadata": {},
     "output_type": "display_data"
    },
    {
     "name": "stdout",
     "output_type": "stream",
     "text": [
      "epoch: 991, train_acc: 0.2487062940410539 , train_loss: 1.3863200396299362 , test_acc: 0.24953691431258002 , test_loss: 1.3863071739673614\n"
     ]
    },
    {
     "data": {
      "application/vnd.jupyter.widget-view+json": {
       "model_id": "0d831d4ec97442799b9bfa106cbe3918",
       "version_major": 2,
       "version_minor": 0
      },
      "text/plain": [
       "  0%|          | 0/80 [00:00<?, ?it/s]"
      ]
     },
     "metadata": {},
     "output_type": "display_data"
    },
    {
     "name": "stdout",
     "output_type": "stream",
     "text": [
      "epoch: 992, train_acc: 0.25009981043198526 , train_loss: 1.3863041579723359 , test_acc: 0.24896729453425098 , test_loss: 1.3863037705421448\n"
     ]
    },
    {
     "data": {
      "application/vnd.jupyter.widget-view+json": {
       "model_id": "b3f63e9bd1024ce98019d429417a1528",
       "version_major": 2,
       "version_minor": 0
      },
      "text/plain": [
       "  0%|          | 0/80 [00:00<?, ?it/s]"
      ]
     },
     "metadata": {},
     "output_type": "display_data"
    },
    {
     "name": "stdout",
     "output_type": "stream",
     "text": [
      "epoch: 993, train_acc: 0.24902654909620098 , train_loss: 1.386316780745983 , test_acc: 0.2487849861955826 , test_loss: 1.38630308508873\n"
     ]
    },
    {
     "data": {
      "application/vnd.jupyter.widget-view+json": {
       "model_id": "7c4ce6e05f4642b29ad3c1c0f91df39f",
       "version_major": 2,
       "version_minor": 0
      },
      "text/plain": [
       "  0%|          | 0/80 [00:00<?, ?it/s]"
      ]
     },
     "metadata": {},
     "output_type": "display_data"
    },
    {
     "name": "stdout",
     "output_type": "stream",
     "text": [
      "epoch: 994, train_acc: 0.2494396733302696 , train_loss: 1.386313895881176 , test_acc: 0.24904325634202945 , test_loss: 1.3862997889518738\n"
     ]
    },
    {
     "data": {
      "application/vnd.jupyter.widget-view+json": {
       "model_id": "fdcfd0cf75dc4648a3d33abb65e9d1f5",
       "version_major": 2,
       "version_minor": 0
      },
      "text/plain": [
       "  0%|          | 0/80 [00:00<?, ?it/s]"
      ]
     },
     "metadata": {},
     "output_type": "display_data"
    },
    {
     "name": "stdout",
     "output_type": "stream",
     "text": [
      "epoch: 995, train_acc: 0.2487927006740196 , train_loss: 1.3863134562969208 , test_acc: 0.24890652508802816 , test_loss: 1.386303722858429\n"
     ]
    },
    {
     "data": {
      "application/vnd.jupyter.widget-view+json": {
       "model_id": "9ac77c0113e9451d983071eeebee7320",
       "version_major": 2,
       "version_minor": 0
      },
      "text/plain": [
       "  0%|          | 0/80 [00:00<?, ?it/s]"
      ]
     },
     "metadata": {},
     "output_type": "display_data"
    },
    {
     "name": "stdout",
     "output_type": "stream",
     "text": [
      "epoch: 996, train_acc: 0.24835611979166666 , train_loss: 1.3863135412335397 , test_acc: 0.24983644766325225 , test_loss: 1.3862947523593903\n"
     ]
    },
    {
     "data": {
      "application/vnd.jupyter.widget-view+json": {
       "model_id": "f4a078f6461740e6939548ef1513447a",
       "version_major": 2,
       "version_minor": 0
      },
      "text/plain": [
       "  0%|          | 0/80 [00:00<?, ?it/s]"
      ]
     },
     "metadata": {},
     "output_type": "display_data"
    },
    {
     "name": "stdout",
     "output_type": "stream",
     "text": [
      "epoch: 997, train_acc: 0.24975514131433824 , train_loss: 1.3863057032227517 , test_acc: 0.2492407570422535 , test_loss: 1.3863172292709351\n"
     ]
    },
    {
     "data": {
      "application/vnd.jupyter.widget-view+json": {
       "model_id": "5524f2b80c7c4e8a9027459b21deb28d",
       "version_major": 2,
       "version_minor": 0
      },
      "text/plain": [
       "  0%|          | 0/80 [00:00<?, ?it/s]"
      ]
     },
     "metadata": {},
     "output_type": "display_data"
    },
    {
     "name": "stdout",
     "output_type": "stream",
     "text": [
      "epoch: 998, train_acc: 0.24732881433823528 , train_loss: 1.386323243379593 , test_acc: 0.24948702334747117 , test_loss: 1.3863102674484253\n"
     ]
    },
    {
     "data": {
      "application/vnd.jupyter.widget-view+json": {
       "model_id": "2aba6bf0288b4a8abed85ae3c17a5728",
       "version_major": 2,
       "version_minor": 0
      },
      "text/plain": [
       "  0%|          | 0/80 [00:00<?, ?it/s]"
      ]
     },
     "metadata": {},
     "output_type": "display_data"
    },
    {
     "name": "stdout",
     "output_type": "stream",
     "text": [
      "epoch: 999, train_acc: 0.250308287377451 , train_loss: 1.3863067999482155 , test_acc: 0.24970403028969274 , test_loss: 1.3862959742546082\n"
     ]
    }
   ],
   "source": [
    "#training engine in progress\n",
    "#https://github.com/mrdbourke/pytorch-deep-learning/blob/main/going_modular/going_modular/engine.py\n",
    "\n",
    "loss_fn = nn.CrossEntropyLoss()\n",
    "optimizer = optim.Adam(model.parameters(), lr=0.001)\n",
    "epochs = 1000\n",
    "train_accs = []\n",
    "test_accs = []\n",
    "train_losss = []\n",
    "test_losss = []\n",
    "\n",
    "\n",
    "for epoch in range(epochs):\n",
    "    \n",
    "    train_loss = 0\n",
    "    train_acc = 0\n",
    "    loop = tqdm(enumerate (train_loader), total=len(train_loader), leave=True)\n",
    "    for i, data in loop:\n",
    "        features, labels = data\n",
    "        \n",
    "        #model in train mod\n",
    "        model.train()\n",
    "        \n",
    "        #data to device\n",
    "        X = features.to(device)\n",
    "        y = labels.to(device)\n",
    "        \n",
    "        # 1- forward pass\n",
    "        y_pred = model(X)\n",
    "\n",
    "        # 2- calculate the traning loss \n",
    "        loss = loss_fn(y_pred, y)\n",
    "        \n",
    "        # acculmulate all the  loss by adding all the loss of epoch in each batch it is later averaged on the length of dataloder to show the average epoch loss\n",
    "        train_loss += loss.item() \n",
    "        \n",
    "        # 3- optimizer zero grad\n",
    "        optimizer.zero_grad()\n",
    "        \n",
    "        # 4- backward propagation        \n",
    "        loss.backward()\n",
    "        \n",
    "        # 5- update weights\n",
    "        optimizer.step()\n",
    "        \n",
    "        # Softmax layer of output if there is some other model\n",
    "        _, y_pred_class = torch.max(y_pred.data, 1)\n",
    "        \n",
    "        # acculmulate all the acc by adding all the acc of epoch which is then averaged on the length of dataloder to show the average acc\n",
    "        train_acc += (y_pred_class == y).sum().item()/len(y_pred)\n",
    "        \n",
    "        loop.set_description(f\"Epoch {epoch}/{epochs-1}\")\n",
    "        loop.set_postfix(train_acc = (y_pred_class == y).sum().item()/len(y_pred), train_loss = loss.item())\n",
    "        \n",
    "    # Adjust metrics to get average loss and accuracy per batch \n",
    "    train_loss = train_loss / len(train_loader)\n",
    "    train_acc = train_acc / len(train_loader)\n",
    "        \n",
    "    # code for testing data\n",
    "    \n",
    "    # Put model in eval mode\n",
    "    model.eval() \n",
    "\n",
    "    # Setup test loss and test accuracy values\n",
    "    test_loss, test_acc = 0, 0\n",
    "\n",
    "    # Turn on inference context manager\n",
    "    with torch.inference_mode():\n",
    "        # Loop through DataLoader batches\n",
    "        for batch, (X, y) in enumerate(test_loader):\n",
    "            # Send data to target device\n",
    "            X, y = X.to(device), y.to(device)\n",
    "\n",
    "            # 1. Forward pass\n",
    "            test_pred_logits = model(X)\n",
    "\n",
    "            # 2. Calculate and accumulate loss\n",
    "            loss = loss_fn(test_pred_logits, y)\n",
    "            test_loss += loss.item()\n",
    "\n",
    "            # Calculate and accumulate accuracy\n",
    "            test_pred_labels = test_pred_logits.argmax(dim=1)\n",
    "            test_acc += ((test_pred_labels == y).sum().item()/len(test_pred_labels))\n",
    "\n",
    "    # Adjust metrics to get average loss and accuracy per batch \n",
    "    test_loss = test_loss / len(test_loader)\n",
    "    test_acc = test_acc / len(test_loader)\n",
    "    \n",
    "    print('epoch: {}, train_acc: {} , train_loss: {} , test_acc: {} , test_loss: {}'.format(epoch, train_acc, train_loss, test_acc, test_loss))\n",
    "    \n",
    "    #indvidual graphs remove comment if individual graph is needed\n",
    "    #writer.add_scalar(\"Training accuracy\", train_acc,epoch)\n",
    "    #writer.add_scalar(\"Training loss\", train_loss,epoch)\n",
    "    #writer.add_scalar(\"Test accuracy\", test_acc,epoch)\n",
    "    #writer.add_scalar(\"Test loss\", test_loss,epoch)\n",
    "    \n",
    "    \n",
    "    #combined graphs but make sure to uncheck ignore outliers checkbox in tensorboard \n",
    "    writer.add_scalars(\"Training and test accuracy\", {\"train_acc\" : train_acc, \"test_acc\" : test_acc},epoch)\n",
    "    writer.add_scalars(\"Training and test loss\", {\"train_loss\" : train_loss, \"test_loss\" : test_loss},epoch)\n",
    "        \n",
    "    \n",
    "    train_accs.append(train_acc)\n",
    "    test_accs.append(test_acc)\n",
    "    train_losss.append(train_loss)\n",
    "    test_losss.append(test_loss)\n",
    "    \n",
    "    #codition to check if the model has best accuracy or the minimum loss\n",
    "    if (test_acc >= max(test_accs) or test_loss <= min(test_losss)):\n",
    "        torch.save({\n",
    "            'epoch': epoch,\n",
    "            'model_state_dict': model.state_dict(),\n",
    "            'optimizer_state_dict': optimizer.state_dict(),\n",
    "            'loss': loss_fn,\n",
    "            }, \"saved_model/best_accuracy_save/epoch_{}_tacc{:.4f}_tloss_{:.2f}.pth\".format(epoch, test_acc,test_loss))\n",
    "        "
   ]
  },
  {
   "cell_type": "markdown",
   "id": "608fb31d-94cb-40ca-937d-895d4df580e8",
   "metadata": {},
   "source": [
    "## model load folder 1"
   ]
  },
  {
   "cell_type": "code",
   "execution_count": 20,
   "id": "e7c3190d-e310-4672-aa8e-b79b6cf16ad4",
   "metadata": {},
   "outputs": [
    {
     "name": "stdout",
     "output_type": "stream",
     "text": [
      "Using device: cuda\n",
      "\n",
      "NVIDIA GeForce RTX 3090 Ti\n",
      "Memory Usage:\n",
      "Allocated: 0.0 GB\n",
      "Cached:    0.1 GB\n"
     ]
    }
   ],
   "source": [
    "# general setupt and libraries\n",
    "\n",
    "import torch\n",
    "import torch.nn as nn\n",
    "from torchvision import models, transforms\n",
    "import torchvision\n",
    "import matplotlib.pyplot as plt\n",
    "\n",
    "# setting device on GPU if available, else CPU\n",
    "device = torch.device('cuda' if torch.cuda.is_available() else 'cpu')\n",
    "print('Using device:', device)\n",
    "print()\n",
    "\n",
    "#Additional Info when using cuda\n",
    "if device.type == 'cuda':\n",
    "    print(torch.cuda.get_device_name(0))\n",
    "    print('Memory Usage:')\n",
    "    print('Allocated:', round(torch.cuda.memory_allocated(0)/1024**3,1), 'GB')\n",
    "    print('Cached:   ', round(torch.cuda.memory_reserved(0)/1024**3,1), 'GB')"
   ]
  },
  {
   "cell_type": "code",
   "execution_count": 21,
   "id": "15642ea3-3ccc-42f7-9018-f9a0fd44d6de",
   "metadata": {},
   "outputs": [
    {
     "name": "stdout",
     "output_type": "stream",
     "text": [
      "SimpleCNNModel(\n",
      "  (conv1): Conv1d(8, 16, kernel_size=(3,), stride=(1,), padding=(1,))\n",
      "  (relu1): ReLU()\n",
      "  (pool1): MaxPool1d(kernel_size=2, stride=2, padding=0, dilation=1, ceil_mode=False)\n",
      "  (conv2): Conv1d(16, 32, kernel_size=(3,), stride=(1,), padding=(1,))\n",
      "  (relu2): ReLU()\n",
      "  (pool2): MaxPool1d(kernel_size=2, stride=2, padding=0, dilation=1, ceil_mode=False)\n",
      "  (flatten): Flatten(start_dim=1, end_dim=-1)\n",
      "  (fc1): Linear(in_features=1184, out_features=128, bias=True)\n",
      "  (relu3): ReLU()\n",
      "  (fc2): Linear(in_features=128, out_features=4, bias=True)\n",
      ")\n"
     ]
    }
   ],
   "source": [
    "class SimpleCNNModel(nn.Module):\n",
    "    def __init__(self, input_channels, num_classes):\n",
    "        super(SimpleCNNModel, self).__init__()\n",
    "        self.conv1 = nn.Conv1d(in_channels=input_channels, out_channels=16, kernel_size=3, stride=1, padding=1)\n",
    "        self.relu1 = nn.ReLU()\n",
    "        self.pool1 = nn.MaxPool1d(kernel_size=2, stride=2)\n",
    "\n",
    "        self.conv2 = nn.Conv1d(in_channels=16, out_channels=32, kernel_size=3, stride=1, padding=1)\n",
    "        self.relu2 = nn.ReLU()\n",
    "        self.pool2 = nn.MaxPool1d(kernel_size=2, stride=2)\n",
    "\n",
    "        self.flatten = nn.Flatten()\n",
    "        self.fc1 = nn.Linear(32 * (input_size // 4), 128)\n",
    "        self.relu3 = nn.ReLU()\n",
    "        self.fc2 = nn.Linear(128, num_classes)\n",
    "\n",
    "    def forward(self, x):\n",
    "        x = self.conv1(x.permute(0, 2, 1))  # Adjust the input for Conv1d\n",
    "        x = self.relu1(x)\n",
    "        x = self.pool1(x)\n",
    "\n",
    "        x = self.conv2(x)\n",
    "        x = self.relu2(x)\n",
    "        x = self.pool2(x)\n",
    "\n",
    "        x = self.flatten(x)\n",
    "        x = self.fc1(x)\n",
    "        x = self.relu3(x)\n",
    "        x = self.fc2(x)\n",
    "\n",
    "        return x\n",
    "\n",
    "# Assuming input_size = 150, input_channels = 8, and num_classes = 10\n",
    "input_channels = 8\n",
    "input_size = 150\n",
    "num_classes = 4\n",
    "\n",
    "# Instantiate the ResNet-18 model\n",
    "model = SimpleCNNModel(input_channels=input_channels, num_classes=num_classes).to(device)\n",
    "\n",
    "# Print the modified ResNet-18 architecture\n",
    "print(model)"
   ]
  },
  {
   "cell_type": "code",
   "execution_count": 22,
   "id": "09323007-5eda-4c6b-a9f3-d44e86cb4279",
   "metadata": {},
   "outputs": [
    {
     "data": {
      "text/plain": [
       "SimpleCNNModel(\n",
       "  (conv1): Conv1d(8, 16, kernel_size=(3,), stride=(1,), padding=(1,))\n",
       "  (relu1): ReLU()\n",
       "  (pool1): MaxPool1d(kernel_size=2, stride=2, padding=0, dilation=1, ceil_mode=False)\n",
       "  (conv2): Conv1d(16, 32, kernel_size=(3,), stride=(1,), padding=(1,))\n",
       "  (relu2): ReLU()\n",
       "  (pool2): MaxPool1d(kernel_size=2, stride=2, padding=0, dilation=1, ceil_mode=False)\n",
       "  (flatten): Flatten(start_dim=1, end_dim=-1)\n",
       "  (fc1): Linear(in_features=1184, out_features=128, bias=True)\n",
       "  (relu3): ReLU()\n",
       "  (fc2): Linear(in_features=128, out_features=4, bias=True)\n",
       ")"
      ]
     },
     "execution_count": 22,
     "metadata": {},
     "output_type": "execute_result"
    }
   ],
   "source": [
    "checkpoint = torch.load(\"results_final/folder1/saved_model/best_accuracy_save/epoch_965_tacc0.97_tloss_0.21.pth\")\n",
    "model.load_state_dict(checkpoint[\"model_state_dict\"])\n",
    "\n",
    "# to avoid errors model and data sshould be in same device\n",
    "model.to(device)"
   ]
  },
  {
   "cell_type": "code",
   "execution_count": 23,
   "id": "163a1260-123b-445f-8cf7-150e38c9ec71",
   "metadata": {},
   "outputs": [
    {
     "name": "stdout",
     "output_type": "stream",
     "text": [
      "Accuracy: 0.9740574195780007\n",
      "F1 Score: 0.9740597648818954\n",
      "AUC: 0.6638396090679756\n",
      "precision:  0.9740681585050991\n",
      "recall:  0.9740574195780007\n",
      "[[4959   45   53   36]\n",
      " [  41 4928   34   54]\n",
      " [  34   37 4915   65]\n",
      " [  42   35   49 4910]]\n"
     ]
    },
    {
     "data": {
      "image/png": "[encoded data removed]",
      "text/plain": [
       "<Figure size 216x216 with 1 Axes>"
      ]
     },
     "metadata": {},
     "output_type": "display_data"
    }
   ],
   "source": [
    "from sklearn.metrics import accuracy_score, confusion_matrix, f1_score, precision_score, recall_score, classification_report\n",
    "from sklearn import metrics\n",
    "import seaborn as sns\n",
    "import matplotlib.pyplot as plt\n",
    "model.eval() \n",
    "\n",
    "# Setup test loss and test accuracy values\n",
    "test_loss, test_acc = 0, 0\n",
    "# Assuming your test_loader provides batches of data in the form (inputs, labels)\n",
    "correct_predictions = 0\n",
    "all_predictions = []\n",
    "all_labels = []\n",
    "target_names = np.array(['0-back', '1-back', '2-back','3-back'])\n",
    "\n",
    "# Turn on inference context manager\n",
    "with torch.inference_mode():\n",
    "    for inputs, labels in test_loader:\n",
    "        inputs, labels = inputs.to(device), labels.to(device)\n",
    "        outputs = model(inputs)\n",
    "        predictions = torch.argmax(outputs, dim=1)\n",
    "\n",
    "        correct_predictions += (predictions == labels).sum().item()\n",
    "        all_predictions.extend(predictions.cpu().numpy())\n",
    "        all_labels.extend(labels.cpu().numpy())\n",
    "'''\n",
    "# Calculate accuracy\n",
    "accuracy = correct_predictions / len(test_loader.dataset)\n",
    "print(f'Test Accuracy: {accuracy * 100:.2f}%')\n",
    "\n",
    "\n",
    "# Calculate precision and recall\n",
    "precision = precision_score(all_labels, all_predictions, average='weighted')\n",
    "recall = recall_score(all_labels, all_predictions, average='weighted')\n",
    "\n",
    "print(f'Precision: {precision * 100:.2f}%')\n",
    "print(f'Recall: {recall * 100:.2f}%')\n",
    "'''\n",
    "\n",
    "\n",
    "print('Accuracy:', accuracy_score(all_labels, all_predictions))\n",
    "print('F1 Score:',f1_score(all_labels, all_predictions, average='weighted'))\n",
    "fpr, tpr, thresholds = metrics.roc_curve(all_labels, all_predictions, pos_label=2)\n",
    "print('AUC:' ,metrics.auc(fpr, tpr))\n",
    "print('precision: ', precision_score(all_labels, all_predictions, average='weighted'))\n",
    "print('recall: ', recall_score(all_labels, all_predictions, average='weighted'))\n",
    "\n",
    "cm = confusion_matrix(all_labels, all_predictions)\n",
    "print(cm)\n",
    "\n",
    "# Set the figure size\n",
    "plt.figure(figsize=(3, 3))  # Set the width to 6 inches and height to 4 inches\n",
    "\n",
    "sns.heatmap(cm, annot=True, fmt='.0f', xticklabels=target_names, yticklabels=target_names, cbar=False, cmap='YlGnBu')\n",
    "#pp_matrix_from_data(y_test.argmax(axis=1), y_pred)\n",
    "\n",
    "# Set axis labels and title\n",
    "plt.xlabel('Predicted')\n",
    "plt.ylabel('Actual')\n",
    "plt.title('CNN')\n",
    "\n",
    "plt.savefig('CNN.svg', transparent=True, bbox_inches='tight')\n",
    "\n",
    "# Show the plot\n",
    "plt.show()\n",
    "\n",
    "plt.close()\n",
    "        "
   ]
  },
  {
   "cell_type": "markdown",
   "id": "1907a0f8-6474-4e46-ac6b-81dc6c397425",
   "metadata": {},
   "source": [
    "## folder 2"
   ]
  },
  {
   "cell_type": "code",
   "execution_count": 13,
   "id": "147efca6-0a8d-4351-9b6a-82865270038e",
   "metadata": {},
   "outputs": [
    {
     "name": "stdout",
     "output_type": "stream",
     "text": [
      "Using device: cuda\n",
      "\n",
      "NVIDIA GeForce RTX 3090 Ti\n",
      "Memory Usage:\n",
      "Allocated: 0.0 GB\n",
      "Cached:    0.0 GB\n"
     ]
    }
   ],
   "source": [
    "# general setupt and libraries\n",
    "\n",
    "import torch\n",
    "import torch.nn as nn\n",
    "from torchvision import models, transforms\n",
    "import torchvision\n",
    "import matplotlib.pyplot as plt\n",
    "\n",
    "# setting device on GPU if available, else CPU\n",
    "device = torch.device('cuda' if torch.cuda.is_available() else 'cpu')\n",
    "print('Using device:', device)\n",
    "print()\n",
    "\n",
    "#Additional Info when using cuda\n",
    "if device.type == 'cuda':\n",
    "    print(torch.cuda.get_device_name(0))\n",
    "    print('Memory Usage:')\n",
    "    print('Allocated:', round(torch.cuda.memory_allocated(0)/1024**3,1), 'GB')\n",
    "    print('Cached:   ', round(torch.cuda.memory_reserved(0)/1024**3,1), 'GB')"
   ]
  },
  {
   "cell_type": "code",
   "execution_count": 16,
   "id": "12fb061a-9f61-4845-b99b-b992d492d6bd",
   "metadata": {},
   "outputs": [
    {
     "data": {
      "text/plain": [
       "SimpleCNNLSTMModel(\n",
       "  (conv1): Conv1d(8, 16, kernel_size=(3,), stride=(1,), padding=(1,))\n",
       "  (relu1): ReLU()\n",
       "  (pool1): MaxPool1d(kernel_size=2, stride=2, padding=0, dilation=1, ceil_mode=False)\n",
       "  (conv2): Conv1d(16, 32, kernel_size=(3,), stride=(1,), padding=(1,))\n",
       "  (relu2): ReLU()\n",
       "  (pool2): MaxPool1d(kernel_size=2, stride=2, padding=0, dilation=1, ceil_mode=False)\n",
       "  (flatten): Flatten(start_dim=1, end_dim=-1)\n",
       "  (lstm1): LSTM(1184, 64, num_layers=2, batch_first=True)\n",
       "  (lstm2): LSTM(64, 64, num_layers=2, batch_first=True)\n",
       "  (fc1): Linear(in_features=64, out_features=128, bias=True)\n",
       "  (relu3): ReLU()\n",
       "  (fc2): Linear(in_features=128, out_features=4, bias=True)\n",
       ")"
      ]
     },
     "execution_count": 16,
     "metadata": {},
     "output_type": "execute_result"
    }
   ],
   "source": [
    "class SimpleCNNLSTMModel(nn.Module):\n",
    "    def __init__(self, input_channels, input_size, num_classes, hidden_size=64, num_layers=2):\n",
    "        super(SimpleCNNLSTMModel, self).__init__()\n",
    "        \n",
    "        # CNN layers\n",
    "        self.conv1 = nn.Conv1d(in_channels=input_channels, out_channels=16, kernel_size=3, stride=1, padding=1)\n",
    "        self.relu1 = nn.ReLU()\n",
    "        self.pool1 = nn.MaxPool1d(kernel_size=2, stride=2)\n",
    "\n",
    "        self.conv2 = nn.Conv1d(in_channels=16, out_channels=32, kernel_size=3, stride=1, padding=1)\n",
    "        self.relu2 = nn.ReLU()\n",
    "        self.pool2 = nn.MaxPool1d(kernel_size=2, stride=2)\n",
    "\n",
    "        self.flatten = nn.Flatten()\n",
    "        cnn_output_size = 32 * (input_size // 4)\n",
    "\n",
    "        # LSTM layers\n",
    "        self.lstm1 = nn.LSTM(input_size=cnn_output_size, hidden_size=hidden_size, num_layers=num_layers, batch_first=True)\n",
    "        self.lstm2 = nn.LSTM(input_size=hidden_size, hidden_size=hidden_size, num_layers=num_layers, batch_first=True)\n",
    "\n",
    "        # Fully connected layers\n",
    "        self.fc1 = nn.Linear(hidden_size, 128)\n",
    "        self.relu3 = nn.ReLU()\n",
    "        self.fc2 = nn.Linear(128, num_classes)\n",
    "\n",
    "    def forward(self, x):\n",
    "        x = self.conv1(x.permute(0, 2, 1))  # Adjust the input for Conv1d\n",
    "        x = self.relu1(x)\n",
    "        x = self.pool1(x)\n",
    "\n",
    "        x = self.conv2(x)\n",
    "        x = self.relu2(x)\n",
    "        x = self.pool2(x)\n",
    "\n",
    "        x = self.flatten(x)\n",
    "\n",
    "        # Reshape for LSTM input\n",
    "        x = x.view(x.size(0), 1, -1)\n",
    "\n",
    "        # First LSTM layer\n",
    "        x, _ = self.lstm1(x)\n",
    "\n",
    "        # Second LSTM layer\n",
    "        x, _ = self.lstm2(x)\n",
    "\n",
    "        # Only take the output from the final time step\n",
    "        x = x[:, -1, :]\n",
    "\n",
    "        # Fully connected layers\n",
    "        x = self.fc1(x)\n",
    "        x = self.relu3(x)\n",
    "        x = self.fc2(x)\n",
    "\n",
    "        return x\n",
    "\n",
    "# Assuming input_size = 150, input_channels = 8, and num_classes = 4\n",
    "input_channels = 8\n",
    "input_size = 150\n",
    "num_classes = 4\n",
    "\n",
    "# Instantiate the SimpleCNNLSTMModel\n",
    "model = SimpleCNNLSTMModel(input_channels=input_channels, input_size=input_size, num_classes=num_classes).to(device)\n",
    "model"
   ]
  },
  {
   "cell_type": "code",
   "execution_count": 17,
   "id": "2be49840-7a92-48b9-a107-5d0ade628a0c",
   "metadata": {},
   "outputs": [
    {
     "data": {
      "text/plain": [
       "SimpleCNNLSTMModel(\n",
       "  (conv1): Conv1d(8, 16, kernel_size=(3,), stride=(1,), padding=(1,))\n",
       "  (relu1): ReLU()\n",
       "  (pool1): MaxPool1d(kernel_size=2, stride=2, padding=0, dilation=1, ceil_mode=False)\n",
       "  (conv2): Conv1d(16, 32, kernel_size=(3,), stride=(1,), padding=(1,))\n",
       "  (relu2): ReLU()\n",
       "  (pool2): MaxPool1d(kernel_size=2, stride=2, padding=0, dilation=1, ceil_mode=False)\n",
       "  (flatten): Flatten(start_dim=1, end_dim=-1)\n",
       "  (lstm1): LSTM(1184, 64, num_layers=2, batch_first=True)\n",
       "  (lstm2): LSTM(64, 64, num_layers=2, batch_first=True)\n",
       "  (fc1): Linear(in_features=64, out_features=128, bias=True)\n",
       "  (relu3): ReLU()\n",
       "  (fc2): Linear(in_features=128, out_features=4, bias=True)\n",
       ")"
      ]
     },
     "execution_count": 17,
     "metadata": {},
     "output_type": "execute_result"
    }
   ],
   "source": [
    "checkpoint = torch.load(\"/media/mehshan/common/codes/python_files/tufts_codes_work/syscon2024/results_final/folder2/saved_model/best_accuracy_save/epoch_759_tacc0.98_tloss_0.11.pth\")\n",
    "model.load_state_dict(checkpoint[\"model_state_dict\"])\n",
    "\n",
    "# to avoid errors model and data sshould be in same device\n",
    "model.to(device)"
   ]
  },
  {
   "cell_type": "code",
   "execution_count": 19,
   "id": "00f6a3a4-a417-4f3f-8d45-19bed4562b31",
   "metadata": {},
   "outputs": [
    {
     "name": "stdout",
     "output_type": "stream",
     "text": [
      "Accuracy: 0.9789988634679053\n",
      "F1 Score: 0.9789882217056094\n",
      "AUC: 0.6704326915116803\n",
      "precision:  0.9790370839021239\n",
      "recall:  0.9789988634679053\n",
      "[[5020   41   10   22]\n",
      " [  44 4936   49   28]\n",
      " [  10   24 4982   35]\n",
      " [  45   34   83 4874]]\n"
     ]
    },
    {
     "data": {
      "image/png": "[encoded data removed]",
      "text/plain": [
       "<Figure size 216x216 with 1 Axes>"
      ]
     },
     "metadata": {},
     "output_type": "display_data"
    }
   ],
   "source": [
    "from sklearn.metrics import accuracy_score, confusion_matrix, f1_score, precision_score, recall_score, classification_report\n",
    "from sklearn import metrics\n",
    "import seaborn as sns\n",
    "import matplotlib.pyplot as plt\n",
    "model.eval() \n",
    "\n",
    "# Setup test loss and test accuracy values\n",
    "test_loss, test_acc = 0, 0\n",
    "# Assuming your test_loader provides batches of data in the form (inputs, labels)\n",
    "correct_predictions = 0\n",
    "all_predictions = []\n",
    "all_labels = []\n",
    "target_names = np.array(['0-back', '1-back', '2-back','3-back'])\n",
    "\n",
    "# Turn on inference context manager\n",
    "with torch.inference_mode():\n",
    "    for inputs, labels in test_loader:\n",
    "        inputs, labels = inputs.to(device), labels.to(device)\n",
    "        outputs = model(inputs)\n",
    "        predictions = torch.argmax(outputs, dim=1)\n",
    "\n",
    "        correct_predictions += (predictions == labels).sum().item()\n",
    "        all_predictions.extend(predictions.cpu().numpy())\n",
    "        all_labels.extend(labels.cpu().numpy())\n",
    "'''\n",
    "# Calculate accuracy\n",
    "accuracy = correct_predictions / len(test_loader.dataset)\n",
    "print(f'Test Accuracy: {accuracy * 100:.2f}%')\n",
    "\n",
    "\n",
    "# Calculate precision and recall\n",
    "precision = precision_score(all_labels, all_predictions, average='weighted')\n",
    "recall = recall_score(all_labels, all_predictions, average='weighted')\n",
    "\n",
    "print(f'Precision: {precision * 100:.2f}%')\n",
    "print(f'Recall: {recall * 100:.2f}%')\n",
    "'''\n",
    "\n",
    "\n",
    "print('Accuracy:', accuracy_score(all_labels, all_predictions))\n",
    "print('F1 Score:',f1_score(all_labels, all_predictions, average='weighted'))\n",
    "fpr, tpr, thresholds = metrics.roc_curve(all_labels, all_predictions, pos_label=2)\n",
    "print('AUC:' ,metrics.auc(fpr, tpr))\n",
    "print('precision: ', precision_score(all_labels, all_predictions, average='weighted'))\n",
    "print('recall: ', recall_score(all_labels, all_predictions, average='weighted'))\n",
    "\n",
    "cm = confusion_matrix(all_labels, all_predictions)\n",
    "print(cm)\n",
    "\n",
    "# Set the figure size\n",
    "plt.figure(figsize=(3, 3))  # Set the width to 6 inches and height to 4 inches\n",
    "\n",
    "sns.heatmap(cm, annot=True, fmt='.0f', xticklabels=target_names, yticklabels=target_names, cbar=False, cmap='YlGnBu')\n",
    "#pp_matrix_from_data(y_test.argmax(axis=1), y_pred)\n",
    "\n",
    "# Set axis labels and title\n",
    "plt.xlabel('Predicted')\n",
    "plt.ylabel('Actual')\n",
    "plt.title('CNN LSTM')\n",
    "\n",
    "plt.savefig('CNN_LSTM.svg', transparent=True, bbox_inches='tight')\n",
    "\n",
    "# Show the plot\n",
    "plt.show()\n",
    "\n",
    "plt.close()\n",
    "        "
   ]
  },
  {
   "cell_type": "code",
   "execution_count": 5,
   "id": "ffa896d8-2021-4b7a-bd3d-c642c8eb6068",
   "metadata": {},
   "outputs": [
    {
     "name": "stdout",
     "output_type": "stream",
     "text": [
      "Accuracy: 0.6972871473044424\n",
      "F1 Score: 0.6972665207943333\n",
      "AUC: 0.6105084062488861\n",
      "precision:  0.6972893430301347\n",
      "recall:  0.6972871473044424\n",
      "[[3658  501  457  477]\n",
      " [ 562 3452  543  500]\n",
      " [ 449  523 3484  595]\n",
      " [ 444  486  589 3517]]\n"
     ]
    },
    {
     "data": {
      "image/png": "[encoded data removed]",
      "text/plain": [
       "<Figure size 216x216 with 1 Axes>"
      ]
     },
     "metadata": {},
     "output_type": "display_data"
    }
   ],
   "source": [
    "import numpy as np\n",
    "import pickle\n",
    "#sklearn libraries\n",
    "from sklearn.preprocessing import StandardScaler\n",
    "from sklearn import neighbors, svm, tree\n",
    "from sklearn.neighbors import NearestCentroid\n",
    "from sklearn.ensemble import RandomForestClassifier\n",
    "from sklearn.model_selection import train_test_split\n",
    "from sklearn.metrics import accuracy_score, confusion_matrix, f1_score, precision_score, recall_score, classification_report\n",
    "from sklearn import metrics\n",
    "import seaborn as sns\n",
    "import matplotlib.pyplot as plt\n",
    "import seaborn as sns\n",
    "\n",
    "\n",
    "# variable pre-processed in featues_save.py\n",
    "with open('input_features_labels.pkl', 'rb') as f:\n",
    "    data,labels = pickle.load(f)\n",
    "\n",
    "\n",
    "from sklearn.model_selection import train_test_split\n",
    "from sklearn.ensemble import RandomForestClassifier\n",
    "from sklearn.metrics import accuracy_score\n",
    "\n",
    "# Reshape the data to fit into the classifier\n",
    "reshaped_data = data.reshape(101184, -1)\n",
    "\n",
    "# Split the data into training and testing sets\n",
    "X_train, X_test, y_train, y_test = train_test_split(reshaped_data, labels, test_size=0.2, random_state=10)\n",
    "target_names = np.array(['0-back', '1-back', '2-back','3-back'])\n",
    "\n",
    "# Using classification model, Model prediction\n",
    "clf = tree.DecisionTreeClassifier()\n",
    "clf.fit(X_train, y_train)\n",
    "#Model prediction\n",
    "y_pred = clf.predict(X_test)\n",
    "print('Accuracy:', accuracy_score(y_test, y_pred))\n",
    "print('F1 Score:',f1_score( y_test, y_pred, average='weighted'))\n",
    "fpr, tpr, thresholds = metrics.roc_curve(y_test, y_pred, pos_label=2)\n",
    "print('AUC:' ,metrics.auc(fpr, tpr))\n",
    "print('precision: ', precision_score(y_test, y_pred, average='weighted'))\n",
    "print('recall: ', recall_score(y_test, y_pred, average='weighted'))\n",
    "\n",
    "cm = confusion_matrix(y_test, y_pred)\n",
    "print(cm)\n",
    "# Set the figure size\n",
    "plt.figure(figsize=(3, 3))  # Set the width to 6 inches and height to 4 inches\n",
    "\n",
    "sns.heatmap(cm, annot=True, fmt='.0f', xticklabels=target_names, yticklabels=target_names, cbar=False, cmap='YlGnBu')\n",
    "#pp_matrix_from_data(y_test.argmax(axis=1), y_pred)\n",
    "\n",
    "# Set axis labels and title\n",
    "plt.xlabel('Predicted')\n",
    "plt.ylabel('Actual')\n",
    "plt.title('Decesion trees')\n",
    "\n",
    "plt.savefig('decesion_trees.svg', transparent=True, bbox_inches='tight')\n",
    "\n",
    "# Show the plot\n",
    "plt.show()\n",
    "\n",
    "plt.close()"
   ]
  },
  {
   "cell_type": "code",
   "execution_count": 1,
   "id": "70455653-33d7-4201-a1a5-9d621b3dbf38",
   "metadata": {},
   "outputs": [
    {
     "name": "stdout",
     "output_type": "stream",
     "text": [
      "Accuracy: 0.3373523743637891\n",
      "F1 Score: 0.28595469274385227\n",
      "AUC: 0.571262331384373\n",
      "precision:  0.36713124183191304\n",
      "recall:  0.3373523743637891\n",
      "[[1606  349 2819  319]\n",
      " [1294  421 3016  326]\n",
      " [ 462  201 4088  300]\n",
      " [ 713  281 3330  712]]\n"
     ]
    },
    {
     "data": {
      "image/png": "[encoded data removed]",
      "text/plain": [
       "<Figure size 216x216 with 1 Axes>"
      ]
     },
     "metadata": {},
     "output_type": "display_data"
    }
   ],
   "source": [
    "import numpy as np\n",
    "import pickle\n",
    "#sklearn libraries\n",
    "from sklearn.preprocessing import StandardScaler\n",
    "from sklearn import neighbors, svm, tree\n",
    "from sklearn.neighbors import NearestCentroid\n",
    "from sklearn.ensemble import RandomForestClassifier\n",
    "from sklearn.model_selection import train_test_split\n",
    "from sklearn.metrics import accuracy_score, confusion_matrix, f1_score, precision_score, recall_score, classification_report\n",
    "from sklearn import metrics\n",
    "import seaborn as sns\n",
    "import matplotlib.pyplot as plt\n",
    "import seaborn as sns\n",
    "from sklearn.naive_bayes import GaussianNB\n",
    "\n",
    "\n",
    "# variable pre-processed in featues_save.py\n",
    "with open('input_features_labels.pkl', 'rb') as f:\n",
    "    data,labels = pickle.load(f)\n",
    "\n",
    "\n",
    "from sklearn.model_selection import train_test_split\n",
    "from sklearn.ensemble import RandomForestClassifier\n",
    "from sklearn.metrics import accuracy_score\n",
    "\n",
    "# Reshape the data to fit into the classifier\n",
    "reshaped_data = data.reshape(101184, -1)\n",
    "\n",
    "# Split the data into training and testing sets\n",
    "X_train, X_test, y_train, y_test = train_test_split(reshaped_data, labels, test_size=0.2, random_state=10)\n",
    "target_names = np.array(['0-back', '1-back', '2-back','3-back'])\n",
    "\n",
    "# Using classification model, Model prediction\n",
    "clf = GaussianNB()\n",
    "clf.fit(X_train, y_train)\n",
    "#Model prediction\n",
    "y_pred = clf.predict(X_test)\n",
    "print('Accuracy:', accuracy_score(y_test, y_pred))\n",
    "print('F1 Score:',f1_score( y_test, y_pred, average='weighted'))\n",
    "fpr, tpr, thresholds = metrics.roc_curve(y_test, y_pred, pos_label=2)\n",
    "print('AUC:' ,metrics.auc(fpr, tpr))\n",
    "print('precision: ', precision_score(y_test, y_pred, average='weighted'))\n",
    "print('recall: ', recall_score(y_test, y_pred, average='weighted'))\n",
    "\n",
    "cm = confusion_matrix(y_test, y_pred)\n",
    "print(cm)\n",
    "# Set the figure size\n",
    "plt.figure(figsize=(3, 3))  # Set the width to 6 inches and height to 4 inches\n",
    "\n",
    "sns.heatmap(cm, annot=True, fmt='.0f', xticklabels=target_names, yticklabels=target_names, cbar=False, cmap='YlGnBu')\n",
    "#pp_matrix_from_data(y_test.argmax(axis=1), y_pred)\n",
    "\n",
    "# Set axis labels and title\n",
    "plt.xlabel('Predicted')\n",
    "plt.ylabel('Actual')\n",
    "plt.title('Naive Bayes')\n",
    "\n",
    "plt.savefig('naive_bayes.svg', transparent=True, bbox_inches='tight')\n",
    "\n",
    "# Show the plot\n",
    "plt.show()\n",
    "\n",
    "plt.close()"
   ]
  },
  {
   "cell_type": "code",
   "execution_count": 1,
   "id": "4be51168-1de1-4727-acb0-118dfe2c8755",
   "metadata": {},
   "outputs": [
    {
     "name": "stdout",
     "output_type": "stream",
     "text": [
      "Accuracy: 0.3325591737905816\n",
      "F1 Score: 0.3207667893662857\n",
      "AUC: 0.5803908913489102\n",
      "precision:  0.331682782319297\n",
      "recall:  0.3325591737905816\n",
      "[[1298 1797 1461  537]\n",
      " [ 930 2115 1320  692]\n",
      " [ 677 1104 2443  827]\n",
      " [ 668 1238 2256  874]]\n"
     ]
    },
    {
     "data": {
      "image/png": "[encoded data removed]",
      "text/plain": [
       "<Figure size 216x216 with 1 Axes>"
      ]
     },
     "metadata": {},
     "output_type": "display_data"
    }
   ],
   "source": [
    "import numpy as np\n",
    "import pickle\n",
    "#sklearn libraries\n",
    "from sklearn.preprocessing import StandardScaler\n",
    "from sklearn import neighbors, svm, tree\n",
    "from sklearn.neighbors import NearestCentroid\n",
    "from sklearn.ensemble import RandomForestClassifier\n",
    "from sklearn.model_selection import train_test_split\n",
    "from sklearn.metrics import accuracy_score, confusion_matrix, f1_score, precision_score, recall_score, classification_report\n",
    "from sklearn import metrics\n",
    "import seaborn as sns\n",
    "import matplotlib.pyplot as plt\n",
    "import seaborn as sns\n",
    "from sklearn.naive_bayes import GaussianNB\n",
    "\n",
    "\n",
    "# variable pre-processed in featues_save.py\n",
    "with open('input_features_labels.pkl', 'rb') as f:\n",
    "    data,labels = pickle.load(f)\n",
    "\n",
    "\n",
    "from sklearn.model_selection import train_test_split\n",
    "from sklearn.ensemble import RandomForestClassifier\n",
    "from sklearn.metrics import accuracy_score\n",
    "\n",
    "# Reshape the data to fit into the classifier\n",
    "reshaped_data = data.reshape(101184, -1)\n",
    "\n",
    "# Split the data into training and testing sets\n",
    "X_train, X_test, y_train, y_test = train_test_split(reshaped_data, labels, test_size=0.2, random_state=10)\n",
    "target_names = np.array(['0-back', '1-back', '2-back','3-back'])\n",
    "\n",
    "# Using classification model, Model prediction\n",
    "clf = NearestCentroid()\n",
    "clf.fit(X_train, y_train)\n",
    "#Model prediction\n",
    "y_pred = clf.predict(X_test)\n",
    "print('Accuracy:', accuracy_score(y_test, y_pred))\n",
    "print('F1 Score:',f1_score( y_test, y_pred, average='weighted'))\n",
    "fpr, tpr, thresholds = metrics.roc_curve(y_test, y_pred, pos_label=2)\n",
    "print('AUC:' ,metrics.auc(fpr, tpr))\n",
    "print('precision: ', precision_score(y_test, y_pred, average='weighted'))\n",
    "print('recall: ', recall_score(y_test, y_pred, average='weighted'))\n",
    "\n",
    "cm = confusion_matrix(y_test, y_pred)\n",
    "print(cm)\n",
    "# Set the figure size\n",
    "plt.figure(figsize=(3, 3))  # Set the width to 6 inches and height to 4 inches\n",
    "\n",
    "sns.heatmap(cm, annot=True, fmt='.0f', xticklabels=target_names, yticklabels=target_names, cbar=False, cmap='YlGnBu')\n",
    "#pp_matrix_from_data(y_test.argmax(axis=1), y_pred)\n",
    "\n",
    "# Set axis labels and title\n",
    "plt.xlabel('Predicted')\n",
    "plt.ylabel('Actual')\n",
    "plt.title('Nearest centroid')\n",
    "\n",
    "plt.savefig('nearest_centroid.svg', transparent=True, bbox_inches='tight')\n",
    "\n",
    "# Show the plot\n",
    "plt.show()\n",
    "plt.close()"
   ]
  }
 ],
 "metadata": {
  "kernelspec": {
   "display_name": "Python 3 (ipykernel)",
   "language": "python",
   "name": "python3"
  },
  "language_info": {
   "codemirror_mode": {
    "name": "ipython",
    "version": 3
   },
   "file_extension": ".py",
   "mimetype": "text/x-python",
   "name": "python",
   "nbconvert_exporter": "python",
   "pygments_lexer": "ipython3",
   "version": "3.11.10"
  }
 },
 "nbformat": 4,
 "nbformat_minor": 5
}
